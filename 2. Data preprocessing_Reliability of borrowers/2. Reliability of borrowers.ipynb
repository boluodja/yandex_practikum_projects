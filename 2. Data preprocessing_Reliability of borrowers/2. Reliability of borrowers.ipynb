{
 "cells": [
  {
   "cell_type": "markdown",
   "id": "0647a30b",
   "metadata": {},
   "source": [
    "# Исследование надежности заемщиков\n",
    "\n",
    "**Описание проекта**:\n",
    "\n",
    "Заказчик — кредитный отдел банка. Нужно разобраться, влияет ли семейное положение и количество детей клиента на факт погашения кредита в срок. Входные данные от банка — статистика о платёжеспособности клиентов.\n",
    "\n",
    "Результаты исследования будут учтены при построении модели *кредитного скоринга*.\n",
    "\n",
    "**Оглавление**:\n",
    "1. Обзор данных\n",
    "2. Предобработка данных. Пропуски\n",
    "3. Поиск дубликатов и аномалий\n",
    "4. Поиск зависимостей возврата кредита от определенных атрибутов \"исторических\" клиентов\n",
    "5. Вывод"
   ]
  },
  {
   "cell_type": "markdown",
   "id": "f3587676",
   "metadata": {},
   "source": [
    "## Обзор данных"
   ]
  },
  {
   "cell_type": "markdown",
   "id": "94e9d9d1",
   "metadata": {},
   "source": [
    "Ознакомимся с данными заказчика:"
   ]
  },
  {
   "cell_type": "code",
   "execution_count": 1,
   "id": "e985e2f6",
   "metadata": {},
   "outputs": [
    {
     "data": {
      "text/html": [
       "<div>\n",
       "<style scoped>\n",
       "    .dataframe tbody tr th:only-of-type {\n",
       "        vertical-align: middle;\n",
       "    }\n",
       "\n",
       "    .dataframe tbody tr th {\n",
       "        vertical-align: top;\n",
       "    }\n",
       "\n",
       "    .dataframe thead th {\n",
       "        text-align: right;\n",
       "    }\n",
       "</style>\n",
       "<table border=\"1\" class=\"dataframe\">\n",
       "  <thead>\n",
       "    <tr style=\"text-align: right;\">\n",
       "      <th></th>\n",
       "      <th>children</th>\n",
       "      <th>days_employed</th>\n",
       "      <th>dob_years</th>\n",
       "      <th>education</th>\n",
       "      <th>education_id</th>\n",
       "      <th>family_status</th>\n",
       "      <th>family_status_id</th>\n",
       "      <th>gender</th>\n",
       "      <th>income_type</th>\n",
       "      <th>debt</th>\n",
       "      <th>total_income</th>\n",
       "      <th>purpose</th>\n",
       "    </tr>\n",
       "  </thead>\n",
       "  <tbody>\n",
       "    <tr>\n",
       "      <th>0</th>\n",
       "      <td>1</td>\n",
       "      <td>-8437.673028</td>\n",
       "      <td>42</td>\n",
       "      <td>высшее</td>\n",
       "      <td>0</td>\n",
       "      <td>женат / замужем</td>\n",
       "      <td>0</td>\n",
       "      <td>F</td>\n",
       "      <td>сотрудник</td>\n",
       "      <td>0</td>\n",
       "      <td>253875.639453</td>\n",
       "      <td>покупка жилья</td>\n",
       "    </tr>\n",
       "    <tr>\n",
       "      <th>1</th>\n",
       "      <td>1</td>\n",
       "      <td>-4024.803754</td>\n",
       "      <td>36</td>\n",
       "      <td>среднее</td>\n",
       "      <td>1</td>\n",
       "      <td>женат / замужем</td>\n",
       "      <td>0</td>\n",
       "      <td>F</td>\n",
       "      <td>сотрудник</td>\n",
       "      <td>0</td>\n",
       "      <td>112080.014102</td>\n",
       "      <td>приобретение автомобиля</td>\n",
       "    </tr>\n",
       "    <tr>\n",
       "      <th>2</th>\n",
       "      <td>0</td>\n",
       "      <td>-5623.422610</td>\n",
       "      <td>33</td>\n",
       "      <td>Среднее</td>\n",
       "      <td>1</td>\n",
       "      <td>женат / замужем</td>\n",
       "      <td>0</td>\n",
       "      <td>M</td>\n",
       "      <td>сотрудник</td>\n",
       "      <td>0</td>\n",
       "      <td>145885.952297</td>\n",
       "      <td>покупка жилья</td>\n",
       "    </tr>\n",
       "    <tr>\n",
       "      <th>3</th>\n",
       "      <td>3</td>\n",
       "      <td>-4124.747207</td>\n",
       "      <td>32</td>\n",
       "      <td>среднее</td>\n",
       "      <td>1</td>\n",
       "      <td>женат / замужем</td>\n",
       "      <td>0</td>\n",
       "      <td>M</td>\n",
       "      <td>сотрудник</td>\n",
       "      <td>0</td>\n",
       "      <td>267628.550329</td>\n",
       "      <td>дополнительное образование</td>\n",
       "    </tr>\n",
       "    <tr>\n",
       "      <th>4</th>\n",
       "      <td>0</td>\n",
       "      <td>340266.072047</td>\n",
       "      <td>53</td>\n",
       "      <td>среднее</td>\n",
       "      <td>1</td>\n",
       "      <td>гражданский брак</td>\n",
       "      <td>1</td>\n",
       "      <td>F</td>\n",
       "      <td>пенсионер</td>\n",
       "      <td>0</td>\n",
       "      <td>158616.077870</td>\n",
       "      <td>сыграть свадьбу</td>\n",
       "    </tr>\n",
       "  </tbody>\n",
       "</table>\n",
       "</div>"
      ],
      "text/plain": [
       "   children  days_employed  dob_years education  education_id  \\\n",
       "0         1   -8437.673028         42    высшее             0   \n",
       "1         1   -4024.803754         36   среднее             1   \n",
       "2         0   -5623.422610         33   Среднее             1   \n",
       "3         3   -4124.747207         32   среднее             1   \n",
       "4         0  340266.072047         53   среднее             1   \n",
       "\n",
       "      family_status  family_status_id gender income_type  debt   total_income  \\\n",
       "0   женат / замужем                 0      F   сотрудник     0  253875.639453   \n",
       "1   женат / замужем                 0      F   сотрудник     0  112080.014102   \n",
       "2   женат / замужем                 0      M   сотрудник     0  145885.952297   \n",
       "3   женат / замужем                 0      M   сотрудник     0  267628.550329   \n",
       "4  гражданский брак                 1      F   пенсионер     0  158616.077870   \n",
       "\n",
       "                      purpose  \n",
       "0               покупка жилья  \n",
       "1     приобретение автомобиля  \n",
       "2               покупка жилья  \n",
       "3  дополнительное образование  \n",
       "4             сыграть свадьбу  "
      ]
     },
     "execution_count": 1,
     "metadata": {},
     "output_type": "execute_result"
    }
   ],
   "source": [
    "import pandas as pd\n",
    "import numpy as np\n",
    "data = pd.read_csv('https://code.s3.yandex.net/datasets/data.csv')\n",
    "data.head()"
   ]
  },
  {
   "cell_type": "code",
   "execution_count": 2,
   "id": "6b3649be",
   "metadata": {},
   "outputs": [
    {
     "name": "stdout",
     "output_type": "stream",
     "text": [
      "<class 'pandas.core.frame.DataFrame'>\n",
      "RangeIndex: 21525 entries, 0 to 21524\n",
      "Data columns (total 12 columns):\n",
      " #   Column            Non-Null Count  Dtype  \n",
      "---  ------            --------------  -----  \n",
      " 0   children          21525 non-null  int64  \n",
      " 1   days_employed     19351 non-null  float64\n",
      " 2   dob_years         21525 non-null  int64  \n",
      " 3   education         21525 non-null  object \n",
      " 4   education_id      21525 non-null  int64  \n",
      " 5   family_status     21525 non-null  object \n",
      " 6   family_status_id  21525 non-null  int64  \n",
      " 7   gender            21525 non-null  object \n",
      " 8   income_type       21525 non-null  object \n",
      " 9   debt              21525 non-null  int64  \n",
      " 10  total_income      19351 non-null  float64\n",
      " 11  purpose           21525 non-null  object \n",
      "dtypes: float64(2), int64(5), object(5)\n",
      "memory usage: 2.0+ MB\n"
     ]
    }
   ],
   "source": [
    "data.info()"
   ]
  },
  {
   "cell_type": "markdown",
   "id": "2dacc41e",
   "metadata": {},
   "source": [
    "Итак, в таблице двенадцать столбцов и 21525 строк:\n",
    "\n",
    "0. `children` — количество детей в семье\n",
    "1. `days_employed` — общий трудовой стаж в днях. **Имеются пропуски и отрицательные значения**\n",
    "2. `dob_years` — возраст клиента в годах\n",
    "3. `education` — уровень образования клиента\n",
    "4. `education_id` — идентификатор уровня образования\n",
    "5. `family_status` — семейное положение\n",
    "6. `family_status_id` — идентификатор семейного положения\n",
    "7. `gender` — пол клиента\n",
    "8. `income_type` — тип занятости\n",
    "9. `debt` — имел ли задолженность по возврату кредитов\n",
    "10. `total_income` — ежемесячный доход. **Имеются пропуски**\n",
    "11. `purpose` — цель получения кредита\n",
    "\n",
    "**Вывод №1**: На первый взгляд, \n",
    "* Не наблюдается нарушение типов данных количественных и качественных переменных;\n",
    "* Наименования столбцов корректные. Змеиный регистр соблюден;\n",
    "* Имеются пропущенные значения в столбцах \"Трудовой стаж\" и \"Ежемесячный доход\""
   ]
  },
  {
   "cell_type": "markdown",
   "id": "49bbd8b8",
   "metadata": {},
   "source": [
    "## Предобработка данных. Пропуски"
   ]
  },
  {
   "cell_type": "markdown",
   "id": "29b05daa",
   "metadata": {},
   "source": [
    "Ранее мы обнаружили пропуски в столбцах \"Трудовой стаж\" и \"Ежемесячный доход\". Посчитаем пропуски:"
   ]
  },
  {
   "cell_type": "code",
   "execution_count": 3,
   "id": "2eb1eb7d",
   "metadata": {},
   "outputs": [
    {
     "data": {
      "text/plain": [
       "children               0\n",
       "days_employed       2174\n",
       "dob_years              0\n",
       "education              0\n",
       "education_id           0\n",
       "family_status          0\n",
       "family_status_id       0\n",
       "gender                 0\n",
       "income_type            0\n",
       "debt                   0\n",
       "total_income        2174\n",
       "purpose                0\n",
       "dtype: int64"
      ]
     },
     "execution_count": 3,
     "metadata": {},
     "output_type": "execute_result"
    }
   ],
   "source": [
    "data.isna().sum()"
   ]
  },
  {
   "cell_type": "markdown",
   "id": "90d52e27",
   "metadata": {},
   "source": [
    "Ого, одинаковое количество пропусков по двум признакам. Интересно, это одни и те же строки? Но прежде, посмотрим какую долю в % составляют пропущенные значения от общей информации"
   ]
  },
  {
   "cell_type": "code",
   "execution_count": 4,
   "id": "3fb3f408",
   "metadata": {},
   "outputs": [
    {
     "data": {
      "text/plain": [
       "children             0.00%\n",
       "days_employed       10.10%\n",
       "dob_years            0.00%\n",
       "education            0.00%\n",
       "education_id         0.00%\n",
       "family_status        0.00%\n",
       "family_status_id     0.00%\n",
       "gender               0.00%\n",
       "income_type          0.00%\n",
       "debt                 0.00%\n",
       "total_income        10.10%\n",
       "purpose              0.00%\n",
       "dtype: object"
      ]
     },
     "execution_count": 4,
     "metadata": {},
     "output_type": "execute_result"
    }
   ],
   "source": [
    "data.isna().mean().map('{:,.2%}'.format)"
   ]
  },
  {
   "cell_type": "markdown",
   "id": "06dc486b",
   "metadata": {},
   "source": [
    "Пропусков достаточно много. Целых десять процентов. Поэтому не имеем права даже думать об drop. Данные наше всё. Попробуем их сохранить"
   ]
  },
  {
   "cell_type": "markdown",
   "id": "b35f5e3a",
   "metadata": {},
   "source": [
    "Интересно, что собой представляют данные с пропусками:"
   ]
  },
  {
   "cell_type": "code",
   "execution_count": 5,
   "id": "45a9d948",
   "metadata": {},
   "outputs": [
    {
     "data": {
      "text/html": [
       "<div>\n",
       "<style scoped>\n",
       "    .dataframe tbody tr th:only-of-type {\n",
       "        vertical-align: middle;\n",
       "    }\n",
       "\n",
       "    .dataframe tbody tr th {\n",
       "        vertical-align: top;\n",
       "    }\n",
       "\n",
       "    .dataframe thead th {\n",
       "        text-align: right;\n",
       "    }\n",
       "</style>\n",
       "<table border=\"1\" class=\"dataframe\">\n",
       "  <thead>\n",
       "    <tr style=\"text-align: right;\">\n",
       "      <th></th>\n",
       "      <th>children</th>\n",
       "      <th>days_employed</th>\n",
       "      <th>dob_years</th>\n",
       "      <th>education</th>\n",
       "      <th>education_id</th>\n",
       "      <th>family_status</th>\n",
       "      <th>family_status_id</th>\n",
       "      <th>gender</th>\n",
       "      <th>income_type</th>\n",
       "      <th>debt</th>\n",
       "      <th>total_income</th>\n",
       "      <th>purpose</th>\n",
       "    </tr>\n",
       "  </thead>\n",
       "  <tbody>\n",
       "    <tr>\n",
       "      <th>12</th>\n",
       "      <td>0</td>\n",
       "      <td>NaN</td>\n",
       "      <td>65</td>\n",
       "      <td>среднее</td>\n",
       "      <td>1</td>\n",
       "      <td>гражданский брак</td>\n",
       "      <td>1</td>\n",
       "      <td>M</td>\n",
       "      <td>пенсионер</td>\n",
       "      <td>0</td>\n",
       "      <td>NaN</td>\n",
       "      <td>сыграть свадьбу</td>\n",
       "    </tr>\n",
       "    <tr>\n",
       "      <th>26</th>\n",
       "      <td>0</td>\n",
       "      <td>NaN</td>\n",
       "      <td>41</td>\n",
       "      <td>среднее</td>\n",
       "      <td>1</td>\n",
       "      <td>женат / замужем</td>\n",
       "      <td>0</td>\n",
       "      <td>M</td>\n",
       "      <td>госслужащий</td>\n",
       "      <td>0</td>\n",
       "      <td>NaN</td>\n",
       "      <td>образование</td>\n",
       "    </tr>\n",
       "    <tr>\n",
       "      <th>29</th>\n",
       "      <td>0</td>\n",
       "      <td>NaN</td>\n",
       "      <td>63</td>\n",
       "      <td>среднее</td>\n",
       "      <td>1</td>\n",
       "      <td>Не женат / не замужем</td>\n",
       "      <td>4</td>\n",
       "      <td>F</td>\n",
       "      <td>пенсионер</td>\n",
       "      <td>0</td>\n",
       "      <td>NaN</td>\n",
       "      <td>строительство жилой недвижимости</td>\n",
       "    </tr>\n",
       "    <tr>\n",
       "      <th>41</th>\n",
       "      <td>0</td>\n",
       "      <td>NaN</td>\n",
       "      <td>50</td>\n",
       "      <td>среднее</td>\n",
       "      <td>1</td>\n",
       "      <td>женат / замужем</td>\n",
       "      <td>0</td>\n",
       "      <td>F</td>\n",
       "      <td>госслужащий</td>\n",
       "      <td>0</td>\n",
       "      <td>NaN</td>\n",
       "      <td>сделка с подержанным автомобилем</td>\n",
       "    </tr>\n",
       "    <tr>\n",
       "      <th>55</th>\n",
       "      <td>0</td>\n",
       "      <td>NaN</td>\n",
       "      <td>54</td>\n",
       "      <td>среднее</td>\n",
       "      <td>1</td>\n",
       "      <td>гражданский брак</td>\n",
       "      <td>1</td>\n",
       "      <td>F</td>\n",
       "      <td>пенсионер</td>\n",
       "      <td>1</td>\n",
       "      <td>NaN</td>\n",
       "      <td>сыграть свадьбу</td>\n",
       "    </tr>\n",
       "  </tbody>\n",
       "</table>\n",
       "</div>"
      ],
      "text/plain": [
       "    children  days_employed  dob_years education  education_id  \\\n",
       "12         0            NaN         65   среднее             1   \n",
       "26         0            NaN         41   среднее             1   \n",
       "29         0            NaN         63   среднее             1   \n",
       "41         0            NaN         50   среднее             1   \n",
       "55         0            NaN         54   среднее             1   \n",
       "\n",
       "            family_status  family_status_id gender  income_type  debt  \\\n",
       "12       гражданский брак                 1      M    пенсионер     0   \n",
       "26        женат / замужем                 0      M  госслужащий     0   \n",
       "29  Не женат / не замужем                 4      F    пенсионер     0   \n",
       "41        женат / замужем                 0      F  госслужащий     0   \n",
       "55       гражданский брак                 1      F    пенсионер     1   \n",
       "\n",
       "    total_income                           purpose  \n",
       "12           NaN                   сыграть свадьбу  \n",
       "26           NaN                       образование  \n",
       "29           NaN  строительство жилой недвижимости  \n",
       "41           NaN  сделка с подержанным автомобилем  \n",
       "55           NaN                   сыграть свадьбу  "
      ]
     },
     "execution_count": 5,
     "metadata": {},
     "output_type": "execute_result"
    }
   ],
   "source": [
    "data[data['days_employed'].isna()].head()"
   ]
  },
  {
   "cell_type": "code",
   "execution_count": 6,
   "id": "1e3f9026",
   "metadata": {},
   "outputs": [
    {
     "data": {
      "text/html": [
       "<div>\n",
       "<style scoped>\n",
       "    .dataframe tbody tr th:only-of-type {\n",
       "        vertical-align: middle;\n",
       "    }\n",
       "\n",
       "    .dataframe tbody tr th {\n",
       "        vertical-align: top;\n",
       "    }\n",
       "\n",
       "    .dataframe thead th {\n",
       "        text-align: right;\n",
       "    }\n",
       "</style>\n",
       "<table border=\"1\" class=\"dataframe\">\n",
       "  <thead>\n",
       "    <tr style=\"text-align: right;\">\n",
       "      <th></th>\n",
       "      <th>children</th>\n",
       "      <th>days_employed</th>\n",
       "      <th>dob_years</th>\n",
       "      <th>education</th>\n",
       "      <th>education_id</th>\n",
       "      <th>family_status</th>\n",
       "      <th>family_status_id</th>\n",
       "      <th>gender</th>\n",
       "      <th>income_type</th>\n",
       "      <th>debt</th>\n",
       "      <th>total_income</th>\n",
       "      <th>purpose</th>\n",
       "    </tr>\n",
       "  </thead>\n",
       "  <tbody>\n",
       "    <tr>\n",
       "      <th>12</th>\n",
       "      <td>0</td>\n",
       "      <td>NaN</td>\n",
       "      <td>65</td>\n",
       "      <td>среднее</td>\n",
       "      <td>1</td>\n",
       "      <td>гражданский брак</td>\n",
       "      <td>1</td>\n",
       "      <td>M</td>\n",
       "      <td>пенсионер</td>\n",
       "      <td>0</td>\n",
       "      <td>NaN</td>\n",
       "      <td>сыграть свадьбу</td>\n",
       "    </tr>\n",
       "    <tr>\n",
       "      <th>26</th>\n",
       "      <td>0</td>\n",
       "      <td>NaN</td>\n",
       "      <td>41</td>\n",
       "      <td>среднее</td>\n",
       "      <td>1</td>\n",
       "      <td>женат / замужем</td>\n",
       "      <td>0</td>\n",
       "      <td>M</td>\n",
       "      <td>госслужащий</td>\n",
       "      <td>0</td>\n",
       "      <td>NaN</td>\n",
       "      <td>образование</td>\n",
       "    </tr>\n",
       "    <tr>\n",
       "      <th>29</th>\n",
       "      <td>0</td>\n",
       "      <td>NaN</td>\n",
       "      <td>63</td>\n",
       "      <td>среднее</td>\n",
       "      <td>1</td>\n",
       "      <td>Не женат / не замужем</td>\n",
       "      <td>4</td>\n",
       "      <td>F</td>\n",
       "      <td>пенсионер</td>\n",
       "      <td>0</td>\n",
       "      <td>NaN</td>\n",
       "      <td>строительство жилой недвижимости</td>\n",
       "    </tr>\n",
       "    <tr>\n",
       "      <th>41</th>\n",
       "      <td>0</td>\n",
       "      <td>NaN</td>\n",
       "      <td>50</td>\n",
       "      <td>среднее</td>\n",
       "      <td>1</td>\n",
       "      <td>женат / замужем</td>\n",
       "      <td>0</td>\n",
       "      <td>F</td>\n",
       "      <td>госслужащий</td>\n",
       "      <td>0</td>\n",
       "      <td>NaN</td>\n",
       "      <td>сделка с подержанным автомобилем</td>\n",
       "    </tr>\n",
       "    <tr>\n",
       "      <th>55</th>\n",
       "      <td>0</td>\n",
       "      <td>NaN</td>\n",
       "      <td>54</td>\n",
       "      <td>среднее</td>\n",
       "      <td>1</td>\n",
       "      <td>гражданский брак</td>\n",
       "      <td>1</td>\n",
       "      <td>F</td>\n",
       "      <td>пенсионер</td>\n",
       "      <td>1</td>\n",
       "      <td>NaN</td>\n",
       "      <td>сыграть свадьбу</td>\n",
       "    </tr>\n",
       "  </tbody>\n",
       "</table>\n",
       "</div>"
      ],
      "text/plain": [
       "    children  days_employed  dob_years education  education_id  \\\n",
       "12         0            NaN         65   среднее             1   \n",
       "26         0            NaN         41   среднее             1   \n",
       "29         0            NaN         63   среднее             1   \n",
       "41         0            NaN         50   среднее             1   \n",
       "55         0            NaN         54   среднее             1   \n",
       "\n",
       "            family_status  family_status_id gender  income_type  debt  \\\n",
       "12       гражданский брак                 1      M    пенсионер     0   \n",
       "26        женат / замужем                 0      M  госслужащий     0   \n",
       "29  Не женат / не замужем                 4      F    пенсионер     0   \n",
       "41        женат / замужем                 0      F  госслужащий     0   \n",
       "55       гражданский брак                 1      F    пенсионер     1   \n",
       "\n",
       "    total_income                           purpose  \n",
       "12           NaN                   сыграть свадьбу  \n",
       "26           NaN                       образование  \n",
       "29           NaN  строительство жилой недвижимости  \n",
       "41           NaN  сделка с подержанным автомобилем  \n",
       "55           NaN                   сыграть свадьбу  "
      ]
     },
     "execution_count": 6,
     "metadata": {},
     "output_type": "execute_result"
    }
   ],
   "source": [
    "data[data['total_income'].isna()].head()"
   ]
  },
  {
   "cell_type": "markdown",
   "id": "cf5cc51b",
   "metadata": {},
   "source": [
    "На первый взгляд, пропуски по стажу и доходу по одним и тем же заемщикам/кредитам. Проверим:"
   ]
  },
  {
   "cell_type": "code",
   "execution_count": 7,
   "id": "272fe85f",
   "metadata": {},
   "outputs": [
    {
     "name": "stdout",
     "output_type": "stream",
     "text": [
      "Пропуски по стажу и доходу наблюдаются по одним и тем же заемщикам\n"
     ]
    }
   ],
   "source": [
    "if np.prod(data[data['days_employed'].isna()].reset_index()['index'] == \\\n",
    "data[data['total_income'].isna()].reset_index()['index']) == True:\n",
    "    print('Пропуски по стажу и доходу наблюдаются по одним и тем же заемщикам')\n",
    "else:\n",
    "    print('Гипотеза не верна')      "
   ]
  },
  {
   "cell_type": "markdown",
   "id": "46b91cf3",
   "metadata": {},
   "source": [
    "В чем причина появлений пропусков? Может пропуски связаны с отсутствием стажа и как следствие отсутствием официального ЗП? Проверим"
   ]
  },
  {
   "cell_type": "code",
   "execution_count": 8,
   "id": "a91d226d",
   "metadata": {},
   "outputs": [
    {
     "data": {
      "text/plain": [
       "сотрудник          1105\n",
       "компаньон           508\n",
       "пенсионер           413\n",
       "госслужащий         147\n",
       "предприниматель       1\n",
       "Name: income_type, dtype: int64"
      ]
     },
     "execution_count": 8,
     "metadata": {},
     "output_type": "execute_result"
    }
   ],
   "source": [
    "#вывод типа занятости среди заемщиков с пропуском по стажу и доходу\n",
    "data[data['days_employed'].isna()]['income_type'].value_counts()"
   ]
  },
  {
   "cell_type": "markdown",
   "id": "0f3be074",
   "metadata": {},
   "source": [
    "Вряд ли заемщики без стажа и дохода относились бы к типам занятости, подразумевающих белую ЗП. \n",
    "Значит пропуски скорее упущения и не связаны с безработными или фрилансерами. Надо заменить на медианные значения. НО прежде прежде поборемся с дубликатами"
   ]
  },
  {
   "cell_type": "markdown",
   "id": "5a8100f3",
   "metadata": {},
   "source": [
    "## Поиск дубликатов и аномалий"
   ]
  },
  {
   "cell_type": "code",
   "execution_count": 9,
   "id": "74a92f5f",
   "metadata": {},
   "outputs": [
    {
     "data": {
      "text/plain": [
       "54"
      ]
     },
     "execution_count": 9,
     "metadata": {},
     "output_type": "execute_result"
    }
   ],
   "source": [
    "# поиск явных дубликатов\n",
    "data.duplicated().sum()"
   ]
  },
  {
   "cell_type": "code",
   "execution_count": 10,
   "id": "013f851f",
   "metadata": {},
   "outputs": [
    {
     "data": {
      "text/plain": [
       "0"
      ]
     },
     "execution_count": 10,
     "metadata": {},
     "output_type": "execute_result"
    }
   ],
   "source": [
    "# удаление явных дубликатов\n",
    "data = data.drop_duplicates().reset_index(drop = True)\n",
    "data.duplicated().sum()"
   ]
  },
  {
   "cell_type": "markdown",
   "id": "ee75ba70",
   "metadata": {},
   "source": [
    "\n",
    "Нашли и удалили 54 явных дубликатов. Не так много, всего лишь 0.25% от общего количества кредитов. Для удаления неявных дубликатов проверим на уникальность содержимое категориальных переменных\n",
    "\n"
   ]
  },
  {
   "cell_type": "markdown",
   "id": "e9ea9959",
   "metadata": {},
   "source": [
    "### Проверка данных \"Дети\""
   ]
  },
  {
   "cell_type": "code",
   "execution_count": 11,
   "id": "77662b39",
   "metadata": {},
   "outputs": [
    {
     "data": {
      "text/plain": [
       " 0     14107\n",
       " 1      4809\n",
       " 2      2052\n",
       " 3       330\n",
       " 20       76\n",
       "-1        47\n",
       " 4        41\n",
       " 5         9\n",
       "Name: children, dtype: int64"
      ]
     },
     "execution_count": 11,
     "metadata": {},
     "output_type": "execute_result"
    }
   ],
   "source": [
    "data['children'].value_counts()"
   ]
  },
  {
   "cell_type": "markdown",
   "id": "3ee3f50b",
   "metadata": {},
   "source": [
    "Значения минус 1 и 20. Выведем их на экран. \n",
    "\n",
    "Гипотеза: Отрицательное значение может связано с разводами, а дети в количестве 20 штук мошут быть по одному и тому же клиенту"
   ]
  },
  {
   "cell_type": "code",
   "execution_count": 12,
   "id": "34d8d0d5",
   "metadata": {},
   "outputs": [
    {
     "data": {
      "text/html": [
       "<div>\n",
       "<style scoped>\n",
       "    .dataframe tbody tr th:only-of-type {\n",
       "        vertical-align: middle;\n",
       "    }\n",
       "\n",
       "    .dataframe tbody tr th {\n",
       "        vertical-align: top;\n",
       "    }\n",
       "\n",
       "    .dataframe thead th {\n",
       "        text-align: right;\n",
       "    }\n",
       "</style>\n",
       "<table border=\"1\" class=\"dataframe\">\n",
       "  <thead>\n",
       "    <tr style=\"text-align: right;\">\n",
       "      <th></th>\n",
       "      <th>children</th>\n",
       "      <th>days_employed</th>\n",
       "      <th>dob_years</th>\n",
       "      <th>education</th>\n",
       "      <th>education_id</th>\n",
       "      <th>family_status</th>\n",
       "      <th>family_status_id</th>\n",
       "      <th>gender</th>\n",
       "      <th>income_type</th>\n",
       "      <th>debt</th>\n",
       "      <th>total_income</th>\n",
       "      <th>purpose</th>\n",
       "    </tr>\n",
       "  </thead>\n",
       "  <tbody>\n",
       "    <tr>\n",
       "      <th>291</th>\n",
       "      <td>-1</td>\n",
       "      <td>-4417.703588</td>\n",
       "      <td>46</td>\n",
       "      <td>среднее</td>\n",
       "      <td>1</td>\n",
       "      <td>гражданский брак</td>\n",
       "      <td>1</td>\n",
       "      <td>F</td>\n",
       "      <td>сотрудник</td>\n",
       "      <td>0</td>\n",
       "      <td>102816.346412</td>\n",
       "      <td>профильное образование</td>\n",
       "    </tr>\n",
       "    <tr>\n",
       "      <th>705</th>\n",
       "      <td>-1</td>\n",
       "      <td>-902.084528</td>\n",
       "      <td>50</td>\n",
       "      <td>среднее</td>\n",
       "      <td>1</td>\n",
       "      <td>женат / замужем</td>\n",
       "      <td>0</td>\n",
       "      <td>F</td>\n",
       "      <td>госслужащий</td>\n",
       "      <td>0</td>\n",
       "      <td>137882.899271</td>\n",
       "      <td>приобретение автомобиля</td>\n",
       "    </tr>\n",
       "    <tr>\n",
       "      <th>742</th>\n",
       "      <td>-1</td>\n",
       "      <td>-3174.456205</td>\n",
       "      <td>57</td>\n",
       "      <td>среднее</td>\n",
       "      <td>1</td>\n",
       "      <td>женат / замужем</td>\n",
       "      <td>0</td>\n",
       "      <td>F</td>\n",
       "      <td>сотрудник</td>\n",
       "      <td>0</td>\n",
       "      <td>64268.044444</td>\n",
       "      <td>дополнительное образование</td>\n",
       "    </tr>\n",
       "    <tr>\n",
       "      <th>800</th>\n",
       "      <td>-1</td>\n",
       "      <td>349987.852217</td>\n",
       "      <td>54</td>\n",
       "      <td>среднее</td>\n",
       "      <td>1</td>\n",
       "      <td>Не женат / не замужем</td>\n",
       "      <td>4</td>\n",
       "      <td>F</td>\n",
       "      <td>пенсионер</td>\n",
       "      <td>0</td>\n",
       "      <td>86293.724153</td>\n",
       "      <td>дополнительное образование</td>\n",
       "    </tr>\n",
       "    <tr>\n",
       "      <th>941</th>\n",
       "      <td>-1</td>\n",
       "      <td>NaN</td>\n",
       "      <td>57</td>\n",
       "      <td>Среднее</td>\n",
       "      <td>1</td>\n",
       "      <td>женат / замужем</td>\n",
       "      <td>0</td>\n",
       "      <td>F</td>\n",
       "      <td>пенсионер</td>\n",
       "      <td>0</td>\n",
       "      <td>NaN</td>\n",
       "      <td>на покупку своего автомобиля</td>\n",
       "    </tr>\n",
       "  </tbody>\n",
       "</table>\n",
       "</div>"
      ],
      "text/plain": [
       "     children  days_employed  dob_years education  education_id  \\\n",
       "291        -1   -4417.703588         46   среднее             1   \n",
       "705        -1    -902.084528         50   среднее             1   \n",
       "742        -1   -3174.456205         57   среднее             1   \n",
       "800        -1  349987.852217         54   среднее             1   \n",
       "941        -1            NaN         57   Среднее             1   \n",
       "\n",
       "             family_status  family_status_id gender  income_type  debt  \\\n",
       "291       гражданский брак                 1      F    сотрудник     0   \n",
       "705        женат / замужем                 0      F  госслужащий     0   \n",
       "742        женат / замужем                 0      F    сотрудник     0   \n",
       "800  Не женат / не замужем                 4      F    пенсионер     0   \n",
       "941        женат / замужем                 0      F    пенсионер     0   \n",
       "\n",
       "      total_income                       purpose  \n",
       "291  102816.346412        профильное образование  \n",
       "705  137882.899271       приобретение автомобиля  \n",
       "742   64268.044444    дополнительное образование  \n",
       "800   86293.724153    дополнительное образование  \n",
       "941            NaN  на покупку своего автомобиля  "
      ]
     },
     "execution_count": 12,
     "metadata": {},
     "output_type": "execute_result"
    }
   ],
   "source": [
    "data[data['children'] == -1].head()"
   ]
  },
  {
   "cell_type": "code",
   "execution_count": 13,
   "id": "1cc7b153",
   "metadata": {},
   "outputs": [
    {
     "data": {
      "text/plain": [
       "47"
      ]
     },
     "execution_count": 13,
     "metadata": {},
     "output_type": "execute_result"
    }
   ],
   "source": [
    "# количество аномалий с -1 ребенком\n",
    "\n",
    "data[data['children'] == -1]['children'].count()"
   ]
  },
  {
   "cell_type": "code",
   "execution_count": 14,
   "id": "8ecf92fc",
   "metadata": {
    "scrolled": true
   },
   "outputs": [
    {
     "data": {
      "text/html": [
       "<div>\n",
       "<style scoped>\n",
       "    .dataframe tbody tr th:only-of-type {\n",
       "        vertical-align: middle;\n",
       "    }\n",
       "\n",
       "    .dataframe tbody tr th {\n",
       "        vertical-align: top;\n",
       "    }\n",
       "\n",
       "    .dataframe thead th {\n",
       "        text-align: right;\n",
       "    }\n",
       "</style>\n",
       "<table border=\"1\" class=\"dataframe\">\n",
       "  <thead>\n",
       "    <tr style=\"text-align: right;\">\n",
       "      <th></th>\n",
       "      <th>children</th>\n",
       "      <th>days_employed</th>\n",
       "      <th>dob_years</th>\n",
       "      <th>education</th>\n",
       "      <th>education_id</th>\n",
       "      <th>family_status</th>\n",
       "      <th>family_status_id</th>\n",
       "      <th>gender</th>\n",
       "      <th>income_type</th>\n",
       "      <th>debt</th>\n",
       "      <th>total_income</th>\n",
       "      <th>purpose</th>\n",
       "    </tr>\n",
       "  </thead>\n",
       "  <tbody>\n",
       "    <tr>\n",
       "      <th>606</th>\n",
       "      <td>20</td>\n",
       "      <td>-880.221113</td>\n",
       "      <td>21</td>\n",
       "      <td>среднее</td>\n",
       "      <td>1</td>\n",
       "      <td>женат / замужем</td>\n",
       "      <td>0</td>\n",
       "      <td>M</td>\n",
       "      <td>компаньон</td>\n",
       "      <td>0</td>\n",
       "      <td>145334.865002</td>\n",
       "      <td>покупка жилья</td>\n",
       "    </tr>\n",
       "    <tr>\n",
       "      <th>720</th>\n",
       "      <td>20</td>\n",
       "      <td>-855.595512</td>\n",
       "      <td>44</td>\n",
       "      <td>среднее</td>\n",
       "      <td>1</td>\n",
       "      <td>женат / замужем</td>\n",
       "      <td>0</td>\n",
       "      <td>F</td>\n",
       "      <td>компаньон</td>\n",
       "      <td>0</td>\n",
       "      <td>112998.738649</td>\n",
       "      <td>покупка недвижимости</td>\n",
       "    </tr>\n",
       "    <tr>\n",
       "      <th>1074</th>\n",
       "      <td>20</td>\n",
       "      <td>-3310.411598</td>\n",
       "      <td>56</td>\n",
       "      <td>среднее</td>\n",
       "      <td>1</td>\n",
       "      <td>женат / замужем</td>\n",
       "      <td>0</td>\n",
       "      <td>F</td>\n",
       "      <td>сотрудник</td>\n",
       "      <td>1</td>\n",
       "      <td>229518.537004</td>\n",
       "      <td>получение образования</td>\n",
       "    </tr>\n",
       "    <tr>\n",
       "      <th>2510</th>\n",
       "      <td>20</td>\n",
       "      <td>-2714.161249</td>\n",
       "      <td>59</td>\n",
       "      <td>высшее</td>\n",
       "      <td>0</td>\n",
       "      <td>вдовец / вдова</td>\n",
       "      <td>2</td>\n",
       "      <td>F</td>\n",
       "      <td>сотрудник</td>\n",
       "      <td>0</td>\n",
       "      <td>264474.835577</td>\n",
       "      <td>операции с коммерческой недвижимостью</td>\n",
       "    </tr>\n",
       "    <tr>\n",
       "      <th>2940</th>\n",
       "      <td>20</td>\n",
       "      <td>-2161.591519</td>\n",
       "      <td>0</td>\n",
       "      <td>среднее</td>\n",
       "      <td>1</td>\n",
       "      <td>женат / замужем</td>\n",
       "      <td>0</td>\n",
       "      <td>F</td>\n",
       "      <td>сотрудник</td>\n",
       "      <td>0</td>\n",
       "      <td>199739.941398</td>\n",
       "      <td>на покупку автомобиля</td>\n",
       "    </tr>\n",
       "  </tbody>\n",
       "</table>\n",
       "</div>"
      ],
      "text/plain": [
       "      children  days_employed  dob_years education  education_id  \\\n",
       "606         20    -880.221113         21   среднее             1   \n",
       "720         20    -855.595512         44   среднее             1   \n",
       "1074        20   -3310.411598         56   среднее             1   \n",
       "2510        20   -2714.161249         59    высшее             0   \n",
       "2940        20   -2161.591519          0   среднее             1   \n",
       "\n",
       "        family_status  family_status_id gender income_type  debt  \\\n",
       "606   женат / замужем                 0      M   компаньон     0   \n",
       "720   женат / замужем                 0      F   компаньон     0   \n",
       "1074  женат / замужем                 0      F   сотрудник     1   \n",
       "2510   вдовец / вдова                 2      F   сотрудник     0   \n",
       "2940  женат / замужем                 0      F   сотрудник     0   \n",
       "\n",
       "       total_income                                purpose  \n",
       "606   145334.865002                          покупка жилья  \n",
       "720   112998.738649                   покупка недвижимости  \n",
       "1074  229518.537004                  получение образования  \n",
       "2510  264474.835577  операции с коммерческой недвижимостью  \n",
       "2940  199739.941398                  на покупку автомобиля  "
      ]
     },
     "execution_count": 14,
     "metadata": {},
     "output_type": "execute_result"
    }
   ],
   "source": [
    "data[data['children'] == 20].head()"
   ]
  },
  {
   "cell_type": "code",
   "execution_count": 15,
   "id": "2264a08e",
   "metadata": {},
   "outputs": [
    {
     "data": {
      "text/plain": [
       "76"
      ]
     },
     "execution_count": 15,
     "metadata": {},
     "output_type": "execute_result"
    }
   ],
   "source": [
    "# количество аномалий с 20-ью детьми\n",
    "\n",
    "data[data['children'] == 20]['children'].count()"
   ]
  },
  {
   "cell_type": "markdown",
   "id": "bc169219",
   "metadata": {},
   "source": [
    "Гипотезы не подтвердились. Аномалию по кол-ву детей в -1 и 20 в силу их небольшого количества удалим (0.6%). Если их было бы больше, то можно было бы строить дополнительные гипотезы "
   ]
  },
  {
   "cell_type": "code",
   "execution_count": 16,
   "id": "1ea4d9df",
   "metadata": {},
   "outputs": [],
   "source": [
    "data = data[(data['children'] != -1) & (data['children'] != 20)]"
   ]
  },
  {
   "cell_type": "code",
   "execution_count": 17,
   "id": "b052bc4e",
   "metadata": {},
   "outputs": [
    {
     "data": {
      "text/plain": [
       "0    14107\n",
       "1     4809\n",
       "2     2052\n",
       "3      330\n",
       "4       41\n",
       "5        9\n",
       "Name: children, dtype: int64"
      ]
     },
     "execution_count": 17,
     "metadata": {},
     "output_type": "execute_result"
    }
   ],
   "source": [
    "# проверим отсутствие устраненных аномалий\n",
    "data['children'].value_counts()"
   ]
  },
  {
   "cell_type": "markdown",
   "id": "72e8b21d",
   "metadata": {},
   "source": [
    "### Проверка данных \"Возраст клиента\""
   ]
  },
  {
   "cell_type": "markdown",
   "id": "954e0c33",
   "metadata": {},
   "source": [
    "Просмотрим список значений по списку возраст:"
   ]
  },
  {
   "cell_type": "code",
   "execution_count": 18,
   "id": "b30148f4",
   "metadata": {},
   "outputs": [
    {
     "data": {
      "text/plain": [
       "<AxesSubplot:>"
      ]
     },
     "execution_count": 18,
     "metadata": {},
     "output_type": "execute_result"
    },
    {
     "data": {
      "image/png": "[encoded data removed]",
      "text/plain": [
       "<Figure size 432x288 with 1 Axes>"
      ]
     },
     "metadata": {
      "needs_background": "light"
     },
     "output_type": "display_data"
    }
   ],
   "source": [
    "data['dob_years'].hist(bins = 'auto')"
   ]
  },
  {
   "cell_type": "markdown",
   "id": "f5613582",
   "metadata": {},
   "source": [
    "Имеется нулевое значение возраста. Проверим их количество"
   ]
  },
  {
   "cell_type": "code",
   "execution_count": 19,
   "id": "23955ce5",
   "metadata": {},
   "outputs": [
    {
     "data": {
      "text/plain": [
       "100"
      ]
     },
     "execution_count": 19,
     "metadata": {},
     "output_type": "execute_result"
    }
   ],
   "source": [
    "data[data['dob_years'] == 0]['dob_years'].count()"
   ]
  },
  {
   "cell_type": "markdown",
   "id": "3a383340",
   "metadata": {},
   "source": [
    "Обнаружили нулевые значения возраста \n",
    "> ***ЗАМЕТКА №1*** Заменить нулевые значения на медиану после исключения дубликатов. Так будет правильнее.\n",
    "Далее проверим стаж работы. К возрасту еще вернемся.\n"
   ]
  },
  {
   "cell_type": "markdown",
   "id": "7ac6a9e6",
   "metadata": {},
   "source": [
    "### Проверка данных \"Стаж работы\""
   ]
  },
  {
   "cell_type": "code",
   "execution_count": 20,
   "id": "016a34fa",
   "metadata": {},
   "outputs": [
    {
     "data": {
      "text/plain": [
       "0     -8437.673028\n",
       "1     -4024.803754\n",
       "2     -5623.422610\n",
       "3     -4124.747207\n",
       "4    340266.072047\n",
       "Name: days_employed, dtype: float64"
      ]
     },
     "execution_count": 20,
     "metadata": {},
     "output_type": "execute_result"
    }
   ],
   "source": [
    "data['days_employed'].head()"
   ]
  },
  {
   "cell_type": "markdown",
   "id": "fbb4fa2a",
   "metadata": {},
   "source": [
    "Как ранее заметили, имеются отрицательные значения в столбце стаж. Посчитаем количество отрицательных значений по столбцу \"стаж\""
   ]
  },
  {
   "cell_type": "code",
   "execution_count": 21,
   "id": "89ac480c",
   "metadata": {},
   "outputs": [
    {
     "data": {
      "text/plain": [
       "15809"
      ]
     },
     "execution_count": 21,
     "metadata": {},
     "output_type": "execute_result"
    }
   ],
   "source": [
    "len(data[data['days_employed'] < 0])"
   ]
  },
  {
   "cell_type": "markdown",
   "id": "6c00a3d0",
   "metadata": {},
   "source": [
    "Отрицательных значений достаточно много. Скорее всего дефис перепутан с минусом.\n",
    "Заполним ячейки модулем значений."
   ]
  },
  {
   "cell_type": "code",
   "execution_count": 22,
   "id": "10f0710e",
   "metadata": {},
   "outputs": [
    {
     "data": {
      "text/plain": [
       "0"
      ]
     },
     "execution_count": 22,
     "metadata": {},
     "output_type": "execute_result"
    }
   ],
   "source": [
    "# переод всех значений стажа в положительное значение \n",
    "data['days_employed'] = abs(data['days_employed'])\n",
    "# проверка отсутствия отрицательных значений\n",
    "len(data[data['days_employed'] < 0])"
   ]
  },
  {
   "cell_type": "markdown",
   "id": "a2419068",
   "metadata": {},
   "source": [
    "Успешно заменили отрицательные значения на положительные. \n"
   ]
  },
  {
   "cell_type": "markdown",
   "id": "f4869a97",
   "metadata": {},
   "source": [
    "Проверим на наличие аномалий по длительности стажа по условию, что стаж не может превышать возраст. Но прежде стаж для удобства переведем в годы"
   ]
  },
  {
   "cell_type": "code",
   "execution_count": 23,
   "id": "6c0967c8",
   "metadata": {},
   "outputs": [
    {
     "data": {
      "text/html": [
       "<div>\n",
       "<style scoped>\n",
       "    .dataframe tbody tr th:only-of-type {\n",
       "        vertical-align: middle;\n",
       "    }\n",
       "\n",
       "    .dataframe tbody tr th {\n",
       "        vertical-align: top;\n",
       "    }\n",
       "\n",
       "    .dataframe thead th {\n",
       "        text-align: right;\n",
       "    }\n",
       "</style>\n",
       "<table border=\"1\" class=\"dataframe\">\n",
       "  <thead>\n",
       "    <tr style=\"text-align: right;\">\n",
       "      <th></th>\n",
       "      <th>children</th>\n",
       "      <th>years_employed</th>\n",
       "      <th>dob_years</th>\n",
       "      <th>education</th>\n",
       "      <th>education_id</th>\n",
       "      <th>family_status</th>\n",
       "      <th>family_status_id</th>\n",
       "      <th>gender</th>\n",
       "      <th>income_type</th>\n",
       "      <th>debt</th>\n",
       "      <th>total_income</th>\n",
       "      <th>purpose</th>\n",
       "    </tr>\n",
       "  </thead>\n",
       "  <tbody>\n",
       "    <tr>\n",
       "      <th>0</th>\n",
       "      <td>1</td>\n",
       "      <td>23.12</td>\n",
       "      <td>42</td>\n",
       "      <td>высшее</td>\n",
       "      <td>0</td>\n",
       "      <td>женат / замужем</td>\n",
       "      <td>0</td>\n",
       "      <td>F</td>\n",
       "      <td>сотрудник</td>\n",
       "      <td>0</td>\n",
       "      <td>253875.639453</td>\n",
       "      <td>покупка жилья</td>\n",
       "    </tr>\n",
       "    <tr>\n",
       "      <th>1</th>\n",
       "      <td>1</td>\n",
       "      <td>11.03</td>\n",
       "      <td>36</td>\n",
       "      <td>среднее</td>\n",
       "      <td>1</td>\n",
       "      <td>женат / замужем</td>\n",
       "      <td>0</td>\n",
       "      <td>F</td>\n",
       "      <td>сотрудник</td>\n",
       "      <td>0</td>\n",
       "      <td>112080.014102</td>\n",
       "      <td>приобретение автомобиля</td>\n",
       "    </tr>\n",
       "    <tr>\n",
       "      <th>2</th>\n",
       "      <td>0</td>\n",
       "      <td>15.41</td>\n",
       "      <td>33</td>\n",
       "      <td>Среднее</td>\n",
       "      <td>1</td>\n",
       "      <td>женат / замужем</td>\n",
       "      <td>0</td>\n",
       "      <td>M</td>\n",
       "      <td>сотрудник</td>\n",
       "      <td>0</td>\n",
       "      <td>145885.952297</td>\n",
       "      <td>покупка жилья</td>\n",
       "    </tr>\n",
       "    <tr>\n",
       "      <th>3</th>\n",
       "      <td>3</td>\n",
       "      <td>11.30</td>\n",
       "      <td>32</td>\n",
       "      <td>среднее</td>\n",
       "      <td>1</td>\n",
       "      <td>женат / замужем</td>\n",
       "      <td>0</td>\n",
       "      <td>M</td>\n",
       "      <td>сотрудник</td>\n",
       "      <td>0</td>\n",
       "      <td>267628.550329</td>\n",
       "      <td>дополнительное образование</td>\n",
       "    </tr>\n",
       "    <tr>\n",
       "      <th>4</th>\n",
       "      <td>0</td>\n",
       "      <td>932.24</td>\n",
       "      <td>53</td>\n",
       "      <td>среднее</td>\n",
       "      <td>1</td>\n",
       "      <td>гражданский брак</td>\n",
       "      <td>1</td>\n",
       "      <td>F</td>\n",
       "      <td>пенсионер</td>\n",
       "      <td>0</td>\n",
       "      <td>158616.077870</td>\n",
       "      <td>сыграть свадьбу</td>\n",
       "    </tr>\n",
       "  </tbody>\n",
       "</table>\n",
       "</div>"
      ],
      "text/plain": [
       "   children  years_employed  dob_years education  education_id  \\\n",
       "0         1           23.12         42    высшее             0   \n",
       "1         1           11.03         36   среднее             1   \n",
       "2         0           15.41         33   Среднее             1   \n",
       "3         3           11.30         32   среднее             1   \n",
       "4         0          932.24         53   среднее             1   \n",
       "\n",
       "      family_status  family_status_id gender income_type  debt   total_income  \\\n",
       "0   женат / замужем                 0      F   сотрудник     0  253875.639453   \n",
       "1   женат / замужем                 0      F   сотрудник     0  112080.014102   \n",
       "2   женат / замужем                 0      M   сотрудник     0  145885.952297   \n",
       "3   женат / замужем                 0      M   сотрудник     0  267628.550329   \n",
       "4  гражданский брак                 1      F   пенсионер     0  158616.077870   \n",
       "\n",
       "                      purpose  \n",
       "0               покупка жилья  \n",
       "1     приобретение автомобиля  \n",
       "2               покупка жилья  \n",
       "3  дополнительное образование  \n",
       "4             сыграть свадьбу  "
      ]
     },
     "execution_count": 23,
     "metadata": {},
     "output_type": "execute_result"
    }
   ],
   "source": [
    "# Добавление столбца стажа в годах\n",
    "years_employed_data = round(data['days_employed'] / 365, 2)\n",
    "data.insert(2, 'years_employed', years_employed_data, False)\n",
    "\n",
    "# Удаление столбца стажа в днях\n",
    "del data['days_employed']\n",
    "data.head()"
   ]
  },
  {
   "cell_type": "code",
   "execution_count": 24,
   "id": "82e58e27",
   "metadata": {},
   "outputs": [
    {
     "data": {
      "text/html": [
       "<div>\n",
       "<style scoped>\n",
       "    .dataframe tbody tr th:only-of-type {\n",
       "        vertical-align: middle;\n",
       "    }\n",
       "\n",
       "    .dataframe tbody tr th {\n",
       "        vertical-align: top;\n",
       "    }\n",
       "\n",
       "    .dataframe thead th {\n",
       "        text-align: right;\n",
       "    }\n",
       "</style>\n",
       "<table border=\"1\" class=\"dataframe\">\n",
       "  <thead>\n",
       "    <tr style=\"text-align: right;\">\n",
       "      <th></th>\n",
       "      <th>children</th>\n",
       "      <th>years_employed</th>\n",
       "      <th>dob_years</th>\n",
       "      <th>education</th>\n",
       "      <th>education_id</th>\n",
       "      <th>family_status</th>\n",
       "      <th>family_status_id</th>\n",
       "      <th>gender</th>\n",
       "      <th>income_type</th>\n",
       "      <th>debt</th>\n",
       "      <th>total_income</th>\n",
       "      <th>purpose</th>\n",
       "    </tr>\n",
       "  </thead>\n",
       "  <tbody>\n",
       "    <tr>\n",
       "      <th>4</th>\n",
       "      <td>0</td>\n",
       "      <td>932.24</td>\n",
       "      <td>53</td>\n",
       "      <td>среднее</td>\n",
       "      <td>1</td>\n",
       "      <td>гражданский брак</td>\n",
       "      <td>1</td>\n",
       "      <td>F</td>\n",
       "      <td>пенсионер</td>\n",
       "      <td>0</td>\n",
       "      <td>158616.077870</td>\n",
       "      <td>сыграть свадьбу</td>\n",
       "    </tr>\n",
       "    <tr>\n",
       "      <th>18</th>\n",
       "      <td>0</td>\n",
       "      <td>1096.66</td>\n",
       "      <td>53</td>\n",
       "      <td>среднее</td>\n",
       "      <td>1</td>\n",
       "      <td>вдовец / вдова</td>\n",
       "      <td>2</td>\n",
       "      <td>F</td>\n",
       "      <td>пенсионер</td>\n",
       "      <td>0</td>\n",
       "      <td>56823.777243</td>\n",
       "      <td>на покупку подержанного автомобиля</td>\n",
       "    </tr>\n",
       "    <tr>\n",
       "      <th>24</th>\n",
       "      <td>1</td>\n",
       "      <td>927.54</td>\n",
       "      <td>57</td>\n",
       "      <td>среднее</td>\n",
       "      <td>1</td>\n",
       "      <td>Не женат / не замужем</td>\n",
       "      <td>4</td>\n",
       "      <td>F</td>\n",
       "      <td>пенсионер</td>\n",
       "      <td>0</td>\n",
       "      <td>290547.235997</td>\n",
       "      <td>операции с коммерческой недвижимостью</td>\n",
       "    </tr>\n",
       "    <tr>\n",
       "      <th>25</th>\n",
       "      <td>0</td>\n",
       "      <td>996.02</td>\n",
       "      <td>67</td>\n",
       "      <td>среднее</td>\n",
       "      <td>1</td>\n",
       "      <td>женат / замужем</td>\n",
       "      <td>0</td>\n",
       "      <td>M</td>\n",
       "      <td>пенсионер</td>\n",
       "      <td>0</td>\n",
       "      <td>55112.757732</td>\n",
       "      <td>покупка недвижимости</td>\n",
       "    </tr>\n",
       "    <tr>\n",
       "      <th>30</th>\n",
       "      <td>1</td>\n",
       "      <td>919.40</td>\n",
       "      <td>62</td>\n",
       "      <td>среднее</td>\n",
       "      <td>1</td>\n",
       "      <td>женат / замужем</td>\n",
       "      <td>0</td>\n",
       "      <td>F</td>\n",
       "      <td>пенсионер</td>\n",
       "      <td>0</td>\n",
       "      <td>171456.067993</td>\n",
       "      <td>операции с коммерческой недвижимостью</td>\n",
       "    </tr>\n",
       "  </tbody>\n",
       "</table>\n",
       "</div>"
      ],
      "text/plain": [
       "    children  years_employed  dob_years education  education_id  \\\n",
       "4          0          932.24         53   среднее             1   \n",
       "18         0         1096.66         53   среднее             1   \n",
       "24         1          927.54         57   среднее             1   \n",
       "25         0          996.02         67   среднее             1   \n",
       "30         1          919.40         62   среднее             1   \n",
       "\n",
       "            family_status  family_status_id gender income_type  debt  \\\n",
       "4        гражданский брак                 1      F   пенсионер     0   \n",
       "18         вдовец / вдова                 2      F   пенсионер     0   \n",
       "24  Не женат / не замужем                 4      F   пенсионер     0   \n",
       "25        женат / замужем                 0      M   пенсионер     0   \n",
       "30        женат / замужем                 0      F   пенсионер     0   \n",
       "\n",
       "     total_income                                purpose  \n",
       "4   158616.077870                        сыграть свадьбу  \n",
       "18   56823.777243     на покупку подержанного автомобиля  \n",
       "24  290547.235997  операции с коммерческой недвижимостью  \n",
       "25   55112.757732                   покупка недвижимости  \n",
       "30  171456.067993  операции с коммерческой недвижимостью  "
      ]
     },
     "execution_count": 24,
     "metadata": {},
     "output_type": "execute_result"
    }
   ],
   "source": [
    "# проверка аномалий по превышению возраста стажом\n",
    "data[data['years_employed'] >= data['dob_years']].head()"
   ]
  },
  {
   "cell_type": "markdown",
   "id": "05e50df9",
   "metadata": {},
   "source": [
    "Кого собой представляют клиенты с аномалией по стажу?"
   ]
  },
  {
   "cell_type": "code",
   "execution_count": 25,
   "id": "2df3d818",
   "metadata": {},
   "outputs": [
    {
     "data": {
      "text/plain": [
       "пенсионер      3429\n",
       "сотрудник        49\n",
       "компаньон        18\n",
       "госслужащий       6\n",
       "безработный       2\n",
       "Name: income_type, dtype: int64"
      ]
     },
     "execution_count": 25,
     "metadata": {},
     "output_type": "execute_result"
    }
   ],
   "source": [
    "data[data['years_employed'] >= data['dob_years']]['income_type'].value_counts()"
   ]
  },
  {
   "cell_type": "markdown",
   "id": "3f7c6973",
   "metadata": {},
   "source": [
    "У 3,5 тысячам кредитов аномалия по стажу работы (превышают их возраст). \n",
    "\n",
    "Кто они? Большинсто заемщиков с аномальным стажем это пенсионеры.\n",
    "\n",
    "Можно заменить аномалии медианой всей выборки, однако это скорее будет неверно, так как у большинства пенсионеров стаж может быть приостановлен. Правильнее было бы провести расчет привязываясь к возрасту выхода на пенсию по гендеру и к возрасту окончания образования. Однако не факт, что на протяжении всего этого периода люди работали.\n",
    "\n",
    "Стоит отметить, что заказчика не интересует исследование влияния стажа на возврат кредита в срок. Поэтому к вопросу можно будет вернуться позже. Например, после уточнения источника данных и установления корневых причин данной аномалии. \n",
    "\n",
    "Поэтому на сей раз, приведем в порядок столбец со стажем \"для галочки\". Не более. \n",
    "\n",
    ">  ***Заметка №2*** Предлагаю заменить пустыми значениями, а после удаления неявных дубликатов, заменить их на медиану."
   ]
  },
  {
   "cell_type": "code",
   "execution_count": 26,
   "id": "f9c03601",
   "metadata": {},
   "outputs": [
    {
     "data": {
      "text/html": [
       "<div>\n",
       "<style scoped>\n",
       "    .dataframe tbody tr th:only-of-type {\n",
       "        vertical-align: middle;\n",
       "    }\n",
       "\n",
       "    .dataframe tbody tr th {\n",
       "        vertical-align: top;\n",
       "    }\n",
       "\n",
       "    .dataframe thead th {\n",
       "        text-align: right;\n",
       "    }\n",
       "</style>\n",
       "<table border=\"1\" class=\"dataframe\">\n",
       "  <thead>\n",
       "    <tr style=\"text-align: right;\">\n",
       "      <th></th>\n",
       "      <th>children</th>\n",
       "      <th>years_employed</th>\n",
       "      <th>dob_years</th>\n",
       "      <th>education</th>\n",
       "      <th>education_id</th>\n",
       "      <th>family_status</th>\n",
       "      <th>family_status_id</th>\n",
       "      <th>gender</th>\n",
       "      <th>income_type</th>\n",
       "      <th>debt</th>\n",
       "      <th>total_income</th>\n",
       "      <th>purpose</th>\n",
       "    </tr>\n",
       "  </thead>\n",
       "  <tbody>\n",
       "    <tr>\n",
       "      <th>0</th>\n",
       "      <td>1</td>\n",
       "      <td>23.12</td>\n",
       "      <td>42</td>\n",
       "      <td>высшее</td>\n",
       "      <td>0</td>\n",
       "      <td>женат / замужем</td>\n",
       "      <td>0</td>\n",
       "      <td>F</td>\n",
       "      <td>сотрудник</td>\n",
       "      <td>0</td>\n",
       "      <td>253875.639453</td>\n",
       "      <td>покупка жилья</td>\n",
       "    </tr>\n",
       "    <tr>\n",
       "      <th>1</th>\n",
       "      <td>1</td>\n",
       "      <td>11.03</td>\n",
       "      <td>36</td>\n",
       "      <td>среднее</td>\n",
       "      <td>1</td>\n",
       "      <td>женат / замужем</td>\n",
       "      <td>0</td>\n",
       "      <td>F</td>\n",
       "      <td>сотрудник</td>\n",
       "      <td>0</td>\n",
       "      <td>112080.014102</td>\n",
       "      <td>приобретение автомобиля</td>\n",
       "    </tr>\n",
       "    <tr>\n",
       "      <th>2</th>\n",
       "      <td>0</td>\n",
       "      <td>15.41</td>\n",
       "      <td>33</td>\n",
       "      <td>Среднее</td>\n",
       "      <td>1</td>\n",
       "      <td>женат / замужем</td>\n",
       "      <td>0</td>\n",
       "      <td>M</td>\n",
       "      <td>сотрудник</td>\n",
       "      <td>0</td>\n",
       "      <td>145885.952297</td>\n",
       "      <td>покупка жилья</td>\n",
       "    </tr>\n",
       "    <tr>\n",
       "      <th>3</th>\n",
       "      <td>3</td>\n",
       "      <td>11.30</td>\n",
       "      <td>32</td>\n",
       "      <td>среднее</td>\n",
       "      <td>1</td>\n",
       "      <td>женат / замужем</td>\n",
       "      <td>0</td>\n",
       "      <td>M</td>\n",
       "      <td>сотрудник</td>\n",
       "      <td>0</td>\n",
       "      <td>267628.550329</td>\n",
       "      <td>дополнительное образование</td>\n",
       "    </tr>\n",
       "    <tr>\n",
       "      <th>4</th>\n",
       "      <td>0</td>\n",
       "      <td>NaN</td>\n",
       "      <td>53</td>\n",
       "      <td>среднее</td>\n",
       "      <td>1</td>\n",
       "      <td>гражданский брак</td>\n",
       "      <td>1</td>\n",
       "      <td>F</td>\n",
       "      <td>пенсионер</td>\n",
       "      <td>0</td>\n",
       "      <td>158616.077870</td>\n",
       "      <td>сыграть свадьбу</td>\n",
       "    </tr>\n",
       "  </tbody>\n",
       "</table>\n",
       "</div>"
      ],
      "text/plain": [
       "   children  years_employed  dob_years education  education_id  \\\n",
       "0         1           23.12         42    высшее             0   \n",
       "1         1           11.03         36   среднее             1   \n",
       "2         0           15.41         33   Среднее             1   \n",
       "3         3           11.30         32   среднее             1   \n",
       "4         0             NaN         53   среднее             1   \n",
       "\n",
       "      family_status  family_status_id gender income_type  debt   total_income  \\\n",
       "0   женат / замужем                 0      F   сотрудник     0  253875.639453   \n",
       "1   женат / замужем                 0      F   сотрудник     0  112080.014102   \n",
       "2   женат / замужем                 0      M   сотрудник     0  145885.952297   \n",
       "3   женат / замужем                 0      M   сотрудник     0  267628.550329   \n",
       "4  гражданский брак                 1      F   пенсионер     0  158616.077870   \n",
       "\n",
       "                      purpose  \n",
       "0               покупка жилья  \n",
       "1     приобретение автомобиля  \n",
       "2               покупка жилья  \n",
       "3  дополнительное образование  \n",
       "4             сыграть свадьбу  "
      ]
     },
     "execution_count": 26,
     "metadata": {},
     "output_type": "execute_result"
    }
   ],
   "source": [
    "data.loc[data['years_employed'] >= data['dob_years'], 'years_employed'] = None \n",
    "data.head()"
   ]
  },
  {
   "cell_type": "markdown",
   "id": "f6eb2517",
   "metadata": {},
   "source": [
    "### Проверка данных \"Образование\""
   ]
  },
  {
   "cell_type": "code",
   "execution_count": 27,
   "id": "f0ec0327",
   "metadata": {},
   "outputs": [
    {
     "data": {
      "text/html": [
       "<div>\n",
       "<style scoped>\n",
       "    .dataframe tbody tr th:only-of-type {\n",
       "        vertical-align: middle;\n",
       "    }\n",
       "\n",
       "    .dataframe tbody tr th {\n",
       "        vertical-align: top;\n",
       "    }\n",
       "\n",
       "    .dataframe thead th {\n",
       "        text-align: right;\n",
       "    }\n",
       "</style>\n",
       "<table border=\"1\" class=\"dataframe\">\n",
       "  <thead>\n",
       "    <tr style=\"text-align: right;\">\n",
       "      <th></th>\n",
       "      <th></th>\n",
       "      <th>education_id</th>\n",
       "    </tr>\n",
       "    <tr>\n",
       "      <th>education</th>\n",
       "      <th>education_id</th>\n",
       "      <th></th>\n",
       "    </tr>\n",
       "  </thead>\n",
       "  <tbody>\n",
       "    <tr>\n",
       "      <th>ВЫСШЕЕ</th>\n",
       "      <th>0</th>\n",
       "      <td>270</td>\n",
       "    </tr>\n",
       "    <tr>\n",
       "      <th>Высшее</th>\n",
       "      <th>0</th>\n",
       "      <td>268</td>\n",
       "    </tr>\n",
       "    <tr>\n",
       "      <th>НАЧАЛЬНОЕ</th>\n",
       "      <th>3</th>\n",
       "      <td>17</td>\n",
       "    </tr>\n",
       "    <tr>\n",
       "      <th>НЕОКОНЧЕННОЕ ВЫСШЕЕ</th>\n",
       "      <th>2</th>\n",
       "      <td>29</td>\n",
       "    </tr>\n",
       "    <tr>\n",
       "      <th>Начальное</th>\n",
       "      <th>3</th>\n",
       "      <td>15</td>\n",
       "    </tr>\n",
       "    <tr>\n",
       "      <th>Неоконченное высшее</th>\n",
       "      <th>2</th>\n",
       "      <td>47</td>\n",
       "    </tr>\n",
       "    <tr>\n",
       "      <th>СРЕДНЕЕ</th>\n",
       "      <th>1</th>\n",
       "      <td>766</td>\n",
       "    </tr>\n",
       "    <tr>\n",
       "      <th>Среднее</th>\n",
       "      <th>1</th>\n",
       "      <td>703</td>\n",
       "    </tr>\n",
       "    <tr>\n",
       "      <th>УЧЕНАЯ СТЕПЕНЬ</th>\n",
       "      <th>4</th>\n",
       "      <td>1</td>\n",
       "    </tr>\n",
       "    <tr>\n",
       "      <th>Ученая степень</th>\n",
       "      <th>4</th>\n",
       "      <td>1</td>\n",
       "    </tr>\n",
       "    <tr>\n",
       "      <th>высшее</th>\n",
       "      <th>0</th>\n",
       "      <td>4690</td>\n",
       "    </tr>\n",
       "    <tr>\n",
       "      <th>начальное</th>\n",
       "      <th>3</th>\n",
       "      <td>250</td>\n",
       "    </tr>\n",
       "    <tr>\n",
       "      <th>неоконченное высшее</th>\n",
       "      <th>2</th>\n",
       "      <td>665</td>\n",
       "    </tr>\n",
       "    <tr>\n",
       "      <th>среднее</th>\n",
       "      <th>1</th>\n",
       "      <td>13622</td>\n",
       "    </tr>\n",
       "    <tr>\n",
       "      <th>ученая степень</th>\n",
       "      <th>4</th>\n",
       "      <td>4</td>\n",
       "    </tr>\n",
       "  </tbody>\n",
       "</table>\n",
       "</div>"
      ],
      "text/plain": [
       "                                  education_id\n",
       "education           education_id              \n",
       "ВЫСШЕЕ              0                      270\n",
       "Высшее              0                      268\n",
       "НАЧАЛЬНОЕ           3                       17\n",
       "НЕОКОНЧЕННОЕ ВЫСШЕЕ 2                       29\n",
       "Начальное           3                       15\n",
       "Неоконченное высшее 2                       47\n",
       "СРЕДНЕЕ             1                      766\n",
       "Среднее             1                      703\n",
       "УЧЕНАЯ СТЕПЕНЬ      4                        1\n",
       "Ученая степень      4                        1\n",
       "высшее              0                     4690\n",
       "начальное           3                      250\n",
       "неоконченное высшее 2                      665\n",
       "среднее             1                    13622\n",
       "ученая степень      4                        4"
      ]
     },
     "execution_count": 27,
     "metadata": {},
     "output_type": "execute_result"
    }
   ],
   "source": [
    "data.groupby(['education','education_id']).agg({'education_id':'count'})"
   ]
  },
  {
   "cell_type": "markdown",
   "id": "15d2a835",
   "metadata": {},
   "source": [
    "Можем ограничиться приведением в нижний регистр"
   ]
  },
  {
   "cell_type": "code",
   "execution_count": 28,
   "id": "dd012485",
   "metadata": {},
   "outputs": [
    {
     "data": {
      "text/html": [
       "<div>\n",
       "<style scoped>\n",
       "    .dataframe tbody tr th:only-of-type {\n",
       "        vertical-align: middle;\n",
       "    }\n",
       "\n",
       "    .dataframe tbody tr th {\n",
       "        vertical-align: top;\n",
       "    }\n",
       "\n",
       "    .dataframe thead th {\n",
       "        text-align: right;\n",
       "    }\n",
       "</style>\n",
       "<table border=\"1\" class=\"dataframe\">\n",
       "  <thead>\n",
       "    <tr style=\"text-align: right;\">\n",
       "      <th></th>\n",
       "      <th></th>\n",
       "      <th>education_id</th>\n",
       "    </tr>\n",
       "    <tr>\n",
       "      <th>education</th>\n",
       "      <th>education_id</th>\n",
       "      <th></th>\n",
       "    </tr>\n",
       "  </thead>\n",
       "  <tbody>\n",
       "    <tr>\n",
       "      <th>высшее</th>\n",
       "      <th>0</th>\n",
       "      <td>5228</td>\n",
       "    </tr>\n",
       "    <tr>\n",
       "      <th>начальное</th>\n",
       "      <th>3</th>\n",
       "      <td>282</td>\n",
       "    </tr>\n",
       "    <tr>\n",
       "      <th>неоконченное высшее</th>\n",
       "      <th>2</th>\n",
       "      <td>741</td>\n",
       "    </tr>\n",
       "    <tr>\n",
       "      <th>среднее</th>\n",
       "      <th>1</th>\n",
       "      <td>15091</td>\n",
       "    </tr>\n",
       "    <tr>\n",
       "      <th>ученая степень</th>\n",
       "      <th>4</th>\n",
       "      <td>6</td>\n",
       "    </tr>\n",
       "  </tbody>\n",
       "</table>\n",
       "</div>"
      ],
      "text/plain": [
       "                                  education_id\n",
       "education           education_id              \n",
       "высшее              0                     5228\n",
       "начальное           3                      282\n",
       "неоконченное высшее 2                      741\n",
       "среднее             1                    15091\n",
       "ученая степень      4                        6"
      ]
     },
     "execution_count": 28,
     "metadata": {},
     "output_type": "execute_result"
    }
   ],
   "source": [
    "data['education'] = data['education'].str.lower()\n",
    "data.groupby(['education','education_id']).agg({'education_id':'count'})"
   ]
  },
  {
   "cell_type": "markdown",
   "id": "6eae5605",
   "metadata": {},
   "source": [
    "<div class=\"alert alert-block alert-success\">\n",
    "<b>Успех:</b> Здорово, что используешь строковые методы, это полезный инструмент.\n",
    "</div>"
   ]
  },
  {
   "cell_type": "markdown",
   "id": "e33baa36",
   "metadata": {},
   "source": [
    "id присвоены корректно\n",
    "\n",
    "Создадим новый датафрейм по образованию и оставим в основном датафрейме только id"
   ]
  },
  {
   "cell_type": "code",
   "execution_count": 29,
   "id": "0e68497a",
   "metadata": {},
   "outputs": [
    {
     "data": {
      "text/html": [
       "<div>\n",
       "<style scoped>\n",
       "    .dataframe tbody tr th:only-of-type {\n",
       "        vertical-align: middle;\n",
       "    }\n",
       "\n",
       "    .dataframe tbody tr th {\n",
       "        vertical-align: top;\n",
       "    }\n",
       "\n",
       "    .dataframe thead th {\n",
       "        text-align: right;\n",
       "    }\n",
       "</style>\n",
       "<table border=\"1\" class=\"dataframe\">\n",
       "  <thead>\n",
       "    <tr style=\"text-align: right;\">\n",
       "      <th></th>\n",
       "      <th>education_id</th>\n",
       "      <th>education</th>\n",
       "    </tr>\n",
       "  </thead>\n",
       "  <tbody>\n",
       "    <tr>\n",
       "      <th>0</th>\n",
       "      <td>0</td>\n",
       "      <td>высшее</td>\n",
       "    </tr>\n",
       "    <tr>\n",
       "      <th>1</th>\n",
       "      <td>1</td>\n",
       "      <td>среднее</td>\n",
       "    </tr>\n",
       "    <tr>\n",
       "      <th>2</th>\n",
       "      <td>2</td>\n",
       "      <td>неоконченное высшее</td>\n",
       "    </tr>\n",
       "    <tr>\n",
       "      <th>3</th>\n",
       "      <td>3</td>\n",
       "      <td>начальное</td>\n",
       "    </tr>\n",
       "    <tr>\n",
       "      <th>4</th>\n",
       "      <td>4</td>\n",
       "      <td>ученая степень</td>\n",
       "    </tr>\n",
       "  </tbody>\n",
       "</table>\n",
       "</div>"
      ],
      "text/plain": [
       "   education_id            education\n",
       "0             0               высшее\n",
       "1             1              среднее\n",
       "2             2  неоконченное высшее\n",
       "3             3            начальное\n",
       "4             4       ученая степень"
      ]
     },
     "execution_count": 29,
     "metadata": {},
     "output_type": "execute_result"
    }
   ],
   "source": [
    "education_data = pd.DataFrame(data = [\n",
    "                                  [0, 'высшее'], \n",
    "                                  [1, 'среднее'], \n",
    "                                  [2, 'неоконченное высшее'],\n",
    "                                  [3, 'начальное'], \n",
    "                                  [4, 'ученая степень']],\n",
    "                                   columns = ['education_id', 'education'])\n",
    "education_data"
   ]
  },
  {
   "cell_type": "code",
   "execution_count": 30,
   "id": "eb40fc3c",
   "metadata": {
    "scrolled": true
   },
   "outputs": [
    {
     "data": {
      "text/html": [
       "<div>\n",
       "<style scoped>\n",
       "    .dataframe tbody tr th:only-of-type {\n",
       "        vertical-align: middle;\n",
       "    }\n",
       "\n",
       "    .dataframe tbody tr th {\n",
       "        vertical-align: top;\n",
       "    }\n",
       "\n",
       "    .dataframe thead th {\n",
       "        text-align: right;\n",
       "    }\n",
       "</style>\n",
       "<table border=\"1\" class=\"dataframe\">\n",
       "  <thead>\n",
       "    <tr style=\"text-align: right;\">\n",
       "      <th></th>\n",
       "      <th>children</th>\n",
       "      <th>years_employed</th>\n",
       "      <th>dob_years</th>\n",
       "      <th>education_id</th>\n",
       "      <th>family_status</th>\n",
       "      <th>family_status_id</th>\n",
       "      <th>gender</th>\n",
       "      <th>income_type</th>\n",
       "      <th>debt</th>\n",
       "      <th>total_income</th>\n",
       "      <th>purpose</th>\n",
       "    </tr>\n",
       "  </thead>\n",
       "  <tbody>\n",
       "    <tr>\n",
       "      <th>0</th>\n",
       "      <td>1</td>\n",
       "      <td>23.12</td>\n",
       "      <td>42</td>\n",
       "      <td>0</td>\n",
       "      <td>женат / замужем</td>\n",
       "      <td>0</td>\n",
       "      <td>F</td>\n",
       "      <td>сотрудник</td>\n",
       "      <td>0</td>\n",
       "      <td>253875.639453</td>\n",
       "      <td>покупка жилья</td>\n",
       "    </tr>\n",
       "    <tr>\n",
       "      <th>1</th>\n",
       "      <td>1</td>\n",
       "      <td>11.03</td>\n",
       "      <td>36</td>\n",
       "      <td>1</td>\n",
       "      <td>женат / замужем</td>\n",
       "      <td>0</td>\n",
       "      <td>F</td>\n",
       "      <td>сотрудник</td>\n",
       "      <td>0</td>\n",
       "      <td>112080.014102</td>\n",
       "      <td>приобретение автомобиля</td>\n",
       "    </tr>\n",
       "    <tr>\n",
       "      <th>2</th>\n",
       "      <td>0</td>\n",
       "      <td>15.41</td>\n",
       "      <td>33</td>\n",
       "      <td>1</td>\n",
       "      <td>женат / замужем</td>\n",
       "      <td>0</td>\n",
       "      <td>M</td>\n",
       "      <td>сотрудник</td>\n",
       "      <td>0</td>\n",
       "      <td>145885.952297</td>\n",
       "      <td>покупка жилья</td>\n",
       "    </tr>\n",
       "    <tr>\n",
       "      <th>3</th>\n",
       "      <td>3</td>\n",
       "      <td>11.30</td>\n",
       "      <td>32</td>\n",
       "      <td>1</td>\n",
       "      <td>женат / замужем</td>\n",
       "      <td>0</td>\n",
       "      <td>M</td>\n",
       "      <td>сотрудник</td>\n",
       "      <td>0</td>\n",
       "      <td>267628.550329</td>\n",
       "      <td>дополнительное образование</td>\n",
       "    </tr>\n",
       "    <tr>\n",
       "      <th>4</th>\n",
       "      <td>0</td>\n",
       "      <td>NaN</td>\n",
       "      <td>53</td>\n",
       "      <td>1</td>\n",
       "      <td>гражданский брак</td>\n",
       "      <td>1</td>\n",
       "      <td>F</td>\n",
       "      <td>пенсионер</td>\n",
       "      <td>0</td>\n",
       "      <td>158616.077870</td>\n",
       "      <td>сыграть свадьбу</td>\n",
       "    </tr>\n",
       "  </tbody>\n",
       "</table>\n",
       "</div>"
      ],
      "text/plain": [
       "   children  years_employed  dob_years  education_id     family_status  \\\n",
       "0         1           23.12         42             0   женат / замужем   \n",
       "1         1           11.03         36             1   женат / замужем   \n",
       "2         0           15.41         33             1   женат / замужем   \n",
       "3         3           11.30         32             1   женат / замужем   \n",
       "4         0             NaN         53             1  гражданский брак   \n",
       "\n",
       "   family_status_id gender income_type  debt   total_income  \\\n",
       "0                 0      F   сотрудник     0  253875.639453   \n",
       "1                 0      F   сотрудник     0  112080.014102   \n",
       "2                 0      M   сотрудник     0  145885.952297   \n",
       "3                 0      M   сотрудник     0  267628.550329   \n",
       "4                 1      F   пенсионер     0  158616.077870   \n",
       "\n",
       "                      purpose  \n",
       "0               покупка жилья  \n",
       "1     приобретение автомобиля  \n",
       "2               покупка жилья  \n",
       "3  дополнительное образование  \n",
       "4             сыграть свадьбу  "
      ]
     },
     "execution_count": 30,
     "metadata": {},
     "output_type": "execute_result"
    }
   ],
   "source": [
    "del data['education']\n",
    "data.head()"
   ]
  },
  {
   "cell_type": "markdown",
   "id": "09f526f6",
   "metadata": {},
   "source": [
    "### Проверка данных \"Семейное положение\""
   ]
  },
  {
   "cell_type": "code",
   "execution_count": 31,
   "id": "67c8fb04",
   "metadata": {},
   "outputs": [
    {
     "data": {
      "text/html": [
       "<div>\n",
       "<style scoped>\n",
       "    .dataframe tbody tr th:only-of-type {\n",
       "        vertical-align: middle;\n",
       "    }\n",
       "\n",
       "    .dataframe tbody tr th {\n",
       "        vertical-align: top;\n",
       "    }\n",
       "\n",
       "    .dataframe thead th {\n",
       "        text-align: right;\n",
       "    }\n",
       "</style>\n",
       "<table border=\"1\" class=\"dataframe\">\n",
       "  <thead>\n",
       "    <tr style=\"text-align: right;\">\n",
       "      <th></th>\n",
       "      <th></th>\n",
       "      <th>family_status_id</th>\n",
       "    </tr>\n",
       "    <tr>\n",
       "      <th>family_status</th>\n",
       "      <th>family_status_id</th>\n",
       "      <th></th>\n",
       "    </tr>\n",
       "  </thead>\n",
       "  <tbody>\n",
       "    <tr>\n",
       "      <th>Не женат / не замужем</th>\n",
       "      <th>4</th>\n",
       "      <td>2796</td>\n",
       "    </tr>\n",
       "    <tr>\n",
       "      <th>в разводе</th>\n",
       "      <th>3</th>\n",
       "      <td>1189</td>\n",
       "    </tr>\n",
       "    <tr>\n",
       "      <th>вдовец / вдова</th>\n",
       "      <th>2</th>\n",
       "      <td>951</td>\n",
       "    </tr>\n",
       "    <tr>\n",
       "      <th>гражданский брак</th>\n",
       "      <th>1</th>\n",
       "      <td>4146</td>\n",
       "    </tr>\n",
       "    <tr>\n",
       "      <th>женат / замужем</th>\n",
       "      <th>0</th>\n",
       "      <td>12266</td>\n",
       "    </tr>\n",
       "  </tbody>\n",
       "</table>\n",
       "</div>"
      ],
      "text/plain": [
       "                                        family_status_id\n",
       "family_status         family_status_id                  \n",
       "Не женат / не замужем 4                             2796\n",
       "в разводе             3                             1189\n",
       "вдовец / вдова        2                              951\n",
       "гражданский брак      1                             4146\n",
       "женат / замужем       0                            12266"
      ]
     },
     "execution_count": 31,
     "metadata": {},
     "output_type": "execute_result"
    }
   ],
   "source": [
    "data.groupby(['family_status','family_status_id']).agg({'family_status_id':'count'})"
   ]
  },
  {
   "cell_type": "markdown",
   "id": "b1fe2a7d",
   "metadata": {},
   "source": [
    "id присвоены корректно\n",
    "\n",
    "Создадим новый датафрейм по семейному положению и оставим в основном датафрейме только id"
   ]
  },
  {
   "cell_type": "code",
   "execution_count": 32,
   "id": "8f57b764",
   "metadata": {},
   "outputs": [
    {
     "data": {
      "text/html": [
       "<div>\n",
       "<style scoped>\n",
       "    .dataframe tbody tr th:only-of-type {\n",
       "        vertical-align: middle;\n",
       "    }\n",
       "\n",
       "    .dataframe tbody tr th {\n",
       "        vertical-align: top;\n",
       "    }\n",
       "\n",
       "    .dataframe thead th {\n",
       "        text-align: right;\n",
       "    }\n",
       "</style>\n",
       "<table border=\"1\" class=\"dataframe\">\n",
       "  <thead>\n",
       "    <tr style=\"text-align: right;\">\n",
       "      <th></th>\n",
       "      <th>family_status_id</th>\n",
       "      <th>family_status</th>\n",
       "    </tr>\n",
       "  </thead>\n",
       "  <tbody>\n",
       "    <tr>\n",
       "      <th>0</th>\n",
       "      <td>0</td>\n",
       "      <td>женат / замужем</td>\n",
       "    </tr>\n",
       "    <tr>\n",
       "      <th>1</th>\n",
       "      <td>1</td>\n",
       "      <td>гражданский брак</td>\n",
       "    </tr>\n",
       "    <tr>\n",
       "      <th>2</th>\n",
       "      <td>2</td>\n",
       "      <td>вдовец / вдова</td>\n",
       "    </tr>\n",
       "    <tr>\n",
       "      <th>3</th>\n",
       "      <td>3</td>\n",
       "      <td>в разводе</td>\n",
       "    </tr>\n",
       "    <tr>\n",
       "      <th>4</th>\n",
       "      <td>4</td>\n",
       "      <td>Не женат / не замужем</td>\n",
       "    </tr>\n",
       "  </tbody>\n",
       "</table>\n",
       "</div>"
      ],
      "text/plain": [
       "   family_status_id          family_status\n",
       "0                 0        женат / замужем\n",
       "1                 1       гражданский брак\n",
       "2                 2         вдовец / вдова\n",
       "3                 3              в разводе\n",
       "4                 4  Не женат / не замужем"
      ]
     },
     "execution_count": 32,
     "metadata": {},
     "output_type": "execute_result"
    }
   ],
   "source": [
    "family_status_data = pd.DataFrame(data = [\n",
    "                                  [0, 'женат / замужем'], \n",
    "                                  [1, 'гражданский брак'], \n",
    "                                  [2, 'вдовец / вдова'],\n",
    "                                  [3, 'в разводе'], \n",
    "                                  [4, 'Не женат / не замужем']],\n",
    "                                   columns = ['family_status_id', 'family_status'])\n",
    "family_status_data"
   ]
  },
  {
   "cell_type": "code",
   "execution_count": 33,
   "id": "b5f48eda",
   "metadata": {},
   "outputs": [
    {
     "data": {
      "text/html": [
       "<div>\n",
       "<style scoped>\n",
       "    .dataframe tbody tr th:only-of-type {\n",
       "        vertical-align: middle;\n",
       "    }\n",
       "\n",
       "    .dataframe tbody tr th {\n",
       "        vertical-align: top;\n",
       "    }\n",
       "\n",
       "    .dataframe thead th {\n",
       "        text-align: right;\n",
       "    }\n",
       "</style>\n",
       "<table border=\"1\" class=\"dataframe\">\n",
       "  <thead>\n",
       "    <tr style=\"text-align: right;\">\n",
       "      <th></th>\n",
       "      <th>children</th>\n",
       "      <th>years_employed</th>\n",
       "      <th>dob_years</th>\n",
       "      <th>education_id</th>\n",
       "      <th>family_status_id</th>\n",
       "      <th>gender</th>\n",
       "      <th>income_type</th>\n",
       "      <th>debt</th>\n",
       "      <th>total_income</th>\n",
       "      <th>purpose</th>\n",
       "    </tr>\n",
       "  </thead>\n",
       "  <tbody>\n",
       "    <tr>\n",
       "      <th>0</th>\n",
       "      <td>1</td>\n",
       "      <td>23.12</td>\n",
       "      <td>42</td>\n",
       "      <td>0</td>\n",
       "      <td>0</td>\n",
       "      <td>F</td>\n",
       "      <td>сотрудник</td>\n",
       "      <td>0</td>\n",
       "      <td>253875.639453</td>\n",
       "      <td>покупка жилья</td>\n",
       "    </tr>\n",
       "    <tr>\n",
       "      <th>1</th>\n",
       "      <td>1</td>\n",
       "      <td>11.03</td>\n",
       "      <td>36</td>\n",
       "      <td>1</td>\n",
       "      <td>0</td>\n",
       "      <td>F</td>\n",
       "      <td>сотрудник</td>\n",
       "      <td>0</td>\n",
       "      <td>112080.014102</td>\n",
       "      <td>приобретение автомобиля</td>\n",
       "    </tr>\n",
       "    <tr>\n",
       "      <th>2</th>\n",
       "      <td>0</td>\n",
       "      <td>15.41</td>\n",
       "      <td>33</td>\n",
       "      <td>1</td>\n",
       "      <td>0</td>\n",
       "      <td>M</td>\n",
       "      <td>сотрудник</td>\n",
       "      <td>0</td>\n",
       "      <td>145885.952297</td>\n",
       "      <td>покупка жилья</td>\n",
       "    </tr>\n",
       "    <tr>\n",
       "      <th>3</th>\n",
       "      <td>3</td>\n",
       "      <td>11.30</td>\n",
       "      <td>32</td>\n",
       "      <td>1</td>\n",
       "      <td>0</td>\n",
       "      <td>M</td>\n",
       "      <td>сотрудник</td>\n",
       "      <td>0</td>\n",
       "      <td>267628.550329</td>\n",
       "      <td>дополнительное образование</td>\n",
       "    </tr>\n",
       "    <tr>\n",
       "      <th>4</th>\n",
       "      <td>0</td>\n",
       "      <td>NaN</td>\n",
       "      <td>53</td>\n",
       "      <td>1</td>\n",
       "      <td>1</td>\n",
       "      <td>F</td>\n",
       "      <td>пенсионер</td>\n",
       "      <td>0</td>\n",
       "      <td>158616.077870</td>\n",
       "      <td>сыграть свадьбу</td>\n",
       "    </tr>\n",
       "  </tbody>\n",
       "</table>\n",
       "</div>"
      ],
      "text/plain": [
       "   children  years_employed  dob_years  education_id  family_status_id gender  \\\n",
       "0         1           23.12         42             0                 0      F   \n",
       "1         1           11.03         36             1                 0      F   \n",
       "2         0           15.41         33             1                 0      M   \n",
       "3         3           11.30         32             1                 0      M   \n",
       "4         0             NaN         53             1                 1      F   \n",
       "\n",
       "  income_type  debt   total_income                     purpose  \n",
       "0   сотрудник     0  253875.639453               покупка жилья  \n",
       "1   сотрудник     0  112080.014102     приобретение автомобиля  \n",
       "2   сотрудник     0  145885.952297               покупка жилья  \n",
       "3   сотрудник     0  267628.550329  дополнительное образование  \n",
       "4   пенсионер     0  158616.077870             сыграть свадьбу  "
      ]
     },
     "execution_count": 33,
     "metadata": {},
     "output_type": "execute_result"
    }
   ],
   "source": [
    "del data['family_status']\n",
    "data.head()"
   ]
  },
  {
   "cell_type": "markdown",
   "id": "b24b591e",
   "metadata": {},
   "source": [
    "Отлично. Столбец лишний удален. Идем дальше"
   ]
  },
  {
   "cell_type": "markdown",
   "id": "e78ef552",
   "metadata": {},
   "source": [
    "### Проверка данных \"Пол клиента\""
   ]
  },
  {
   "cell_type": "code",
   "execution_count": 34,
   "id": "2531693d",
   "metadata": {},
   "outputs": [
    {
     "data": {
      "text/plain": [
       "F      14107\n",
       "M       7240\n",
       "XNA        1\n",
       "Name: gender, dtype: int64"
      ]
     },
     "execution_count": 34,
     "metadata": {},
     "output_type": "execute_result"
    }
   ],
   "source": [
    "data['gender'].value_counts()"
   ]
  },
  {
   "cell_type": "markdown",
   "id": "12a53507",
   "metadata": {},
   "source": [
    "Удалим клиента с гендером XNA"
   ]
  },
  {
   "cell_type": "code",
   "execution_count": 35,
   "id": "370e5e79",
   "metadata": {},
   "outputs": [
    {
     "data": {
      "text/plain": [
       "F    14107\n",
       "M     7240\n",
       "Name: gender, dtype: int64"
      ]
     },
     "execution_count": 35,
     "metadata": {},
     "output_type": "execute_result"
    }
   ],
   "source": [
    "data = data[data['gender'] != 'XNA']\n",
    "data['gender'].value_counts()"
   ]
  },
  {
   "cell_type": "markdown",
   "id": "8ca280f2",
   "metadata": {},
   "source": [
    "### Проверка данных \"Тип занятости\""
   ]
  },
  {
   "cell_type": "code",
   "execution_count": 36,
   "id": "e869cb19",
   "metadata": {},
   "outputs": [
    {
     "data": {
      "text/plain": [
       "сотрудник          11022\n",
       "компаньон           5048\n",
       "пенсионер           3820\n",
       "госслужащий         1451\n",
       "безработный            2\n",
       "предприниматель        2\n",
       "студент                1\n",
       "в декрете              1\n",
       "Name: income_type, dtype: int64"
      ]
     },
     "execution_count": 36,
     "metadata": {},
     "output_type": "execute_result"
    }
   ],
   "source": [
    "data['income_type'].value_counts()"
   ]
  },
  {
   "cell_type": "markdown",
   "id": "c91efe35",
   "metadata": {},
   "source": [
    "Отлично. Неявных дубликатов нет"
   ]
  },
  {
   "cell_type": "markdown",
   "id": "2ec96055",
   "metadata": {},
   "source": [
    "### Проверка данных \"Наличие задолженности\""
   ]
  },
  {
   "cell_type": "code",
   "execution_count": 37,
   "id": "6ab6550a",
   "metadata": {},
   "outputs": [
    {
     "data": {
      "text/plain": [
       "0    19615\n",
       "1     1732\n",
       "Name: debt, dtype: int64"
      ]
     },
     "execution_count": 37,
     "metadata": {},
     "output_type": "execute_result"
    }
   ],
   "source": [
    "data['debt'].value_counts()"
   ]
  },
  {
   "cell_type": "markdown",
   "id": "7243088a",
   "metadata": {},
   "source": [
    "Аномалий отсутствуют"
   ]
  },
  {
   "cell_type": "markdown",
   "id": "e31baba2",
   "metadata": {},
   "source": [
    "### Категоризация \"Целей получения кредита\". "
   ]
  },
  {
   "cell_type": "code",
   "execution_count": 38,
   "id": "56167c98",
   "metadata": {},
   "outputs": [
    {
     "data": {
      "text/plain": [
       "свадьба                                   792\n",
       "на проведение свадьбы                     768\n",
       "сыграть свадьбу                           764\n",
       "операции с недвижимостью                  672\n",
       "покупка коммерческой недвижимости         659\n",
       "покупка жилья для сдачи                   650\n",
       "операции с жильем                         647\n",
       "операции с коммерческой недвижимостью     645\n",
       "жилье                                     641\n",
       "покупка жилья                             640\n",
       "покупка жилья для семьи                   637\n",
       "недвижимость                              631\n",
       "строительство собственной недвижимости    628\n",
       "операции со своей недвижимостью           623\n",
       "строительство жилой недвижимости          621\n",
       "строительство недвижимости                619\n",
       "покупка своего жилья                      619\n",
       "покупка недвижимости                      615\n",
       "ремонт жилью                              604\n",
       "покупка жилой недвижимости                602\n",
       "на покупку своего автомобиля              504\n",
       "заняться высшим образованием              496\n",
       "автомобиль                                491\n",
       "сделка с подержанным автомобилем          481\n",
       "автомобили                                476\n",
       "свой автомобиль                           474\n",
       "на покупку подержанного автомобиля        471\n",
       "на покупку автомобиля                     470\n",
       "приобретение автомобиля                   459\n",
       "сделка с автомобилем                      455\n",
       "дополнительное образование                455\n",
       "высшее образование                        446\n",
       "получение дополнительного образования     445\n",
       "образование                               442\n",
       "получение образования                     440\n",
       "профильное образование                    432\n",
       "получение высшего образования             425\n",
       "заняться образованием                     408\n",
       "Name: purpose, dtype: int64"
      ]
     },
     "execution_count": 38,
     "metadata": {},
     "output_type": "execute_result"
    }
   ],
   "source": [
    "data['purpose'].value_counts()"
   ]
  },
  {
   "cell_type": "markdown",
   "id": "02162332",
   "metadata": {},
   "source": [
    "Создадим функцию под категоризацию целей получения кредита. Для этого разделим их на четыре категории:"
   ]
  },
  {
   "cell_type": "code",
   "execution_count": 39,
   "id": "af848dbe",
   "metadata": {},
   "outputs": [
    {
     "data": {
      "text/html": [
       "<div>\n",
       "<style scoped>\n",
       "    .dataframe tbody tr th:only-of-type {\n",
       "        vertical-align: middle;\n",
       "    }\n",
       "\n",
       "    .dataframe tbody tr th {\n",
       "        vertical-align: top;\n",
       "    }\n",
       "\n",
       "    .dataframe thead th {\n",
       "        text-align: right;\n",
       "    }\n",
       "</style>\n",
       "<table border=\"1\" class=\"dataframe\">\n",
       "  <thead>\n",
       "    <tr style=\"text-align: right;\">\n",
       "      <th></th>\n",
       "      <th>children</th>\n",
       "      <th>years_employed</th>\n",
       "      <th>dob_years</th>\n",
       "      <th>education_id</th>\n",
       "      <th>family_status_id</th>\n",
       "      <th>gender</th>\n",
       "      <th>income_type</th>\n",
       "      <th>debt</th>\n",
       "      <th>total_income</th>\n",
       "      <th>purpose</th>\n",
       "      <th>purpose_category</th>\n",
       "    </tr>\n",
       "  </thead>\n",
       "  <tbody>\n",
       "    <tr>\n",
       "      <th>0</th>\n",
       "      <td>1</td>\n",
       "      <td>23.12</td>\n",
       "      <td>42</td>\n",
       "      <td>0</td>\n",
       "      <td>0</td>\n",
       "      <td>F</td>\n",
       "      <td>сотрудник</td>\n",
       "      <td>0</td>\n",
       "      <td>253875.639453</td>\n",
       "      <td>покупка жилья</td>\n",
       "      <td>операции с недвижимостью</td>\n",
       "    </tr>\n",
       "    <tr>\n",
       "      <th>1</th>\n",
       "      <td>1</td>\n",
       "      <td>11.03</td>\n",
       "      <td>36</td>\n",
       "      <td>1</td>\n",
       "      <td>0</td>\n",
       "      <td>F</td>\n",
       "      <td>сотрудник</td>\n",
       "      <td>0</td>\n",
       "      <td>112080.014102</td>\n",
       "      <td>приобретение автомобиля</td>\n",
       "      <td>операции с автомобилем</td>\n",
       "    </tr>\n",
       "    <tr>\n",
       "      <th>2</th>\n",
       "      <td>0</td>\n",
       "      <td>15.41</td>\n",
       "      <td>33</td>\n",
       "      <td>1</td>\n",
       "      <td>0</td>\n",
       "      <td>M</td>\n",
       "      <td>сотрудник</td>\n",
       "      <td>0</td>\n",
       "      <td>145885.952297</td>\n",
       "      <td>покупка жилья</td>\n",
       "      <td>операции с недвижимостью</td>\n",
       "    </tr>\n",
       "    <tr>\n",
       "      <th>3</th>\n",
       "      <td>3</td>\n",
       "      <td>11.30</td>\n",
       "      <td>32</td>\n",
       "      <td>1</td>\n",
       "      <td>0</td>\n",
       "      <td>M</td>\n",
       "      <td>сотрудник</td>\n",
       "      <td>0</td>\n",
       "      <td>267628.550329</td>\n",
       "      <td>дополнительное образование</td>\n",
       "      <td>получение образования</td>\n",
       "    </tr>\n",
       "    <tr>\n",
       "      <th>4</th>\n",
       "      <td>0</td>\n",
       "      <td>NaN</td>\n",
       "      <td>53</td>\n",
       "      <td>1</td>\n",
       "      <td>1</td>\n",
       "      <td>F</td>\n",
       "      <td>пенсионер</td>\n",
       "      <td>0</td>\n",
       "      <td>158616.077870</td>\n",
       "      <td>сыграть свадьбу</td>\n",
       "      <td>проведение свадьбы</td>\n",
       "    </tr>\n",
       "  </tbody>\n",
       "</table>\n",
       "</div>"
      ],
      "text/plain": [
       "   children  years_employed  dob_years  education_id  family_status_id gender  \\\n",
       "0         1           23.12         42             0                 0      F   \n",
       "1         1           11.03         36             1                 0      F   \n",
       "2         0           15.41         33             1                 0      M   \n",
       "3         3           11.30         32             1                 0      M   \n",
       "4         0             NaN         53             1                 1      F   \n",
       "\n",
       "  income_type  debt   total_income                     purpose  \\\n",
       "0   сотрудник     0  253875.639453               покупка жилья   \n",
       "1   сотрудник     0  112080.014102     приобретение автомобиля   \n",
       "2   сотрудник     0  145885.952297               покупка жилья   \n",
       "3   сотрудник     0  267628.550329  дополнительное образование   \n",
       "4   пенсионер     0  158616.077870             сыграть свадьбу   \n",
       "\n",
       "           purpose_category  \n",
       "0  операции с недвижимостью  \n",
       "1    операции с автомобилем  \n",
       "2  операции с недвижимостью  \n",
       "3     получение образования  \n",
       "4        проведение свадьбы  "
      ]
     },
     "execution_count": 39,
     "metadata": {},
     "output_type": "execute_result"
    }
   ],
   "source": [
    "def purpose_category(row):\n",
    "    auto = ['на покупку своего автомобиля', 'автомобиль', \n",
    "        'сделка с подержанным автомобилем', 'свой автомобиль',\n",
    "       'на покупку подержанного автомобиля', 'автомобили', \n",
    "        'на покупку автомобиля', 'сделка с автомобилем', 'приобретение автомобиля']\n",
    "    realty = ['операции с недвижимостью', 'покупка коммерческой недвижимости', \n",
    "          'покупка жилья для сдачи', 'операции с жильем', \n",
    "          'операции с коммерческой недвижимостью',\n",
    "          'жилье', 'покупка жилья', 'покупка жилья для семьи', \n",
    "          'строительство собственной недвижимости',\n",
    "          'недвижимость','операции со своей недвижимостью',\n",
    "          'строительство жилой недвижимости',\n",
    "          'покупка недвижимости', 'покупка своего жилья', \n",
    "          'строительство недвижимости', 'ремонт жилью', \n",
    "          'покупка жилой недвижимости']\n",
    "    marriage = ['свадьба', 'на проведение свадьбы', 'сыграть свадьбу', ]\n",
    "    education = ['дополнительное образование', 'заняться высшим образованием',\n",
    "             'высшее образование', 'образование', 'получение дополнительного образования', \n",
    "             'получение образования', 'профильное образование', 'заняться образованием',\n",
    "             'получение высшего образования']\n",
    "    try:\n",
    "        if row['purpose'] in auto:\n",
    "            return 'операции с автомобилем'\n",
    "        elif row['purpose'] in realty:\n",
    "            return 'операции с недвижимостью'\n",
    "        elif row['purpose'] in marriage:\n",
    "            return 'проведение свадьбы'\n",
    "        elif row['purpose'] in education:\n",
    "            return 'получение образования'\n",
    "    except:\n",
    "        return row['purpose']\n",
    "\n",
    "data['purpose_category'] = data.apply(purpose_category, axis = 1)\n",
    "data.head()"
   ]
  },
  {
   "cell_type": "code",
   "execution_count": 40,
   "id": "18b2a93b",
   "metadata": {},
   "outputs": [
    {
     "data": {
      "text/plain": [
       "операции с недвижимостью    10753\n",
       "операции с автомобилем       4281\n",
       "получение образования        3989\n",
       "проведение свадьбы           2324\n",
       "Name: purpose_category, dtype: int64"
      ]
     },
     "execution_count": 40,
     "metadata": {},
     "output_type": "execute_result"
    }
   ],
   "source": [
    "# проверим уникальность значений после категоризации\n",
    "data['purpose_category'].value_counts()"
   ]
  },
  {
   "cell_type": "markdown",
   "id": "06181ea7",
   "metadata": {},
   "source": [
    "Добавили новый столбец c категориями \"цели получения кредита\".\n",
    "\n",
    "Столбец purpose больше нам не понадобится. Будет только мешать при поиске неявных дубликатов - вдруг один и тот же заемщик дублируется с разной формулировкой целей получения кредита."
   ]
  },
  {
   "cell_type": "code",
   "execution_count": 41,
   "id": "d7a36982",
   "metadata": {
    "scrolled": true
   },
   "outputs": [
    {
     "data": {
      "text/html": [
       "<div>\n",
       "<style scoped>\n",
       "    .dataframe tbody tr th:only-of-type {\n",
       "        vertical-align: middle;\n",
       "    }\n",
       "\n",
       "    .dataframe tbody tr th {\n",
       "        vertical-align: top;\n",
       "    }\n",
       "\n",
       "    .dataframe thead th {\n",
       "        text-align: right;\n",
       "    }\n",
       "</style>\n",
       "<table border=\"1\" class=\"dataframe\">\n",
       "  <thead>\n",
       "    <tr style=\"text-align: right;\">\n",
       "      <th></th>\n",
       "      <th>children</th>\n",
       "      <th>years_employed</th>\n",
       "      <th>dob_years</th>\n",
       "      <th>education_id</th>\n",
       "      <th>family_status_id</th>\n",
       "      <th>gender</th>\n",
       "      <th>income_type</th>\n",
       "      <th>debt</th>\n",
       "      <th>total_income</th>\n",
       "      <th>purpose_category</th>\n",
       "    </tr>\n",
       "  </thead>\n",
       "  <tbody>\n",
       "    <tr>\n",
       "      <th>0</th>\n",
       "      <td>1</td>\n",
       "      <td>23.12</td>\n",
       "      <td>42</td>\n",
       "      <td>0</td>\n",
       "      <td>0</td>\n",
       "      <td>F</td>\n",
       "      <td>сотрудник</td>\n",
       "      <td>0</td>\n",
       "      <td>253875.639453</td>\n",
       "      <td>операции с недвижимостью</td>\n",
       "    </tr>\n",
       "    <tr>\n",
       "      <th>1</th>\n",
       "      <td>1</td>\n",
       "      <td>11.03</td>\n",
       "      <td>36</td>\n",
       "      <td>1</td>\n",
       "      <td>0</td>\n",
       "      <td>F</td>\n",
       "      <td>сотрудник</td>\n",
       "      <td>0</td>\n",
       "      <td>112080.014102</td>\n",
       "      <td>операции с автомобилем</td>\n",
       "    </tr>\n",
       "    <tr>\n",
       "      <th>2</th>\n",
       "      <td>0</td>\n",
       "      <td>15.41</td>\n",
       "      <td>33</td>\n",
       "      <td>1</td>\n",
       "      <td>0</td>\n",
       "      <td>M</td>\n",
       "      <td>сотрудник</td>\n",
       "      <td>0</td>\n",
       "      <td>145885.952297</td>\n",
       "      <td>операции с недвижимостью</td>\n",
       "    </tr>\n",
       "    <tr>\n",
       "      <th>3</th>\n",
       "      <td>3</td>\n",
       "      <td>11.30</td>\n",
       "      <td>32</td>\n",
       "      <td>1</td>\n",
       "      <td>0</td>\n",
       "      <td>M</td>\n",
       "      <td>сотрудник</td>\n",
       "      <td>0</td>\n",
       "      <td>267628.550329</td>\n",
       "      <td>получение образования</td>\n",
       "    </tr>\n",
       "    <tr>\n",
       "      <th>4</th>\n",
       "      <td>0</td>\n",
       "      <td>NaN</td>\n",
       "      <td>53</td>\n",
       "      <td>1</td>\n",
       "      <td>1</td>\n",
       "      <td>F</td>\n",
       "      <td>пенсионер</td>\n",
       "      <td>0</td>\n",
       "      <td>158616.077870</td>\n",
       "      <td>проведение свадьбы</td>\n",
       "    </tr>\n",
       "  </tbody>\n",
       "</table>\n",
       "</div>"
      ],
      "text/plain": [
       "   children  years_employed  dob_years  education_id  family_status_id gender  \\\n",
       "0         1           23.12         42             0                 0      F   \n",
       "1         1           11.03         36             1                 0      F   \n",
       "2         0           15.41         33             1                 0      M   \n",
       "3         3           11.30         32             1                 0      M   \n",
       "4         0             NaN         53             1                 1      F   \n",
       "\n",
       "  income_type  debt   total_income          purpose_category  \n",
       "0   сотрудник     0  253875.639453  операции с недвижимостью  \n",
       "1   сотрудник     0  112080.014102    операции с автомобилем  \n",
       "2   сотрудник     0  145885.952297  операции с недвижимостью  \n",
       "3   сотрудник     0  267628.550329     получение образования  \n",
       "4   пенсионер     0  158616.077870        проведение свадьбы  "
      ]
     },
     "execution_count": 41,
     "metadata": {},
     "output_type": "execute_result"
    }
   ],
   "source": [
    "del data['purpose']\n",
    "data.head()"
   ]
  },
  {
   "cell_type": "markdown",
   "id": "dd4c72c3",
   "metadata": {},
   "source": [
    "### Удаление неявных дубликатов"
   ]
  },
  {
   "cell_type": "code",
   "execution_count": 42,
   "id": "0c0192d6",
   "metadata": {},
   "outputs": [
    {
     "data": {
      "text/plain": [
       "351"
      ]
     },
     "execution_count": 42,
     "metadata": {},
     "output_type": "execute_result"
    }
   ],
   "source": [
    "data.duplicated().sum()"
   ]
  },
  {
   "cell_type": "markdown",
   "id": "91271a94",
   "metadata": {},
   "source": [
    "Дополнительно выявлены 351 дубликатов, не так много. \n",
    "Удалим дубликаты"
   ]
  },
  {
   "cell_type": "code",
   "execution_count": 43,
   "id": "c95a3311",
   "metadata": {},
   "outputs": [
    {
     "data": {
      "text/html": [
       "<div>\n",
       "<style scoped>\n",
       "    .dataframe tbody tr th:only-of-type {\n",
       "        vertical-align: middle;\n",
       "    }\n",
       "\n",
       "    .dataframe tbody tr th {\n",
       "        vertical-align: top;\n",
       "    }\n",
       "\n",
       "    .dataframe thead th {\n",
       "        text-align: right;\n",
       "    }\n",
       "</style>\n",
       "<table border=\"1\" class=\"dataframe\">\n",
       "  <thead>\n",
       "    <tr style=\"text-align: right;\">\n",
       "      <th></th>\n",
       "      <th>children</th>\n",
       "      <th>years_employed</th>\n",
       "      <th>dob_years</th>\n",
       "      <th>education_id</th>\n",
       "      <th>family_status_id</th>\n",
       "      <th>gender</th>\n",
       "      <th>income_type</th>\n",
       "      <th>debt</th>\n",
       "      <th>total_income</th>\n",
       "      <th>purpose_category</th>\n",
       "    </tr>\n",
       "  </thead>\n",
       "  <tbody>\n",
       "    <tr>\n",
       "      <th>0</th>\n",
       "      <td>1</td>\n",
       "      <td>23.12</td>\n",
       "      <td>42</td>\n",
       "      <td>0</td>\n",
       "      <td>0</td>\n",
       "      <td>F</td>\n",
       "      <td>сотрудник</td>\n",
       "      <td>0</td>\n",
       "      <td>253875.639453</td>\n",
       "      <td>операции с недвижимостью</td>\n",
       "    </tr>\n",
       "    <tr>\n",
       "      <th>1</th>\n",
       "      <td>1</td>\n",
       "      <td>11.03</td>\n",
       "      <td>36</td>\n",
       "      <td>1</td>\n",
       "      <td>0</td>\n",
       "      <td>F</td>\n",
       "      <td>сотрудник</td>\n",
       "      <td>0</td>\n",
       "      <td>112080.014102</td>\n",
       "      <td>операции с автомобилем</td>\n",
       "    </tr>\n",
       "    <tr>\n",
       "      <th>2</th>\n",
       "      <td>0</td>\n",
       "      <td>15.41</td>\n",
       "      <td>33</td>\n",
       "      <td>1</td>\n",
       "      <td>0</td>\n",
       "      <td>M</td>\n",
       "      <td>сотрудник</td>\n",
       "      <td>0</td>\n",
       "      <td>145885.952297</td>\n",
       "      <td>операции с недвижимостью</td>\n",
       "    </tr>\n",
       "    <tr>\n",
       "      <th>3</th>\n",
       "      <td>3</td>\n",
       "      <td>11.30</td>\n",
       "      <td>32</td>\n",
       "      <td>1</td>\n",
       "      <td>0</td>\n",
       "      <td>M</td>\n",
       "      <td>сотрудник</td>\n",
       "      <td>0</td>\n",
       "      <td>267628.550329</td>\n",
       "      <td>получение образования</td>\n",
       "    </tr>\n",
       "    <tr>\n",
       "      <th>4</th>\n",
       "      <td>0</td>\n",
       "      <td>NaN</td>\n",
       "      <td>53</td>\n",
       "      <td>1</td>\n",
       "      <td>1</td>\n",
       "      <td>F</td>\n",
       "      <td>пенсионер</td>\n",
       "      <td>0</td>\n",
       "      <td>158616.077870</td>\n",
       "      <td>проведение свадьбы</td>\n",
       "    </tr>\n",
       "    <tr>\n",
       "      <th>...</th>\n",
       "      <td>...</td>\n",
       "      <td>...</td>\n",
       "      <td>...</td>\n",
       "      <td>...</td>\n",
       "      <td>...</td>\n",
       "      <td>...</td>\n",
       "      <td>...</td>\n",
       "      <td>...</td>\n",
       "      <td>...</td>\n",
       "      <td>...</td>\n",
       "    </tr>\n",
       "    <tr>\n",
       "      <th>20991</th>\n",
       "      <td>1</td>\n",
       "      <td>12.41</td>\n",
       "      <td>43</td>\n",
       "      <td>1</td>\n",
       "      <td>1</td>\n",
       "      <td>F</td>\n",
       "      <td>компаньон</td>\n",
       "      <td>0</td>\n",
       "      <td>224791.862382</td>\n",
       "      <td>операции с недвижимостью</td>\n",
       "    </tr>\n",
       "    <tr>\n",
       "      <th>20992</th>\n",
       "      <td>0</td>\n",
       "      <td>NaN</td>\n",
       "      <td>67</td>\n",
       "      <td>1</td>\n",
       "      <td>0</td>\n",
       "      <td>F</td>\n",
       "      <td>пенсионер</td>\n",
       "      <td>0</td>\n",
       "      <td>155999.806512</td>\n",
       "      <td>операции с автомобилем</td>\n",
       "    </tr>\n",
       "    <tr>\n",
       "      <th>20993</th>\n",
       "      <td>1</td>\n",
       "      <td>5.79</td>\n",
       "      <td>38</td>\n",
       "      <td>1</td>\n",
       "      <td>1</td>\n",
       "      <td>M</td>\n",
       "      <td>сотрудник</td>\n",
       "      <td>1</td>\n",
       "      <td>89672.561153</td>\n",
       "      <td>операции с недвижимостью</td>\n",
       "    </tr>\n",
       "    <tr>\n",
       "      <th>20994</th>\n",
       "      <td>3</td>\n",
       "      <td>8.53</td>\n",
       "      <td>38</td>\n",
       "      <td>1</td>\n",
       "      <td>0</td>\n",
       "      <td>M</td>\n",
       "      <td>сотрудник</td>\n",
       "      <td>1</td>\n",
       "      <td>244093.050500</td>\n",
       "      <td>операции с автомобилем</td>\n",
       "    </tr>\n",
       "    <tr>\n",
       "      <th>20995</th>\n",
       "      <td>2</td>\n",
       "      <td>5.44</td>\n",
       "      <td>40</td>\n",
       "      <td>1</td>\n",
       "      <td>0</td>\n",
       "      <td>F</td>\n",
       "      <td>сотрудник</td>\n",
       "      <td>0</td>\n",
       "      <td>82047.418899</td>\n",
       "      <td>операции с автомобилем</td>\n",
       "    </tr>\n",
       "  </tbody>\n",
       "</table>\n",
       "<p>20996 rows × 10 columns</p>\n",
       "</div>"
      ],
      "text/plain": [
       "       children  years_employed  dob_years  education_id  family_status_id  \\\n",
       "0             1           23.12         42             0                 0   \n",
       "1             1           11.03         36             1                 0   \n",
       "2             0           15.41         33             1                 0   \n",
       "3             3           11.30         32             1                 0   \n",
       "4             0             NaN         53             1                 1   \n",
       "...         ...             ...        ...           ...               ...   \n",
       "20991         1           12.41         43             1                 1   \n",
       "20992         0             NaN         67             1                 0   \n",
       "20993         1            5.79         38             1                 1   \n",
       "20994         3            8.53         38             1                 0   \n",
       "20995         2            5.44         40             1                 0   \n",
       "\n",
       "      gender income_type  debt   total_income          purpose_category  \n",
       "0          F   сотрудник     0  253875.639453  операции с недвижимостью  \n",
       "1          F   сотрудник     0  112080.014102    операции с автомобилем  \n",
       "2          M   сотрудник     0  145885.952297  операции с недвижимостью  \n",
       "3          M   сотрудник     0  267628.550329     получение образования  \n",
       "4          F   пенсионер     0  158616.077870        проведение свадьбы  \n",
       "...      ...         ...   ...            ...                       ...  \n",
       "20991      F   компаньон     0  224791.862382  операции с недвижимостью  \n",
       "20992      F   пенсионер     0  155999.806512    операции с автомобилем  \n",
       "20993      M   сотрудник     1   89672.561153  операции с недвижимостью  \n",
       "20994      M   сотрудник     1  244093.050500    операции с автомобилем  \n",
       "20995      F   сотрудник     0   82047.418899    операции с автомобилем  \n",
       "\n",
       "[20996 rows x 10 columns]"
      ]
     },
     "execution_count": 43,
     "metadata": {},
     "output_type": "execute_result"
    }
   ],
   "source": [
    "data = data.drop_duplicates().reset_index(drop = True)\n",
    "data"
   ]
  },
  {
   "cell_type": "code",
   "execution_count": 44,
   "id": "d948a552",
   "metadata": {},
   "outputs": [
    {
     "data": {
      "text/plain": [
       "0"
      ]
     },
     "execution_count": 44,
     "metadata": {},
     "output_type": "execute_result"
    }
   ],
   "source": [
    "# проверка отсутствия дубликатов\n",
    "data.duplicated().sum()"
   ]
  },
  {
   "cell_type": "markdown",
   "id": "f77f8106",
   "metadata": {},
   "source": [
    "Теперь вернемся к ранее записанным заметкам"
   ]
  },
  {
   "cell_type": "markdown",
   "id": "805d50d5",
   "metadata": {},
   "source": [
    "### \"Заполнение пропусков\" "
   ]
  },
  {
   "cell_type": "markdown",
   "id": "6135ea78",
   "metadata": {},
   "source": [
    "С целью сохранения данных заменим пропущенные значения на медианные. Так мы искусственно не будем смещать кривую распределения количественных переменных по стажу, доходу и возрасту, а так же не будем учитывать единичные выбросы."
   ]
  },
  {
   "cell_type": "code",
   "execution_count": 45,
   "id": "96b67cc5",
   "metadata": {},
   "outputs": [
    {
     "data": {
      "text/plain": [
       "4.47"
      ]
     },
     "execution_count": 45,
     "metadata": {},
     "output_type": "execute_result"
    }
   ],
   "source": [
    "#найдем медиану по стажу\n",
    "years_employed_meadian = round(data['years_employed'].median() , 2)\n",
    "years_employed_meadian"
   ]
  },
  {
   "cell_type": "code",
   "execution_count": 46,
   "id": "b6307591",
   "metadata": {},
   "outputs": [
    {
     "data": {
      "text/plain": [
       "145017"
      ]
     },
     "execution_count": 46,
     "metadata": {},
     "output_type": "execute_result"
    }
   ],
   "source": [
    "#найдем медиану по ежемесячному доходу\n",
    "total_income_meadian = int(data['total_income'].median())\n",
    "total_income_meadian"
   ]
  },
  {
   "cell_type": "code",
   "execution_count": 47,
   "id": "3da2f547",
   "metadata": {},
   "outputs": [
    {
     "data": {
      "text/plain": [
       "42"
      ]
     },
     "execution_count": 47,
     "metadata": {},
     "output_type": "execute_result"
    }
   ],
   "source": [
    "#найдем медиану возраста\n",
    "total_dob_years = int(data['dob_years'].median())\n",
    "total_dob_years"
   ]
  },
  {
   "cell_type": "markdown",
   "id": "0457c5c1",
   "metadata": {},
   "source": [
    "Медиана стажа клиентов составляет 13 лет, что говорит о том, что кредит банки охотно выдают людям с большим стажем, а может быть, что кредит молодое поколение не берет и больше склонна к уберизации..."
   ]
  },
  {
   "cell_type": "code",
   "execution_count": 48,
   "id": "74ac37d6",
   "metadata": {},
   "outputs": [
    {
     "data": {
      "text/plain": [
       "children            0\n",
       "years_employed      0\n",
       "dob_years           0\n",
       "education_id        0\n",
       "family_status_id    0\n",
       "gender              0\n",
       "income_type         0\n",
       "debt                0\n",
       "total_income        0\n",
       "purpose_category    0\n",
       "dtype: int64"
      ]
     },
     "execution_count": 48,
     "metadata": {},
     "output_type": "execute_result"
    }
   ],
   "source": [
    "# заменим пропущенные значения\n",
    "data['years_employed'] = data['years_employed'].fillna(years_employed_meadian)\n",
    "data['total_income'] = data['total_income'].fillna(total_income_meadian)\n",
    "data['dob_years'] = data['dob_years'].fillna(total_dob_years)\n",
    "\n",
    "# проверим отсутствие пропусков\n",
    "data.isna().sum()"
   ]
  },
  {
   "cell_type": "markdown",
   "id": "146bf611",
   "metadata": {},
   "source": [
    "Сдержали обещания. Пропуски устранены "
   ]
  },
  {
   "cell_type": "markdown",
   "id": "5d1b592b",
   "metadata": {},
   "source": [
    "### Класификация \"Ежемесячных доходов\""
   ]
  },
  {
   "cell_type": "code",
   "execution_count": 49,
   "id": "addf3d84",
   "metadata": {},
   "outputs": [
    {
     "data": {
      "text/html": [
       "<div>\n",
       "<style scoped>\n",
       "    .dataframe tbody tr th:only-of-type {\n",
       "        vertical-align: middle;\n",
       "    }\n",
       "\n",
       "    .dataframe tbody tr th {\n",
       "        vertical-align: top;\n",
       "    }\n",
       "\n",
       "    .dataframe thead th {\n",
       "        text-align: right;\n",
       "    }\n",
       "</style>\n",
       "<table border=\"1\" class=\"dataframe\">\n",
       "  <thead>\n",
       "    <tr style=\"text-align: right;\">\n",
       "      <th></th>\n",
       "      <th>children</th>\n",
       "      <th>years_employed</th>\n",
       "      <th>dob_years</th>\n",
       "      <th>education_id</th>\n",
       "      <th>family_status_id</th>\n",
       "      <th>gender</th>\n",
       "      <th>income_type</th>\n",
       "      <th>debt</th>\n",
       "      <th>total_income</th>\n",
       "      <th>purpose_category</th>\n",
       "    </tr>\n",
       "  </thead>\n",
       "  <tbody>\n",
       "    <tr>\n",
       "      <th>0</th>\n",
       "      <td>1</td>\n",
       "      <td>23.12</td>\n",
       "      <td>42</td>\n",
       "      <td>0</td>\n",
       "      <td>0</td>\n",
       "      <td>F</td>\n",
       "      <td>сотрудник</td>\n",
       "      <td>0</td>\n",
       "      <td>253875</td>\n",
       "      <td>операции с недвижимостью</td>\n",
       "    </tr>\n",
       "    <tr>\n",
       "      <th>1</th>\n",
       "      <td>1</td>\n",
       "      <td>11.03</td>\n",
       "      <td>36</td>\n",
       "      <td>1</td>\n",
       "      <td>0</td>\n",
       "      <td>F</td>\n",
       "      <td>сотрудник</td>\n",
       "      <td>0</td>\n",
       "      <td>112080</td>\n",
       "      <td>операции с автомобилем</td>\n",
       "    </tr>\n",
       "    <tr>\n",
       "      <th>2</th>\n",
       "      <td>0</td>\n",
       "      <td>15.41</td>\n",
       "      <td>33</td>\n",
       "      <td>1</td>\n",
       "      <td>0</td>\n",
       "      <td>M</td>\n",
       "      <td>сотрудник</td>\n",
       "      <td>0</td>\n",
       "      <td>145885</td>\n",
       "      <td>операции с недвижимостью</td>\n",
       "    </tr>\n",
       "    <tr>\n",
       "      <th>3</th>\n",
       "      <td>3</td>\n",
       "      <td>11.30</td>\n",
       "      <td>32</td>\n",
       "      <td>1</td>\n",
       "      <td>0</td>\n",
       "      <td>M</td>\n",
       "      <td>сотрудник</td>\n",
       "      <td>0</td>\n",
       "      <td>267628</td>\n",
       "      <td>получение образования</td>\n",
       "    </tr>\n",
       "    <tr>\n",
       "      <th>4</th>\n",
       "      <td>0</td>\n",
       "      <td>4.47</td>\n",
       "      <td>53</td>\n",
       "      <td>1</td>\n",
       "      <td>1</td>\n",
       "      <td>F</td>\n",
       "      <td>пенсионер</td>\n",
       "      <td>0</td>\n",
       "      <td>158616</td>\n",
       "      <td>проведение свадьбы</td>\n",
       "    </tr>\n",
       "    <tr>\n",
       "      <th>...</th>\n",
       "      <td>...</td>\n",
       "      <td>...</td>\n",
       "      <td>...</td>\n",
       "      <td>...</td>\n",
       "      <td>...</td>\n",
       "      <td>...</td>\n",
       "      <td>...</td>\n",
       "      <td>...</td>\n",
       "      <td>...</td>\n",
       "      <td>...</td>\n",
       "    </tr>\n",
       "    <tr>\n",
       "      <th>20991</th>\n",
       "      <td>1</td>\n",
       "      <td>12.41</td>\n",
       "      <td>43</td>\n",
       "      <td>1</td>\n",
       "      <td>1</td>\n",
       "      <td>F</td>\n",
       "      <td>компаньон</td>\n",
       "      <td>0</td>\n",
       "      <td>224791</td>\n",
       "      <td>операции с недвижимостью</td>\n",
       "    </tr>\n",
       "    <tr>\n",
       "      <th>20992</th>\n",
       "      <td>0</td>\n",
       "      <td>4.47</td>\n",
       "      <td>67</td>\n",
       "      <td>1</td>\n",
       "      <td>0</td>\n",
       "      <td>F</td>\n",
       "      <td>пенсионер</td>\n",
       "      <td>0</td>\n",
       "      <td>155999</td>\n",
       "      <td>операции с автомобилем</td>\n",
       "    </tr>\n",
       "    <tr>\n",
       "      <th>20993</th>\n",
       "      <td>1</td>\n",
       "      <td>5.79</td>\n",
       "      <td>38</td>\n",
       "      <td>1</td>\n",
       "      <td>1</td>\n",
       "      <td>M</td>\n",
       "      <td>сотрудник</td>\n",
       "      <td>1</td>\n",
       "      <td>89672</td>\n",
       "      <td>операции с недвижимостью</td>\n",
       "    </tr>\n",
       "    <tr>\n",
       "      <th>20994</th>\n",
       "      <td>3</td>\n",
       "      <td>8.53</td>\n",
       "      <td>38</td>\n",
       "      <td>1</td>\n",
       "      <td>0</td>\n",
       "      <td>M</td>\n",
       "      <td>сотрудник</td>\n",
       "      <td>1</td>\n",
       "      <td>244093</td>\n",
       "      <td>операции с автомобилем</td>\n",
       "    </tr>\n",
       "    <tr>\n",
       "      <th>20995</th>\n",
       "      <td>2</td>\n",
       "      <td>5.44</td>\n",
       "      <td>40</td>\n",
       "      <td>1</td>\n",
       "      <td>0</td>\n",
       "      <td>F</td>\n",
       "      <td>сотрудник</td>\n",
       "      <td>0</td>\n",
       "      <td>82047</td>\n",
       "      <td>операции с автомобилем</td>\n",
       "    </tr>\n",
       "  </tbody>\n",
       "</table>\n",
       "<p>20996 rows × 10 columns</p>\n",
       "</div>"
      ],
      "text/plain": [
       "       children  years_employed  dob_years  education_id  family_status_id  \\\n",
       "0             1           23.12         42             0                 0   \n",
       "1             1           11.03         36             1                 0   \n",
       "2             0           15.41         33             1                 0   \n",
       "3             3           11.30         32             1                 0   \n",
       "4             0            4.47         53             1                 1   \n",
       "...         ...             ...        ...           ...               ...   \n",
       "20991         1           12.41         43             1                 1   \n",
       "20992         0            4.47         67             1                 0   \n",
       "20993         1            5.79         38             1                 1   \n",
       "20994         3            8.53         38             1                 0   \n",
       "20995         2            5.44         40             1                 0   \n",
       "\n",
       "      gender income_type  debt  total_income          purpose_category  \n",
       "0          F   сотрудник     0        253875  операции с недвижимостью  \n",
       "1          F   сотрудник     0        112080    операции с автомобилем  \n",
       "2          M   сотрудник     0        145885  операции с недвижимостью  \n",
       "3          M   сотрудник     0        267628     получение образования  \n",
       "4          F   пенсионер     0        158616        проведение свадьбы  \n",
       "...      ...         ...   ...           ...                       ...  \n",
       "20991      F   компаньон     0        224791  операции с недвижимостью  \n",
       "20992      F   пенсионер     0        155999    операции с автомобилем  \n",
       "20993      M   сотрудник     1         89672  операции с недвижимостью  \n",
       "20994      M   сотрудник     1        244093    операции с автомобилем  \n",
       "20995      F   сотрудник     0         82047    операции с автомобилем  \n",
       "\n",
       "[20996 rows x 10 columns]"
      ]
     },
     "execution_count": 49,
     "metadata": {},
     "output_type": "execute_result"
    }
   ],
   "source": [
    "# округлим доходы\n",
    "data['total_income'] = data['total_income'].astype('int')\n",
    "data"
   ]
  },
  {
   "cell_type": "code",
   "execution_count": 50,
   "id": "c12c52aa",
   "metadata": {},
   "outputs": [
    {
     "data": {
      "text/plain": [
       "C    15588\n",
       "B     5012\n",
       "D      349\n",
       "A       25\n",
       "E       22\n",
       "Name: total_income_category, dtype: int64"
      ]
     },
     "execution_count": 50,
     "metadata": {},
     "output_type": "execute_result"
    }
   ],
   "source": [
    "#разделим доходы на пять категорий. Напишем функцию \"классификатор\"\n",
    "def income_category(row):\n",
    "    try:\n",
    "        if row['total_income'] >= 1000001:\n",
    "            return 'A'\n",
    "        elif row['total_income'] >= 200001:\n",
    "            return 'B'\n",
    "        elif row['total_income'] >= 50001:\n",
    "            return 'C'\n",
    "        elif row['total_income'] >= 30001:\n",
    "            return 'D'\n",
    "        elif row['total_income'] >= 0:\n",
    "            return 'E'\n",
    "    except:\n",
    "        return 'ошибка'\n",
    "        \n",
    "data['total_income_category'] = data.apply(income_category, axis = 1)\n",
    "del data['total_income']\n",
    "data['total_income_category'].value_counts()"
   ]
  },
  {
   "cell_type": "markdown",
   "id": "416d261b",
   "metadata": {},
   "source": [
    "### DataFrame после предобработки данных"
   ]
  },
  {
   "cell_type": "code",
   "execution_count": 51,
   "id": "7ae3fdf8",
   "metadata": {
    "scrolled": false
   },
   "outputs": [
    {
     "data": {
      "text/html": [
       "<div>\n",
       "<style scoped>\n",
       "    .dataframe tbody tr th:only-of-type {\n",
       "        vertical-align: middle;\n",
       "    }\n",
       "\n",
       "    .dataframe tbody tr th {\n",
       "        vertical-align: top;\n",
       "    }\n",
       "\n",
       "    .dataframe thead th {\n",
       "        text-align: right;\n",
       "    }\n",
       "</style>\n",
       "<table border=\"1\" class=\"dataframe\">\n",
       "  <thead>\n",
       "    <tr style=\"text-align: right;\">\n",
       "      <th></th>\n",
       "      <th>children</th>\n",
       "      <th>years_employed</th>\n",
       "      <th>dob_years</th>\n",
       "      <th>education_id</th>\n",
       "      <th>family_status_id</th>\n",
       "      <th>gender</th>\n",
       "      <th>income_type</th>\n",
       "      <th>debt</th>\n",
       "      <th>purpose_category</th>\n",
       "      <th>total_income_category</th>\n",
       "    </tr>\n",
       "  </thead>\n",
       "  <tbody>\n",
       "    <tr>\n",
       "      <th>0</th>\n",
       "      <td>1</td>\n",
       "      <td>23.12</td>\n",
       "      <td>42</td>\n",
       "      <td>0</td>\n",
       "      <td>0</td>\n",
       "      <td>F</td>\n",
       "      <td>сотрудник</td>\n",
       "      <td>0</td>\n",
       "      <td>операции с недвижимостью</td>\n",
       "      <td>B</td>\n",
       "    </tr>\n",
       "    <tr>\n",
       "      <th>1</th>\n",
       "      <td>1</td>\n",
       "      <td>11.03</td>\n",
       "      <td>36</td>\n",
       "      <td>1</td>\n",
       "      <td>0</td>\n",
       "      <td>F</td>\n",
       "      <td>сотрудник</td>\n",
       "      <td>0</td>\n",
       "      <td>операции с автомобилем</td>\n",
       "      <td>C</td>\n",
       "    </tr>\n",
       "    <tr>\n",
       "      <th>2</th>\n",
       "      <td>0</td>\n",
       "      <td>15.41</td>\n",
       "      <td>33</td>\n",
       "      <td>1</td>\n",
       "      <td>0</td>\n",
       "      <td>M</td>\n",
       "      <td>сотрудник</td>\n",
       "      <td>0</td>\n",
       "      <td>операции с недвижимостью</td>\n",
       "      <td>C</td>\n",
       "    </tr>\n",
       "    <tr>\n",
       "      <th>3</th>\n",
       "      <td>3</td>\n",
       "      <td>11.30</td>\n",
       "      <td>32</td>\n",
       "      <td>1</td>\n",
       "      <td>0</td>\n",
       "      <td>M</td>\n",
       "      <td>сотрудник</td>\n",
       "      <td>0</td>\n",
       "      <td>получение образования</td>\n",
       "      <td>B</td>\n",
       "    </tr>\n",
       "    <tr>\n",
       "      <th>4</th>\n",
       "      <td>0</td>\n",
       "      <td>4.47</td>\n",
       "      <td>53</td>\n",
       "      <td>1</td>\n",
       "      <td>1</td>\n",
       "      <td>F</td>\n",
       "      <td>пенсионер</td>\n",
       "      <td>0</td>\n",
       "      <td>проведение свадьбы</td>\n",
       "      <td>C</td>\n",
       "    </tr>\n",
       "  </tbody>\n",
       "</table>\n",
       "</div>"
      ],
      "text/plain": [
       "   children  years_employed  dob_years  education_id  family_status_id gender  \\\n",
       "0         1           23.12         42             0                 0      F   \n",
       "1         1           11.03         36             1                 0      F   \n",
       "2         0           15.41         33             1                 0      M   \n",
       "3         3           11.30         32             1                 0      M   \n",
       "4         0            4.47         53             1                 1      F   \n",
       "\n",
       "  income_type  debt          purpose_category total_income_category  \n",
       "0   сотрудник     0  операции с недвижимостью                     B  \n",
       "1   сотрудник     0    операции с автомобилем                     C  \n",
       "2   сотрудник     0  операции с недвижимостью                     C  \n",
       "3   сотрудник     0     получение образования                     B  \n",
       "4   пенсионер     0        проведение свадьбы                     C  "
      ]
     },
     "execution_count": 51,
     "metadata": {},
     "output_type": "execute_result"
    }
   ],
   "source": [
    "data.head()"
   ]
  },
  {
   "cell_type": "markdown",
   "id": "07edc54c",
   "metadata": {},
   "source": [
    "## Поиск зависимостей возврата кредита от определенных атрибутов \"исторических\" клиентов"
   ]
  },
  {
   "cell_type": "markdown",
   "id": "ab427cff",
   "metadata": {},
   "source": [
    "### Есть ли зависимость между количеством детей и возвратом кредита в срок?"
   ]
  },
  {
   "cell_type": "code",
   "execution_count": 52,
   "id": "5fab1b60",
   "metadata": {},
   "outputs": [
    {
     "data": {
      "text/plain": [
       "children\n",
       "0    0.076728\n",
       "1    0.093454\n",
       "2    0.095145\n",
       "3    0.082067\n",
       "4    0.100000\n",
       "5    0.000000\n",
       "Name: debt, dtype: float64"
      ]
     },
     "execution_count": 52,
     "metadata": {},
     "output_type": "execute_result"
    }
   ],
   "source": [
    "data.groupby(['children'])['debt'].mean()"
   ]
  },
  {
   "cell_type": "markdown",
   "id": "cb684c95",
   "metadata": {},
   "source": [
    "***Вывод:*** \n",
    "\n",
    "Средняя доля должников колеблется в диапазоне 7.6 - 10 %\n",
    "\n",
    "\n",
    "Однозначно можно утверждать, что клиенты без детей меньше нарушают сроки кредита (7.6 %)."
   ]
  },
  {
   "cell_type": "markdown",
   "id": "47d1e916",
   "metadata": {},
   "source": [
    "### Есть ли зависимость между семейным положением и возвратом кредита в срок?"
   ]
  },
  {
   "cell_type": "code",
   "execution_count": 53,
   "id": "f8685925",
   "metadata": {},
   "outputs": [
    {
     "data": {
      "text/html": [
       "<div>\n",
       "<style scoped>\n",
       "    .dataframe tbody tr th:only-of-type {\n",
       "        vertical-align: middle;\n",
       "    }\n",
       "\n",
       "    .dataframe tbody tr th {\n",
       "        vertical-align: top;\n",
       "    }\n",
       "\n",
       "    .dataframe thead tr th {\n",
       "        text-align: left;\n",
       "    }\n",
       "\n",
       "    .dataframe thead tr:last-of-type th {\n",
       "        text-align: right;\n",
       "    }\n",
       "</style>\n",
       "<table border=\"1\" class=\"dataframe\">\n",
       "  <thead>\n",
       "    <tr>\n",
       "      <th></th>\n",
       "      <th>family_status</th>\n",
       "      <th colspan=\"2\" halign=\"left\">debt</th>\n",
       "      <th>debt_percent</th>\n",
       "    </tr>\n",
       "    <tr>\n",
       "      <th></th>\n",
       "      <th></th>\n",
       "      <th>sum</th>\n",
       "      <th>count</th>\n",
       "      <th></th>\n",
       "    </tr>\n",
       "    <tr>\n",
       "      <th>family_status_id</th>\n",
       "      <th></th>\n",
       "      <th></th>\n",
       "      <th></th>\n",
       "      <th></th>\n",
       "    </tr>\n",
       "  </thead>\n",
       "  <tbody>\n",
       "    <tr>\n",
       "      <th>0</th>\n",
       "      <td>женат / замужем</td>\n",
       "      <td>925</td>\n",
       "      <td>11998</td>\n",
       "      <td>7.7</td>\n",
       "    </tr>\n",
       "    <tr>\n",
       "      <th>1</th>\n",
       "      <td>гражданский брак</td>\n",
       "      <td>385</td>\n",
       "      <td>4106</td>\n",
       "      <td>9.4</td>\n",
       "    </tr>\n",
       "    <tr>\n",
       "      <th>2</th>\n",
       "      <td>вдовец / вдова</td>\n",
       "      <td>63</td>\n",
       "      <td>935</td>\n",
       "      <td>6.7</td>\n",
       "    </tr>\n",
       "    <tr>\n",
       "      <th>3</th>\n",
       "      <td>в разводе</td>\n",
       "      <td>84</td>\n",
       "      <td>1187</td>\n",
       "      <td>7.1</td>\n",
       "    </tr>\n",
       "    <tr>\n",
       "      <th>4</th>\n",
       "      <td>Не женат / не замужем</td>\n",
       "      <td>273</td>\n",
       "      <td>2770</td>\n",
       "      <td>9.9</td>\n",
       "    </tr>\n",
       "  </tbody>\n",
       "</table>\n",
       "</div>"
      ],
      "text/plain": [
       "                          family_status debt        debt_percent\n",
       "                                         sum  count             \n",
       "family_status_id                                                \n",
       "0                       женат / замужем  925  11998          7.7\n",
       "1                      гражданский брак  385   4106          9.4\n",
       "2                        вдовец / вдова   63    935          6.7\n",
       "3                             в разводе   84   1187          7.1\n",
       "4                 Не женат / не замужем  273   2770          9.9"
      ]
     },
     "execution_count": 53,
     "metadata": {},
     "output_type": "execute_result"
    }
   ],
   "source": [
    "# Разобъем клиентов по семейному положению\n",
    "# Определим общее количество клиентов по каждой группе и кол-во клиентов с репутацией должника\n",
    "agg_func_math = {'debt': ['sum', 'count']}\n",
    "repayment_rate_family = data.groupby(['family_status_id']).agg(agg_func_math)\n",
    "# определим долю должников по каждой из групп\n",
    "repayment_rate_family['debt_percent'] = round(repayment_rate_family['debt', 'sum'] / repayment_rate_family['debt', 'count'] * 100 , 1)\n",
    "repayment_rate_family.insert(0, 'family_status', family_status_data['family_status'], False)\n",
    "repayment_rate_family"
   ]
  },
  {
   "cell_type": "markdown",
   "id": "ff0e642a",
   "metadata": {},
   "source": [
    "***Вывод:*** \n",
    "\n",
    "Люди в гражданском браке, а также неженатые и незамужние более подвержены к просрочке кредита. Доля должников - 9-10%"
   ]
  },
  {
   "cell_type": "markdown",
   "id": "64f48c6b",
   "metadata": {},
   "source": [
    "### Есть ли зависимость между уровнем дохода и возвратом кредита в срок?"
   ]
  },
  {
   "cell_type": "code",
   "execution_count": 54,
   "id": "c8f0f226",
   "metadata": {},
   "outputs": [
    {
     "data": {
      "text/html": [
       "<div>\n",
       "<style scoped>\n",
       "    .dataframe tbody tr th:only-of-type {\n",
       "        vertical-align: middle;\n",
       "    }\n",
       "\n",
       "    .dataframe tbody tr th {\n",
       "        vertical-align: top;\n",
       "    }\n",
       "\n",
       "    .dataframe thead tr th {\n",
       "        text-align: left;\n",
       "    }\n",
       "\n",
       "    .dataframe thead tr:last-of-type th {\n",
       "        text-align: right;\n",
       "    }\n",
       "</style>\n",
       "<table border=\"1\" class=\"dataframe\">\n",
       "  <thead>\n",
       "    <tr>\n",
       "      <th></th>\n",
       "      <th colspan=\"2\" halign=\"left\">debt</th>\n",
       "      <th>debt_percent</th>\n",
       "    </tr>\n",
       "    <tr>\n",
       "      <th></th>\n",
       "      <th>sum</th>\n",
       "      <th>count</th>\n",
       "      <th></th>\n",
       "    </tr>\n",
       "    <tr>\n",
       "      <th>total_income_category</th>\n",
       "      <th></th>\n",
       "      <th></th>\n",
       "      <th></th>\n",
       "    </tr>\n",
       "  </thead>\n",
       "  <tbody>\n",
       "    <tr>\n",
       "      <th>A</th>\n",
       "      <td>2</td>\n",
       "      <td>25</td>\n",
       "      <td>8.0</td>\n",
       "    </tr>\n",
       "    <tr>\n",
       "      <th>B</th>\n",
       "      <td>354</td>\n",
       "      <td>5012</td>\n",
       "      <td>7.1</td>\n",
       "    </tr>\n",
       "    <tr>\n",
       "      <th>C</th>\n",
       "      <td>1351</td>\n",
       "      <td>15588</td>\n",
       "      <td>8.7</td>\n",
       "    </tr>\n",
       "    <tr>\n",
       "      <th>D</th>\n",
       "      <td>21</td>\n",
       "      <td>349</td>\n",
       "      <td>6.0</td>\n",
       "    </tr>\n",
       "    <tr>\n",
       "      <th>E</th>\n",
       "      <td>2</td>\n",
       "      <td>22</td>\n",
       "      <td>9.1</td>\n",
       "    </tr>\n",
       "  </tbody>\n",
       "</table>\n",
       "</div>"
      ],
      "text/plain": [
       "                       debt        debt_percent\n",
       "                        sum  count             \n",
       "total_income_category                          \n",
       "A                         2     25          8.0\n",
       "B                       354   5012          7.1\n",
       "C                      1351  15588          8.7\n",
       "D                        21    349          6.0\n",
       "E                         2     22          9.1"
      ]
     },
     "execution_count": 54,
     "metadata": {},
     "output_type": "execute_result"
    }
   ],
   "source": [
    "# Разобъем клиентов по категории дохода. \n",
    "# Определим общее количество клиентов по каждой группе и кол-во клиентов с репутацией должника\n",
    "agg_func_math = {'debt': ['sum', 'count']}\n",
    "repayment_rate_income = data.groupby(['total_income_category']).agg(agg_func_math)\n",
    "# определим долю должников по каждой из групп\n",
    "repayment_rate_income['debt_percent'] = round(repayment_rate_income['debt', 'sum'] / repayment_rate_income['debt', 'count'] * 100 , 1)\n",
    "repayment_rate_income"
   ]
  },
  {
   "cell_type": "markdown",
   "id": "a995ecd1",
   "metadata": {},
   "source": [
    "***Вывод:*** \n",
    "\n",
    "Нет прямой корелляции между доходом клиента и количеством должников. Скорее богатые так же могут нарушать сроки возврата из-за больших объемов кредитных средств. Жаль, что нам недоступны объемы кредитного долга клиентов. Меньше всего должников в срезе ежемесячного дохода 30 - 50 тр"
   ]
  },
  {
   "cell_type": "markdown",
   "id": "7dd6dbec",
   "metadata": {},
   "source": [
    "### Как разные цели кредита влияют на его возврат в срок?"
   ]
  },
  {
   "cell_type": "code",
   "execution_count": 55,
   "id": "1120e812",
   "metadata": {},
   "outputs": [
    {
     "data": {
      "text/html": [
       "<div>\n",
       "<style scoped>\n",
       "    .dataframe tbody tr th:only-of-type {\n",
       "        vertical-align: middle;\n",
       "    }\n",
       "\n",
       "    .dataframe tbody tr th {\n",
       "        vertical-align: top;\n",
       "    }\n",
       "\n",
       "    .dataframe thead tr th {\n",
       "        text-align: left;\n",
       "    }\n",
       "\n",
       "    .dataframe thead tr:last-of-type th {\n",
       "        text-align: right;\n",
       "    }\n",
       "</style>\n",
       "<table border=\"1\" class=\"dataframe\">\n",
       "  <thead>\n",
       "    <tr>\n",
       "      <th></th>\n",
       "      <th colspan=\"2\" halign=\"left\">debt</th>\n",
       "      <th>debt_percent</th>\n",
       "    </tr>\n",
       "    <tr>\n",
       "      <th></th>\n",
       "      <th>sum</th>\n",
       "      <th>count</th>\n",
       "      <th></th>\n",
       "    </tr>\n",
       "    <tr>\n",
       "      <th>purpose_category</th>\n",
       "      <th></th>\n",
       "      <th></th>\n",
       "      <th></th>\n",
       "    </tr>\n",
       "  </thead>\n",
       "  <tbody>\n",
       "    <tr>\n",
       "      <th>операции с автомобилем</th>\n",
       "      <td>399</td>\n",
       "      <td>4245</td>\n",
       "      <td>9.4</td>\n",
       "    </tr>\n",
       "    <tr>\n",
       "      <th>операции с недвижимостью</th>\n",
       "      <td>779</td>\n",
       "      <td>10517</td>\n",
       "      <td>7.4</td>\n",
       "    </tr>\n",
       "    <tr>\n",
       "      <th>получение образования</th>\n",
       "      <td>369</td>\n",
       "      <td>3939</td>\n",
       "      <td>9.4</td>\n",
       "    </tr>\n",
       "    <tr>\n",
       "      <th>проведение свадьбы</th>\n",
       "      <td>183</td>\n",
       "      <td>2295</td>\n",
       "      <td>8.0</td>\n",
       "    </tr>\n",
       "  </tbody>\n",
       "</table>\n",
       "</div>"
      ],
      "text/plain": [
       "                         debt        debt_percent\n",
       "                          sum  count             \n",
       "purpose_category                                 \n",
       "операции с автомобилем    399   4245          9.4\n",
       "операции с недвижимостью  779  10517          7.4\n",
       "получение образования     369   3939          9.4\n",
       "проведение свадьбы        183   2295          8.0"
      ]
     },
     "execution_count": 55,
     "metadata": {},
     "output_type": "execute_result"
    }
   ],
   "source": [
    "# Разобъем клиентов по целям получения кредита\n",
    "# Определим общее количество клиентов по каждой группе и кол-во клиентов с репутацией должника\n",
    "agg_func_math = {'debt': ['sum', 'count']}\n",
    "repayment_rate_purpose = data.groupby(['purpose_category']).agg(agg_func_math)\n",
    "# определим долю должников по каждой из групп\n",
    "repayment_rate_purpose['debt_percent'] = round(repayment_rate_purpose['debt', 'sum'] / repayment_rate_purpose['debt', 'count'] * 100 , 1)\n",
    "repayment_rate_purpose"
   ]
  },
  {
   "cell_type": "markdown",
   "id": "bdca7d32",
   "metadata": {},
   "source": [
    "***Вывод:*** \n",
    "\n",
    "Должников меньше всего среди клиентов, получивших под цели операций с недвижимостью"
   ]
  },
  {
   "cell_type": "markdown",
   "id": "9be79051",
   "metadata": {},
   "source": [
    "### Как разные типы занятости влияют на его возврат в срок?"
   ]
  },
  {
   "cell_type": "code",
   "execution_count": 56,
   "id": "873c4242",
   "metadata": {},
   "outputs": [
    {
     "data": {
      "text/html": [
       "<div>\n",
       "<style scoped>\n",
       "    .dataframe tbody tr th:only-of-type {\n",
       "        vertical-align: middle;\n",
       "    }\n",
       "\n",
       "    .dataframe tbody tr th {\n",
       "        vertical-align: top;\n",
       "    }\n",
       "\n",
       "    .dataframe thead tr th {\n",
       "        text-align: left;\n",
       "    }\n",
       "\n",
       "    .dataframe thead tr:last-of-type th {\n",
       "        text-align: right;\n",
       "    }\n",
       "</style>\n",
       "<table border=\"1\" class=\"dataframe\">\n",
       "  <thead>\n",
       "    <tr>\n",
       "      <th></th>\n",
       "      <th colspan=\"2\" halign=\"left\">debt</th>\n",
       "      <th>debt_percent</th>\n",
       "    </tr>\n",
       "    <tr>\n",
       "      <th></th>\n",
       "      <th>sum</th>\n",
       "      <th>count</th>\n",
       "      <th></th>\n",
       "    </tr>\n",
       "    <tr>\n",
       "      <th>income_type</th>\n",
       "      <th></th>\n",
       "      <th></th>\n",
       "      <th></th>\n",
       "    </tr>\n",
       "  </thead>\n",
       "  <tbody>\n",
       "    <tr>\n",
       "      <th>безработный</th>\n",
       "      <td>1</td>\n",
       "      <td>2</td>\n",
       "      <td>50.0</td>\n",
       "    </tr>\n",
       "    <tr>\n",
       "      <th>в декрете</th>\n",
       "      <td>1</td>\n",
       "      <td>1</td>\n",
       "      <td>100.0</td>\n",
       "    </tr>\n",
       "    <tr>\n",
       "      <th>госслужащий</th>\n",
       "      <td>86</td>\n",
       "      <td>1444</td>\n",
       "      <td>6.0</td>\n",
       "    </tr>\n",
       "    <tr>\n",
       "      <th>компаньон</th>\n",
       "      <td>374</td>\n",
       "      <td>5001</td>\n",
       "      <td>7.5</td>\n",
       "    </tr>\n",
       "    <tr>\n",
       "      <th>пенсионер</th>\n",
       "      <td>216</td>\n",
       "      <td>3715</td>\n",
       "      <td>5.8</td>\n",
       "    </tr>\n",
       "    <tr>\n",
       "      <th>предприниматель</th>\n",
       "      <td>0</td>\n",
       "      <td>2</td>\n",
       "      <td>0.0</td>\n",
       "    </tr>\n",
       "    <tr>\n",
       "      <th>сотрудник</th>\n",
       "      <td>1052</td>\n",
       "      <td>10830</td>\n",
       "      <td>9.7</td>\n",
       "    </tr>\n",
       "    <tr>\n",
       "      <th>студент</th>\n",
       "      <td>0</td>\n",
       "      <td>1</td>\n",
       "      <td>0.0</td>\n",
       "    </tr>\n",
       "  </tbody>\n",
       "</table>\n",
       "</div>"
      ],
      "text/plain": [
       "                 debt        debt_percent\n",
       "                  sum  count             \n",
       "income_type                              \n",
       "безработный         1      2         50.0\n",
       "в декрете           1      1        100.0\n",
       "госслужащий        86   1444          6.0\n",
       "компаньон         374   5001          7.5\n",
       "пенсионер         216   3715          5.8\n",
       "предприниматель     0      2          0.0\n",
       "сотрудник        1052  10830          9.7\n",
       "студент             0      1          0.0"
      ]
     },
     "execution_count": 56,
     "metadata": {},
     "output_type": "execute_result"
    }
   ],
   "source": [
    "# Разобъем клиентов по категории типа занятости. \n",
    "# Определим общее количество клиентов по каждой группе и кол-во клиентов с репутацией должника\n",
    "agg_func_math = {'debt': ['sum', 'count']}\n",
    "repayment_rate_type = data.groupby(['income_type']).agg(agg_func_math)\n",
    "# определим долю должников по каждой из групп\n",
    "repayment_rate_type['debt_percent'] = round(repayment_rate_type['debt', 'sum'] / repayment_rate_type['debt', 'count'] * 100 , 1)\n",
    "repayment_rate_type"
   ]
  },
  {
   "cell_type": "markdown",
   "id": "4be9a46c",
   "metadata": {},
   "source": [
    "***Вывод:*** \n",
    "\n",
    "Должников меньше всего среди пенсионеров и госслужащих. Доля должников 6%"
   ]
  },
  {
   "cell_type": "markdown",
   "id": "264e20e4",
   "metadata": {},
   "source": [
    "### Как уровень образования влияет на возврат кредита в срок?"
   ]
  },
  {
   "cell_type": "code",
   "execution_count": 57,
   "id": "de8e7bdd",
   "metadata": {},
   "outputs": [
    {
     "data": {
      "text/html": [
       "<div>\n",
       "<style scoped>\n",
       "    .dataframe tbody tr th:only-of-type {\n",
       "        vertical-align: middle;\n",
       "    }\n",
       "\n",
       "    .dataframe tbody tr th {\n",
       "        vertical-align: top;\n",
       "    }\n",
       "\n",
       "    .dataframe thead tr th {\n",
       "        text-align: left;\n",
       "    }\n",
       "\n",
       "    .dataframe thead tr:last-of-type th {\n",
       "        text-align: right;\n",
       "    }\n",
       "</style>\n",
       "<table border=\"1\" class=\"dataframe\">\n",
       "  <thead>\n",
       "    <tr>\n",
       "      <th></th>\n",
       "      <th>education</th>\n",
       "      <th colspan=\"2\" halign=\"left\">debt</th>\n",
       "      <th>debt_percent</th>\n",
       "    </tr>\n",
       "    <tr>\n",
       "      <th></th>\n",
       "      <th></th>\n",
       "      <th>sum</th>\n",
       "      <th>count</th>\n",
       "      <th></th>\n",
       "    </tr>\n",
       "    <tr>\n",
       "      <th>education_id</th>\n",
       "      <th></th>\n",
       "      <th></th>\n",
       "      <th></th>\n",
       "      <th></th>\n",
       "    </tr>\n",
       "  </thead>\n",
       "  <tbody>\n",
       "    <tr>\n",
       "      <th>0</th>\n",
       "      <td>высшее</td>\n",
       "      <td>278</td>\n",
       "      <td>5189</td>\n",
       "      <td>5.4</td>\n",
       "    </tr>\n",
       "    <tr>\n",
       "      <th>1</th>\n",
       "      <td>среднее</td>\n",
       "      <td>1353</td>\n",
       "      <td>14779</td>\n",
       "      <td>9.2</td>\n",
       "    </tr>\n",
       "    <tr>\n",
       "      <th>2</th>\n",
       "      <td>неоконченное высшее</td>\n",
       "      <td>68</td>\n",
       "      <td>740</td>\n",
       "      <td>9.2</td>\n",
       "    </tr>\n",
       "    <tr>\n",
       "      <th>3</th>\n",
       "      <td>начальное</td>\n",
       "      <td>31</td>\n",
       "      <td>282</td>\n",
       "      <td>11.0</td>\n",
       "    </tr>\n",
       "    <tr>\n",
       "      <th>4</th>\n",
       "      <td>ученая степень</td>\n",
       "      <td>0</td>\n",
       "      <td>6</td>\n",
       "      <td>0.0</td>\n",
       "    </tr>\n",
       "  </tbody>\n",
       "</table>\n",
       "</div>"
      ],
      "text/plain": [
       "                        education  debt        debt_percent\n",
       "                                    sum  count             \n",
       "education_id                                               \n",
       "0                          высшее   278   5189          5.4\n",
       "1                         среднее  1353  14779          9.2\n",
       "2             неоконченное высшее    68    740          9.2\n",
       "3                       начальное    31    282         11.0\n",
       "4                  ученая степень     0      6          0.0"
      ]
     },
     "execution_count": 57,
     "metadata": {},
     "output_type": "execute_result"
    }
   ],
   "source": [
    "# Разобъем клиентов по категории образования. \n",
    "# Определим общее количество клиентов по каждой группе и кол-во клиентов с репутацией должника\n",
    "agg_func_math = {'debt': ['sum', 'count']}\n",
    "repayment_rate_education = data.groupby(['education_id']).agg(agg_func_math)\n",
    "# определим долю должников по каждой из групп\n",
    "repayment_rate_education['debt_percent'] = round(repayment_rate_education['debt', 'sum'] / repayment_rate_education['debt', 'count'] * 100 , 1)\n",
    "repayment_rate_education.insert(0, 'education', education_data['education'], False)\n",
    "repayment_rate_education"
   ]
  },
  {
   "cell_type": "markdown",
   "id": "70324e6a",
   "metadata": {},
   "source": [
    "***Вывод:*** \n",
    "\n",
    "Меньше всего должников среди клиентов с высшим образованием. Причем значитально. Имеется корелляция относительно уровня образования клиента, если не учитывать разницу в количестве выборки. Заказчику стоит на это обратить внимание."
   ]
  },
  {
   "cell_type": "markdown",
   "id": "94c61792",
   "metadata": {},
   "source": [
    "### Портрет идеального клиента"
   ]
  },
  {
   "cell_type": "markdown",
   "id": "8f0a2492",
   "metadata": {},
   "source": [
    " “Портрет” идеального клиента для банка с точки зрения отсутствия просрочек: это однозначно человек с высшим образованием, госслужащий или пенсионер, получающий кредит под цели операций с недвижимостью, не неженатый/незамужняя и не в гражданском браке. Как много таких людей в массиве данных?"
   ]
  },
  {
   "cell_type": "code",
   "execution_count": 58,
   "id": "e9d84699",
   "metadata": {},
   "outputs": [
    {
     "data": {
      "text/plain": [
       "477"
      ]
     },
     "execution_count": 58,
     "metadata": {},
     "output_type": "execute_result"
    }
   ],
   "source": [
    "best_clients = data.loc[ \n",
    "    (data['education_id'] == 0) & \n",
    "    (data['income_type'].isin(['госслужащий', 'пенсионер'])) & \n",
    "    (data['purpose_category'] == 'операции с недвижимостью') &\n",
    "    (data['family_status_id'].isin([0, 2, 3]))\n",
    "     ]\n",
    "len(best_clients)\n"
   ]
  },
  {
   "cell_type": "code",
   "execution_count": 59,
   "id": "480e6ce1",
   "metadata": {},
   "outputs": [
    {
     "data": {
      "text/plain": [
       "'Доля должников среди \"идеальных\" клиентов 4.0%'"
      ]
     },
     "execution_count": 59,
     "metadata": {},
     "output_type": "execute_result"
    }
   ],
   "source": [
    "'Доля должников среди \"идеальных\" клиентов {:.1%}'.format(best_clients['debt'].sum() / best_clients['debt'].count())"
   ]
  },
  {
   "cell_type": "markdown",
   "id": "96b6636d",
   "metadata": {},
   "source": [
    "Заказчику стоит задуматься над тем, чтобы привлекать клиентов описанных выше. В среднем доля должников сильно меньше ранее изученных зависимостей и составляет 4%, однако и выборка небольшая - 2.5 % от всего количества клиентов."
   ]
  },
  {
   "cell_type": "markdown",
   "id": "f816d1d9",
   "metadata": {},
   "source": [
    "## Вывод"
   ]
  },
  {
   "cell_type": "markdown",
   "id": "1bcfcf9e",
   "metadata": {},
   "source": [
    "Выводы по предобработке данных:\n",
    "\n",
    "- Заказчиком предоставлен достаточно большой массив данных клиентов. До удаления дубликатов 21 524 кредитов под разные цели. При условии, что клиенты не одни и те же люди это практически население небольшого поселка.\n",
    "- Среди данных обнаружены пропущенные значения по стажу и доходам в количестве 2174 штук. Это практически 10% от всей информации. Пропуски по одним и тем кредитам/ заемщикам, и как оказалось никак не связаны с безработными.\n",
    "- Количество явных дубликатов 54 штук (0.25 % от общей информации). Удалены.\n",
    "\n",
    "\n",
    "Аномалии:\n",
    "1. Имеются заемщики с отрицательным количеством детей (-1) и с 20-ю. Их количество небольшое (0.6%). Удалены. \n",
    "2. Имеются нулевые значения возраста (100 шт). Заменены на медиану после исключения неявных дубликатов.\n",
    "3. Три четверти данных содержат отрицательный стаж клиентов. Вероятно минус перепутан со знаком дефиса. По 3.5 тысячам кредитам стаж работы клиентов превышает их возраст. Аномалия представлена практически только по пенсионерам. Заменены “для галочки” на медиану после исключения неявных дубликатов.\n",
    "4. Удален клиент с гендером XNA.\n",
    "\n",
    "- Данные по образованию приведены в нижний регистр и этого было достаточно для их категоризации.\n",
    "- Ранее присвоенные id в данных Заказчика как по образованию, так и по семейному положению корректные.\n",
    "- После вышекузанной работы определены неявные дубликаты в количестве 351 штук.\n",
    "- Пропущенные значения по стажу, доходу, нулевой возраст заменены на медианные значения.\n",
    "\n",
    "__Результаты исследования для скоринговой системы:__\n",
    "\n",
    "- Зависимость между количеством детей и возвратом кредита в срок отсутствует. Средняя доля должников колеблется в диапазоне 8 - 11 %\n",
    "- Люди в разводе, а также вдовы/вдовцы менее подвержены к просрочке кредита. Доля должников - 7%. Однако это может быть связано с меньшим количеством выборки. Незамужние и неженатые клиенты более подвержены к просрочке кредита. Доля должников - 10%.\n",
    "- Нет прямой корелляции между доходом клиента и количеством должников. Может стоило дробить доходы с меньшим шагом. Люди в достатке так же могут нарушать сроки кредита из-за больших объемов кредитных средств. Жаль, что нам недоступны объемы кредитного долга клиентов. Меньше всего должников в срезе ежемесячного дохода от 30 тр до 50 тр.\n",
    "- Должников меньше всего среди клиентов, получавших кредит под цели операций с недвижимостью.\n",
    "- Должников меньше всего среди пенсионеров и госслужащих. Доля должников 6%\n",
    "- Меньше всего должников среди клиентов с высшим образованием. Доля должников 5%. Причем значительно ниже от другой страты населения, по которым доля колеблется в районе 10%. Заказчику стоит на это обратить внимание.\n",
    "- ”Портрет” идеального клиента для банка с точки зрения отсутствия просрочек: это однозначно человек с высшим образованием, госслужащий или пенсионер, получающий кредит под цели операций с недвижимостью, неженатый и незамужняя и не в гражданском браке\n",
    "- Заказчику стоит задуматься над тем, чтобы привлекать клиентов описанных выше. В среднем доля должников сильно меньше и составляет 4%, однако и выборка небольшая - 2.5 % от всего количества клиентов. Поэтому это рекомендация нисколько к выбору клиента, сколько к приоритизации и составлению рейтинга потенцаильного \"добросовестного\" заемщика.\n",
    "\n",
    "Факты:\n",
    "- Факт №1. Две трети заемщиков без детей\n",
    "- Факт №2. Самая популярная категория, как и ожидалось - это “недвижимость”. Практически половина кредитов выдана под операции с недвижимостью.\n",
    "- Факт №3. Большинство клиентов (75%) имеют доход от 50 до 200 тр. Вероятно это связано с уровнем ЗП и ее распределением в целом у населения."
   ]
  }
 ],
 "metadata": {
  "ExecuteTimeLog": [
   {
    "duration": 103,
    "start_time": "2022-02-20T04:34:08.160Z"
   },
   {
    "duration": 109,
    "start_time": "2022-02-20T04:34:13.085Z"
   },
   {
    "duration": 107,
    "start_time": "2022-02-20T04:34:45.152Z"
   },
   {
    "duration": 178,
    "start_time": "2022-02-20T04:34:48.958Z"
   },
   {
    "duration": 1008,
    "start_time": "2022-02-20T04:35:03.263Z"
   },
   {
    "duration": 1533,
    "start_time": "2022-02-20T04:35:16.698Z"
   },
   {
    "duration": 3,
    "start_time": "2022-02-20T04:35:23.763Z"
   },
   {
    "duration": 115,
    "start_time": "2022-02-20T04:36:49.625Z"
   },
   {
    "duration": 79,
    "start_time": "2022-02-20T04:38:23.747Z"
   },
   {
    "duration": 105,
    "start_time": "2022-02-20T04:39:46.495Z"
   },
   {
    "duration": 110,
    "start_time": "2022-02-20T04:40:45.221Z"
   },
   {
    "duration": 82,
    "start_time": "2022-02-20T04:41:32.826Z"
   },
   {
    "duration": 107,
    "start_time": "2022-02-20T04:41:49.435Z"
   },
   {
    "duration": 16,
    "start_time": "2022-02-20T04:43:01.607Z"
   },
   {
    "duration": 154,
    "start_time": "2022-02-20T04:43:50.483Z"
   },
   {
    "duration": 146,
    "start_time": "2022-02-20T04:46:10.186Z"
   },
   {
    "duration": 93,
    "start_time": "2022-02-20T04:52:26.244Z"
   },
   {
    "duration": 15,
    "start_time": "2022-02-20T04:52:27.282Z"
   },
   {
    "duration": 28,
    "start_time": "2022-02-20T05:12:06.311Z"
   },
   {
    "duration": 78,
    "start_time": "2022-02-20T05:37:07.748Z"
   },
   {
    "duration": 16,
    "start_time": "2022-02-20T05:39:07.571Z"
   },
   {
    "duration": 13,
    "start_time": "2022-02-20T05:43:06.025Z"
   },
   {
    "duration": 99,
    "start_time": "2022-02-20T05:43:56.260Z"
   },
   {
    "duration": 13,
    "start_time": "2022-02-20T05:44:04.071Z"
   },
   {
    "duration": 15,
    "start_time": "2022-02-20T05:44:17.514Z"
   },
   {
    "duration": 14,
    "start_time": "2022-02-20T05:45:00.158Z"
   },
   {
    "duration": 358,
    "start_time": "2022-02-20T05:49:09.393Z"
   },
   {
    "duration": 14,
    "start_time": "2022-02-20T05:50:49.516Z"
   },
   {
    "duration": 14,
    "start_time": "2022-02-20T05:51:00.737Z"
   },
   {
    "duration": 19,
    "start_time": "2022-02-20T05:52:57.344Z"
   },
   {
    "duration": 15,
    "start_time": "2022-02-20T05:53:07.918Z"
   },
   {
    "duration": 185,
    "start_time": "2022-02-20T05:55:33.451Z"
   },
   {
    "duration": 16,
    "start_time": "2022-02-20T05:56:00.892Z"
   },
   {
    "duration": 17,
    "start_time": "2022-02-20T05:56:43.342Z"
   },
   {
    "duration": 16,
    "start_time": "2022-02-20T05:57:22.346Z"
   },
   {
    "duration": 105,
    "start_time": "2022-02-20T06:03:55.812Z"
   },
   {
    "duration": 25,
    "start_time": "2022-02-20T06:12:24.496Z"
   },
   {
    "duration": 25,
    "start_time": "2022-02-20T06:13:06.912Z"
   },
   {
    "duration": 20,
    "start_time": "2022-02-20T06:14:14.042Z"
   },
   {
    "duration": 22,
    "start_time": "2022-02-20T06:14:25.135Z"
   },
   {
    "duration": 23,
    "start_time": "2022-02-20T06:14:26.033Z"
   },
   {
    "duration": 38,
    "start_time": "2022-02-20T08:32:35.689Z"
   },
   {
    "duration": 1626,
    "start_time": "2022-02-20T08:40:19.726Z"
   },
   {
    "duration": 559,
    "start_time": "2022-02-20T08:40:25.723Z"
   },
   {
    "duration": 9,
    "start_time": "2022-02-20T08:40:42.834Z"
   },
   {
    "duration": 37,
    "start_time": "2022-02-20T08:40:47.575Z"
   },
   {
    "duration": 334,
    "start_time": "2022-02-20T08:41:07.990Z"
   },
   {
    "duration": 11,
    "start_time": "2022-02-20T08:41:11.923Z"
   },
   {
    "duration": 14,
    "start_time": "2022-02-20T08:41:36.293Z"
   },
   {
    "duration": 114,
    "start_time": "2022-02-20T08:41:41.865Z"
   },
   {
    "duration": 14,
    "start_time": "2022-02-20T08:42:41.025Z"
   },
   {
    "duration": 14,
    "start_time": "2022-02-20T08:48:23.891Z"
   },
   {
    "duration": 15,
    "start_time": "2022-02-20T08:50:35.334Z"
   },
   {
    "duration": 12,
    "start_time": "2022-02-20T08:52:39.904Z"
   },
   {
    "duration": 16,
    "start_time": "2022-02-20T08:53:08.041Z"
   },
   {
    "duration": 12,
    "start_time": "2022-02-20T08:53:46.640Z"
   },
   {
    "duration": 13,
    "start_time": "2022-02-20T08:54:34.126Z"
   },
   {
    "duration": 12,
    "start_time": "2022-02-20T08:54:39.525Z"
   },
   {
    "duration": 6,
    "start_time": "2022-02-20T08:58:13.786Z"
   },
   {
    "duration": 24,
    "start_time": "2022-02-20T08:58:30.193Z"
   },
   {
    "duration": 24,
    "start_time": "2022-02-20T08:59:02.318Z"
   },
   {
    "duration": 23,
    "start_time": "2022-02-20T08:59:36.066Z"
   },
   {
    "duration": 30,
    "start_time": "2022-02-20T08:59:36.839Z"
   },
   {
    "duration": 17,
    "start_time": "2022-02-20T08:59:38.493Z"
   },
   {
    "duration": 13,
    "start_time": "2022-02-20T09:16:58.739Z"
   },
   {
    "duration": 42,
    "start_time": "2022-02-20T09:36:03.940Z"
   },
   {
    "duration": 9,
    "start_time": "2022-02-20T09:36:33.822Z"
   },
   {
    "duration": 9,
    "start_time": "2022-02-20T09:36:48.311Z"
   },
   {
    "duration": 8,
    "start_time": "2022-02-20T09:36:54.800Z"
   },
   {
    "duration": 9,
    "start_time": "2022-02-20T09:37:00.625Z"
   },
   {
    "duration": 16,
    "start_time": "2022-02-20T09:38:35.187Z"
   },
   {
    "duration": 14,
    "start_time": "2022-02-20T09:38:40.731Z"
   },
   {
    "duration": 9,
    "start_time": "2022-02-20T09:41:21.394Z"
   },
   {
    "duration": 145,
    "start_time": "2022-02-20T09:42:17.074Z"
   },
   {
    "duration": 8,
    "start_time": "2022-02-20T09:50:47.242Z"
   },
   {
    "duration": 22,
    "start_time": "2022-02-20T09:51:09.997Z"
   },
   {
    "duration": 15,
    "start_time": "2022-02-20T09:58:30.188Z"
   },
   {
    "duration": 29,
    "start_time": "2022-02-20T09:58:56.664Z"
   },
   {
    "duration": 24,
    "start_time": "2022-02-20T09:59:00.859Z"
   },
   {
    "duration": 14,
    "start_time": "2022-02-20T09:59:04.795Z"
   },
   {
    "duration": 20,
    "start_time": "2022-02-20T09:59:08.158Z"
   },
   {
    "duration": 13,
    "start_time": "2022-02-20T09:59:08.799Z"
   },
   {
    "duration": 14,
    "start_time": "2022-02-20T09:59:19.013Z"
   },
   {
    "duration": 22,
    "start_time": "2022-02-20T09:59:20.739Z"
   },
   {
    "duration": 13,
    "start_time": "2022-02-20T09:59:21.368Z"
   },
   {
    "duration": 12,
    "start_time": "2022-02-20T09:59:30.456Z"
   },
   {
    "duration": 125,
    "start_time": "2022-02-20T09:59:36.993Z"
   },
   {
    "duration": 23,
    "start_time": "2022-02-20T09:59:37.622Z"
   },
   {
    "duration": 19,
    "start_time": "2022-02-20T09:59:39.443Z"
   },
   {
    "duration": 17,
    "start_time": "2022-02-20T09:59:40.388Z"
   },
   {
    "duration": 25,
    "start_time": "2022-02-20T09:59:42.414Z"
   },
   {
    "duration": 24,
    "start_time": "2022-02-20T09:59:42.995Z"
   },
   {
    "duration": 22,
    "start_time": "2022-02-20T09:59:47.049Z"
   },
   {
    "duration": 31,
    "start_time": "2022-02-20T10:03:44.284Z"
   },
   {
    "duration": 22,
    "start_time": "2022-02-20T10:03:52.908Z"
   },
   {
    "duration": 20,
    "start_time": "2022-02-20T10:04:36.185Z"
   },
   {
    "duration": 115,
    "start_time": "2022-02-20T10:06:09.593Z"
   },
   {
    "duration": 17,
    "start_time": "2022-02-20T10:06:09.946Z"
   },
   {
    "duration": 17,
    "start_time": "2022-02-20T10:06:10.650Z"
   },
   {
    "duration": 15,
    "start_time": "2022-02-20T10:06:11.027Z"
   },
   {
    "duration": 19,
    "start_time": "2022-02-20T10:06:11.810Z"
   },
   {
    "duration": 21,
    "start_time": "2022-02-20T10:06:12.027Z"
   },
   {
    "duration": 12,
    "start_time": "2022-02-20T10:06:12.449Z"
   },
   {
    "duration": 9,
    "start_time": "2022-02-20T10:06:13.409Z"
   },
   {
    "duration": 23,
    "start_time": "2022-02-20T10:06:14.224Z"
   },
   {
    "duration": 8,
    "start_time": "2022-02-20T10:46:12.481Z"
   },
   {
    "duration": 7,
    "start_time": "2022-02-20T10:46:16.365Z"
   },
   {
    "duration": 108,
    "start_time": "2022-02-20T10:46:44.287Z"
   },
   {
    "duration": 7,
    "start_time": "2022-02-20T11:07:21.208Z"
   },
   {
    "duration": 430,
    "start_time": "2022-02-20T11:13:28.031Z"
   },
   {
    "duration": 366,
    "start_time": "2022-02-20T11:13:49.794Z"
   },
   {
    "duration": 347,
    "start_time": "2022-02-20T11:13:55.738Z"
   },
   {
    "duration": 478,
    "start_time": "2022-02-20T11:14:13.850Z"
   },
   {
    "duration": 9,
    "start_time": "2022-02-20T11:43:35.193Z"
   },
   {
    "duration": 351,
    "start_time": "2022-02-20T12:06:47.169Z"
   },
   {
    "duration": 102,
    "start_time": "2022-02-20T12:06:53.237Z"
   },
   {
    "duration": 18,
    "start_time": "2022-02-20T12:06:54.102Z"
   },
   {
    "duration": 18,
    "start_time": "2022-02-20T12:06:54.951Z"
   },
   {
    "duration": 15,
    "start_time": "2022-02-20T12:06:55.331Z"
   },
   {
    "duration": 21,
    "start_time": "2022-02-20T12:06:56.078Z"
   },
   {
    "duration": 23,
    "start_time": "2022-02-20T12:06:56.762Z"
   },
   {
    "duration": 15,
    "start_time": "2022-02-20T12:06:58.410Z"
   },
   {
    "duration": 395,
    "start_time": "2022-02-20T12:09:30.108Z"
   },
   {
    "duration": 11,
    "start_time": "2022-02-20T12:09:57.153Z"
   },
   {
    "duration": 13,
    "start_time": "2022-02-20T12:14:28.669Z"
   },
   {
    "duration": 482,
    "start_time": "2022-02-20T12:20:34.973Z"
   },
   {
    "duration": 25,
    "start_time": "2022-02-20T12:20:43.670Z"
   },
   {
    "duration": 23,
    "start_time": "2022-02-20T12:21:21.711Z"
   },
   {
    "duration": 50,
    "start_time": "2022-02-20T12:24:08.029Z"
   },
   {
    "duration": 57,
    "start_time": "2022-02-20T12:24:27.442Z"
   },
   {
    "duration": 29,
    "start_time": "2022-02-20T12:24:43.162Z"
   },
   {
    "duration": 48,
    "start_time": "2022-02-20T12:24:50.350Z"
   },
   {
    "duration": 31,
    "start_time": "2022-02-20T12:26:37.943Z"
   },
   {
    "duration": 86,
    "start_time": "2022-02-20T12:26:50.114Z"
   },
   {
    "duration": 16,
    "start_time": "2022-02-20T12:26:50.668Z"
   },
   {
    "duration": 15,
    "start_time": "2022-02-20T12:26:51.509Z"
   },
   {
    "duration": 17,
    "start_time": "2022-02-20T12:26:51.896Z"
   },
   {
    "duration": 22,
    "start_time": "2022-02-20T12:26:52.706Z"
   },
   {
    "duration": 21,
    "start_time": "2022-02-20T12:26:52.889Z"
   },
   {
    "duration": 13,
    "start_time": "2022-02-20T12:26:53.306Z"
   },
   {
    "duration": 11,
    "start_time": "2022-02-20T12:26:53.733Z"
   },
   {
    "duration": 24,
    "start_time": "2022-02-20T12:26:54.556Z"
   },
   {
    "duration": 43,
    "start_time": "2022-02-20T12:26:54.767Z"
   },
   {
    "duration": 8,
    "start_time": "2022-02-20T12:32:49.123Z"
   },
   {
    "duration": 36,
    "start_time": "2022-02-20T12:38:00.652Z"
   },
   {
    "duration": 4,
    "start_time": "2022-02-20T12:40:53.188Z"
   },
   {
    "duration": 23,
    "start_time": "2022-02-20T12:41:05.672Z"
   },
   {
    "duration": 47,
    "start_time": "2022-02-20T12:41:06.261Z"
   },
   {
    "duration": 11,
    "start_time": "2022-02-20T12:41:25.637Z"
   },
   {
    "duration": 10,
    "start_time": "2022-02-20T12:42:02.736Z"
   },
   {
    "duration": 137,
    "start_time": "2022-02-20T12:42:40.208Z"
   },
   {
    "duration": 13,
    "start_time": "2022-02-20T12:44:45.200Z"
   },
   {
    "duration": 14,
    "start_time": "2022-02-20T12:44:54.312Z"
   },
   {
    "duration": 10,
    "start_time": "2022-02-20T12:45:09.555Z"
   },
   {
    "duration": 10,
    "start_time": "2022-02-20T12:45:11.372Z"
   },
   {
    "duration": 10,
    "start_time": "2022-02-20T12:47:15.377Z"
   },
   {
    "duration": 11,
    "start_time": "2022-02-20T12:47:17.696Z"
   },
   {
    "duration": 10,
    "start_time": "2022-02-20T12:48:39.933Z"
   },
   {
    "duration": 113,
    "start_time": "2022-02-20T13:50:01.026Z"
   },
   {
    "duration": 118,
    "start_time": "2022-02-20T13:50:31.781Z"
   },
   {
    "duration": 110,
    "start_time": "2022-02-20T13:50:45.472Z"
   },
   {
    "duration": 114,
    "start_time": "2022-02-20T13:51:23.741Z"
   },
   {
    "duration": 123,
    "start_time": "2022-02-20T13:51:35.466Z"
   },
   {
    "duration": 9,
    "start_time": "2022-02-20T13:53:24.707Z"
   },
   {
    "duration": 150,
    "start_time": "2022-02-20T14:01:16.476Z"
   },
   {
    "duration": 720,
    "start_time": "2022-02-20T14:02:36.111Z"
   },
   {
    "duration": 704,
    "start_time": "2022-02-20T14:02:49.464Z"
   },
   {
    "duration": 704,
    "start_time": "2022-02-20T14:03:09.685Z"
   },
   {
    "duration": 9,
    "start_time": "2022-02-20T14:03:25.681Z"
   },
   {
    "duration": 710,
    "start_time": "2022-02-20T14:03:45.125Z"
   },
   {
    "duration": 10,
    "start_time": "2022-02-20T14:04:03.869Z"
   },
   {
    "duration": 14,
    "start_time": "2022-02-20T14:04:05.793Z"
   },
   {
    "duration": 726,
    "start_time": "2022-02-20T14:04:08.526Z"
   },
   {
    "duration": 11,
    "start_time": "2022-02-20T14:04:15.322Z"
   },
   {
    "duration": 681,
    "start_time": "2022-02-20T14:04:46.143Z"
   },
   {
    "duration": 10,
    "start_time": "2022-02-20T14:04:48.240Z"
   },
   {
    "duration": 683,
    "start_time": "2022-02-20T14:05:11.494Z"
   },
   {
    "duration": 10,
    "start_time": "2022-02-20T14:05:12.385Z"
   },
   {
    "duration": 689,
    "start_time": "2022-02-20T14:19:26.902Z"
   },
   {
    "duration": 18,
    "start_time": "2022-02-20T14:19:27.593Z"
   },
   {
    "duration": 19,
    "start_time": "2022-02-20T14:26:00.118Z"
   },
   {
    "duration": 10334,
    "start_time": "2022-02-20T14:26:28.617Z"
   },
   {
    "duration": -212,
    "start_time": "2022-02-20T14:26:39.166Z"
   },
   {
    "duration": -213,
    "start_time": "2022-02-20T14:26:39.169Z"
   },
   {
    "duration": 10082,
    "start_time": "2022-02-20T14:26:44.614Z"
   },
   {
    "duration": -157,
    "start_time": "2022-02-20T14:27:26.647Z"
   },
   {
    "duration": 96,
    "start_time": "2022-02-20T14:27:30.359Z"
   },
   {
    "duration": 14,
    "start_time": "2022-02-20T14:27:30.458Z"
   },
   {
    "duration": 37,
    "start_time": "2022-02-20T14:27:30.475Z"
   },
   {
    "duration": 19,
    "start_time": "2022-02-20T14:27:30.515Z"
   },
   {
    "duration": 21,
    "start_time": "2022-02-20T14:27:30.536Z"
   },
   {
    "duration": 53,
    "start_time": "2022-02-20T14:27:30.560Z"
   },
   {
    "duration": 15,
    "start_time": "2022-02-20T14:27:30.616Z"
   },
   {
    "duration": 11,
    "start_time": "2022-02-20T14:27:30.635Z"
   },
   {
    "duration": 64,
    "start_time": "2022-02-20T14:27:30.649Z"
   },
   {
    "duration": 55,
    "start_time": "2022-02-20T14:27:30.716Z"
   },
   {
    "duration": 10,
    "start_time": "2022-02-20T14:27:30.773Z"
   },
   {
    "duration": 33,
    "start_time": "2022-02-20T14:27:30.785Z"
   },
   {
    "duration": 22,
    "start_time": "2022-02-20T14:27:30.822Z"
   },
   {
    "duration": 791,
    "start_time": "2022-02-20T14:27:30.847Z"
   },
   {
    "duration": 10,
    "start_time": "2022-02-20T14:27:31.641Z"
   },
   {
    "duration": 9,
    "start_time": "2022-02-20T14:27:49.268Z"
   },
   {
    "duration": 82,
    "start_time": "2022-02-20T14:27:55.499Z"
   },
   {
    "duration": 31,
    "start_time": "2022-02-20T14:27:55.583Z"
   },
   {
    "duration": 12,
    "start_time": "2022-02-20T14:27:55.617Z"
   },
   {
    "duration": 12,
    "start_time": "2022-02-20T14:27:55.631Z"
   },
   {
    "duration": 18,
    "start_time": "2022-02-20T14:27:55.646Z"
   },
   {
    "duration": 56,
    "start_time": "2022-02-20T14:27:55.667Z"
   },
   {
    "duration": 14,
    "start_time": "2022-02-20T14:27:55.725Z"
   },
   {
    "duration": 10,
    "start_time": "2022-02-20T14:27:55.743Z"
   },
   {
    "duration": 63,
    "start_time": "2022-02-20T14:27:55.756Z"
   },
   {
    "duration": 42,
    "start_time": "2022-02-20T14:27:55.822Z"
   },
   {
    "duration": 9,
    "start_time": "2022-02-20T14:27:55.867Z"
   },
   {
    "duration": 34,
    "start_time": "2022-02-20T14:27:55.878Z"
   },
   {
    "duration": 10,
    "start_time": "2022-02-20T14:27:55.914Z"
   },
   {
    "duration": 695,
    "start_time": "2022-02-20T14:27:55.926Z"
   },
   {
    "duration": 11,
    "start_time": "2022-02-20T14:27:56.624Z"
   },
   {
    "duration": 82,
    "start_time": "2022-02-20T14:28:20.782Z"
   },
   {
    "duration": 15,
    "start_time": "2022-02-20T14:28:20.867Z"
   },
   {
    "duration": 30,
    "start_time": "2022-02-20T14:28:20.885Z"
   },
   {
    "duration": 14,
    "start_time": "2022-02-20T14:28:20.919Z"
   },
   {
    "duration": 19,
    "start_time": "2022-02-20T14:28:20.935Z"
   },
   {
    "duration": 57,
    "start_time": "2022-02-20T14:28:20.956Z"
   },
   {
    "duration": 13,
    "start_time": "2022-02-20T14:28:21.015Z"
   },
   {
    "duration": 10,
    "start_time": "2022-02-20T14:28:21.032Z"
   },
   {
    "duration": 23,
    "start_time": "2022-02-20T14:28:21.045Z"
   },
   {
    "duration": 76,
    "start_time": "2022-02-20T14:28:21.071Z"
   },
   {
    "duration": 9,
    "start_time": "2022-02-20T14:28:21.150Z"
   },
   {
    "duration": 24,
    "start_time": "2022-02-20T14:28:21.162Z"
   },
   {
    "duration": 27,
    "start_time": "2022-02-20T14:28:21.189Z"
   },
   {
    "duration": 715,
    "start_time": "2022-02-20T14:28:21.220Z"
   },
   {
    "duration": 10,
    "start_time": "2022-02-20T14:28:21.938Z"
   },
   {
    "duration": 21,
    "start_time": "2022-02-20T14:30:02.084Z"
   },
   {
    "duration": 9,
    "start_time": "2022-02-20T14:33:45.855Z"
   },
   {
    "duration": 118,
    "start_time": "2022-02-20T14:34:06.907Z"
   },
   {
    "duration": 37,
    "start_time": "2022-02-20T14:34:54.424Z"
   },
   {
    "duration": 9,
    "start_time": "2022-02-20T15:13:24.858Z"
   },
   {
    "duration": 34,
    "start_time": "2022-02-20T15:13:33.535Z"
   },
   {
    "duration": 12,
    "start_time": "2022-02-20T15:13:59.597Z"
   },
   {
    "duration": 480,
    "start_time": "2022-02-20T15:14:36.619Z"
   },
   {
    "duration": 343,
    "start_time": "2022-02-20T15:14:43.513Z"
   },
   {
    "duration": 14,
    "start_time": "2022-02-20T15:14:48.499Z"
   },
   {
    "duration": 10,
    "start_time": "2022-02-20T15:17:42.462Z"
   },
   {
    "duration": 392,
    "start_time": "2022-02-20T15:28:43.560Z"
   },
   {
    "duration": 816,
    "start_time": "2022-02-20T15:32:07.789Z"
   },
   {
    "duration": 16,
    "start_time": "2022-02-20T15:32:12.025Z"
   },
   {
    "duration": 11,
    "start_time": "2022-02-20T15:33:16.636Z"
   },
   {
    "duration": 10,
    "start_time": "2022-02-20T15:36:53.425Z"
   },
   {
    "duration": 11,
    "start_time": "2022-02-20T15:37:03.097Z"
   },
   {
    "duration": 495,
    "start_time": "2022-02-20T16:47:35.089Z"
   },
   {
    "duration": 9,
    "start_time": "2022-02-20T16:54:52.560Z"
   },
   {
    "duration": 9,
    "start_time": "2022-02-20T16:55:26.850Z"
   },
   {
    "duration": 11,
    "start_time": "2022-02-20T17:23:58.309Z"
   },
   {
    "duration": 84,
    "start_time": "2022-02-20T17:25:16.010Z"
   },
   {
    "duration": 35,
    "start_time": "2022-02-20T17:25:16.096Z"
   },
   {
    "duration": 13,
    "start_time": "2022-02-20T17:25:16.135Z"
   },
   {
    "duration": 14,
    "start_time": "2022-02-20T17:25:16.151Z"
   },
   {
    "duration": 55,
    "start_time": "2022-02-20T17:25:16.168Z"
   },
   {
    "duration": 21,
    "start_time": "2022-02-20T17:25:16.226Z"
   },
   {
    "duration": 14,
    "start_time": "2022-02-20T17:25:16.251Z"
   },
   {
    "duration": 12,
    "start_time": "2022-02-20T17:25:16.311Z"
   },
   {
    "duration": 23,
    "start_time": "2022-02-20T17:25:16.326Z"
   },
   {
    "duration": 69,
    "start_time": "2022-02-20T17:25:16.352Z"
   },
   {
    "duration": 12,
    "start_time": "2022-02-20T17:25:16.425Z"
   },
   {
    "duration": 8,
    "start_time": "2022-02-20T17:25:16.440Z"
   },
   {
    "duration": 9,
    "start_time": "2022-02-20T17:25:16.451Z"
   },
   {
    "duration": 50,
    "start_time": "2022-02-20T17:25:16.462Z"
   },
   {
    "duration": 1345,
    "start_time": "2022-02-20T17:25:16.514Z"
   },
   {
    "duration": 10,
    "start_time": "2022-02-20T17:25:17.862Z"
   },
   {
    "duration": 51,
    "start_time": "2022-02-20T17:25:17.876Z"
   },
   {
    "duration": 14,
    "start_time": "2022-02-20T17:25:17.929Z"
   },
   {
    "duration": 65,
    "start_time": "2022-02-20T17:25:17.945Z"
   },
   {
    "duration": 14,
    "start_time": "2022-02-20T17:25:18.013Z"
   },
   {
    "duration": 11,
    "start_time": "2022-02-20T17:25:18.030Z"
   },
   {
    "duration": 28,
    "start_time": "2022-02-20T17:25:18.044Z"
   },
   {
    "duration": 48,
    "start_time": "2022-02-20T17:25:18.079Z"
   },
   {
    "duration": 13,
    "start_time": "2022-02-20T17:28:58.884Z"
   },
   {
    "duration": 10,
    "start_time": "2022-02-20T17:29:03.414Z"
   },
   {
    "duration": 17,
    "start_time": "2022-02-20T17:29:05.029Z"
   },
   {
    "duration": 12,
    "start_time": "2022-02-20T17:29:06.452Z"
   },
   {
    "duration": 10,
    "start_time": "2022-02-20T17:29:14.305Z"
   },
   {
    "duration": 99,
    "start_time": "2022-02-20T17:29:37.759Z"
   },
   {
    "duration": 16,
    "start_time": "2022-02-20T17:29:37.862Z"
   },
   {
    "duration": 36,
    "start_time": "2022-02-20T17:29:37.882Z"
   },
   {
    "duration": 15,
    "start_time": "2022-02-20T17:29:37.921Z"
   },
   {
    "duration": 23,
    "start_time": "2022-02-20T17:29:37.939Z"
   },
   {
    "duration": 64,
    "start_time": "2022-02-20T17:29:37.965Z"
   },
   {
    "duration": 14,
    "start_time": "2022-02-20T17:29:38.032Z"
   },
   {
    "duration": 13,
    "start_time": "2022-02-20T17:29:38.051Z"
   },
   {
    "duration": 77,
    "start_time": "2022-02-20T17:29:38.068Z"
   },
   {
    "duration": 78,
    "start_time": "2022-02-20T17:29:38.148Z"
   },
   {
    "duration": 11,
    "start_time": "2022-02-20T17:29:38.229Z"
   },
   {
    "duration": 17,
    "start_time": "2022-02-20T17:29:38.243Z"
   },
   {
    "duration": 28,
    "start_time": "2022-02-20T17:29:38.264Z"
   },
   {
    "duration": 24,
    "start_time": "2022-02-20T17:29:38.295Z"
   },
   {
    "duration": 1295,
    "start_time": "2022-02-20T17:29:38.323Z"
   },
   {
    "duration": 11,
    "start_time": "2022-02-20T17:29:39.620Z"
   },
   {
    "duration": 26,
    "start_time": "2022-02-20T17:29:39.634Z"
   },
   {
    "duration": 14,
    "start_time": "2022-02-20T17:29:39.663Z"
   },
   {
    "duration": 36,
    "start_time": "2022-02-20T17:29:39.712Z"
   },
   {
    "duration": 13,
    "start_time": "2022-02-20T17:29:39.750Z"
   },
   {
    "duration": 15,
    "start_time": "2022-02-20T17:29:39.767Z"
   },
   {
    "duration": 16,
    "start_time": "2022-02-20T17:29:39.811Z"
   },
   {
    "duration": 16,
    "start_time": "2022-02-20T17:29:47.167Z"
   },
   {
    "duration": 13,
    "start_time": "2022-02-20T17:29:47.870Z"
   },
   {
    "duration": 8,
    "start_time": "2022-02-20T17:29:53.694Z"
   },
   {
    "duration": 926,
    "start_time": "2022-02-20T17:32:10.878Z"
   },
   {
    "duration": 675,
    "start_time": "2022-02-20T17:32:23.867Z"
   },
   {
    "duration": 27,
    "start_time": "2022-02-20T17:34:32.491Z"
   },
   {
    "duration": 51,
    "start_time": "2022-02-20T17:37:27.097Z"
   },
   {
    "duration": 57,
    "start_time": "2022-02-20T17:37:47.622Z"
   },
   {
    "duration": 42,
    "start_time": "2022-02-20T17:38:00.784Z"
   },
   {
    "duration": 34,
    "start_time": "2022-02-20T17:38:11.760Z"
   },
   {
    "duration": 34,
    "start_time": "2022-02-20T17:38:19.568Z"
   },
   {
    "duration": 39,
    "start_time": "2022-02-20T17:38:20.936Z"
   },
   {
    "duration": 15,
    "start_time": "2022-02-20T17:38:22.037Z"
   },
   {
    "duration": 9,
    "start_time": "2022-02-20T17:42:28.309Z"
   },
   {
    "duration": 11,
    "start_time": "2022-02-20T17:47:16.893Z"
   },
   {
    "duration": 11,
    "start_time": "2022-02-20T17:47:17.601Z"
   },
   {
    "duration": 13,
    "start_time": "2022-02-20T17:47:23.236Z"
   },
   {
    "duration": 9,
    "start_time": "2022-02-20T17:47:25.046Z"
   },
   {
    "duration": 21,
    "start_time": "2022-02-20T17:47:26.371Z"
   },
   {
    "duration": 5650,
    "start_time": "2022-02-21T08:40:11.291Z"
   },
   {
    "duration": 2364,
    "start_time": "2022-02-21T08:40:41.344Z"
   },
   {
    "duration": 14,
    "start_time": "2022-02-21T08:40:43.711Z"
   },
   {
    "duration": 31,
    "start_time": "2022-02-21T08:40:43.728Z"
   },
   {
    "duration": 15,
    "start_time": "2022-02-21T08:40:43.763Z"
   },
   {
    "duration": 20,
    "start_time": "2022-02-21T08:40:43.781Z"
   },
   {
    "duration": 53,
    "start_time": "2022-02-21T08:40:43.804Z"
   },
   {
    "duration": 11,
    "start_time": "2022-02-21T08:40:43.860Z"
   },
   {
    "duration": 11,
    "start_time": "2022-02-21T08:40:43.874Z"
   },
   {
    "duration": 22,
    "start_time": "2022-02-21T08:40:43.889Z"
   },
   {
    "duration": 23,
    "start_time": "2022-02-21T08:40:48.879Z"
   },
   {
    "duration": 45,
    "start_time": "2022-02-21T08:40:49.487Z"
   },
   {
    "duration": 11,
    "start_time": "2022-02-21T08:42:32.726Z"
   },
   {
    "duration": 7,
    "start_time": "2022-02-21T08:42:59.816Z"
   },
   {
    "duration": 6,
    "start_time": "2022-02-21T08:43:30.081Z"
   },
   {
    "duration": 7,
    "start_time": "2022-02-21T08:44:22.889Z"
   },
   {
    "duration": 701,
    "start_time": "2022-02-21T08:45:18.667Z"
   },
   {
    "duration": 326,
    "start_time": "2022-02-21T08:45:28.625Z"
   },
   {
    "duration": 438,
    "start_time": "2022-02-21T08:45:41.081Z"
   },
   {
    "duration": 426,
    "start_time": "2022-02-21T08:46:05.233Z"
   },
   {
    "duration": 6,
    "start_time": "2022-02-21T08:46:11.858Z"
   },
   {
    "duration": 621,
    "start_time": "2022-02-21T08:46:33.333Z"
   },
   {
    "duration": 8,
    "start_time": "2022-02-21T08:46:38.732Z"
   },
   {
    "duration": 912,
    "start_time": "2022-02-21T08:46:54.000Z"
   },
   {
    "duration": 439,
    "start_time": "2022-02-21T08:47:09.641Z"
   },
   {
    "duration": 6,
    "start_time": "2022-02-21T08:47:18.092Z"
   },
   {
    "duration": 36,
    "start_time": "2022-02-21T08:53:23.270Z"
   },
   {
    "duration": 10,
    "start_time": "2022-02-21T08:53:36.021Z"
   },
   {
    "duration": 105,
    "start_time": "2022-02-21T08:54:48.370Z"
   },
   {
    "duration": 4,
    "start_time": "2022-02-21T08:56:06.267Z"
   },
   {
    "duration": 9,
    "start_time": "2022-02-21T08:56:19.555Z"
   },
   {
    "duration": 8,
    "start_time": "2022-02-21T08:57:27.680Z"
   },
   {
    "duration": 144,
    "start_time": "2022-02-21T08:59:11.424Z"
   },
   {
    "duration": 7,
    "start_time": "2022-02-21T09:01:08.236Z"
   },
   {
    "duration": 7,
    "start_time": "2022-02-21T09:02:09.595Z"
   },
   {
    "duration": 22,
    "start_time": "2022-02-21T09:08:38.397Z"
   },
   {
    "duration": 21,
    "start_time": "2022-02-21T09:09:12.011Z"
   },
   {
    "duration": 131,
    "start_time": "2022-02-21T09:10:15.485Z"
   },
   {
    "duration": 7,
    "start_time": "2022-02-21T09:11:31.694Z"
   },
   {
    "duration": 7,
    "start_time": "2022-02-21T09:11:33.670Z"
   },
   {
    "duration": 9,
    "start_time": "2022-02-21T09:11:35.197Z"
   },
   {
    "duration": 74,
    "start_time": "2022-02-21T09:11:48.307Z"
   },
   {
    "duration": 19,
    "start_time": "2022-02-21T09:11:48.384Z"
   },
   {
    "duration": 11,
    "start_time": "2022-02-21T09:11:48.406Z"
   },
   {
    "duration": 34,
    "start_time": "2022-02-21T09:11:48.420Z"
   },
   {
    "duration": 19,
    "start_time": "2022-02-21T09:11:48.456Z"
   },
   {
    "duration": 18,
    "start_time": "2022-02-21T09:11:48.477Z"
   },
   {
    "duration": 11,
    "start_time": "2022-02-21T09:11:48.497Z"
   },
   {
    "duration": 46,
    "start_time": "2022-02-21T09:11:48.510Z"
   },
   {
    "duration": 21,
    "start_time": "2022-02-21T09:11:48.560Z"
   },
   {
    "duration": 80,
    "start_time": "2022-02-21T09:11:48.583Z"
   },
   {
    "duration": 7,
    "start_time": "2022-02-21T09:11:48.666Z"
   },
   {
    "duration": 29,
    "start_time": "2022-02-21T09:11:48.677Z"
   },
   {
    "duration": 14,
    "start_time": "2022-02-21T09:11:48.709Z"
   },
   {
    "duration": 10,
    "start_time": "2022-02-21T09:11:52.944Z"
   },
   {
    "duration": 9,
    "start_time": "2022-02-21T09:11:55.585Z"
   },
   {
    "duration": 125,
    "start_time": "2022-02-21T09:15:05.753Z"
   },
   {
    "duration": 77,
    "start_time": "2022-02-21T13:05:59.745Z"
   },
   {
    "duration": 33,
    "start_time": "2022-02-21T13:05:59.825Z"
   },
   {
    "duration": 19,
    "start_time": "2022-02-21T13:05:59.863Z"
   },
   {
    "duration": 21,
    "start_time": "2022-02-21T13:05:59.886Z"
   },
   {
    "duration": 65,
    "start_time": "2022-02-21T13:05:59.910Z"
   },
   {
    "duration": 21,
    "start_time": "2022-02-21T13:05:59.978Z"
   },
   {
    "duration": 17,
    "start_time": "2022-02-21T13:06:00.002Z"
   },
   {
    "duration": 36,
    "start_time": "2022-02-21T13:06:00.021Z"
   },
   {
    "duration": 35,
    "start_time": "2022-02-21T13:06:00.060Z"
   },
   {
    "duration": 80,
    "start_time": "2022-02-21T13:06:00.099Z"
   },
   {
    "duration": 7,
    "start_time": "2022-02-21T13:06:00.182Z"
   },
   {
    "duration": 35,
    "start_time": "2022-02-21T13:06:00.192Z"
   },
   {
    "duration": 27,
    "start_time": "2022-02-21T13:06:00.229Z"
   },
   {
    "duration": 13,
    "start_time": "2022-02-21T13:06:00.258Z"
   },
   {
    "duration": 28,
    "start_time": "2022-02-21T13:06:00.273Z"
   },
   {
    "duration": 182,
    "start_time": "2022-02-21T13:06:03.232Z"
   },
   {
    "duration": 6,
    "start_time": "2022-02-21T13:06:08.421Z"
   },
   {
    "duration": 35,
    "start_time": "2022-02-21T13:06:15.516Z"
   },
   {
    "duration": 41,
    "start_time": "2022-02-21T13:07:36.466Z"
   },
   {
    "duration": 26,
    "start_time": "2022-02-21T13:08:05.541Z"
   },
   {
    "duration": 24,
    "start_time": "2022-02-21T13:08:13.630Z"
   },
   {
    "duration": 38,
    "start_time": "2022-02-21T13:08:20.420Z"
   },
   {
    "duration": 35,
    "start_time": "2022-02-21T13:08:58.565Z"
   },
   {
    "duration": 36,
    "start_time": "2022-02-21T13:09:08.916Z"
   },
   {
    "duration": 34,
    "start_time": "2022-02-21T13:09:15.012Z"
   },
   {
    "duration": 33,
    "start_time": "2022-02-21T13:09:23.382Z"
   },
   {
    "duration": 39,
    "start_time": "2022-02-21T13:09:34.055Z"
   },
   {
    "duration": 38,
    "start_time": "2022-02-21T13:10:26.424Z"
   },
   {
    "duration": 6577,
    "start_time": "2022-02-21T13:10:48.246Z"
   },
   {
    "duration": 7183,
    "start_time": "2022-02-21T13:10:56.810Z"
   },
   {
    "duration": 7837,
    "start_time": "2022-02-21T13:11:32.378Z"
   },
   {
    "duration": 53,
    "start_time": "2022-02-21T13:11:40.165Z"
   },
   {
    "duration": 116,
    "start_time": "2022-02-21T13:11:44.392Z"
   },
   {
    "duration": 22,
    "start_time": "2022-02-21T13:11:44.511Z"
   },
   {
    "duration": 14,
    "start_time": "2022-02-21T13:11:44.549Z"
   },
   {
    "duration": 22,
    "start_time": "2022-02-21T13:11:44.567Z"
   },
   {
    "duration": 24,
    "start_time": "2022-02-21T13:11:44.591Z"
   },
   {
    "duration": 57,
    "start_time": "2022-02-21T13:11:44.618Z"
   },
   {
    "duration": 24,
    "start_time": "2022-02-21T13:11:44.677Z"
   },
   {
    "duration": 11,
    "start_time": "2022-02-21T13:11:44.704Z"
   },
   {
    "duration": 54,
    "start_time": "2022-02-21T13:11:44.720Z"
   },
   {
    "duration": 45,
    "start_time": "2022-02-21T13:11:44.777Z"
   },
   {
    "duration": 24,
    "start_time": "2022-02-21T13:11:44.825Z"
   },
   {
    "duration": 22,
    "start_time": "2022-02-21T13:11:44.852Z"
   },
   {
    "duration": 31,
    "start_time": "2022-02-21T13:11:44.876Z"
   },
   {
    "duration": 14,
    "start_time": "2022-02-21T13:11:44.909Z"
   },
   {
    "duration": 28,
    "start_time": "2022-02-21T13:11:44.925Z"
   },
   {
    "duration": 24,
    "start_time": "2022-02-21T13:11:44.956Z"
   },
   {
    "duration": -64,
    "start_time": "2022-02-21T13:12:01.513Z"
   },
   {
    "duration": -66,
    "start_time": "2022-02-21T13:12:01.517Z"
   },
   {
    "duration": 6755,
    "start_time": "2022-02-21T13:12:06.040Z"
   },
   {
    "duration": 75,
    "start_time": "2022-02-21T13:12:23.414Z"
   },
   {
    "duration": 16,
    "start_time": "2022-02-21T13:12:23.491Z"
   },
   {
    "duration": 13,
    "start_time": "2022-02-21T13:12:23.510Z"
   },
   {
    "duration": 15,
    "start_time": "2022-02-21T13:12:23.551Z"
   },
   {
    "duration": 23,
    "start_time": "2022-02-21T13:12:23.569Z"
   },
   {
    "duration": 20,
    "start_time": "2022-02-21T13:12:23.595Z"
   },
   {
    "duration": 41,
    "start_time": "2022-02-21T13:12:23.617Z"
   },
   {
    "duration": 12,
    "start_time": "2022-02-21T13:12:23.663Z"
   },
   {
    "duration": 30,
    "start_time": "2022-02-21T13:12:23.678Z"
   },
   {
    "duration": 77,
    "start_time": "2022-02-21T13:12:23.711Z"
   },
   {
    "duration": 7,
    "start_time": "2022-02-21T13:12:23.791Z"
   },
   {
    "duration": 54,
    "start_time": "2022-02-21T13:12:23.802Z"
   },
   {
    "duration": 10,
    "start_time": "2022-02-21T13:12:23.859Z"
   },
   {
    "duration": 11,
    "start_time": "2022-02-21T13:12:23.872Z"
   },
   {
    "duration": 9,
    "start_time": "2022-02-21T13:12:23.885Z"
   },
   {
    "duration": 25,
    "start_time": "2022-02-21T13:12:27.426Z"
   },
   {
    "duration": -63,
    "start_time": "2022-02-21T13:14:06.440Z"
   },
   {
    "duration": 73,
    "start_time": "2022-02-21T13:14:16.495Z"
   },
   {
    "duration": 14,
    "start_time": "2022-02-21T13:14:16.571Z"
   },
   {
    "duration": 17,
    "start_time": "2022-02-21T13:14:16.589Z"
   },
   {
    "duration": 46,
    "start_time": "2022-02-21T13:14:16.609Z"
   },
   {
    "duration": 19,
    "start_time": "2022-02-21T13:14:16.657Z"
   },
   {
    "duration": 18,
    "start_time": "2022-02-21T13:14:16.678Z"
   },
   {
    "duration": 12,
    "start_time": "2022-02-21T13:14:16.699Z"
   },
   {
    "duration": 44,
    "start_time": "2022-02-21T13:14:16.714Z"
   },
   {
    "duration": 22,
    "start_time": "2022-02-21T13:14:16.762Z"
   },
   {
    "duration": 77,
    "start_time": "2022-02-21T13:14:16.787Z"
   },
   {
    "duration": 6,
    "start_time": "2022-02-21T13:14:16.868Z"
   },
   {
    "duration": 31,
    "start_time": "2022-02-21T13:14:16.876Z"
   },
   {
    "duration": 16,
    "start_time": "2022-02-21T13:14:16.910Z"
   },
   {
    "duration": 24,
    "start_time": "2022-02-21T13:14:16.929Z"
   },
   {
    "duration": 28,
    "start_time": "2022-02-21T13:14:28.717Z"
   },
   {
    "duration": 6900,
    "start_time": "2022-02-21T13:14:38.859Z"
   },
   {
    "duration": 58,
    "start_time": "2022-02-21T13:14:45.704Z"
   },
   {
    "duration": 75,
    "start_time": "2022-02-21T13:15:17.475Z"
   },
   {
    "duration": 15,
    "start_time": "2022-02-21T13:15:17.553Z"
   },
   {
    "duration": 13,
    "start_time": "2022-02-21T13:15:17.571Z"
   },
   {
    "duration": 13,
    "start_time": "2022-02-21T13:15:17.586Z"
   },
   {
    "duration": 66,
    "start_time": "2022-02-21T13:15:17.601Z"
   },
   {
    "duration": 24,
    "start_time": "2022-02-21T13:15:17.670Z"
   },
   {
    "duration": 15,
    "start_time": "2022-02-21T13:15:17.697Z"
   },
   {
    "duration": 13,
    "start_time": "2022-02-21T13:15:17.748Z"
   },
   {
    "duration": 22,
    "start_time": "2022-02-21T13:15:17.766Z"
   },
   {
    "duration": 78,
    "start_time": "2022-02-21T13:15:17.791Z"
   },
   {
    "duration": 7,
    "start_time": "2022-02-21T13:15:17.872Z"
   },
   {
    "duration": 24,
    "start_time": "2022-02-21T13:15:17.882Z"
   },
   {
    "duration": 6,
    "start_time": "2022-02-21T13:15:17.908Z"
   },
   {
    "duration": 10,
    "start_time": "2022-02-21T13:15:17.948Z"
   },
   {
    "duration": 9,
    "start_time": "2022-02-21T13:15:17.960Z"
   },
   {
    "duration": 6909,
    "start_time": "2022-02-21T13:15:22.930Z"
   },
   {
    "duration": 21,
    "start_time": "2022-02-21T13:15:46.310Z"
   },
   {
    "duration": 38,
    "start_time": "2022-02-21T13:16:02.692Z"
   },
   {
    "duration": 37,
    "start_time": "2022-02-21T13:16:51.633Z"
   },
   {
    "duration": 12,
    "start_time": "2022-02-21T13:18:47.799Z"
   },
   {
    "duration": 77,
    "start_time": "2022-02-21T13:36:35.239Z"
   },
   {
    "duration": 15,
    "start_time": "2022-02-21T13:36:55.266Z"
   },
   {
    "duration": 13,
    "start_time": "2022-02-21T13:38:34.128Z"
   },
   {
    "duration": 17,
    "start_time": "2022-02-21T13:38:39.739Z"
   },
   {
    "duration": 14,
    "start_time": "2022-02-21T13:39:12.930Z"
   },
   {
    "duration": 15,
    "start_time": "2022-02-21T13:39:17.837Z"
   },
   {
    "duration": 21,
    "start_time": "2022-02-21T13:40:07.861Z"
   },
   {
    "duration": 20,
    "start_time": "2022-02-21T13:40:08.896Z"
   },
   {
    "duration": 18,
    "start_time": "2022-02-21T13:40:26.411Z"
   },
   {
    "duration": 12,
    "start_time": "2022-02-21T13:40:28.304Z"
   },
   {
    "duration": 23,
    "start_time": "2022-02-21T13:41:01.930Z"
   },
   {
    "duration": 6,
    "start_time": "2022-02-21T13:42:23.805Z"
   },
   {
    "duration": 23,
    "start_time": "2022-02-21T13:42:34.136Z"
   },
   {
    "duration": 11,
    "start_time": "2022-02-21T13:42:53.557Z"
   },
   {
    "duration": 9,
    "start_time": "2022-02-21T13:43:15.415Z"
   },
   {
    "duration": 3,
    "start_time": "2022-02-21T13:45:13.236Z"
   },
   {
    "duration": 7,
    "start_time": "2022-02-21T13:45:20.101Z"
   },
   {
    "duration": 7,
    "start_time": "2022-02-21T13:45:26.193Z"
   },
   {
    "duration": 9,
    "start_time": "2022-02-21T13:45:31.979Z"
   },
   {
    "duration": 9,
    "start_time": "2022-02-21T13:45:36.563Z"
   },
   {
    "duration": 38,
    "start_time": "2022-02-21T13:47:02.090Z"
   },
   {
    "duration": 23,
    "start_time": "2022-02-21T13:47:11.051Z"
   },
   {
    "duration": 37,
    "start_time": "2022-02-21T13:47:20.810Z"
   },
   {
    "duration": 19,
    "start_time": "2022-02-21T13:47:39.836Z"
   },
   {
    "duration": 9,
    "start_time": "2022-02-21T13:53:37.419Z"
   },
   {
    "duration": 13,
    "start_time": "2022-02-21T13:54:19.040Z"
   },
   {
    "duration": 7277,
    "start_time": "2022-02-21T13:54:31.126Z"
   },
   {
    "duration": 74,
    "start_time": "2022-02-21T13:55:12.699Z"
   },
   {
    "duration": 15,
    "start_time": "2022-02-21T13:55:12.776Z"
   },
   {
    "duration": 15,
    "start_time": "2022-02-21T13:55:12.795Z"
   },
   {
    "duration": 45,
    "start_time": "2022-02-21T13:55:12.813Z"
   },
   {
    "duration": 22,
    "start_time": "2022-02-21T13:55:12.861Z"
   },
   {
    "duration": 32,
    "start_time": "2022-02-21T13:55:12.886Z"
   },
   {
    "duration": 13,
    "start_time": "2022-02-21T13:55:12.948Z"
   },
   {
    "duration": 12,
    "start_time": "2022-02-21T13:55:12.964Z"
   },
   {
    "duration": 24,
    "start_time": "2022-02-21T13:55:12.981Z"
   },
   {
    "duration": 83,
    "start_time": "2022-02-21T13:55:13.009Z"
   },
   {
    "duration": 6,
    "start_time": "2022-02-21T13:55:13.094Z"
   },
   {
    "duration": 9,
    "start_time": "2022-02-21T13:55:13.103Z"
   },
   {
    "duration": 40,
    "start_time": "2022-02-21T13:55:13.114Z"
   },
   {
    "duration": 8,
    "start_time": "2022-02-21T13:55:13.157Z"
   },
   {
    "duration": 9,
    "start_time": "2022-02-21T13:55:13.168Z"
   },
   {
    "duration": 77,
    "start_time": "2022-02-21T13:55:13.180Z"
   },
   {
    "duration": 13,
    "start_time": "2022-02-21T13:55:13.260Z"
   },
   {
    "duration": 28,
    "start_time": "2022-02-21T13:55:16.211Z"
   },
   {
    "duration": 7694,
    "start_time": "2022-02-21T14:06:46.382Z"
   },
   {
    "duration": -74,
    "start_time": "2022-02-21T14:07:03.436Z"
   },
   {
    "duration": -76,
    "start_time": "2022-02-21T14:07:03.441Z"
   },
   {
    "duration": -77,
    "start_time": "2022-02-21T14:07:03.444Z"
   },
   {
    "duration": -90,
    "start_time": "2022-02-21T14:07:03.460Z"
   },
   {
    "duration": -89,
    "start_time": "2022-02-21T14:07:03.462Z"
   },
   {
    "duration": -89,
    "start_time": "2022-02-21T14:07:03.464Z"
   },
   {
    "duration": -89,
    "start_time": "2022-02-21T14:07:03.466Z"
   },
   {
    "duration": -89,
    "start_time": "2022-02-21T14:07:03.468Z"
   },
   {
    "duration": -89,
    "start_time": "2022-02-21T14:07:03.470Z"
   },
   {
    "duration": -89,
    "start_time": "2022-02-21T14:07:03.472Z"
   },
   {
    "duration": -89,
    "start_time": "2022-02-21T14:07:03.474Z"
   },
   {
    "duration": -88,
    "start_time": "2022-02-21T14:07:03.475Z"
   },
   {
    "duration": -88,
    "start_time": "2022-02-21T14:07:03.477Z"
   },
   {
    "duration": -88,
    "start_time": "2022-02-21T14:07:03.479Z"
   },
   {
    "duration": -87,
    "start_time": "2022-02-21T14:07:03.480Z"
   },
   {
    "duration": -87,
    "start_time": "2022-02-21T14:07:03.482Z"
   },
   {
    "duration": -87,
    "start_time": "2022-02-21T14:07:03.484Z"
   },
   {
    "duration": -86,
    "start_time": "2022-02-21T14:07:03.485Z"
   },
   {
    "duration": 78,
    "start_time": "2022-02-21T14:07:25.546Z"
   },
   {
    "duration": 21,
    "start_time": "2022-02-21T14:07:25.627Z"
   },
   {
    "duration": 18,
    "start_time": "2022-02-21T14:07:25.653Z"
   },
   {
    "duration": 21,
    "start_time": "2022-02-21T14:07:25.675Z"
   },
   {
    "duration": 68,
    "start_time": "2022-02-21T14:07:25.699Z"
   },
   {
    "duration": 21,
    "start_time": "2022-02-21T14:07:25.769Z"
   },
   {
    "duration": 21,
    "start_time": "2022-02-21T14:07:25.793Z"
   },
   {
    "duration": 33,
    "start_time": "2022-02-21T14:07:25.817Z"
   },
   {
    "duration": 25,
    "start_time": "2022-02-21T14:07:25.854Z"
   },
   {
    "duration": 69,
    "start_time": "2022-02-21T14:07:25.882Z"
   },
   {
    "duration": 6,
    "start_time": "2022-02-21T14:07:25.953Z"
   },
   {
    "duration": 9,
    "start_time": "2022-02-21T14:07:25.962Z"
   },
   {
    "duration": 9,
    "start_time": "2022-02-21T14:07:25.973Z"
   },
   {
    "duration": 11,
    "start_time": "2022-02-21T14:07:25.985Z"
   },
   {
    "duration": 8,
    "start_time": "2022-02-21T14:07:25.998Z"
   },
   {
    "duration": 35,
    "start_time": "2022-02-21T14:07:26.049Z"
   },
   {
    "duration": 11,
    "start_time": "2022-02-21T14:07:26.087Z"
   },
   {
    "duration": 11,
    "start_time": "2022-02-21T14:07:29.633Z"
   },
   {
    "duration": 235,
    "start_time": "2022-02-21T14:08:42.688Z"
   },
   {
    "duration": 228,
    "start_time": "2022-02-21T14:08:45.353Z"
   },
   {
    "duration": 10,
    "start_time": "2022-02-21T14:08:56.050Z"
   },
   {
    "duration": 256,
    "start_time": "2022-02-21T14:10:10.255Z"
   },
   {
    "duration": 11,
    "start_time": "2022-02-21T14:10:15.984Z"
   },
   {
    "duration": 238,
    "start_time": "2022-02-21T14:10:26.497Z"
   },
   {
    "duration": 11,
    "start_time": "2022-02-21T14:11:32.922Z"
   },
   {
    "duration": 16,
    "start_time": "2022-02-21T14:11:52.640Z"
   },
   {
    "duration": 11,
    "start_time": "2022-02-21T14:12:17.252Z"
   },
   {
    "duration": 9,
    "start_time": "2022-02-21T14:12:33.318Z"
   },
   {
    "duration": 9,
    "start_time": "2022-02-21T14:12:37.514Z"
   },
   {
    "duration": 39,
    "start_time": "2022-02-21T14:12:50.942Z"
   },
   {
    "duration": 10,
    "start_time": "2022-02-21T14:13:01.549Z"
   },
   {
    "duration": 8,
    "start_time": "2022-02-21T14:13:05.704Z"
   },
   {
    "duration": 37,
    "start_time": "2022-02-21T14:13:11.829Z"
   },
   {
    "duration": 285,
    "start_time": "2022-02-21T14:17:44.118Z"
   },
   {
    "duration": 40,
    "start_time": "2022-02-21T14:17:47.732Z"
   },
   {
    "duration": 22,
    "start_time": "2022-02-21T14:17:57.367Z"
   },
   {
    "duration": 26,
    "start_time": "2022-02-21T14:18:05.055Z"
   },
   {
    "duration": 23,
    "start_time": "2022-02-21T14:18:10.620Z"
   },
   {
    "duration": 23,
    "start_time": "2022-02-21T14:20:20.374Z"
   },
   {
    "duration": 15,
    "start_time": "2022-02-21T14:21:48.487Z"
   },
   {
    "duration": 74,
    "start_time": "2022-02-21T14:22:41.829Z"
   },
   {
    "duration": 15,
    "start_time": "2022-02-21T14:22:41.906Z"
   },
   {
    "duration": 30,
    "start_time": "2022-02-21T14:22:41.925Z"
   },
   {
    "duration": 17,
    "start_time": "2022-02-21T14:22:41.958Z"
   },
   {
    "duration": 21,
    "start_time": "2022-02-21T14:22:41.978Z"
   },
   {
    "duration": 62,
    "start_time": "2022-02-21T14:22:42.002Z"
   },
   {
    "duration": 23,
    "start_time": "2022-02-21T14:22:42.066Z"
   },
   {
    "duration": 12,
    "start_time": "2022-02-21T14:22:42.092Z"
   },
   {
    "duration": 68,
    "start_time": "2022-02-21T14:22:42.110Z"
   },
   {
    "duration": 72,
    "start_time": "2022-02-21T14:22:42.182Z"
   },
   {
    "duration": 8,
    "start_time": "2022-02-21T14:22:42.257Z"
   },
   {
    "duration": 15,
    "start_time": "2022-02-21T14:22:42.268Z"
   },
   {
    "duration": 11,
    "start_time": "2022-02-21T14:22:42.286Z"
   },
   {
    "duration": 20,
    "start_time": "2022-02-21T14:22:42.300Z"
   },
   {
    "duration": 34,
    "start_time": "2022-02-21T14:22:42.324Z"
   },
   {
    "duration": 26,
    "start_time": "2022-02-21T14:22:42.361Z"
   },
   {
    "duration": 12,
    "start_time": "2022-02-21T14:22:42.389Z"
   },
   {
    "duration": 54,
    "start_time": "2022-02-21T14:22:42.403Z"
   },
   {
    "duration": 25,
    "start_time": "2022-02-21T14:22:45.002Z"
   },
   {
    "duration": 14,
    "start_time": "2022-02-21T14:23:11.147Z"
   },
   {
    "duration": 11,
    "start_time": "2022-02-21T14:23:13.372Z"
   },
   {
    "duration": 74,
    "start_time": "2022-02-21T14:23:19.737Z"
   },
   {
    "duration": 39,
    "start_time": "2022-02-21T14:23:19.813Z"
   },
   {
    "duration": 13,
    "start_time": "2022-02-21T14:23:19.856Z"
   },
   {
    "duration": 13,
    "start_time": "2022-02-21T14:23:19.873Z"
   },
   {
    "duration": 19,
    "start_time": "2022-02-21T14:23:19.889Z"
   },
   {
    "duration": 56,
    "start_time": "2022-02-21T14:23:19.911Z"
   },
   {
    "duration": 12,
    "start_time": "2022-02-21T14:23:19.969Z"
   },
   {
    "duration": 10,
    "start_time": "2022-02-21T14:23:19.985Z"
   },
   {
    "duration": 60,
    "start_time": "2022-02-21T14:23:19.998Z"
   },
   {
    "duration": 44,
    "start_time": "2022-02-21T14:23:20.060Z"
   },
   {
    "duration": 6,
    "start_time": "2022-02-21T14:23:20.106Z"
   },
   {
    "duration": 38,
    "start_time": "2022-02-21T14:23:20.115Z"
   },
   {
    "duration": 9,
    "start_time": "2022-02-21T14:23:20.155Z"
   },
   {
    "duration": 15,
    "start_time": "2022-02-21T14:23:20.166Z"
   },
   {
    "duration": 15,
    "start_time": "2022-02-21T14:23:20.184Z"
   },
   {
    "duration": 69,
    "start_time": "2022-02-21T14:23:20.202Z"
   },
   {
    "duration": 14,
    "start_time": "2022-02-21T14:23:20.273Z"
   },
   {
    "duration": 41,
    "start_time": "2022-02-21T14:23:20.289Z"
   },
   {
    "duration": 11,
    "start_time": "2022-02-21T14:26:25.962Z"
   },
   {
    "duration": 9,
    "start_time": "2022-02-21T14:26:27.724Z"
   },
   {
    "duration": 11,
    "start_time": "2022-02-21T14:26:41.871Z"
   },
   {
    "duration": 13,
    "start_time": "2022-02-21T14:28:03.929Z"
   },
   {
    "duration": 789,
    "start_time": "2022-02-21T14:29:10.546Z"
   },
   {
    "duration": 235,
    "start_time": "2022-02-21T14:30:29.596Z"
   },
   {
    "duration": 902,
    "start_time": "2022-02-21T14:31:01.933Z"
   },
   {
    "duration": 10,
    "start_time": "2022-02-21T14:33:55.499Z"
   },
   {
    "duration": 23,
    "start_time": "2022-02-21T14:34:18.598Z"
   },
   {
    "duration": 29,
    "start_time": "2022-02-21T14:38:20.175Z"
   },
   {
    "duration": 76,
    "start_time": "2022-02-21T14:38:52.696Z"
   },
   {
    "duration": 16,
    "start_time": "2022-02-21T14:38:52.775Z"
   },
   {
    "duration": 13,
    "start_time": "2022-02-21T14:38:52.796Z"
   },
   {
    "duration": 47,
    "start_time": "2022-02-21T14:38:52.812Z"
   },
   {
    "duration": 21,
    "start_time": "2022-02-21T14:38:52.861Z"
   },
   {
    "duration": 24,
    "start_time": "2022-02-21T14:38:52.884Z"
   },
   {
    "duration": 41,
    "start_time": "2022-02-21T14:38:52.910Z"
   },
   {
    "duration": 12,
    "start_time": "2022-02-21T14:38:52.953Z"
   },
   {
    "duration": 23,
    "start_time": "2022-02-21T14:38:52.969Z"
   },
   {
    "duration": 84,
    "start_time": "2022-02-21T14:38:52.995Z"
   },
   {
    "duration": 6,
    "start_time": "2022-02-21T14:38:53.082Z"
   },
   {
    "duration": 15,
    "start_time": "2022-02-21T14:38:53.090Z"
   },
   {
    "duration": 8,
    "start_time": "2022-02-21T14:38:53.107Z"
   },
   {
    "duration": 13,
    "start_time": "2022-02-21T14:38:53.149Z"
   },
   {
    "duration": 8,
    "start_time": "2022-02-21T14:38:53.164Z"
   },
   {
    "duration": 36,
    "start_time": "2022-02-21T14:38:53.174Z"
   },
   {
    "duration": 45,
    "start_time": "2022-02-21T14:38:53.213Z"
   },
   {
    "duration": 30,
    "start_time": "2022-02-21T14:38:53.261Z"
   },
   {
    "duration": 26,
    "start_time": "2022-02-21T14:39:16.702Z"
   },
   {
    "duration": -39,
    "start_time": "2022-02-21T14:39:30.049Z"
   },
   {
    "duration": 51,
    "start_time": "2022-02-21T14:39:42.862Z"
   },
   {
    "duration": 46,
    "start_time": "2022-02-21T14:39:42.868Z"
   },
   {
    "duration": 45,
    "start_time": "2022-02-21T14:39:42.871Z"
   },
   {
    "duration": 32,
    "start_time": "2022-02-21T14:39:42.885Z"
   },
   {
    "duration": 31,
    "start_time": "2022-02-21T14:39:42.887Z"
   },
   {
    "duration": 29,
    "start_time": "2022-02-21T14:39:42.890Z"
   },
   {
    "duration": 29,
    "start_time": "2022-02-21T14:39:42.892Z"
   },
   {
    "duration": 28,
    "start_time": "2022-02-21T14:39:42.894Z"
   },
   {
    "duration": 29,
    "start_time": "2022-02-21T14:39:42.895Z"
   },
   {
    "duration": 29,
    "start_time": "2022-02-21T14:39:42.897Z"
   },
   {
    "duration": 28,
    "start_time": "2022-02-21T14:39:42.899Z"
   },
   {
    "duration": 29,
    "start_time": "2022-02-21T14:39:42.900Z"
   },
   {
    "duration": 28,
    "start_time": "2022-02-21T14:39:42.902Z"
   },
   {
    "duration": 29,
    "start_time": "2022-02-21T14:39:42.903Z"
   },
   {
    "duration": 28,
    "start_time": "2022-02-21T14:39:42.905Z"
   },
   {
    "duration": 28,
    "start_time": "2022-02-21T14:39:42.907Z"
   },
   {
    "duration": 11,
    "start_time": "2022-02-21T14:39:42.925Z"
   },
   {
    "duration": 11,
    "start_time": "2022-02-21T14:39:42.927Z"
   },
   {
    "duration": 6343,
    "start_time": "2022-02-21T14:39:45.631Z"
   },
   {
    "duration": 72,
    "start_time": "2022-02-21T14:40:14.920Z"
   },
   {
    "duration": 15,
    "start_time": "2022-02-21T14:40:14.994Z"
   },
   {
    "duration": 36,
    "start_time": "2022-02-21T14:40:15.012Z"
   },
   {
    "duration": 15,
    "start_time": "2022-02-21T14:40:15.051Z"
   },
   {
    "duration": 28,
    "start_time": "2022-02-21T14:40:15.069Z"
   },
   {
    "duration": 20,
    "start_time": "2022-02-21T14:40:15.099Z"
   },
   {
    "duration": 13,
    "start_time": "2022-02-21T14:40:15.148Z"
   },
   {
    "duration": 12,
    "start_time": "2022-02-21T14:40:15.165Z"
   },
   {
    "duration": 39,
    "start_time": "2022-02-21T14:40:15.181Z"
   },
   {
    "duration": 68,
    "start_time": "2022-02-21T14:40:15.222Z"
   },
   {
    "duration": 7,
    "start_time": "2022-02-21T14:40:15.294Z"
   },
   {
    "duration": 19,
    "start_time": "2022-02-21T14:40:15.304Z"
   },
   {
    "duration": 8,
    "start_time": "2022-02-21T14:40:15.349Z"
   },
   {
    "duration": 11,
    "start_time": "2022-02-21T14:40:15.360Z"
   },
   {
    "duration": 9,
    "start_time": "2022-02-21T14:40:15.374Z"
   },
   {
    "duration": 81,
    "start_time": "2022-02-21T14:40:15.386Z"
   },
   {
    "duration": 11,
    "start_time": "2022-02-21T14:40:15.470Z"
   },
   {
    "duration": 14,
    "start_time": "2022-02-21T14:40:20.718Z"
   },
   {
    "duration": 6696,
    "start_time": "2022-02-21T14:40:42.697Z"
   },
   {
    "duration": 6960,
    "start_time": "2022-02-21T14:41:03.366Z"
   },
   {
    "duration": 6304,
    "start_time": "2022-02-21T14:41:39.879Z"
   },
   {
    "duration": 73,
    "start_time": "2022-02-21T14:41:50.966Z"
   },
   {
    "duration": 18,
    "start_time": "2022-02-21T14:41:51.041Z"
   },
   {
    "duration": 12,
    "start_time": "2022-02-21T14:41:51.063Z"
   },
   {
    "duration": 14,
    "start_time": "2022-02-21T14:41:51.077Z"
   },
   {
    "duration": 56,
    "start_time": "2022-02-21T14:41:51.094Z"
   },
   {
    "duration": 21,
    "start_time": "2022-02-21T14:41:51.152Z"
   },
   {
    "duration": 12,
    "start_time": "2022-02-21T14:41:51.175Z"
   },
   {
    "duration": 11,
    "start_time": "2022-02-21T14:41:51.191Z"
   },
   {
    "duration": 60,
    "start_time": "2022-02-21T14:41:51.205Z"
   },
   {
    "duration": 44,
    "start_time": "2022-02-21T14:41:51.268Z"
   },
   {
    "duration": 34,
    "start_time": "2022-02-21T14:41:51.315Z"
   },
   {
    "duration": 13,
    "start_time": "2022-02-21T14:41:51.352Z"
   },
   {
    "duration": 8,
    "start_time": "2022-02-21T14:41:51.367Z"
   },
   {
    "duration": 12,
    "start_time": "2022-02-21T14:41:51.377Z"
   },
   {
    "duration": 9,
    "start_time": "2022-02-21T14:41:51.391Z"
   },
   {
    "duration": 68,
    "start_time": "2022-02-21T14:41:51.403Z"
   },
   {
    "duration": 10,
    "start_time": "2022-02-21T14:41:51.473Z"
   },
   {
    "duration": 68,
    "start_time": "2022-02-21T14:41:51.486Z"
   },
   {
    "duration": 10,
    "start_time": "2022-02-21T14:43:12.480Z"
   },
   {
    "duration": 9,
    "start_time": "2022-02-21T14:43:13.092Z"
   },
   {
    "duration": 10,
    "start_time": "2022-02-21T14:43:14.496Z"
   },
   {
    "duration": 11,
    "start_time": "2022-02-21T14:43:17.971Z"
   },
   {
    "duration": 734,
    "start_time": "2022-02-21T14:43:19.500Z"
   },
   {
    "duration": 10,
    "start_time": "2022-02-21T14:43:20.521Z"
   },
   {
    "duration": 22,
    "start_time": "2022-02-21T14:43:30.445Z"
   },
   {
    "duration": 6892,
    "start_time": "2022-02-21T14:43:58.748Z"
   },
   {
    "duration": 49,
    "start_time": "2022-02-21T14:44:05.593Z"
   },
   {
    "duration": 81,
    "start_time": "2022-02-21T14:44:17.920Z"
   },
   {
    "duration": 16,
    "start_time": "2022-02-21T14:44:18.004Z"
   },
   {
    "duration": 39,
    "start_time": "2022-02-21T14:44:18.024Z"
   },
   {
    "duration": 26,
    "start_time": "2022-02-21T14:44:18.067Z"
   },
   {
    "duration": 53,
    "start_time": "2022-02-21T14:44:18.096Z"
   },
   {
    "duration": 31,
    "start_time": "2022-02-21T14:44:18.152Z"
   },
   {
    "duration": 35,
    "start_time": "2022-02-21T14:44:18.186Z"
   },
   {
    "duration": 24,
    "start_time": "2022-02-21T14:44:18.224Z"
   },
   {
    "duration": 27,
    "start_time": "2022-02-21T14:44:18.253Z"
   },
   {
    "duration": 64,
    "start_time": "2022-02-21T14:44:18.284Z"
   },
   {
    "duration": 7,
    "start_time": "2022-02-21T14:44:18.351Z"
   },
   {
    "duration": 15,
    "start_time": "2022-02-21T14:44:18.361Z"
   },
   {
    "duration": 13,
    "start_time": "2022-02-21T14:44:18.380Z"
   },
   {
    "duration": 27,
    "start_time": "2022-02-21T14:44:18.396Z"
   },
   {
    "duration": 24,
    "start_time": "2022-02-21T14:44:18.426Z"
   },
   {
    "duration": 58,
    "start_time": "2022-02-21T14:44:18.453Z"
   },
   {
    "duration": 11,
    "start_time": "2022-02-21T14:44:18.514Z"
   },
   {
    "duration": 79,
    "start_time": "2022-02-21T14:44:18.528Z"
   },
   {
    "duration": 14,
    "start_time": "2022-02-21T14:44:18.610Z"
   },
   {
    "duration": 45,
    "start_time": "2022-02-21T14:44:18.627Z"
   },
   {
    "duration": 26,
    "start_time": "2022-02-21T14:44:18.676Z"
   },
   {
    "duration": 42,
    "start_time": "2022-02-21T14:44:18.704Z"
   },
   {
    "duration": 823,
    "start_time": "2022-02-21T14:44:18.748Z"
   },
   {
    "duration": 10,
    "start_time": "2022-02-21T14:44:26.353Z"
   },
   {
    "duration": 20,
    "start_time": "2022-02-21T14:44:47.384Z"
   },
   {
    "duration": 8,
    "start_time": "2022-02-21T14:44:51.607Z"
   },
   {
    "duration": 39,
    "start_time": "2022-02-21T14:44:56.495Z"
   },
   {
    "duration": 15,
    "start_time": "2022-02-21T14:45:41.587Z"
   },
   {
    "duration": 10,
    "start_time": "2022-02-21T14:46:15.677Z"
   },
   {
    "duration": 15,
    "start_time": "2022-02-21T14:46:23.444Z"
   },
   {
    "duration": 77,
    "start_time": "2022-02-21T14:46:49.817Z"
   },
   {
    "duration": 14,
    "start_time": "2022-02-21T14:46:49.896Z"
   },
   {
    "duration": 12,
    "start_time": "2022-02-21T14:46:49.913Z"
   },
   {
    "duration": 14,
    "start_time": "2022-02-21T14:46:49.949Z"
   },
   {
    "duration": 19,
    "start_time": "2022-02-21T14:46:49.965Z"
   },
   {
    "duration": 20,
    "start_time": "2022-02-21T14:46:49.987Z"
   },
   {
    "duration": 48,
    "start_time": "2022-02-21T14:46:50.009Z"
   },
   {
    "duration": 9,
    "start_time": "2022-02-21T14:46:50.060Z"
   },
   {
    "duration": 24,
    "start_time": "2022-02-21T14:46:50.073Z"
   },
   {
    "duration": 79,
    "start_time": "2022-02-21T14:46:50.100Z"
   },
   {
    "duration": 6,
    "start_time": "2022-02-21T14:46:50.182Z"
   },
   {
    "duration": 8,
    "start_time": "2022-02-21T14:46:50.191Z"
   },
   {
    "duration": 6,
    "start_time": "2022-02-21T14:46:50.201Z"
   },
   {
    "duration": 45,
    "start_time": "2022-02-21T14:46:50.210Z"
   },
   {
    "duration": 9,
    "start_time": "2022-02-21T14:46:50.258Z"
   },
   {
    "duration": 37,
    "start_time": "2022-02-21T14:46:50.270Z"
   },
   {
    "duration": 48,
    "start_time": "2022-02-21T14:46:50.310Z"
   },
   {
    "duration": 43,
    "start_time": "2022-02-21T14:46:50.362Z"
   },
   {
    "duration": 41,
    "start_time": "2022-02-21T14:46:50.407Z"
   },
   {
    "duration": 11,
    "start_time": "2022-02-21T14:46:50.451Z"
   },
   {
    "duration": 10,
    "start_time": "2022-02-21T14:46:50.466Z"
   },
   {
    "duration": 13,
    "start_time": "2022-02-21T14:46:50.479Z"
   },
   {
    "duration": 764,
    "start_time": "2022-02-21T14:46:50.495Z"
   },
   {
    "duration": 10,
    "start_time": "2022-02-21T14:46:51.262Z"
   },
   {
    "duration": 22,
    "start_time": "2022-02-21T14:46:51.276Z"
   },
   {
    "duration": 8,
    "start_time": "2022-02-21T14:46:51.301Z"
   },
   {
    "duration": 37,
    "start_time": "2022-02-21T14:46:51.352Z"
   },
   {
    "duration": 12,
    "start_time": "2022-02-21T14:46:51.392Z"
   },
   {
    "duration": 43,
    "start_time": "2022-02-21T14:46:51.406Z"
   },
   {
    "duration": 13,
    "start_time": "2022-02-21T14:46:52.063Z"
   },
   {
    "duration": 17,
    "start_time": "2022-02-21T14:46:53.304Z"
   },
   {
    "duration": 13,
    "start_time": "2022-02-21T14:46:53.888Z"
   },
   {
    "duration": 20,
    "start_time": "2022-02-21T14:47:48.028Z"
   },
   {
    "duration": 12,
    "start_time": "2022-02-21T14:47:48.434Z"
   },
   {
    "duration": 5046,
    "start_time": "2022-02-21T14:48:23.801Z"
   },
   {
    "duration": -22,
    "start_time": "2022-02-21T14:48:28.873Z"
   },
   {
    "duration": -23,
    "start_time": "2022-02-21T14:48:28.876Z"
   },
   {
    "duration": 5894,
    "start_time": "2022-02-21T14:49:18.210Z"
   },
   {
    "duration": 12,
    "start_time": "2022-02-21T14:49:24.416Z"
   },
   {
    "duration": 78,
    "start_time": "2022-02-21T14:49:29.825Z"
   },
   {
    "duration": 14,
    "start_time": "2022-02-21T14:49:29.906Z"
   },
   {
    "duration": 29,
    "start_time": "2022-02-21T14:49:29.923Z"
   },
   {
    "duration": 18,
    "start_time": "2022-02-21T14:49:29.955Z"
   },
   {
    "duration": 20,
    "start_time": "2022-02-21T14:49:29.976Z"
   },
   {
    "duration": 53,
    "start_time": "2022-02-21T14:49:29.998Z"
   },
   {
    "duration": 23,
    "start_time": "2022-02-21T14:49:30.054Z"
   },
   {
    "duration": 16,
    "start_time": "2022-02-21T14:49:30.081Z"
   },
   {
    "duration": 24,
    "start_time": "2022-02-21T14:49:30.102Z"
   },
   {
    "duration": 53,
    "start_time": "2022-02-21T14:49:30.149Z"
   },
   {
    "duration": 5,
    "start_time": "2022-02-21T14:49:30.205Z"
   },
   {
    "duration": 39,
    "start_time": "2022-02-21T14:49:30.213Z"
   },
   {
    "duration": 6,
    "start_time": "2022-02-21T14:49:30.255Z"
   },
   {
    "duration": 24,
    "start_time": "2022-02-21T14:49:30.263Z"
   },
   {
    "duration": 17,
    "start_time": "2022-02-21T14:49:30.289Z"
   },
   {
    "duration": 56,
    "start_time": "2022-02-21T14:49:30.308Z"
   },
   {
    "duration": 13,
    "start_time": "2022-02-21T14:49:30.366Z"
   },
   {
    "duration": 50,
    "start_time": "2022-02-21T14:49:30.381Z"
   },
   {
    "duration": 10,
    "start_time": "2022-02-21T14:49:30.449Z"
   },
   {
    "duration": 14,
    "start_time": "2022-02-21T14:49:32.355Z"
   },
   {
    "duration": 9,
    "start_time": "2022-02-21T14:49:32.887Z"
   },
   {
    "duration": 11,
    "start_time": "2022-02-21T14:49:33.773Z"
   },
   {
    "duration": 11,
    "start_time": "2022-02-21T14:49:34.629Z"
   },
   {
    "duration": 730,
    "start_time": "2022-02-21T14:49:35.294Z"
   },
   {
    "duration": 9,
    "start_time": "2022-02-21T14:49:36.027Z"
   },
   {
    "duration": 19,
    "start_time": "2022-02-21T14:49:36.112Z"
   },
   {
    "duration": 8,
    "start_time": "2022-02-21T14:49:36.564Z"
   },
   {
    "duration": 38,
    "start_time": "2022-02-21T14:49:37.731Z"
   },
   {
    "duration": 12,
    "start_time": "2022-02-21T14:49:39.415Z"
   },
   {
    "duration": 10,
    "start_time": "2022-02-21T14:49:41.365Z"
   },
   {
    "duration": 4688,
    "start_time": "2022-02-21T14:49:41.991Z"
   },
   {
    "duration": 18,
    "start_time": "2022-02-21T14:50:06.754Z"
   },
   {
    "duration": 10,
    "start_time": "2022-02-21T14:50:11.765Z"
   },
   {
    "duration": 17,
    "start_time": "2022-02-21T14:50:24.354Z"
   },
   {
    "duration": 20,
    "start_time": "2022-02-21T14:51:32.390Z"
   },
   {
    "duration": 5201,
    "start_time": "2022-02-21T14:52:19.362Z"
   },
   {
    "duration": 78,
    "start_time": "2022-02-21T14:52:32.786Z"
   },
   {
    "duration": 5906,
    "start_time": "2022-02-21T14:52:39.209Z"
   },
   {
    "duration": 17,
    "start_time": "2022-02-21T14:52:48.941Z"
   },
   {
    "duration": 17,
    "start_time": "2022-02-21T14:53:57.013Z"
   },
   {
    "duration": 20,
    "start_time": "2022-02-21T14:54:02.484Z"
   },
   {
    "duration": 17,
    "start_time": "2022-02-21T14:54:27.397Z"
   },
   {
    "duration": 82,
    "start_time": "2022-02-21T14:54:31.739Z"
   },
   {
    "duration": 35,
    "start_time": "2022-02-21T14:54:31.824Z"
   },
   {
    "duration": 29,
    "start_time": "2022-02-21T14:54:31.863Z"
   },
   {
    "duration": 30,
    "start_time": "2022-02-21T14:54:31.895Z"
   },
   {
    "duration": 33,
    "start_time": "2022-02-21T14:54:31.928Z"
   },
   {
    "duration": 20,
    "start_time": "2022-02-21T14:54:31.963Z"
   },
   {
    "duration": 13,
    "start_time": "2022-02-21T14:54:31.986Z"
   },
   {
    "duration": 49,
    "start_time": "2022-02-21T14:54:32.003Z"
   },
   {
    "duration": 27,
    "start_time": "2022-02-21T14:54:32.055Z"
   },
   {
    "duration": 84,
    "start_time": "2022-02-21T14:54:32.085Z"
   },
   {
    "duration": 7,
    "start_time": "2022-02-21T14:54:32.172Z"
   },
   {
    "duration": 13,
    "start_time": "2022-02-21T14:54:32.182Z"
   },
   {
    "duration": 7,
    "start_time": "2022-02-21T14:54:32.197Z"
   },
   {
    "duration": 38,
    "start_time": "2022-02-21T14:54:32.207Z"
   },
   {
    "duration": 13,
    "start_time": "2022-02-21T14:54:32.247Z"
   },
   {
    "duration": 42,
    "start_time": "2022-02-21T14:54:32.263Z"
   },
   {
    "duration": 10,
    "start_time": "2022-02-21T14:54:32.308Z"
   },
   {
    "duration": 93,
    "start_time": "2022-02-21T14:54:32.321Z"
   },
   {
    "duration": 10,
    "start_time": "2022-02-21T14:54:32.416Z"
   },
   {
    "duration": 35,
    "start_time": "2022-02-21T14:54:32.430Z"
   },
   {
    "duration": 28,
    "start_time": "2022-02-21T14:54:32.468Z"
   },
   {
    "duration": 43,
    "start_time": "2022-02-21T14:54:32.499Z"
   },
   {
    "duration": 771,
    "start_time": "2022-02-21T14:54:32.547Z"
   },
   {
    "duration": 10,
    "start_time": "2022-02-21T14:54:33.321Z"
   },
   {
    "duration": 21,
    "start_time": "2022-02-21T14:54:33.349Z"
   },
   {
    "duration": 7,
    "start_time": "2022-02-21T14:54:33.373Z"
   },
   {
    "duration": 68,
    "start_time": "2022-02-21T14:54:33.382Z"
   },
   {
    "duration": 13,
    "start_time": "2022-02-21T14:54:33.452Z"
   },
   {
    "duration": 9,
    "start_time": "2022-02-21T14:54:33.467Z"
   },
   {
    "duration": 19,
    "start_time": "2022-02-21T14:54:33.478Z"
   },
   {
    "duration": 18,
    "start_time": "2022-02-21T14:54:38.983Z"
   },
   {
    "duration": 19,
    "start_time": "2022-02-21T15:06:06.970Z"
   },
   {
    "duration": 19,
    "start_time": "2022-02-21T15:06:11.033Z"
   },
   {
    "duration": 23,
    "start_time": "2022-02-21T15:06:51.937Z"
   },
   {
    "duration": 18,
    "start_time": "2022-02-21T15:06:59.219Z"
   },
   {
    "duration": 21,
    "start_time": "2022-02-21T15:07:05.888Z"
   },
   {
    "duration": 162,
    "start_time": "2022-02-21T15:21:10.677Z"
   },
   {
    "duration": 7,
    "start_time": "2022-02-21T15:21:20.929Z"
   },
   {
    "duration": 11,
    "start_time": "2022-02-21T15:21:52.319Z"
   },
   {
    "duration": 10,
    "start_time": "2022-02-21T15:24:13.509Z"
   },
   {
    "duration": 18,
    "start_time": "2022-02-21T15:24:21.334Z"
   },
   {
    "duration": 89,
    "start_time": "2022-02-21T15:24:40.184Z"
   },
   {
    "duration": 82,
    "start_time": "2022-02-21T15:27:19.199Z"
   },
   {
    "duration": 14,
    "start_time": "2022-02-21T15:27:19.284Z"
   },
   {
    "duration": 12,
    "start_time": "2022-02-21T15:27:19.301Z"
   },
   {
    "duration": 43,
    "start_time": "2022-02-21T15:27:19.316Z"
   },
   {
    "duration": 18,
    "start_time": "2022-02-21T15:27:19.361Z"
   },
   {
    "duration": 18,
    "start_time": "2022-02-21T15:27:19.381Z"
   },
   {
    "duration": 48,
    "start_time": "2022-02-21T15:27:19.402Z"
   },
   {
    "duration": 11,
    "start_time": "2022-02-21T15:27:19.452Z"
   },
   {
    "duration": 24,
    "start_time": "2022-02-21T15:27:19.466Z"
   },
   {
    "duration": 74,
    "start_time": "2022-02-21T15:27:19.493Z"
   },
   {
    "duration": 6,
    "start_time": "2022-02-21T15:27:19.569Z"
   },
   {
    "duration": 12,
    "start_time": "2022-02-21T15:27:19.577Z"
   },
   {
    "duration": 10,
    "start_time": "2022-02-21T15:27:19.591Z"
   },
   {
    "duration": 9,
    "start_time": "2022-02-21T15:27:19.603Z"
   },
   {
    "duration": 8,
    "start_time": "2022-02-21T15:27:19.649Z"
   },
   {
    "duration": 37,
    "start_time": "2022-02-21T15:27:19.659Z"
   },
   {
    "duration": 13,
    "start_time": "2022-02-21T15:27:19.699Z"
   },
   {
    "duration": 73,
    "start_time": "2022-02-21T15:27:19.714Z"
   },
   {
    "duration": 11,
    "start_time": "2022-02-21T15:27:19.790Z"
   },
   {
    "duration": 10,
    "start_time": "2022-02-21T15:27:19.803Z"
   },
   {
    "duration": 10,
    "start_time": "2022-02-21T15:27:19.850Z"
   },
   {
    "duration": 17,
    "start_time": "2022-02-21T15:27:19.862Z"
   },
   {
    "duration": 9,
    "start_time": "2022-02-21T15:27:19.881Z"
   },
   {
    "duration": 13,
    "start_time": "2022-02-21T15:27:19.892Z"
   },
   {
    "duration": 731,
    "start_time": "2022-02-21T15:27:19.908Z"
   },
   {
    "duration": 9,
    "start_time": "2022-02-21T15:27:20.649Z"
   },
   {
    "duration": 20,
    "start_time": "2022-02-21T15:27:20.662Z"
   },
   {
    "duration": 7,
    "start_time": "2022-02-21T15:27:20.684Z"
   },
   {
    "duration": 69,
    "start_time": "2022-02-21T15:27:20.693Z"
   },
   {
    "duration": 11,
    "start_time": "2022-02-21T15:27:20.765Z"
   },
   {
    "duration": 9,
    "start_time": "2022-02-21T15:27:20.779Z"
   },
   {
    "duration": 16,
    "start_time": "2022-02-21T15:27:20.790Z"
   },
   {
    "duration": 118,
    "start_time": "2022-02-21T15:29:53.541Z"
   },
   {
    "duration": 17,
    "start_time": "2022-02-21T15:29:53.662Z"
   },
   {
    "duration": 20,
    "start_time": "2022-02-21T15:29:53.682Z"
   },
   {
    "duration": 52,
    "start_time": "2022-02-21T15:29:53.705Z"
   },
   {
    "duration": 32,
    "start_time": "2022-02-21T15:29:53.760Z"
   },
   {
    "duration": 23,
    "start_time": "2022-02-21T15:29:53.795Z"
   },
   {
    "duration": 38,
    "start_time": "2022-02-21T15:29:53.820Z"
   },
   {
    "duration": 13,
    "start_time": "2022-02-21T15:29:53.863Z"
   },
   {
    "duration": 30,
    "start_time": "2022-02-21T15:29:53.880Z"
   },
   {
    "duration": 74,
    "start_time": "2022-02-21T15:29:53.913Z"
   },
   {
    "duration": 6,
    "start_time": "2022-02-21T15:29:53.989Z"
   },
   {
    "duration": 25,
    "start_time": "2022-02-21T15:29:53.998Z"
   },
   {
    "duration": 25,
    "start_time": "2022-02-21T15:29:54.025Z"
   },
   {
    "duration": 22,
    "start_time": "2022-02-21T15:29:54.053Z"
   },
   {
    "duration": 10,
    "start_time": "2022-02-21T15:29:54.077Z"
   },
   {
    "duration": 67,
    "start_time": "2022-02-21T15:29:54.090Z"
   },
   {
    "duration": 13,
    "start_time": "2022-02-21T15:29:54.160Z"
   },
   {
    "duration": 3,
    "start_time": "2022-02-21T15:29:54.176Z"
   },
   {
    "duration": 17,
    "start_time": "2022-02-21T15:29:54.181Z"
   },
   {
    "duration": 9,
    "start_time": "2022-02-21T15:29:54.201Z"
   },
   {
    "duration": 41,
    "start_time": "2022-02-21T15:29:54.213Z"
   },
   {
    "duration": 19,
    "start_time": "2022-02-21T15:29:54.257Z"
   },
   {
    "duration": 12,
    "start_time": "2022-02-21T15:29:54.281Z"
   },
   {
    "duration": 14,
    "start_time": "2022-02-21T15:29:54.296Z"
   },
   {
    "duration": 11,
    "start_time": "2022-02-21T15:29:55.982Z"
   },
   {
    "duration": 721,
    "start_time": "2022-02-21T15:29:57.165Z"
   },
   {
    "duration": 13,
    "start_time": "2022-02-21T15:31:09.231Z"
   },
   {
    "duration": 79,
    "start_time": "2022-02-21T15:31:15.109Z"
   },
   {
    "duration": 20,
    "start_time": "2022-02-21T15:31:15.191Z"
   },
   {
    "duration": 34,
    "start_time": "2022-02-21T15:31:15.216Z"
   },
   {
    "duration": 15,
    "start_time": "2022-02-21T15:31:15.253Z"
   },
   {
    "duration": 33,
    "start_time": "2022-02-21T15:31:15.270Z"
   },
   {
    "duration": 23,
    "start_time": "2022-02-21T15:31:15.305Z"
   },
   {
    "duration": 16,
    "start_time": "2022-02-21T15:31:15.347Z"
   },
   {
    "duration": 10,
    "start_time": "2022-02-21T15:31:15.366Z"
   },
   {
    "duration": 26,
    "start_time": "2022-02-21T15:31:15.381Z"
   },
   {
    "duration": 80,
    "start_time": "2022-02-21T15:31:15.410Z"
   },
   {
    "duration": 7,
    "start_time": "2022-02-21T15:31:15.493Z"
   },
   {
    "duration": 23,
    "start_time": "2022-02-21T15:31:15.503Z"
   },
   {
    "duration": 30,
    "start_time": "2022-02-21T15:31:15.528Z"
   },
   {
    "duration": 23,
    "start_time": "2022-02-21T15:31:15.561Z"
   },
   {
    "duration": 30,
    "start_time": "2022-02-21T15:31:15.586Z"
   },
   {
    "duration": 55,
    "start_time": "2022-02-21T15:31:15.619Z"
   },
   {
    "duration": 13,
    "start_time": "2022-02-21T15:31:15.677Z"
   },
   {
    "duration": 25,
    "start_time": "2022-02-21T15:31:15.693Z"
   },
   {
    "duration": 11,
    "start_time": "2022-02-21T15:31:17.372Z"
   },
   {
    "duration": 9,
    "start_time": "2022-02-21T15:31:17.922Z"
   },
   {
    "duration": 13,
    "start_time": "2022-02-21T15:31:18.829Z"
   },
   {
    "duration": 16,
    "start_time": "2022-02-21T15:31:19.270Z"
   },
   {
    "duration": 10,
    "start_time": "2022-02-21T15:31:19.872Z"
   },
   {
    "duration": 11,
    "start_time": "2022-02-21T15:31:20.522Z"
   },
   {
    "duration": 750,
    "start_time": "2022-02-21T15:31:20.737Z"
   },
   {
    "duration": 10,
    "start_time": "2022-02-21T15:31:22.836Z"
   },
   {
    "duration": 6074,
    "start_time": "2022-02-21T15:32:27.524Z"
   },
   {
    "duration": 83,
    "start_time": "2022-02-21T15:32:52.624Z"
   },
   {
    "duration": 16,
    "start_time": "2022-02-21T15:32:52.710Z"
   },
   {
    "duration": 30,
    "start_time": "2022-02-21T15:32:52.729Z"
   },
   {
    "duration": 15,
    "start_time": "2022-02-21T15:32:52.762Z"
   },
   {
    "duration": 20,
    "start_time": "2022-02-21T15:32:52.780Z"
   },
   {
    "duration": 64,
    "start_time": "2022-02-21T15:32:52.803Z"
   },
   {
    "duration": 13,
    "start_time": "2022-02-21T15:32:52.870Z"
   },
   {
    "duration": 11,
    "start_time": "2022-02-21T15:32:52.886Z"
   },
   {
    "duration": 55,
    "start_time": "2022-02-21T15:32:52.900Z"
   },
   {
    "duration": 45,
    "start_time": "2022-02-21T15:32:52.959Z"
   },
   {
    "duration": 5,
    "start_time": "2022-02-21T15:32:53.006Z"
   },
   {
    "duration": 39,
    "start_time": "2022-02-21T15:32:53.013Z"
   },
   {
    "duration": 7,
    "start_time": "2022-02-21T15:32:53.055Z"
   },
   {
    "duration": 10,
    "start_time": "2022-02-21T15:32:53.064Z"
   },
   {
    "duration": 7,
    "start_time": "2022-02-21T15:32:53.078Z"
   },
   {
    "duration": 86,
    "start_time": "2022-02-21T15:32:53.088Z"
   },
   {
    "duration": 14,
    "start_time": "2022-02-21T15:32:53.177Z"
   },
   {
    "duration": 253,
    "start_time": "2022-02-21T15:32:55.816Z"
   },
   {
    "duration": 6240,
    "start_time": "2022-02-21T15:34:03.015Z"
   },
   {
    "duration": 77,
    "start_time": "2022-02-21T15:34:27.866Z"
   },
   {
    "duration": 16,
    "start_time": "2022-02-21T15:34:27.946Z"
   },
   {
    "duration": 17,
    "start_time": "2022-02-21T15:34:27.966Z"
   },
   {
    "duration": 18,
    "start_time": "2022-02-21T15:34:27.986Z"
   },
   {
    "duration": 60,
    "start_time": "2022-02-21T15:34:28.007Z"
   },
   {
    "duration": 22,
    "start_time": "2022-02-21T15:34:28.070Z"
   },
   {
    "duration": 13,
    "start_time": "2022-02-21T15:34:28.095Z"
   },
   {
    "duration": 48,
    "start_time": "2022-02-21T15:34:28.110Z"
   },
   {
    "duration": 34,
    "start_time": "2022-02-21T15:34:28.162Z"
   },
   {
    "duration": 60,
    "start_time": "2022-02-21T15:34:28.199Z"
   },
   {
    "duration": 7,
    "start_time": "2022-02-21T15:34:28.261Z"
   },
   {
    "duration": 12,
    "start_time": "2022-02-21T15:34:28.270Z"
   },
   {
    "duration": 19,
    "start_time": "2022-02-21T15:34:28.285Z"
   },
   {
    "duration": 36,
    "start_time": "2022-02-21T15:34:28.307Z"
   },
   {
    "duration": 10,
    "start_time": "2022-02-21T15:34:28.346Z"
   },
   {
    "duration": 40,
    "start_time": "2022-02-21T15:34:28.358Z"
   },
   {
    "duration": 11,
    "start_time": "2022-02-21T15:34:28.400Z"
   },
   {
    "duration": 41,
    "start_time": "2022-02-21T15:34:30.605Z"
   },
   {
    "duration": 6900,
    "start_time": "2022-02-21T15:35:12.623Z"
   },
   {
    "duration": -67,
    "start_time": "2022-02-21T15:35:19.594Z"
   },
   {
    "duration": -67,
    "start_time": "2022-02-21T15:35:19.596Z"
   },
   {
    "duration": -68,
    "start_time": "2022-02-21T15:35:19.598Z"
   },
   {
    "duration": -69,
    "start_time": "2022-02-21T15:35:19.600Z"
   },
   {
    "duration": -68,
    "start_time": "2022-02-21T15:35:19.601Z"
   },
   {
    "duration": -69,
    "start_time": "2022-02-21T15:35:19.603Z"
   },
   {
    "duration": -68,
    "start_time": "2022-02-21T15:35:19.604Z"
   },
   {
    "duration": -68,
    "start_time": "2022-02-21T15:35:19.606Z"
   },
   {
    "duration": 19,
    "start_time": "2022-02-21T15:35:20.886Z"
   },
   {
    "duration": 9,
    "start_time": "2022-02-21T15:35:21.554Z"
   },
   {
    "duration": 35,
    "start_time": "2022-02-21T15:35:22.200Z"
   },
   {
    "duration": 14,
    "start_time": "2022-02-21T15:35:23.087Z"
   },
   {
    "duration": 11,
    "start_time": "2022-02-21T15:35:23.483Z"
   },
   {
    "duration": 24,
    "start_time": "2022-02-21T15:35:23.693Z"
   },
   {
    "duration": 17,
    "start_time": "2022-02-21T15:35:23.888Z"
   },
   {
    "duration": 6951,
    "start_time": "2022-02-21T15:36:10.707Z"
   },
   {
    "duration": 72,
    "start_time": "2022-02-21T15:36:44.051Z"
   },
   {
    "duration": 35,
    "start_time": "2022-02-21T15:36:44.126Z"
   },
   {
    "duration": 12,
    "start_time": "2022-02-21T15:36:44.164Z"
   },
   {
    "duration": 15,
    "start_time": "2022-02-21T15:36:44.179Z"
   },
   {
    "duration": 61,
    "start_time": "2022-02-21T15:36:44.196Z"
   },
   {
    "duration": 22,
    "start_time": "2022-02-21T15:36:44.260Z"
   },
   {
    "duration": 13,
    "start_time": "2022-02-21T15:36:44.285Z"
   },
   {
    "duration": 10,
    "start_time": "2022-02-21T15:36:44.300Z"
   },
   {
    "duration": 23,
    "start_time": "2022-02-21T15:36:44.351Z"
   },
   {
    "duration": 42,
    "start_time": "2022-02-21T15:36:44.377Z"
   },
   {
    "duration": 31,
    "start_time": "2022-02-21T15:36:44.422Z"
   },
   {
    "duration": 18,
    "start_time": "2022-02-21T15:36:44.455Z"
   },
   {
    "duration": 12,
    "start_time": "2022-02-21T15:36:44.475Z"
   },
   {
    "duration": 12,
    "start_time": "2022-02-21T15:36:44.490Z"
   },
   {
    "duration": 10,
    "start_time": "2022-02-21T15:36:44.505Z"
   },
   {
    "duration": 68,
    "start_time": "2022-02-21T15:36:44.517Z"
   },
   {
    "duration": 12,
    "start_time": "2022-02-21T15:36:44.587Z"
   },
   {
    "duration": 45,
    "start_time": "2022-02-21T15:37:05.591Z"
   },
   {
    "duration": 54,
    "start_time": "2022-02-21T15:37:08.379Z"
   },
   {
    "duration": 38,
    "start_time": "2022-02-21T15:37:43.920Z"
   },
   {
    "duration": 14,
    "start_time": "2022-02-21T15:37:45.654Z"
   },
   {
    "duration": 9,
    "start_time": "2022-02-21T15:37:45.874Z"
   },
   {
    "duration": 12,
    "start_time": "2022-02-21T15:37:46.601Z"
   },
   {
    "duration": 16,
    "start_time": "2022-02-21T15:37:47.006Z"
   },
   {
    "duration": 12,
    "start_time": "2022-02-21T15:37:47.619Z"
   },
   {
    "duration": 12,
    "start_time": "2022-02-21T15:37:48.578Z"
   },
   {
    "duration": 846,
    "start_time": "2022-02-21T15:37:49.321Z"
   },
   {
    "duration": 10,
    "start_time": "2022-02-21T15:37:50.540Z"
   },
   {
    "duration": 5691,
    "start_time": "2022-02-21T15:39:08.316Z"
   },
   {
    "duration": 232,
    "start_time": "2022-02-21T15:39:35.072Z"
   },
   {
    "duration": 98,
    "start_time": "2022-02-21T15:39:54.594Z"
   },
   {
    "duration": 30,
    "start_time": "2022-02-21T15:40:09.124Z"
   },
   {
    "duration": 27,
    "start_time": "2022-02-21T15:40:47.033Z"
   },
   {
    "duration": 77,
    "start_time": "2022-02-21T15:40:52.877Z"
   },
   {
    "duration": 18,
    "start_time": "2022-02-21T15:40:52.957Z"
   },
   {
    "duration": 14,
    "start_time": "2022-02-21T15:40:52.978Z"
   },
   {
    "duration": 20,
    "start_time": "2022-02-21T15:40:52.995Z"
   },
   {
    "duration": 49,
    "start_time": "2022-02-21T15:40:53.017Z"
   },
   {
    "duration": 32,
    "start_time": "2022-02-21T15:40:53.068Z"
   },
   {
    "duration": 14,
    "start_time": "2022-02-21T15:40:53.103Z"
   },
   {
    "duration": 33,
    "start_time": "2022-02-21T15:40:53.120Z"
   },
   {
    "duration": 25,
    "start_time": "2022-02-21T15:40:53.156Z"
   },
   {
    "duration": 67,
    "start_time": "2022-02-21T15:40:53.184Z"
   },
   {
    "duration": 6,
    "start_time": "2022-02-21T15:40:53.254Z"
   },
   {
    "duration": 18,
    "start_time": "2022-02-21T15:40:53.263Z"
   },
   {
    "duration": 9,
    "start_time": "2022-02-21T15:40:53.284Z"
   },
   {
    "duration": 16,
    "start_time": "2022-02-21T15:40:53.296Z"
   },
   {
    "duration": 38,
    "start_time": "2022-02-21T15:40:53.314Z"
   },
   {
    "duration": 37,
    "start_time": "2022-02-21T15:40:53.354Z"
   },
   {
    "duration": 11,
    "start_time": "2022-02-21T15:40:53.394Z"
   },
   {
    "duration": 22,
    "start_time": "2022-02-21T15:40:55.013Z"
   },
   {
    "duration": 11,
    "start_time": "2022-02-21T15:41:02.806Z"
   },
   {
    "duration": 8,
    "start_time": "2022-02-21T15:41:03.451Z"
   },
   {
    "duration": 11,
    "start_time": "2022-02-21T15:41:05.714Z"
   },
   {
    "duration": 15,
    "start_time": "2022-02-21T15:41:06.627Z"
   },
   {
    "duration": 12,
    "start_time": "2022-02-21T15:41:07.787Z"
   },
   {
    "duration": 11,
    "start_time": "2022-02-21T15:41:08.595Z"
   },
   {
    "duration": 779,
    "start_time": "2022-02-21T15:41:08.873Z"
   },
   {
    "duration": 11,
    "start_time": "2022-02-21T15:41:09.980Z"
   },
   {
    "duration": 22,
    "start_time": "2022-02-21T15:41:10.878Z"
   },
   {
    "duration": 9,
    "start_time": "2022-02-21T15:41:11.990Z"
   },
   {
    "duration": 41,
    "start_time": "2022-02-21T15:41:13.633Z"
   },
   {
    "duration": 31,
    "start_time": "2022-02-21T15:41:43.418Z"
   },
   {
    "duration": 13,
    "start_time": "2022-02-21T15:41:47.456Z"
   },
   {
    "duration": 11,
    "start_time": "2022-02-21T15:41:48.995Z"
   },
   {
    "duration": 16,
    "start_time": "2022-02-21T15:41:49.578Z"
   },
   {
    "duration": 11,
    "start_time": "2022-02-21T15:41:51.062Z"
   },
   {
    "duration": 140,
    "start_time": "2022-02-21T15:45:46.129Z"
   },
   {
    "duration": 21,
    "start_time": "2022-02-21T15:45:46.273Z"
   },
   {
    "duration": 21,
    "start_time": "2022-02-21T15:45:46.299Z"
   },
   {
    "duration": 20,
    "start_time": "2022-02-21T15:45:46.351Z"
   },
   {
    "duration": 23,
    "start_time": "2022-02-21T15:45:46.375Z"
   },
   {
    "duration": 54,
    "start_time": "2022-02-21T15:45:46.400Z"
   },
   {
    "duration": 14,
    "start_time": "2022-02-21T15:45:46.458Z"
   },
   {
    "duration": 18,
    "start_time": "2022-02-21T15:45:46.477Z"
   },
   {
    "duration": 74,
    "start_time": "2022-02-21T15:45:46.499Z"
   },
   {
    "duration": 83,
    "start_time": "2022-02-21T15:45:46.576Z"
   },
   {
    "duration": 6,
    "start_time": "2022-02-21T15:45:46.663Z"
   },
   {
    "duration": 13,
    "start_time": "2022-02-21T15:45:46.672Z"
   },
   {
    "duration": 13,
    "start_time": "2022-02-21T15:45:46.688Z"
   },
   {
    "duration": 45,
    "start_time": "2022-02-21T15:45:46.704Z"
   },
   {
    "duration": 14,
    "start_time": "2022-02-21T15:45:46.752Z"
   },
   {
    "duration": 89,
    "start_time": "2022-02-21T15:45:46.769Z"
   },
   {
    "duration": 15,
    "start_time": "2022-02-21T15:45:46.860Z"
   },
   {
    "duration": 26,
    "start_time": "2022-02-21T15:45:48.999Z"
   },
   {
    "duration": 25,
    "start_time": "2022-02-21T15:46:24.838Z"
   },
   {
    "duration": 27,
    "start_time": "2022-02-21T15:47:02.885Z"
   },
   {
    "duration": 6341,
    "start_time": "2022-02-21T15:54:19.618Z"
   },
   {
    "duration": 108,
    "start_time": "2022-02-21T15:54:52.376Z"
   },
   {
    "duration": 77,
    "start_time": "2022-02-21T15:54:58.521Z"
   },
   {
    "duration": 15,
    "start_time": "2022-02-21T15:54:58.601Z"
   },
   {
    "duration": 30,
    "start_time": "2022-02-21T15:54:58.620Z"
   },
   {
    "duration": 20,
    "start_time": "2022-02-21T15:54:58.652Z"
   },
   {
    "duration": 20,
    "start_time": "2022-02-21T15:54:58.675Z"
   },
   {
    "duration": 53,
    "start_time": "2022-02-21T15:54:58.697Z"
   },
   {
    "duration": 13,
    "start_time": "2022-02-21T15:54:58.752Z"
   },
   {
    "duration": 14,
    "start_time": "2022-02-21T15:54:58.768Z"
   },
   {
    "duration": 26,
    "start_time": "2022-02-21T15:54:58.786Z"
   },
   {
    "duration": 75,
    "start_time": "2022-02-21T15:54:58.815Z"
   },
   {
    "duration": 6,
    "start_time": "2022-02-21T15:54:58.893Z"
   },
   {
    "duration": 17,
    "start_time": "2022-02-21T15:54:58.901Z"
   },
   {
    "duration": 34,
    "start_time": "2022-02-21T15:54:58.920Z"
   },
   {
    "duration": 15,
    "start_time": "2022-02-21T15:54:58.956Z"
   },
   {
    "duration": 10,
    "start_time": "2022-02-21T15:54:58.973Z"
   },
   {
    "duration": 109,
    "start_time": "2022-02-21T15:55:01.331Z"
   },
   {
    "duration": 7,
    "start_time": "2022-02-21T15:58:16.837Z"
   },
   {
    "duration": 5892,
    "start_time": "2022-02-21T15:58:29.341Z"
   },
   {
    "duration": 6277,
    "start_time": "2022-02-21T15:58:44.962Z"
   },
   {
    "duration": 7096,
    "start_time": "2022-02-21T15:59:11.764Z"
   },
   {
    "duration": 6728,
    "start_time": "2022-02-21T15:59:31.648Z"
   },
   {
    "duration": 74,
    "start_time": "2022-02-21T15:59:57.404Z"
   },
   {
    "duration": 14,
    "start_time": "2022-02-21T15:59:57.481Z"
   },
   {
    "duration": 12,
    "start_time": "2022-02-21T15:59:57.499Z"
   },
   {
    "duration": 15,
    "start_time": "2022-02-21T15:59:57.549Z"
   },
   {
    "duration": 24,
    "start_time": "2022-02-21T15:59:57.566Z"
   },
   {
    "duration": 19,
    "start_time": "2022-02-21T15:59:57.592Z"
   },
   {
    "duration": 45,
    "start_time": "2022-02-21T15:59:57.614Z"
   },
   {
    "duration": 12,
    "start_time": "2022-02-21T15:59:57.661Z"
   },
   {
    "duration": 23,
    "start_time": "2022-02-21T15:59:57.676Z"
   },
   {
    "duration": 76,
    "start_time": "2022-02-21T15:59:57.702Z"
   },
   {
    "duration": 6,
    "start_time": "2022-02-21T15:59:57.781Z"
   },
   {
    "duration": 12,
    "start_time": "2022-02-21T15:59:57.789Z"
   },
   {
    "duration": 10,
    "start_time": "2022-02-21T15:59:57.804Z"
   },
   {
    "duration": 39,
    "start_time": "2022-02-21T15:59:57.817Z"
   },
   {
    "duration": 8,
    "start_time": "2022-02-21T15:59:57.859Z"
   },
   {
    "duration": 21,
    "start_time": "2022-02-21T15:59:59.450Z"
   },
   {
    "duration": 13,
    "start_time": "2022-02-21T16:00:03.936Z"
   },
   {
    "duration": 24,
    "start_time": "2022-02-21T16:00:06.439Z"
   },
   {
    "duration": 25,
    "start_time": "2022-02-21T16:04:26.198Z"
   },
   {
    "duration": 78,
    "start_time": "2022-02-21T16:04:31.381Z"
   },
   {
    "duration": 16,
    "start_time": "2022-02-21T16:04:31.462Z"
   },
   {
    "duration": 17,
    "start_time": "2022-02-21T16:04:31.482Z"
   },
   {
    "duration": 19,
    "start_time": "2022-02-21T16:04:31.502Z"
   },
   {
    "duration": 23,
    "start_time": "2022-02-21T16:04:31.550Z"
   },
   {
    "duration": 24,
    "start_time": "2022-02-21T16:04:31.576Z"
   },
   {
    "duration": 48,
    "start_time": "2022-02-21T16:04:31.603Z"
   },
   {
    "duration": 12,
    "start_time": "2022-02-21T16:04:31.654Z"
   },
   {
    "duration": 36,
    "start_time": "2022-02-21T16:04:31.670Z"
   },
   {
    "duration": 74,
    "start_time": "2022-02-21T16:04:31.709Z"
   },
   {
    "duration": 6,
    "start_time": "2022-02-21T16:04:31.786Z"
   },
   {
    "duration": 16,
    "start_time": "2022-02-21T16:04:31.794Z"
   },
   {
    "duration": 14,
    "start_time": "2022-02-21T16:04:31.813Z"
   },
   {
    "duration": 26,
    "start_time": "2022-02-21T16:04:31.830Z"
   },
   {
    "duration": 19,
    "start_time": "2022-02-21T16:04:31.858Z"
   },
   {
    "duration": 21,
    "start_time": "2022-02-21T16:04:33.642Z"
   },
   {
    "duration": 364,
    "start_time": "2022-02-21T16:04:52.506Z"
   },
   {
    "duration": 260,
    "start_time": "2022-02-21T16:07:18.489Z"
   },
   {
    "duration": 680,
    "start_time": "2022-02-21T16:07:25.821Z"
   },
   {
    "duration": -90,
    "start_time": "2022-02-21T16:07:26.595Z"
   },
   {
    "duration": -90,
    "start_time": "2022-02-21T16:07:26.597Z"
   },
   {
    "duration": -90,
    "start_time": "2022-02-21T16:07:26.599Z"
   },
   {
    "duration": -90,
    "start_time": "2022-02-21T16:07:26.600Z"
   },
   {
    "duration": -90,
    "start_time": "2022-02-21T16:07:26.602Z"
   },
   {
    "duration": -89,
    "start_time": "2022-02-21T16:07:26.603Z"
   },
   {
    "duration": -89,
    "start_time": "2022-02-21T16:07:26.605Z"
   },
   {
    "duration": -89,
    "start_time": "2022-02-21T16:07:26.606Z"
   },
   {
    "duration": -89,
    "start_time": "2022-02-21T16:07:26.607Z"
   },
   {
    "duration": -88,
    "start_time": "2022-02-21T16:07:26.608Z"
   },
   {
    "duration": -88,
    "start_time": "2022-02-21T16:07:26.610Z"
   },
   {
    "duration": -88,
    "start_time": "2022-02-21T16:07:26.611Z"
   },
   {
    "duration": -87,
    "start_time": "2022-02-21T16:07:26.612Z"
   },
   {
    "duration": -86,
    "start_time": "2022-02-21T16:07:26.613Z"
   },
   {
    "duration": -86,
    "start_time": "2022-02-21T16:07:26.615Z"
   },
   {
    "duration": -85,
    "start_time": "2022-02-21T16:07:26.616Z"
   },
   {
    "duration": -84,
    "start_time": "2022-02-21T16:07:26.617Z"
   },
   {
    "duration": -87,
    "start_time": "2022-02-21T16:07:26.622Z"
   },
   {
    "duration": -125,
    "start_time": "2022-02-21T16:07:26.662Z"
   },
   {
    "duration": -126,
    "start_time": "2022-02-21T16:07:26.664Z"
   },
   {
    "duration": -125,
    "start_time": "2022-02-21T16:07:26.665Z"
   },
   {
    "duration": -129,
    "start_time": "2022-02-21T16:07:26.670Z"
   },
   {
    "duration": -129,
    "start_time": "2022-02-21T16:07:26.672Z"
   },
   {
    "duration": -129,
    "start_time": "2022-02-21T16:07:26.673Z"
   },
   {
    "duration": 77,
    "start_time": "2022-02-21T16:07:41.374Z"
   },
   {
    "duration": 16,
    "start_time": "2022-02-21T16:07:41.454Z"
   },
   {
    "duration": 12,
    "start_time": "2022-02-21T16:07:41.474Z"
   },
   {
    "duration": 13,
    "start_time": "2022-02-21T16:07:41.489Z"
   },
   {
    "duration": 58,
    "start_time": "2022-02-21T16:07:41.505Z"
   },
   {
    "duration": 34,
    "start_time": "2022-02-21T16:07:41.566Z"
   },
   {
    "duration": 16,
    "start_time": "2022-02-21T16:07:41.602Z"
   },
   {
    "duration": 37,
    "start_time": "2022-02-21T16:07:41.622Z"
   },
   {
    "duration": 28,
    "start_time": "2022-02-21T16:07:41.661Z"
   },
   {
    "duration": 70,
    "start_time": "2022-02-21T16:07:41.692Z"
   },
   {
    "duration": 7,
    "start_time": "2022-02-21T16:07:41.765Z"
   },
   {
    "duration": 9,
    "start_time": "2022-02-21T16:07:41.775Z"
   },
   {
    "duration": 7,
    "start_time": "2022-02-21T16:07:41.787Z"
   },
   {
    "duration": 56,
    "start_time": "2022-02-21T16:07:41.797Z"
   },
   {
    "duration": 8,
    "start_time": "2022-02-21T16:07:41.855Z"
   },
   {
    "duration": 22,
    "start_time": "2022-02-21T16:07:44.004Z"
   },
   {
    "duration": 7021,
    "start_time": "2022-02-21T16:08:04.317Z"
   },
   {
    "duration": 75,
    "start_time": "2022-02-21T16:08:23.657Z"
   },
   {
    "duration": 23,
    "start_time": "2022-02-21T16:08:23.735Z"
   },
   {
    "duration": 14,
    "start_time": "2022-02-21T16:08:23.762Z"
   },
   {
    "duration": 14,
    "start_time": "2022-02-21T16:08:23.779Z"
   },
   {
    "duration": 62,
    "start_time": "2022-02-21T16:08:23.796Z"
   },
   {
    "duration": 21,
    "start_time": "2022-02-21T16:08:23.860Z"
   },
   {
    "duration": 12,
    "start_time": "2022-02-21T16:08:23.884Z"
   },
   {
    "duration": 10,
    "start_time": "2022-02-21T16:08:23.900Z"
   },
   {
    "duration": 22,
    "start_time": "2022-02-21T16:08:23.949Z"
   },
   {
    "duration": 44,
    "start_time": "2022-02-21T16:08:23.974Z"
   },
   {
    "duration": 31,
    "start_time": "2022-02-21T16:08:24.021Z"
   },
   {
    "duration": 11,
    "start_time": "2022-02-21T16:08:24.054Z"
   },
   {
    "duration": 12,
    "start_time": "2022-02-21T16:08:24.068Z"
   },
   {
    "duration": 13,
    "start_time": "2022-02-21T16:08:24.083Z"
   },
   {
    "duration": 8,
    "start_time": "2022-02-21T16:08:24.098Z"
   },
   {
    "duration": 31,
    "start_time": "2022-02-21T16:08:27.419Z"
   },
   {
    "duration": 103,
    "start_time": "2022-02-21T17:14:32.203Z"
   },
   {
    "duration": 121,
    "start_time": "2022-02-21T17:14:34.971Z"
   },
   {
    "duration": 83,
    "start_time": "2022-02-21T17:14:49.831Z"
   },
   {
    "duration": 94,
    "start_time": "2022-02-21T17:14:53.616Z"
   },
   {
    "duration": 80,
    "start_time": "2022-02-21T17:15:34.095Z"
   },
   {
    "duration": 15,
    "start_time": "2022-02-21T17:15:34.178Z"
   },
   {
    "duration": 11,
    "start_time": "2022-02-21T17:15:34.196Z"
   },
   {
    "duration": 48,
    "start_time": "2022-02-21T17:15:34.210Z"
   },
   {
    "duration": 20,
    "start_time": "2022-02-21T17:15:34.260Z"
   },
   {
    "duration": 19,
    "start_time": "2022-02-21T17:15:34.283Z"
   },
   {
    "duration": 45,
    "start_time": "2022-02-21T17:15:34.305Z"
   },
   {
    "duration": 10,
    "start_time": "2022-02-21T17:15:34.354Z"
   },
   {
    "duration": 23,
    "start_time": "2022-02-21T17:15:34.367Z"
   },
   {
    "duration": 79,
    "start_time": "2022-02-21T17:15:34.393Z"
   },
   {
    "duration": 8,
    "start_time": "2022-02-21T17:15:34.476Z"
   },
   {
    "duration": 9,
    "start_time": "2022-02-21T17:15:34.486Z"
   },
   {
    "duration": 8,
    "start_time": "2022-02-21T17:15:34.497Z"
   },
   {
    "duration": 44,
    "start_time": "2022-02-21T17:15:34.507Z"
   },
   {
    "duration": 45,
    "start_time": "2022-02-21T17:15:34.553Z"
   },
   {
    "duration": 28,
    "start_time": "2022-02-21T17:15:34.601Z"
   },
   {
    "duration": 6670,
    "start_time": "2022-02-21T17:15:34.632Z"
   },
   {
    "duration": -144,
    "start_time": "2022-02-21T17:15:41.451Z"
   },
   {
    "duration": 7093,
    "start_time": "2022-02-21T17:15:45.924Z"
   },
   {
    "duration": 73,
    "start_time": "2022-02-21T17:15:53.907Z"
   },
   {
    "duration": 16,
    "start_time": "2022-02-21T17:15:53.983Z"
   },
   {
    "duration": 16,
    "start_time": "2022-02-21T17:15:54.002Z"
   },
   {
    "duration": 41,
    "start_time": "2022-02-21T17:15:54.021Z"
   },
   {
    "duration": 19,
    "start_time": "2022-02-21T17:15:54.064Z"
   },
   {
    "duration": 18,
    "start_time": "2022-02-21T17:15:54.086Z"
   },
   {
    "duration": 50,
    "start_time": "2022-02-21T17:15:54.107Z"
   },
   {
    "duration": 23,
    "start_time": "2022-02-21T17:15:54.159Z"
   },
   {
    "duration": 23,
    "start_time": "2022-02-21T17:15:54.185Z"
   },
   {
    "duration": 75,
    "start_time": "2022-02-21T17:15:54.211Z"
   },
   {
    "duration": 7,
    "start_time": "2022-02-21T17:15:54.289Z"
   },
   {
    "duration": 22,
    "start_time": "2022-02-21T17:15:54.299Z"
   },
   {
    "duration": 13,
    "start_time": "2022-02-21T17:15:54.324Z"
   },
   {
    "duration": 17,
    "start_time": "2022-02-21T17:15:54.339Z"
   },
   {
    "duration": 15,
    "start_time": "2022-02-21T17:15:54.359Z"
   },
   {
    "duration": 22,
    "start_time": "2022-02-21T17:15:56.286Z"
   },
   {
    "duration": 40,
    "start_time": "2022-02-21T17:20:32.190Z"
   },
   {
    "duration": 6290,
    "start_time": "2022-02-21T17:20:45.273Z"
   },
   {
    "duration": 6447,
    "start_time": "2022-02-21T17:23:51.180Z"
   },
   {
    "duration": 12,
    "start_time": "2022-02-21T17:24:20.329Z"
   },
   {
    "duration": 81,
    "start_time": "2022-02-21T17:24:44.537Z"
   },
   {
    "duration": 103,
    "start_time": "2022-02-21T17:24:49.214Z"
   },
   {
    "duration": 21,
    "start_time": "2022-02-21T17:24:53.988Z"
   },
   {
    "duration": 10,
    "start_time": "2022-02-21T17:25:42.232Z"
   },
   {
    "duration": 9,
    "start_time": "2022-02-21T17:25:43.078Z"
   },
   {
    "duration": 10,
    "start_time": "2022-02-21T17:26:23.267Z"
   },
   {
    "duration": 8,
    "start_time": "2022-02-21T17:26:24.417Z"
   },
   {
    "duration": 12,
    "start_time": "2022-02-21T17:39:14.517Z"
   },
   {
    "duration": 20,
    "start_time": "2022-02-21T17:39:24.556Z"
   },
   {
    "duration": 19,
    "start_time": "2022-02-21T17:39:46.819Z"
   },
   {
    "duration": 17,
    "start_time": "2022-02-21T17:39:53.500Z"
   },
   {
    "duration": 999,
    "start_time": "2022-02-21T17:45:44.889Z"
   },
   {
    "duration": 6,
    "start_time": "2022-02-21T17:46:23.334Z"
   },
   {
    "duration": 8,
    "start_time": "2022-02-21T17:46:30.752Z"
   },
   {
    "duration": 7,
    "start_time": "2022-02-21T17:46:43.268Z"
   },
   {
    "duration": 455,
    "start_time": "2022-02-21T17:53:33.688Z"
   },
   {
    "duration": 632,
    "start_time": "2022-02-21T17:53:53.658Z"
   },
   {
    "duration": 13,
    "start_time": "2022-02-21T17:57:19.649Z"
   },
   {
    "duration": 11,
    "start_time": "2022-02-21T17:57:31.810Z"
   },
   {
    "duration": 7,
    "start_time": "2022-02-21T17:57:50.887Z"
   },
   {
    "duration": 6163,
    "start_time": "2022-02-21T17:58:03.925Z"
   },
   {
    "duration": 81,
    "start_time": "2022-02-21T17:58:24.488Z"
   },
   {
    "duration": 16,
    "start_time": "2022-02-21T17:58:24.573Z"
   },
   {
    "duration": 13,
    "start_time": "2022-02-21T17:58:24.593Z"
   },
   {
    "duration": 47,
    "start_time": "2022-02-21T17:58:24.609Z"
   },
   {
    "duration": 26,
    "start_time": "2022-02-21T17:58:24.659Z"
   },
   {
    "duration": 21,
    "start_time": "2022-02-21T17:58:24.688Z"
   },
   {
    "duration": 43,
    "start_time": "2022-02-21T17:58:24.712Z"
   },
   {
    "duration": 17,
    "start_time": "2022-02-21T17:58:24.758Z"
   },
   {
    "duration": 22,
    "start_time": "2022-02-21T17:58:24.779Z"
   },
   {
    "duration": 72,
    "start_time": "2022-02-21T17:58:24.804Z"
   },
   {
    "duration": 6,
    "start_time": "2022-02-21T17:58:24.878Z"
   },
   {
    "duration": 11,
    "start_time": "2022-02-21T17:58:24.886Z"
   },
   {
    "duration": 8,
    "start_time": "2022-02-21T17:58:24.899Z"
   },
   {
    "duration": 42,
    "start_time": "2022-02-21T17:58:24.909Z"
   },
   {
    "duration": 9,
    "start_time": "2022-02-21T17:58:24.953Z"
   },
   {
    "duration": 28,
    "start_time": "2022-02-21T17:58:24.964Z"
   },
   {
    "duration": 60,
    "start_time": "2022-02-21T17:58:24.994Z"
   },
   {
    "duration": 10,
    "start_time": "2022-02-21T17:58:25.057Z"
   },
   {
    "duration": 25,
    "start_time": "2022-02-21T17:58:25.069Z"
   },
   {
    "duration": 15,
    "start_time": "2022-02-21T17:58:25.096Z"
   },
   {
    "duration": 14,
    "start_time": "2022-02-21T17:58:27.419Z"
   },
   {
    "duration": -140,
    "start_time": "2022-02-21T17:59:11.927Z"
   },
   {
    "duration": -141,
    "start_time": "2022-02-21T17:59:11.930Z"
   },
   {
    "duration": -149,
    "start_time": "2022-02-21T17:59:11.939Z"
   },
   {
    "duration": -150,
    "start_time": "2022-02-21T17:59:11.941Z"
   },
   {
    "duration": -150,
    "start_time": "2022-02-21T17:59:11.943Z"
   },
   {
    "duration": -150,
    "start_time": "2022-02-21T17:59:11.944Z"
   },
   {
    "duration": -150,
    "start_time": "2022-02-21T17:59:11.946Z"
   },
   {
    "duration": -150,
    "start_time": "2022-02-21T17:59:11.947Z"
   },
   {
    "duration": -150,
    "start_time": "2022-02-21T17:59:11.949Z"
   },
   {
    "duration": -151,
    "start_time": "2022-02-21T17:59:11.951Z"
   },
   {
    "duration": -150,
    "start_time": "2022-02-21T17:59:11.952Z"
   },
   {
    "duration": -150,
    "start_time": "2022-02-21T17:59:11.953Z"
   },
   {
    "duration": -151,
    "start_time": "2022-02-21T17:59:11.955Z"
   },
   {
    "duration": -150,
    "start_time": "2022-02-21T17:59:11.956Z"
   },
   {
    "duration": -150,
    "start_time": "2022-02-21T17:59:11.957Z"
   },
   {
    "duration": -186,
    "start_time": "2022-02-21T17:59:11.994Z"
   },
   {
    "duration": -190,
    "start_time": "2022-02-21T17:59:12.000Z"
   },
   {
    "duration": -190,
    "start_time": "2022-02-21T17:59:12.001Z"
   },
   {
    "duration": -190,
    "start_time": "2022-02-21T17:59:12.002Z"
   },
   {
    "duration": -189,
    "start_time": "2022-02-21T17:59:12.003Z"
   },
   {
    "duration": -190,
    "start_time": "2022-02-21T17:59:12.005Z"
   },
   {
    "duration": 6510,
    "start_time": "2022-02-21T17:59:13.989Z"
   },
   {
    "duration": 74,
    "start_time": "2022-02-21T17:59:36.258Z"
   },
   {
    "duration": 21,
    "start_time": "2022-02-21T17:59:36.335Z"
   },
   {
    "duration": 12,
    "start_time": "2022-02-21T17:59:36.359Z"
   },
   {
    "duration": 14,
    "start_time": "2022-02-21T17:59:36.374Z"
   },
   {
    "duration": 62,
    "start_time": "2022-02-21T17:59:36.390Z"
   },
   {
    "duration": 22,
    "start_time": "2022-02-21T17:59:36.455Z"
   },
   {
    "duration": 15,
    "start_time": "2022-02-21T17:59:36.481Z"
   },
   {
    "duration": 51,
    "start_time": "2022-02-21T17:59:36.499Z"
   },
   {
    "duration": 26,
    "start_time": "2022-02-21T17:59:36.555Z"
   },
   {
    "duration": 74,
    "start_time": "2022-02-21T17:59:36.584Z"
   },
   {
    "duration": 5,
    "start_time": "2022-02-21T17:59:36.661Z"
   },
   {
    "duration": 12,
    "start_time": "2022-02-21T17:59:36.668Z"
   },
   {
    "duration": 21,
    "start_time": "2022-02-21T17:59:36.682Z"
   },
   {
    "duration": 12,
    "start_time": "2022-02-21T17:59:36.705Z"
   },
   {
    "duration": 31,
    "start_time": "2022-02-21T17:59:36.720Z"
   },
   {
    "duration": 24,
    "start_time": "2022-02-21T17:59:36.754Z"
   },
   {
    "duration": 35,
    "start_time": "2022-02-21T17:59:36.781Z"
   },
   {
    "duration": 39,
    "start_time": "2022-02-21T17:59:36.818Z"
   },
   {
    "duration": 22,
    "start_time": "2022-02-21T17:59:36.860Z"
   },
   {
    "duration": 16,
    "start_time": "2022-02-21T17:59:36.885Z"
   },
   {
    "duration": 21,
    "start_time": "2022-02-21T17:59:39.128Z"
   },
   {
    "duration": -60,
    "start_time": "2022-02-21T18:00:28.595Z"
   },
   {
    "duration": -62,
    "start_time": "2022-02-21T18:00:28.598Z"
   },
   {
    "duration": -63,
    "start_time": "2022-02-21T18:00:28.601Z"
   },
   {
    "duration": -64,
    "start_time": "2022-02-21T18:00:28.604Z"
   },
   {
    "duration": -65,
    "start_time": "2022-02-21T18:00:28.606Z"
   },
   {
    "duration": -112,
    "start_time": "2022-02-21T18:00:28.654Z"
   },
   {
    "duration": -114,
    "start_time": "2022-02-21T18:00:28.657Z"
   },
   {
    "duration": -115,
    "start_time": "2022-02-21T18:00:28.660Z"
   },
   {
    "duration": -115,
    "start_time": "2022-02-21T18:00:28.661Z"
   },
   {
    "duration": -120,
    "start_time": "2022-02-21T18:00:28.667Z"
   },
   {
    "duration": -120,
    "start_time": "2022-02-21T18:00:28.669Z"
   },
   {
    "duration": -120,
    "start_time": "2022-02-21T18:00:28.670Z"
   },
   {
    "duration": -119,
    "start_time": "2022-02-21T18:00:28.671Z"
   },
   {
    "duration": -120,
    "start_time": "2022-02-21T18:00:28.673Z"
   },
   {
    "duration": -120,
    "start_time": "2022-02-21T18:00:28.674Z"
   },
   {
    "duration": -120,
    "start_time": "2022-02-21T18:00:28.675Z"
   },
   {
    "duration": -120,
    "start_time": "2022-02-21T18:00:28.676Z"
   },
   {
    "duration": -119,
    "start_time": "2022-02-21T18:00:28.677Z"
   },
   {
    "duration": -120,
    "start_time": "2022-02-21T18:00:28.679Z"
   },
   {
    "duration": -120,
    "start_time": "2022-02-21T18:00:28.680Z"
   },
   {
    "duration": -119,
    "start_time": "2022-02-21T18:00:28.681Z"
   },
   {
    "duration": -117,
    "start_time": "2022-02-21T18:00:28.682Z"
   },
   {
    "duration": 78,
    "start_time": "2022-02-21T18:00:36.445Z"
   },
   {
    "duration": 30,
    "start_time": "2022-02-21T18:00:36.526Z"
   },
   {
    "duration": 14,
    "start_time": "2022-02-21T18:00:36.560Z"
   },
   {
    "duration": 14,
    "start_time": "2022-02-21T18:00:36.578Z"
   },
   {
    "duration": 63,
    "start_time": "2022-02-21T18:00:36.595Z"
   },
   {
    "duration": 23,
    "start_time": "2022-02-21T18:00:36.660Z"
   },
   {
    "duration": 13,
    "start_time": "2022-02-21T18:00:36.685Z"
   },
   {
    "duration": 9,
    "start_time": "2022-02-21T18:00:36.701Z"
   },
   {
    "duration": 55,
    "start_time": "2022-02-21T18:00:36.713Z"
   },
   {
    "duration": 45,
    "start_time": "2022-02-21T18:00:36.771Z"
   },
   {
    "duration": 6,
    "start_time": "2022-02-21T18:00:36.818Z"
   },
   {
    "duration": 9,
    "start_time": "2022-02-21T18:00:36.849Z"
   },
   {
    "duration": 10,
    "start_time": "2022-02-21T18:00:36.861Z"
   },
   {
    "duration": 9,
    "start_time": "2022-02-21T18:00:36.874Z"
   },
   {
    "duration": 11,
    "start_time": "2022-02-21T18:00:36.886Z"
   },
   {
    "duration": 23,
    "start_time": "2022-02-21T18:00:36.948Z"
   },
   {
    "duration": 35,
    "start_time": "2022-02-21T18:00:36.974Z"
   },
   {
    "duration": 42,
    "start_time": "2022-02-21T18:00:37.012Z"
   },
   {
    "duration": 30,
    "start_time": "2022-02-21T18:00:37.057Z"
   },
   {
    "duration": 15,
    "start_time": "2022-02-21T18:00:37.090Z"
   },
   {
    "duration": 11,
    "start_time": "2022-02-21T18:00:38.804Z"
   },
   {
    "duration": 19,
    "start_time": "2022-02-21T18:00:39.660Z"
   },
   {
    "duration": 10,
    "start_time": "2022-02-21T18:01:09.188Z"
   },
   {
    "duration": 15,
    "start_time": "2022-02-21T18:01:10.673Z"
   },
   {
    "duration": 16,
    "start_time": "2022-02-21T18:01:28.312Z"
   },
   {
    "duration": 9,
    "start_time": "2022-02-21T18:01:33.268Z"
   },
   {
    "duration": 11,
    "start_time": "2022-02-21T18:01:50.272Z"
   },
   {
    "duration": 3,
    "start_time": "2022-02-21T18:02:52.960Z"
   },
   {
    "duration": 17,
    "start_time": "2022-02-21T18:05:08.558Z"
   },
   {
    "duration": 79,
    "start_time": "2022-02-21T18:06:28.458Z"
   },
   {
    "duration": 16,
    "start_time": "2022-02-21T18:06:34.430Z"
   },
   {
    "duration": 32,
    "start_time": "2022-02-21T18:06:44.590Z"
   },
   {
    "duration": 76,
    "start_time": "2022-02-21T18:07:24.524Z"
   },
   {
    "duration": 12,
    "start_time": "2022-02-21T18:10:03.108Z"
   },
   {
    "duration": 18,
    "start_time": "2022-02-21T18:10:28.423Z"
   },
   {
    "duration": 92,
    "start_time": "2022-02-21T18:17:29.020Z"
   },
   {
    "duration": 36,
    "start_time": "2022-02-21T18:17:29.115Z"
   },
   {
    "duration": 13,
    "start_time": "2022-02-21T18:17:29.154Z"
   },
   {
    "duration": 15,
    "start_time": "2022-02-21T18:17:29.170Z"
   },
   {
    "duration": 60,
    "start_time": "2022-02-21T18:17:29.188Z"
   },
   {
    "duration": 22,
    "start_time": "2022-02-21T18:17:29.252Z"
   },
   {
    "duration": 15,
    "start_time": "2022-02-21T18:17:29.277Z"
   },
   {
    "duration": 52,
    "start_time": "2022-02-21T18:17:29.296Z"
   },
   {
    "duration": 25,
    "start_time": "2022-02-21T18:17:29.352Z"
   },
   {
    "duration": 82,
    "start_time": "2022-02-21T18:17:29.380Z"
   },
   {
    "duration": 78,
    "start_time": "2022-02-21T18:17:36.863Z"
   },
   {
    "duration": 16,
    "start_time": "2022-02-21T18:17:36.947Z"
   },
   {
    "duration": 16,
    "start_time": "2022-02-21T18:17:36.968Z"
   },
   {
    "duration": 16,
    "start_time": "2022-02-21T18:17:36.987Z"
   },
   {
    "duration": 67,
    "start_time": "2022-02-21T18:17:37.006Z"
   },
   {
    "duration": 31,
    "start_time": "2022-02-21T18:17:37.077Z"
   },
   {
    "duration": 45,
    "start_time": "2022-02-21T18:17:37.111Z"
   },
   {
    "duration": 12,
    "start_time": "2022-02-21T18:17:37.159Z"
   },
   {
    "duration": 31,
    "start_time": "2022-02-21T18:17:37.175Z"
   },
   {
    "duration": 86,
    "start_time": "2022-02-21T18:17:37.208Z"
   },
   {
    "duration": 9,
    "start_time": "2022-02-21T18:18:17.536Z"
   },
   {
    "duration": 23,
    "start_time": "2022-02-21T18:18:39.794Z"
   },
   {
    "duration": 19,
    "start_time": "2022-02-21T18:18:53.106Z"
   },
   {
    "duration": 13,
    "start_time": "2022-02-21T18:19:49.877Z"
   },
   {
    "duration": 13,
    "start_time": "2022-02-21T18:20:01.062Z"
   },
   {
    "duration": 10,
    "start_time": "2022-02-21T18:20:13.123Z"
   },
   {
    "duration": 9,
    "start_time": "2022-02-21T18:20:16.794Z"
   },
   {
    "duration": 8,
    "start_time": "2022-02-21T18:22:38.003Z"
   },
   {
    "duration": 8,
    "start_time": "2022-02-21T18:22:43.403Z"
   },
   {
    "duration": 7,
    "start_time": "2022-02-21T18:24:48.407Z"
   },
   {
    "duration": 9,
    "start_time": "2022-02-21T18:24:52.005Z"
   },
   {
    "duration": 9,
    "start_time": "2022-02-21T18:25:33.118Z"
   },
   {
    "duration": 8,
    "start_time": "2022-02-21T18:31:28.433Z"
   },
   {
    "duration": 9,
    "start_time": "2022-02-21T18:32:20.166Z"
   },
   {
    "duration": 9,
    "start_time": "2022-02-21T18:33:45.420Z"
   },
   {
    "duration": 10,
    "start_time": "2022-02-21T18:34:23.557Z"
   },
   {
    "duration": 25,
    "start_time": "2022-02-21T18:36:57.747Z"
   },
   {
    "duration": 17,
    "start_time": "2022-02-21T18:37:54.245Z"
   },
   {
    "duration": 29,
    "start_time": "2022-02-21T18:38:07.305Z"
   },
   {
    "duration": 11,
    "start_time": "2022-02-21T18:38:24.186Z"
   },
   {
    "duration": 12,
    "start_time": "2022-02-21T18:39:08.400Z"
   },
   {
    "duration": 17,
    "start_time": "2022-02-21T19:09:13.701Z"
   },
   {
    "duration": 31,
    "start_time": "2022-02-21T19:09:22.654Z"
   },
   {
    "duration": 12,
    "start_time": "2022-02-21T19:09:37.685Z"
   },
   {
    "duration": 18,
    "start_time": "2022-02-21T19:09:40.934Z"
   },
   {
    "duration": 76,
    "start_time": "2022-02-21T19:10:38.879Z"
   },
   {
    "duration": 87,
    "start_time": "2022-02-21T19:14:30.070Z"
   },
   {
    "duration": 16,
    "start_time": "2022-02-21T19:14:30.160Z"
   },
   {
    "duration": 20,
    "start_time": "2022-02-21T19:14:30.180Z"
   },
   {
    "duration": 48,
    "start_time": "2022-02-21T19:14:30.202Z"
   },
   {
    "duration": 22,
    "start_time": "2022-02-21T19:14:30.253Z"
   },
   {
    "duration": 20,
    "start_time": "2022-02-21T19:14:30.279Z"
   },
   {
    "duration": 56,
    "start_time": "2022-02-21T19:14:30.302Z"
   },
   {
    "duration": 13,
    "start_time": "2022-02-21T19:14:30.364Z"
   },
   {
    "duration": 68,
    "start_time": "2022-02-21T19:14:30.381Z"
   },
   {
    "duration": 53,
    "start_time": "2022-02-21T19:14:30.451Z"
   },
   {
    "duration": 8,
    "start_time": "2022-02-21T19:14:30.506Z"
   },
   {
    "duration": 22,
    "start_time": "2022-02-21T19:14:30.550Z"
   },
   {
    "duration": 24,
    "start_time": "2022-02-21T19:14:30.575Z"
   },
   {
    "duration": 35,
    "start_time": "2022-02-21T19:14:30.602Z"
   },
   {
    "duration": 19,
    "start_time": "2022-02-21T19:14:30.640Z"
   },
   {
    "duration": 21,
    "start_time": "2022-02-21T19:14:30.662Z"
   },
   {
    "duration": 46,
    "start_time": "2022-02-21T19:14:30.686Z"
   },
   {
    "duration": 34,
    "start_time": "2022-02-21T19:14:30.735Z"
   },
   {
    "duration": 22,
    "start_time": "2022-02-21T19:14:30.773Z"
   },
   {
    "duration": 70,
    "start_time": "2022-02-21T19:14:30.799Z"
   },
   {
    "duration": 27,
    "start_time": "2022-02-21T19:14:30.872Z"
   },
   {
    "duration": 22,
    "start_time": "2022-02-21T19:14:30.902Z"
   },
   {
    "duration": 36,
    "start_time": "2022-02-21T19:14:30.929Z"
   },
   {
    "duration": 17,
    "start_time": "2022-02-21T19:14:30.968Z"
   },
   {
    "duration": 69,
    "start_time": "2022-02-21T19:14:30.988Z"
   },
   {
    "duration": 11,
    "start_time": "2022-02-21T19:14:31.060Z"
   },
   {
    "duration": 26,
    "start_time": "2022-02-21T19:14:31.073Z"
   },
   {
    "duration": 64,
    "start_time": "2022-02-21T19:14:31.102Z"
   },
   {
    "duration": 15,
    "start_time": "2022-02-21T19:14:31.169Z"
   },
   {
    "duration": 37,
    "start_time": "2022-02-21T19:14:31.186Z"
   },
   {
    "duration": 10705,
    "start_time": "2022-02-21T19:14:33.124Z"
   },
   {
    "duration": 6838,
    "start_time": "2022-02-21T19:15:35.406Z"
   },
   {
    "duration": 7143,
    "start_time": "2022-02-21T19:17:20.630Z"
   },
   {
    "duration": 82,
    "start_time": "2022-02-21T19:17:33.231Z"
   },
   {
    "duration": 38,
    "start_time": "2022-02-21T19:17:33.316Z"
   },
   {
    "duration": 13,
    "start_time": "2022-02-21T19:17:33.358Z"
   },
   {
    "duration": 14,
    "start_time": "2022-02-21T19:17:33.374Z"
   },
   {
    "duration": 64,
    "start_time": "2022-02-21T19:17:33.391Z"
   },
   {
    "duration": 33,
    "start_time": "2022-02-21T19:17:33.458Z"
   },
   {
    "duration": 12,
    "start_time": "2022-02-21T19:17:33.493Z"
   },
   {
    "duration": 11,
    "start_time": "2022-02-21T19:17:33.508Z"
   },
   {
    "duration": 47,
    "start_time": "2022-02-21T19:17:33.522Z"
   },
   {
    "duration": 46,
    "start_time": "2022-02-21T19:17:33.571Z"
   },
   {
    "duration": 34,
    "start_time": "2022-02-21T19:17:33.620Z"
   },
   {
    "duration": 35,
    "start_time": "2022-02-21T19:17:33.656Z"
   },
   {
    "duration": 11,
    "start_time": "2022-02-21T19:17:33.694Z"
   },
   {
    "duration": 42,
    "start_time": "2022-02-21T19:17:33.708Z"
   },
   {
    "duration": 9,
    "start_time": "2022-02-21T19:17:33.754Z"
   },
   {
    "duration": 11,
    "start_time": "2022-02-21T19:17:33.766Z"
   },
   {
    "duration": 12,
    "start_time": "2022-02-21T19:17:33.780Z"
   },
   {
    "duration": 11,
    "start_time": "2022-02-21T19:17:33.850Z"
   },
   {
    "duration": 11,
    "start_time": "2022-02-21T19:17:33.864Z"
   },
   {
    "duration": 72,
    "start_time": "2022-02-21T19:17:33.878Z"
   },
   {
    "duration": 21,
    "start_time": "2022-02-21T19:17:33.953Z"
   },
   {
    "duration": 35,
    "start_time": "2022-02-21T19:17:33.977Z"
   },
   {
    "duration": 48,
    "start_time": "2022-02-21T19:17:34.019Z"
   },
   {
    "duration": 16,
    "start_time": "2022-02-21T19:17:34.070Z"
   },
   {
    "duration": 59,
    "start_time": "2022-02-21T19:17:34.089Z"
   },
   {
    "duration": 12,
    "start_time": "2022-02-21T19:17:34.151Z"
   },
   {
    "duration": 35,
    "start_time": "2022-02-21T19:17:34.166Z"
   },
   {
    "duration": 27,
    "start_time": "2022-02-21T19:17:34.204Z"
   },
   {
    "duration": 12,
    "start_time": "2022-02-21T19:17:34.249Z"
   },
   {
    "duration": 12,
    "start_time": "2022-02-21T19:17:36.468Z"
   },
   {
    "duration": 18,
    "start_time": "2022-02-21T19:17:37.358Z"
   },
   {
    "duration": 11,
    "start_time": "2022-02-21T19:19:20.050Z"
   },
   {
    "duration": 14,
    "start_time": "2022-02-21T19:19:21.371Z"
   },
   {
    "duration": 10,
    "start_time": "2022-02-21T19:20:19.781Z"
   },
   {
    "duration": 18,
    "start_time": "2022-02-21T19:20:20.836Z"
   },
   {
    "duration": 10,
    "start_time": "2022-02-21T19:21:02.085Z"
   },
   {
    "duration": 10,
    "start_time": "2022-02-21T19:21:24.496Z"
   },
   {
    "duration": 3,
    "start_time": "2022-02-21T19:21:46.023Z"
   },
   {
    "duration": 9,
    "start_time": "2022-02-21T19:23:03.949Z"
   },
   {
    "duration": 86,
    "start_time": "2022-02-21T19:23:12.706Z"
   },
   {
    "duration": 10,
    "start_time": "2022-02-21T19:24:04.835Z"
   },
   {
    "duration": 9,
    "start_time": "2022-02-21T19:24:06.351Z"
   },
   {
    "duration": 304,
    "start_time": "2022-02-21T19:27:51.377Z"
   },
   {
    "duration": 401,
    "start_time": "2022-02-21T19:28:13.739Z"
   },
   {
    "duration": 98,
    "start_time": "2022-02-21T19:28:20.956Z"
   },
   {
    "duration": 15,
    "start_time": "2022-02-21T19:28:21.057Z"
   },
   {
    "duration": 13,
    "start_time": "2022-02-21T19:28:21.075Z"
   },
   {
    "duration": 59,
    "start_time": "2022-02-21T19:28:21.091Z"
   },
   {
    "duration": 23,
    "start_time": "2022-02-21T19:28:21.152Z"
   },
   {
    "duration": 22,
    "start_time": "2022-02-21T19:28:21.178Z"
   },
   {
    "duration": 55,
    "start_time": "2022-02-21T19:28:21.203Z"
   },
   {
    "duration": 13,
    "start_time": "2022-02-21T19:28:21.261Z"
   },
   {
    "duration": 24,
    "start_time": "2022-02-21T19:28:21.279Z"
   },
   {
    "duration": 81,
    "start_time": "2022-02-21T19:28:21.307Z"
   },
   {
    "duration": 8,
    "start_time": "2022-02-21T19:28:21.390Z"
   },
   {
    "duration": 54,
    "start_time": "2022-02-21T19:28:21.401Z"
   },
   {
    "duration": 8,
    "start_time": "2022-02-21T19:28:21.457Z"
   },
   {
    "duration": 12,
    "start_time": "2022-02-21T19:28:21.467Z"
   },
   {
    "duration": 6,
    "start_time": "2022-02-21T19:28:21.482Z"
   },
   {
    "duration": 15,
    "start_time": "2022-02-21T19:28:21.490Z"
   },
   {
    "duration": 49,
    "start_time": "2022-02-21T19:28:21.507Z"
   },
   {
    "duration": 10,
    "start_time": "2022-02-21T19:28:21.558Z"
   },
   {
    "duration": 7,
    "start_time": "2022-02-21T19:28:21.571Z"
   },
   {
    "duration": 72,
    "start_time": "2022-02-21T19:28:21.581Z"
   },
   {
    "duration": 21,
    "start_time": "2022-02-21T19:28:21.656Z"
   },
   {
    "duration": 11,
    "start_time": "2022-02-21T19:28:21.679Z"
   },
   {
    "duration": 65,
    "start_time": "2022-02-21T19:28:21.692Z"
   },
   {
    "duration": 20,
    "start_time": "2022-02-21T19:28:21.760Z"
   },
   {
    "duration": 72,
    "start_time": "2022-02-21T19:28:21.783Z"
   },
   {
    "duration": 13,
    "start_time": "2022-02-21T19:28:21.858Z"
   },
   {
    "duration": 28,
    "start_time": "2022-02-21T19:28:21.876Z"
   },
   {
    "duration": 55,
    "start_time": "2022-02-21T19:28:21.906Z"
   },
   {
    "duration": 11,
    "start_time": "2022-02-21T19:28:21.963Z"
   },
   {
    "duration": 20,
    "start_time": "2022-02-21T19:28:21.977Z"
   },
   {
    "duration": 49,
    "start_time": "2022-02-21T19:28:22.000Z"
   },
   {
    "duration": 16,
    "start_time": "2022-02-21T19:28:22.051Z"
   },
   {
    "duration": 10,
    "start_time": "2022-02-21T19:28:22.070Z"
   },
   {
    "duration": 10,
    "start_time": "2022-02-21T19:28:22.082Z"
   },
   {
    "duration": 243,
    "start_time": "2022-02-21T19:28:24.364Z"
   },
   {
    "duration": 609,
    "start_time": "2022-02-21T19:28:30.795Z"
   },
   {
    "duration": 240,
    "start_time": "2022-02-21T19:28:50.940Z"
   },
   {
    "duration": 240,
    "start_time": "2022-02-21T19:29:14.430Z"
   },
   {
    "duration": 7,
    "start_time": "2022-02-21T19:29:28.448Z"
   },
   {
    "duration": 279,
    "start_time": "2022-02-21T19:29:41.258Z"
   },
   {
    "duration": 95,
    "start_time": "2022-02-21T19:30:50.861Z"
   },
   {
    "duration": 18,
    "start_time": "2022-02-21T19:30:50.958Z"
   },
   {
    "duration": 16,
    "start_time": "2022-02-21T19:30:50.980Z"
   },
   {
    "duration": 65,
    "start_time": "2022-02-21T19:30:51.000Z"
   },
   {
    "duration": 26,
    "start_time": "2022-02-21T19:30:51.068Z"
   },
   {
    "duration": 19,
    "start_time": "2022-02-21T19:30:51.096Z"
   },
   {
    "duration": 40,
    "start_time": "2022-02-21T19:30:51.117Z"
   },
   {
    "duration": 14,
    "start_time": "2022-02-21T19:30:51.161Z"
   },
   {
    "duration": 28,
    "start_time": "2022-02-21T19:30:51.179Z"
   },
   {
    "duration": 82,
    "start_time": "2022-02-21T19:30:51.210Z"
   },
   {
    "duration": 9,
    "start_time": "2022-02-21T19:30:51.294Z"
   },
   {
    "duration": 51,
    "start_time": "2022-02-21T19:30:51.305Z"
   },
   {
    "duration": 9,
    "start_time": "2022-02-21T19:30:51.358Z"
   },
   {
    "duration": 9,
    "start_time": "2022-02-21T19:30:51.370Z"
   },
   {
    "duration": 6,
    "start_time": "2022-02-21T19:30:51.382Z"
   },
   {
    "duration": 60,
    "start_time": "2022-02-21T19:30:51.390Z"
   },
   {
    "duration": 10,
    "start_time": "2022-02-21T19:30:51.453Z"
   },
   {
    "duration": 12,
    "start_time": "2022-02-21T19:30:51.466Z"
   },
   {
    "duration": 11,
    "start_time": "2022-02-21T19:30:51.481Z"
   },
   {
    "duration": 30,
    "start_time": "2022-02-21T19:30:51.550Z"
   },
   {
    "duration": 29,
    "start_time": "2022-02-21T19:30:51.583Z"
   },
   {
    "duration": 14,
    "start_time": "2022-02-21T19:30:51.650Z"
   },
   {
    "duration": 29,
    "start_time": "2022-02-21T19:30:51.671Z"
   },
   {
    "duration": 55,
    "start_time": "2022-02-21T19:30:51.703Z"
   },
   {
    "duration": 31,
    "start_time": "2022-02-21T19:30:51.760Z"
   },
   {
    "duration": 11,
    "start_time": "2022-02-21T19:30:51.793Z"
   },
   {
    "duration": 61,
    "start_time": "2022-02-21T19:30:51.807Z"
   },
   {
    "duration": 19,
    "start_time": "2022-02-21T19:30:51.870Z"
   },
   {
    "duration": 12,
    "start_time": "2022-02-21T19:30:51.891Z"
   },
   {
    "duration": 55,
    "start_time": "2022-02-21T19:30:51.905Z"
   },
   {
    "duration": 12,
    "start_time": "2022-02-21T19:30:51.962Z"
   },
   {
    "duration": 16,
    "start_time": "2022-02-21T19:30:51.977Z"
   },
   {
    "duration": 8,
    "start_time": "2022-02-21T19:30:51.996Z"
   },
   {
    "duration": 9,
    "start_time": "2022-02-21T19:30:52.049Z"
   },
   {
    "duration": 292,
    "start_time": "2022-02-21T19:30:52.061Z"
   },
   {
    "duration": 246,
    "start_time": "2022-02-21T19:30:53.538Z"
   },
   {
    "duration": 250,
    "start_time": "2022-02-21T19:31:25.615Z"
   },
   {
    "duration": 247,
    "start_time": "2022-02-21T19:32:12.793Z"
   },
   {
    "duration": 7,
    "start_time": "2022-02-21T19:32:17.607Z"
   },
   {
    "duration": 6,
    "start_time": "2022-02-21T19:32:30.055Z"
   },
   {
    "duration": 6,
    "start_time": "2022-02-21T19:32:37.072Z"
   },
   {
    "duration": 385,
    "start_time": "2022-02-21T19:36:13.629Z"
   },
   {
    "duration": 406,
    "start_time": "2022-02-21T19:39:32.470Z"
   },
   {
    "duration": 329,
    "start_time": "2022-02-21T19:39:37.047Z"
   },
   {
    "duration": 29,
    "start_time": "2022-02-21T19:40:04.583Z"
   },
   {
    "duration": 34,
    "start_time": "2022-02-21T19:40:12.086Z"
   },
   {
    "duration": 1005,
    "start_time": "2022-02-21T19:40:21.458Z"
   },
   {
    "duration": 1002,
    "start_time": "2022-02-21T19:40:29.088Z"
   },
   {
    "duration": 239,
    "start_time": "2022-02-21T19:41:33.423Z"
   },
   {
    "duration": 279,
    "start_time": "2022-02-21T19:41:52.421Z"
   },
   {
    "duration": 83,
    "start_time": "2022-02-21T19:42:04.040Z"
   },
   {
    "duration": 15,
    "start_time": "2022-02-21T19:42:04.148Z"
   },
   {
    "duration": 16,
    "start_time": "2022-02-21T19:42:04.166Z"
   },
   {
    "duration": 23,
    "start_time": "2022-02-21T19:42:04.185Z"
   },
   {
    "duration": 54,
    "start_time": "2022-02-21T19:42:04.211Z"
   },
   {
    "duration": 21,
    "start_time": "2022-02-21T19:42:04.268Z"
   },
   {
    "duration": 12,
    "start_time": "2022-02-21T19:42:04.292Z"
   },
   {
    "duration": 52,
    "start_time": "2022-02-21T19:42:04.306Z"
   },
   {
    "duration": 25,
    "start_time": "2022-02-21T19:42:04.362Z"
   },
   {
    "duration": 81,
    "start_time": "2022-02-21T19:42:04.390Z"
   },
   {
    "duration": 8,
    "start_time": "2022-02-21T19:42:04.473Z"
   },
   {
    "duration": 24,
    "start_time": "2022-02-21T19:42:04.484Z"
   },
   {
    "duration": 43,
    "start_time": "2022-02-21T19:42:04.511Z"
   },
   {
    "duration": 10,
    "start_time": "2022-02-21T19:42:04.557Z"
   },
   {
    "duration": 12,
    "start_time": "2022-02-21T19:42:04.570Z"
   },
   {
    "duration": 12,
    "start_time": "2022-02-21T19:42:04.585Z"
   },
   {
    "duration": 51,
    "start_time": "2022-02-21T19:42:04.600Z"
   },
   {
    "duration": 9,
    "start_time": "2022-02-21T19:42:04.654Z"
   },
   {
    "duration": 8,
    "start_time": "2022-02-21T19:42:04.666Z"
   },
   {
    "duration": 24,
    "start_time": "2022-02-21T19:42:04.677Z"
   },
   {
    "duration": 23,
    "start_time": "2022-02-21T19:42:04.749Z"
   },
   {
    "duration": 10,
    "start_time": "2022-02-21T19:42:04.775Z"
   },
   {
    "duration": 62,
    "start_time": "2022-02-21T19:42:04.788Z"
   },
   {
    "duration": 16,
    "start_time": "2022-02-21T19:42:04.852Z"
   },
   {
    "duration": 28,
    "start_time": "2022-02-21T19:42:04.870Z"
   },
   {
    "duration": 47,
    "start_time": "2022-02-21T19:42:04.901Z"
   },
   {
    "duration": 20,
    "start_time": "2022-02-21T19:42:04.956Z"
   },
   {
    "duration": 17,
    "start_time": "2022-02-21T19:42:04.980Z"
   },
   {
    "duration": 56,
    "start_time": "2022-02-21T19:42:04.999Z"
   },
   {
    "duration": 22,
    "start_time": "2022-02-21T19:42:05.057Z"
   },
   {
    "duration": 11,
    "start_time": "2022-02-21T19:42:05.082Z"
   },
   {
    "duration": 57,
    "start_time": "2022-02-21T19:42:05.095Z"
   },
   {
    "duration": 10,
    "start_time": "2022-02-21T19:42:05.155Z"
   },
   {
    "duration": 9,
    "start_time": "2022-02-21T19:42:05.167Z"
   },
   {
    "duration": 31,
    "start_time": "2022-02-21T19:42:08.298Z"
   },
   {
    "duration": 240,
    "start_time": "2022-02-21T19:42:24.763Z"
   },
   {
    "duration": 293,
    "start_time": "2022-02-21T19:42:41.690Z"
   },
   {
    "duration": 77,
    "start_time": "2022-02-21T19:42:52.823Z"
   },
   {
    "duration": 15,
    "start_time": "2022-02-21T19:42:52.903Z"
   },
   {
    "duration": 13,
    "start_time": "2022-02-21T19:42:52.950Z"
   },
   {
    "duration": 16,
    "start_time": "2022-02-21T19:42:52.967Z"
   },
   {
    "duration": 21,
    "start_time": "2022-02-21T19:42:52.986Z"
   },
   {
    "duration": 23,
    "start_time": "2022-02-21T19:42:53.050Z"
   },
   {
    "duration": 16,
    "start_time": "2022-02-21T19:42:53.077Z"
   },
   {
    "duration": 56,
    "start_time": "2022-02-21T19:42:53.096Z"
   },
   {
    "duration": 24,
    "start_time": "2022-02-21T19:42:53.157Z"
   },
   {
    "duration": 80,
    "start_time": "2022-02-21T19:42:53.185Z"
   },
   {
    "duration": 7,
    "start_time": "2022-02-21T19:42:53.268Z"
   },
   {
    "duration": 22,
    "start_time": "2022-02-21T19:42:53.277Z"
   },
   {
    "duration": 51,
    "start_time": "2022-02-21T19:42:53.302Z"
   },
   {
    "duration": 8,
    "start_time": "2022-02-21T19:42:53.355Z"
   },
   {
    "duration": 12,
    "start_time": "2022-02-21T19:42:53.366Z"
   },
   {
    "duration": 10,
    "start_time": "2022-02-21T19:42:53.380Z"
   },
   {
    "duration": 11,
    "start_time": "2022-02-21T19:42:53.393Z"
   },
   {
    "duration": 49,
    "start_time": "2022-02-21T19:42:53.407Z"
   },
   {
    "duration": 8,
    "start_time": "2022-02-21T19:42:53.459Z"
   },
   {
    "duration": 22,
    "start_time": "2022-02-21T19:42:53.470Z"
   },
   {
    "duration": 68,
    "start_time": "2022-02-21T19:42:53.495Z"
   },
   {
    "duration": 11,
    "start_time": "2022-02-21T19:42:53.566Z"
   },
   {
    "duration": 35,
    "start_time": "2022-02-21T19:42:53.580Z"
   },
   {
    "duration": 43,
    "start_time": "2022-02-21T19:42:53.617Z"
   },
   {
    "duration": 30,
    "start_time": "2022-02-21T19:42:53.663Z"
   },
   {
    "duration": 11,
    "start_time": "2022-02-21T19:42:53.696Z"
   },
   {
    "duration": 21,
    "start_time": "2022-02-21T19:42:53.751Z"
   },
   {
    "duration": 17,
    "start_time": "2022-02-21T19:42:53.775Z"
   },
   {
    "duration": 11,
    "start_time": "2022-02-21T19:42:53.795Z"
   },
   {
    "duration": 19,
    "start_time": "2022-02-21T19:42:53.848Z"
   },
   {
    "duration": 14,
    "start_time": "2022-02-21T19:42:53.870Z"
   },
   {
    "duration": 63,
    "start_time": "2022-02-21T19:42:53.887Z"
   },
   {
    "duration": 10,
    "start_time": "2022-02-21T19:42:53.953Z"
   },
   {
    "duration": 15,
    "start_time": "2022-02-21T19:42:53.965Z"
   },
   {
    "duration": 245,
    "start_time": "2022-02-21T19:42:56.186Z"
   },
   {
    "duration": 28,
    "start_time": "2022-02-21T19:43:21.200Z"
   },
   {
    "duration": 14,
    "start_time": "2022-02-21T19:43:36.953Z"
   },
   {
    "duration": 77,
    "start_time": "2022-02-21T19:47:18.992Z"
   },
   {
    "duration": 14,
    "start_time": "2022-02-21T19:47:19.071Z"
   },
   {
    "duration": 14,
    "start_time": "2022-02-21T19:47:19.088Z"
   },
   {
    "duration": 51,
    "start_time": "2022-02-21T19:47:19.105Z"
   },
   {
    "duration": 21,
    "start_time": "2022-02-21T19:47:19.159Z"
   },
   {
    "duration": 30,
    "start_time": "2022-02-21T19:47:19.183Z"
   },
   {
    "duration": 16,
    "start_time": "2022-02-21T19:47:19.251Z"
   },
   {
    "duration": 14,
    "start_time": "2022-02-21T19:47:19.271Z"
   },
   {
    "duration": 73,
    "start_time": "2022-02-21T19:47:19.289Z"
   },
   {
    "duration": 82,
    "start_time": "2022-02-21T19:47:19.366Z"
   },
   {
    "duration": 9,
    "start_time": "2022-02-21T19:47:19.452Z"
   },
   {
    "duration": 25,
    "start_time": "2022-02-21T19:47:19.464Z"
   },
   {
    "duration": 8,
    "start_time": "2022-02-21T19:47:19.492Z"
   },
   {
    "duration": 48,
    "start_time": "2022-02-21T19:47:19.503Z"
   },
   {
    "duration": 6,
    "start_time": "2022-02-21T19:47:19.553Z"
   },
   {
    "duration": 9,
    "start_time": "2022-02-21T19:47:19.561Z"
   },
   {
    "duration": 8,
    "start_time": "2022-02-21T19:47:19.572Z"
   },
   {
    "duration": 9,
    "start_time": "2022-02-21T19:47:19.583Z"
   },
   {
    "duration": 61,
    "start_time": "2022-02-21T19:47:19.594Z"
   },
   {
    "duration": 27,
    "start_time": "2022-02-21T19:47:19.657Z"
   },
   {
    "duration": 19,
    "start_time": "2022-02-21T19:47:19.687Z"
   },
   {
    "duration": 48,
    "start_time": "2022-02-21T19:47:19.708Z"
   },
   {
    "duration": 21,
    "start_time": "2022-02-21T19:47:19.760Z"
   },
   {
    "duration": 21,
    "start_time": "2022-02-21T19:47:19.784Z"
   },
   {
    "duration": 66,
    "start_time": "2022-02-21T19:47:19.808Z"
   },
   {
    "duration": 10,
    "start_time": "2022-02-21T19:47:19.876Z"
   },
   {
    "duration": 60,
    "start_time": "2022-02-21T19:47:19.890Z"
   },
   {
    "duration": 21,
    "start_time": "2022-02-21T19:47:19.953Z"
   },
   {
    "duration": 13,
    "start_time": "2022-02-21T19:47:19.977Z"
   },
   {
    "duration": 61,
    "start_time": "2022-02-21T19:47:19.993Z"
   },
   {
    "duration": 9,
    "start_time": "2022-02-21T19:47:20.056Z"
   },
   {
    "duration": 17,
    "start_time": "2022-02-21T19:47:20.068Z"
   },
   {
    "duration": 9,
    "start_time": "2022-02-21T19:47:20.088Z"
   },
   {
    "duration": 50,
    "start_time": "2022-02-21T19:47:20.099Z"
   },
   {
    "duration": 11,
    "start_time": "2022-02-21T19:47:23.303Z"
   },
   {
    "duration": 722,
    "start_time": "2022-02-21T19:47:26.958Z"
   },
   {
    "duration": 11,
    "start_time": "2022-02-21T19:48:14.330Z"
   },
   {
    "duration": 18,
    "start_time": "2022-02-21T19:48:57.617Z"
   },
   {
    "duration": 21,
    "start_time": "2022-02-21T19:51:16.423Z"
   },
   {
    "duration": 22,
    "start_time": "2022-02-21T19:52:41.814Z"
   },
   {
    "duration": 9,
    "start_time": "2022-02-21T19:52:48.111Z"
   },
   {
    "duration": 9,
    "start_time": "2022-02-21T19:53:36.117Z"
   },
   {
    "duration": 75,
    "start_time": "2022-02-21T19:54:44.896Z"
   },
   {
    "duration": 236,
    "start_time": "2022-02-21T19:56:46.162Z"
   },
   {
    "duration": 7,
    "start_time": "2022-02-21T19:57:24.449Z"
   },
   {
    "duration": 8,
    "start_time": "2022-02-21T19:57:40.757Z"
   },
   {
    "duration": 8,
    "start_time": "2022-02-21T19:57:54.945Z"
   },
   {
    "duration": 7,
    "start_time": "2022-02-21T19:57:59.550Z"
   },
   {
    "duration": 9,
    "start_time": "2022-02-21T19:58:11.095Z"
   },
   {
    "duration": 7,
    "start_time": "2022-02-21T19:58:35.036Z"
   },
   {
    "duration": 6,
    "start_time": "2022-02-21T19:58:41.779Z"
   },
   {
    "duration": 9,
    "start_time": "2022-02-21T19:59:32.580Z"
   },
   {
    "duration": 8,
    "start_time": "2022-02-21T19:59:51.341Z"
   },
   {
    "duration": 7,
    "start_time": "2022-02-21T20:00:10.100Z"
   },
   {
    "duration": 7,
    "start_time": "2022-02-21T20:00:10.802Z"
   },
   {
    "duration": 18,
    "start_time": "2022-02-21T20:06:26.733Z"
   },
   {
    "duration": 19,
    "start_time": "2022-02-21T20:07:43.244Z"
   },
   {
    "duration": 23,
    "start_time": "2022-02-21T20:08:45.900Z"
   },
   {
    "duration": 291,
    "start_time": "2022-02-21T20:09:40.212Z"
   },
   {
    "duration": 17,
    "start_time": "2022-02-21T20:09:52.878Z"
   },
   {
    "duration": 12,
    "start_time": "2022-02-21T20:10:18.038Z"
   },
   {
    "duration": 244,
    "start_time": "2022-02-21T20:10:39.151Z"
   },
   {
    "duration": 11,
    "start_time": "2022-02-21T20:10:44.647Z"
   },
   {
    "duration": 17,
    "start_time": "2022-02-21T20:12:00.259Z"
   },
   {
    "duration": 11,
    "start_time": "2022-02-21T20:13:08.329Z"
   },
   {
    "duration": 12,
    "start_time": "2022-02-21T20:14:15.876Z"
   },
   {
    "duration": 6,
    "start_time": "2022-02-21T20:16:17.315Z"
   },
   {
    "duration": 12,
    "start_time": "2022-02-21T20:16:32.502Z"
   },
   {
    "duration": 17,
    "start_time": "2022-02-21T20:16:36.365Z"
   },
   {
    "duration": 74,
    "start_time": "2022-02-21T20:24:09.395Z"
   },
   {
    "duration": 15,
    "start_time": "2022-02-21T20:24:09.472Z"
   },
   {
    "duration": 13,
    "start_time": "2022-02-21T20:24:09.491Z"
   },
   {
    "duration": 43,
    "start_time": "2022-02-21T20:24:09.507Z"
   },
   {
    "duration": 20,
    "start_time": "2022-02-21T20:24:09.553Z"
   },
   {
    "duration": 33,
    "start_time": "2022-02-21T20:24:09.576Z"
   },
   {
    "duration": 50,
    "start_time": "2022-02-21T20:24:09.612Z"
   },
   {
    "duration": 17,
    "start_time": "2022-02-21T20:24:09.665Z"
   },
   {
    "duration": 50,
    "start_time": "2022-02-21T20:24:09.688Z"
   },
   {
    "duration": 49,
    "start_time": "2022-02-21T20:24:09.750Z"
   },
   {
    "duration": 10,
    "start_time": "2022-02-21T20:24:09.802Z"
   },
   {
    "duration": 23,
    "start_time": "2022-02-21T20:24:09.848Z"
   },
   {
    "duration": 14,
    "start_time": "2022-02-21T20:24:09.874Z"
   },
   {
    "duration": 10,
    "start_time": "2022-02-21T20:24:09.891Z"
   },
   {
    "duration": 50,
    "start_time": "2022-02-21T20:24:09.904Z"
   },
   {
    "duration": 36,
    "start_time": "2022-02-21T20:24:09.957Z"
   },
   {
    "duration": 14,
    "start_time": "2022-02-21T20:24:09.996Z"
   },
   {
    "duration": 18,
    "start_time": "2022-02-21T20:24:10.013Z"
   },
   {
    "duration": 12,
    "start_time": "2022-02-21T20:24:10.049Z"
   },
   {
    "duration": 24,
    "start_time": "2022-02-21T20:24:10.064Z"
   },
   {
    "duration": 59,
    "start_time": "2022-02-21T20:24:10.091Z"
   },
   {
    "duration": 15,
    "start_time": "2022-02-21T20:24:10.153Z"
   },
   {
    "duration": 27,
    "start_time": "2022-02-21T20:24:10.170Z"
   },
   {
    "duration": 63,
    "start_time": "2022-02-21T20:24:10.199Z"
   },
   {
    "duration": 35,
    "start_time": "2022-02-21T20:24:10.266Z"
   },
   {
    "duration": 12,
    "start_time": "2022-02-21T20:24:10.304Z"
   },
   {
    "duration": 20,
    "start_time": "2022-02-21T20:24:10.352Z"
   },
   {
    "duration": 17,
    "start_time": "2022-02-21T20:24:10.375Z"
   },
   {
    "duration": 12,
    "start_time": "2022-02-21T20:24:10.394Z"
   },
   {
    "duration": 18,
    "start_time": "2022-02-21T20:24:10.449Z"
   },
   {
    "duration": 13,
    "start_time": "2022-02-21T20:24:10.469Z"
   },
   {
    "duration": 19,
    "start_time": "2022-02-21T20:24:10.484Z"
   },
   {
    "duration": 14,
    "start_time": "2022-02-21T20:24:10.551Z"
   },
   {
    "duration": 11,
    "start_time": "2022-02-21T20:24:10.568Z"
   },
   {
    "duration": 10,
    "start_time": "2022-02-21T20:24:10.582Z"
   },
   {
    "duration": 923,
    "start_time": "2022-02-21T20:24:10.595Z"
   },
   {
    "duration": 9,
    "start_time": "2022-02-21T20:24:11.521Z"
   },
   {
    "duration": 18,
    "start_time": "2022-02-21T20:24:11.549Z"
   },
   {
    "duration": 18,
    "start_time": "2022-02-21T20:24:11.570Z"
   },
   {
    "duration": 66,
    "start_time": "2022-02-21T20:24:11.590Z"
   },
   {
    "duration": 11,
    "start_time": "2022-02-21T20:24:11.658Z"
   },
   {
    "duration": 11,
    "start_time": "2022-02-21T20:24:11.671Z"
   },
   {
    "duration": 8,
    "start_time": "2022-02-21T20:24:11.685Z"
   },
   {
    "duration": 57,
    "start_time": "2022-02-21T20:24:11.697Z"
   },
   {
    "duration": 20,
    "start_time": "2022-02-21T20:24:11.757Z"
   },
   {
    "duration": 18,
    "start_time": "2022-02-21T20:24:12.127Z"
   },
   {
    "duration": 25,
    "start_time": "2022-02-21T20:24:12.943Z"
   },
   {
    "duration": 285,
    "start_time": "2022-02-21T20:45:42.983Z"
   },
   {
    "duration": 119,
    "start_time": "2022-02-21T20:45:58.643Z"
   },
   {
    "duration": 15,
    "start_time": "2022-02-21T20:45:58.765Z"
   },
   {
    "duration": 16,
    "start_time": "2022-02-21T20:45:58.783Z"
   },
   {
    "duration": 52,
    "start_time": "2022-02-21T20:45:58.802Z"
   },
   {
    "duration": 21,
    "start_time": "2022-02-21T20:45:58.857Z"
   },
   {
    "duration": 20,
    "start_time": "2022-02-21T20:45:58.881Z"
   },
   {
    "duration": 15,
    "start_time": "2022-02-21T20:45:58.947Z"
   },
   {
    "duration": 11,
    "start_time": "2022-02-21T20:45:58.967Z"
   },
   {
    "duration": 68,
    "start_time": "2022-02-21T20:45:58.982Z"
   },
   {
    "duration": 45,
    "start_time": "2022-02-21T20:45:59.052Z"
   },
   {
    "duration": 8,
    "start_time": "2022-02-21T20:45:59.100Z"
   },
   {
    "duration": 54,
    "start_time": "2022-02-21T20:45:59.111Z"
   },
   {
    "duration": 13,
    "start_time": "2022-02-21T20:45:59.168Z"
   },
   {
    "duration": 21,
    "start_time": "2022-02-21T20:45:59.183Z"
   },
   {
    "duration": 7,
    "start_time": "2022-02-21T20:45:59.206Z"
   },
   {
    "duration": 35,
    "start_time": "2022-02-21T20:45:59.215Z"
   },
   {
    "duration": 8,
    "start_time": "2022-02-21T20:45:59.252Z"
   },
   {
    "duration": 17,
    "start_time": "2022-02-21T20:45:59.262Z"
   },
   {
    "duration": 7,
    "start_time": "2022-02-21T20:45:59.282Z"
   },
   {
    "duration": 67,
    "start_time": "2022-02-21T20:45:59.292Z"
   },
   {
    "duration": 21,
    "start_time": "2022-02-21T20:45:59.361Z"
   },
   {
    "duration": 12,
    "start_time": "2022-02-21T20:45:59.384Z"
   },
   {
    "duration": 66,
    "start_time": "2022-02-21T20:45:59.402Z"
   },
   {
    "duration": 23,
    "start_time": "2022-02-21T20:45:59.472Z"
   },
   {
    "duration": 53,
    "start_time": "2022-02-21T20:45:59.498Z"
   },
   {
    "duration": 12,
    "start_time": "2022-02-21T20:45:59.553Z"
   },
   {
    "duration": 21,
    "start_time": "2022-02-21T20:45:59.568Z"
   },
   {
    "duration": 58,
    "start_time": "2022-02-21T20:45:59.591Z"
   },
   {
    "duration": 12,
    "start_time": "2022-02-21T20:45:59.652Z"
   },
   {
    "duration": 24,
    "start_time": "2022-02-21T20:45:59.667Z"
   },
   {
    "duration": 13,
    "start_time": "2022-02-21T20:45:59.693Z"
   },
   {
    "duration": 53,
    "start_time": "2022-02-21T20:45:59.708Z"
   },
   {
    "duration": 11,
    "start_time": "2022-02-21T20:45:59.764Z"
   },
   {
    "duration": 13,
    "start_time": "2022-02-21T20:45:59.777Z"
   },
   {
    "duration": 60,
    "start_time": "2022-02-21T20:45:59.793Z"
   },
   {
    "duration": 796,
    "start_time": "2022-02-21T20:45:59.856Z"
   },
   {
    "duration": 12,
    "start_time": "2022-02-21T20:46:00.655Z"
   },
   {
    "duration": 26,
    "start_time": "2022-02-21T20:46:00.670Z"
   },
   {
    "duration": 57,
    "start_time": "2022-02-21T20:46:00.699Z"
   },
   {
    "duration": 22,
    "start_time": "2022-02-21T20:46:00.759Z"
   },
   {
    "duration": 9,
    "start_time": "2022-02-21T20:46:00.783Z"
   },
   {
    "duration": 20,
    "start_time": "2022-02-21T20:46:00.795Z"
   },
   {
    "duration": 37,
    "start_time": "2022-02-21T20:46:00.818Z"
   },
   {
    "duration": 20,
    "start_time": "2022-02-21T20:46:00.858Z"
   },
   {
    "duration": 27,
    "start_time": "2022-02-21T20:46:00.881Z"
   },
   {
    "duration": 38,
    "start_time": "2022-02-21T20:46:00.911Z"
   },
   {
    "duration": 28,
    "start_time": "2022-02-21T20:46:00.952Z"
   },
   {
    "duration": 256,
    "start_time": "2022-02-21T20:46:02.263Z"
   },
   {
    "duration": 242,
    "start_time": "2022-02-21T20:46:14.618Z"
   },
   {
    "duration": 279,
    "start_time": "2022-02-21T20:46:31.535Z"
   },
   {
    "duration": 25,
    "start_time": "2022-02-21T20:46:38.140Z"
   },
   {
    "duration": 29,
    "start_time": "2022-02-21T20:46:45.824Z"
   },
   {
    "duration": 32,
    "start_time": "2022-02-21T20:46:59.651Z"
   },
   {
    "duration": 234,
    "start_time": "2022-02-21T20:47:13.438Z"
   },
   {
    "duration": 29,
    "start_time": "2022-02-21T20:47:27.690Z"
   },
   {
    "duration": 27,
    "start_time": "2022-02-21T20:47:36.811Z"
   },
   {
    "duration": 26,
    "start_time": "2022-02-21T20:47:49.879Z"
   },
   {
    "duration": 15,
    "start_time": "2022-02-21T20:49:28.172Z"
   },
   {
    "duration": 32,
    "start_time": "2022-02-21T20:49:47.568Z"
   },
   {
    "duration": 13,
    "start_time": "2022-02-21T20:50:40.836Z"
   },
   {
    "duration": 13,
    "start_time": "2022-02-21T20:50:48.897Z"
   },
   {
    "duration": 13,
    "start_time": "2022-02-21T20:50:54.726Z"
   },
   {
    "duration": 17,
    "start_time": "2022-02-21T20:51:23.642Z"
   },
   {
    "duration": 338,
    "start_time": "2022-02-21T20:51:56.672Z"
   },
   {
    "duration": 11,
    "start_time": "2022-02-21T20:52:09.154Z"
   },
   {
    "duration": 17,
    "start_time": "2022-02-21T20:52:43.330Z"
   },
   {
    "duration": 77,
    "start_time": "2022-02-21T20:53:25.509Z"
   },
   {
    "duration": 22,
    "start_time": "2022-02-21T20:53:25.590Z"
   },
   {
    "duration": 16,
    "start_time": "2022-02-21T20:53:25.651Z"
   },
   {
    "duration": 15,
    "start_time": "2022-02-21T20:53:25.671Z"
   },
   {
    "duration": 63,
    "start_time": "2022-02-21T20:53:25.689Z"
   },
   {
    "duration": 20,
    "start_time": "2022-02-21T20:53:25.754Z"
   },
   {
    "duration": 13,
    "start_time": "2022-02-21T20:53:25.776Z"
   },
   {
    "duration": 9,
    "start_time": "2022-02-21T20:53:25.791Z"
   },
   {
    "duration": 22,
    "start_time": "2022-02-21T20:53:25.851Z"
   },
   {
    "duration": 44,
    "start_time": "2022-02-21T20:53:25.876Z"
   },
   {
    "duration": 9,
    "start_time": "2022-02-21T20:53:25.949Z"
   },
   {
    "duration": 22,
    "start_time": "2022-02-21T20:53:25.960Z"
   },
   {
    "duration": 9,
    "start_time": "2022-02-21T20:53:25.984Z"
   },
   {
    "duration": 59,
    "start_time": "2022-02-21T20:53:25.995Z"
   },
   {
    "duration": 13,
    "start_time": "2022-02-21T20:53:26.057Z"
   },
   {
    "duration": 12,
    "start_time": "2022-02-21T20:53:26.073Z"
   },
   {
    "duration": 18,
    "start_time": "2022-02-21T20:53:26.088Z"
   },
   {
    "duration": 50,
    "start_time": "2022-02-21T20:53:26.109Z"
   },
   {
    "duration": 10,
    "start_time": "2022-02-21T20:53:26.161Z"
   },
   {
    "duration": 21,
    "start_time": "2022-02-21T20:53:26.174Z"
   },
   {
    "duration": 66,
    "start_time": "2022-02-21T20:53:26.197Z"
   },
   {
    "duration": 11,
    "start_time": "2022-02-21T20:53:26.266Z"
   },
   {
    "duration": 24,
    "start_time": "2022-02-21T20:53:26.280Z"
   },
   {
    "duration": 49,
    "start_time": "2022-02-21T20:53:26.307Z"
   },
   {
    "duration": 29,
    "start_time": "2022-02-21T20:53:26.358Z"
   },
   {
    "duration": 11,
    "start_time": "2022-02-21T20:53:26.390Z"
   },
   {
    "duration": 61,
    "start_time": "2022-02-21T20:53:26.407Z"
   },
   {
    "duration": 33,
    "start_time": "2022-02-21T20:53:26.470Z"
   },
   {
    "duration": 12,
    "start_time": "2022-02-21T20:53:26.505Z"
   },
   {
    "duration": 56,
    "start_time": "2022-02-21T20:53:26.519Z"
   },
   {
    "duration": 22,
    "start_time": "2022-02-21T20:53:26.578Z"
   },
   {
    "duration": 33,
    "start_time": "2022-02-21T20:53:26.603Z"
   },
   {
    "duration": 15,
    "start_time": "2022-02-21T20:53:26.638Z"
   },
   {
    "duration": 18,
    "start_time": "2022-02-21T20:53:26.656Z"
   },
   {
    "duration": 14,
    "start_time": "2022-02-21T20:53:26.677Z"
   },
   {
    "duration": 737,
    "start_time": "2022-02-21T20:53:26.694Z"
   },
   {
    "duration": 18,
    "start_time": "2022-02-21T20:53:27.435Z"
   },
   {
    "duration": 24,
    "start_time": "2022-02-21T20:53:27.456Z"
   },
   {
    "duration": 28,
    "start_time": "2022-02-21T20:53:27.483Z"
   },
   {
    "duration": 47,
    "start_time": "2022-02-21T20:53:27.513Z"
   },
   {
    "duration": 11,
    "start_time": "2022-02-21T20:53:27.562Z"
   },
   {
    "duration": 23,
    "start_time": "2022-02-21T20:53:27.575Z"
   },
   {
    "duration": 18,
    "start_time": "2022-02-21T20:53:27.600Z"
   },
   {
    "duration": 36,
    "start_time": "2022-02-21T20:53:27.621Z"
   },
   {
    "duration": 16,
    "start_time": "2022-02-21T20:53:29.451Z"
   },
   {
    "duration": 90,
    "start_time": "2022-02-21T20:53:46.468Z"
   },
   {
    "duration": 15,
    "start_time": "2022-02-21T20:53:46.561Z"
   },
   {
    "duration": 17,
    "start_time": "2022-02-21T20:53:46.579Z"
   },
   {
    "duration": 56,
    "start_time": "2022-02-21T20:53:46.599Z"
   },
   {
    "duration": 21,
    "start_time": "2022-02-21T20:53:46.657Z"
   },
   {
    "duration": 19,
    "start_time": "2022-02-21T20:53:46.681Z"
   },
   {
    "duration": 50,
    "start_time": "2022-02-21T20:53:46.702Z"
   },
   {
    "duration": 10,
    "start_time": "2022-02-21T20:53:46.756Z"
   },
   {
    "duration": 24,
    "start_time": "2022-02-21T20:53:46.769Z"
   },
   {
    "duration": 87,
    "start_time": "2022-02-21T20:53:46.796Z"
   },
   {
    "duration": 8,
    "start_time": "2022-02-21T20:53:46.886Z"
   },
   {
    "duration": 19,
    "start_time": "2022-02-21T20:53:46.896Z"
   },
   {
    "duration": 36,
    "start_time": "2022-02-21T20:53:46.918Z"
   },
   {
    "duration": 11,
    "start_time": "2022-02-21T20:53:46.957Z"
   },
   {
    "duration": 8,
    "start_time": "2022-02-21T20:53:46.971Z"
   },
   {
    "duration": 8,
    "start_time": "2022-02-21T20:53:46.982Z"
   },
   {
    "duration": 8,
    "start_time": "2022-02-21T20:53:47.050Z"
   },
   {
    "duration": 12,
    "start_time": "2022-02-21T20:53:47.060Z"
   },
   {
    "duration": 9,
    "start_time": "2022-02-21T20:53:47.074Z"
   },
   {
    "duration": 80,
    "start_time": "2022-02-21T20:53:47.085Z"
   },
   {
    "duration": 21,
    "start_time": "2022-02-21T20:53:47.168Z"
   },
   {
    "duration": 12,
    "start_time": "2022-02-21T20:53:47.191Z"
   },
   {
    "duration": 23,
    "start_time": "2022-02-21T20:53:47.251Z"
   },
   {
    "duration": 17,
    "start_time": "2022-02-21T20:53:47.277Z"
   },
   {
    "duration": 77,
    "start_time": "2022-02-21T20:53:47.297Z"
   },
   {
    "duration": 11,
    "start_time": "2022-02-21T20:53:47.377Z"
   },
   {
    "duration": 61,
    "start_time": "2022-02-21T20:53:47.391Z"
   },
   {
    "duration": 19,
    "start_time": "2022-02-21T20:53:47.455Z"
   },
   {
    "duration": 12,
    "start_time": "2022-02-21T20:53:47.476Z"
   },
   {
    "duration": 60,
    "start_time": "2022-02-21T20:53:47.490Z"
   },
   {
    "duration": 10,
    "start_time": "2022-02-21T20:53:47.553Z"
   },
   {
    "duration": 17,
    "start_time": "2022-02-21T20:53:47.566Z"
   },
   {
    "duration": 10,
    "start_time": "2022-02-21T20:53:47.586Z"
   },
   {
    "duration": 52,
    "start_time": "2022-02-21T20:53:47.598Z"
   },
   {
    "duration": 13,
    "start_time": "2022-02-21T20:53:47.654Z"
   },
   {
    "duration": 737,
    "start_time": "2022-02-21T20:53:47.670Z"
   },
   {
    "duration": 9,
    "start_time": "2022-02-21T20:53:48.409Z"
   },
   {
    "duration": 56,
    "start_time": "2022-02-21T20:53:48.797Z"
   },
   {
    "duration": 19,
    "start_time": "2022-02-21T20:53:58.348Z"
   },
   {
    "duration": 23,
    "start_time": "2022-02-21T20:54:04.980Z"
   },
   {
    "duration": 11,
    "start_time": "2022-02-21T20:54:06.506Z"
   },
   {
    "duration": 20,
    "start_time": "2022-02-21T20:54:20.572Z"
   },
   {
    "duration": 9,
    "start_time": "2022-02-21T20:54:21.748Z"
   },
   {
    "duration": 74,
    "start_time": "2022-02-21T20:54:44.884Z"
   },
   {
    "duration": 15,
    "start_time": "2022-02-21T20:54:44.961Z"
   },
   {
    "duration": 12,
    "start_time": "2022-02-21T20:54:44.980Z"
   },
   {
    "duration": 59,
    "start_time": "2022-02-21T20:54:44.995Z"
   },
   {
    "duration": 23,
    "start_time": "2022-02-21T20:54:45.056Z"
   },
   {
    "duration": 20,
    "start_time": "2022-02-21T20:54:45.082Z"
   },
   {
    "duration": 14,
    "start_time": "2022-02-21T20:54:45.148Z"
   },
   {
    "duration": 10,
    "start_time": "2022-02-21T20:54:45.166Z"
   },
   {
    "duration": 22,
    "start_time": "2022-02-21T20:54:45.180Z"
   },
   {
    "duration": 42,
    "start_time": "2022-02-21T20:54:45.249Z"
   },
   {
    "duration": 8,
    "start_time": "2022-02-21T20:54:45.293Z"
   },
   {
    "duration": 55,
    "start_time": "2022-02-21T20:54:45.304Z"
   },
   {
    "duration": 8,
    "start_time": "2022-02-21T20:54:45.362Z"
   },
   {
    "duration": 7,
    "start_time": "2022-02-21T20:54:45.373Z"
   },
   {
    "duration": 6,
    "start_time": "2022-02-21T20:54:45.383Z"
   },
   {
    "duration": 56,
    "start_time": "2022-02-21T20:54:45.392Z"
   },
   {
    "duration": 7,
    "start_time": "2022-02-21T20:54:45.451Z"
   },
   {
    "duration": 12,
    "start_time": "2022-02-21T20:54:45.461Z"
   },
   {
    "duration": 9,
    "start_time": "2022-02-21T20:54:45.476Z"
   },
   {
    "duration": 76,
    "start_time": "2022-02-21T20:54:45.488Z"
   },
   {
    "duration": 21,
    "start_time": "2022-02-21T20:54:45.566Z"
   },
   {
    "duration": 11,
    "start_time": "2022-02-21T20:54:45.589Z"
   },
   {
    "duration": 61,
    "start_time": "2022-02-21T20:54:45.605Z"
   },
   {
    "duration": 16,
    "start_time": "2022-02-21T20:54:45.669Z"
   },
   {
    "duration": 62,
    "start_time": "2022-02-21T20:54:45.688Z"
   },
   {
    "duration": 13,
    "start_time": "2022-02-21T20:54:45.752Z"
   },
   {
    "duration": 21,
    "start_time": "2022-02-21T20:54:45.768Z"
   },
   {
    "duration": 65,
    "start_time": "2022-02-21T20:54:45.792Z"
   },
   {
    "duration": 11,
    "start_time": "2022-02-21T20:54:45.860Z"
   },
   {
    "duration": 23,
    "start_time": "2022-02-21T20:54:45.874Z"
   },
   {
    "duration": 9,
    "start_time": "2022-02-21T20:54:45.900Z"
   },
   {
    "duration": 42,
    "start_time": "2022-02-21T20:54:45.911Z"
   },
   {
    "duration": 9,
    "start_time": "2022-02-21T20:54:45.956Z"
   },
   {
    "duration": 9,
    "start_time": "2022-02-21T20:54:45.967Z"
   },
   {
    "duration": 13,
    "start_time": "2022-02-21T20:54:45.978Z"
   },
   {
    "duration": 722,
    "start_time": "2022-02-21T20:54:46.049Z"
   },
   {
    "duration": 10,
    "start_time": "2022-02-21T20:54:46.773Z"
   },
   {
    "duration": 31,
    "start_time": "2022-02-21T20:54:47.136Z"
   },
   {
    "duration": 21,
    "start_time": "2022-02-21T20:54:49.164Z"
   },
   {
    "duration": 43,
    "start_time": "2022-02-21T20:54:50.073Z"
   },
   {
    "duration": 19,
    "start_time": "2022-02-21T20:54:50.739Z"
   },
   {
    "duration": 8,
    "start_time": "2022-02-21T20:54:59.332Z"
   },
   {
    "duration": 7,
    "start_time": "2022-02-21T20:54:59.828Z"
   },
   {
    "duration": 14,
    "start_time": "2022-02-21T20:55:22.178Z"
   },
   {
    "duration": 28,
    "start_time": "2022-02-21T20:55:33.177Z"
   },
   {
    "duration": 760,
    "start_time": "2022-02-21T20:55:36.218Z"
   },
   {
    "duration": 29,
    "start_time": "2022-02-21T20:55:55.171Z"
   },
   {
    "duration": 15,
    "start_time": "2022-02-21T20:55:59.098Z"
   },
   {
    "duration": 9,
    "start_time": "2022-02-21T20:56:27.008Z"
   },
   {
    "duration": 15,
    "start_time": "2022-02-21T20:56:33.537Z"
   },
   {
    "duration": 18,
    "start_time": "2022-02-21T20:56:49.610Z"
   },
   {
    "duration": 16,
    "start_time": "2022-02-21T20:57:10.298Z"
   },
   {
    "duration": 16,
    "start_time": "2022-02-21T20:57:24.312Z"
   },
   {
    "duration": 18,
    "start_time": "2022-02-21T20:57:50.145Z"
   },
   {
    "duration": 17,
    "start_time": "2022-02-21T20:57:58.171Z"
   },
   {
    "duration": 17,
    "start_time": "2022-02-21T20:58:10.019Z"
   },
   {
    "duration": 669,
    "start_time": "2022-02-22T14:46:57.143Z"
   },
   {
    "duration": 12,
    "start_time": "2022-02-22T14:46:57.814Z"
   },
   {
    "duration": 12,
    "start_time": "2022-02-22T14:46:57.828Z"
   },
   {
    "duration": 12,
    "start_time": "2022-02-22T14:46:57.842Z"
   },
   {
    "duration": 14,
    "start_time": "2022-02-22T14:46:57.856Z"
   },
   {
    "duration": 20,
    "start_time": "2022-02-22T14:46:57.872Z"
   },
   {
    "duration": 10,
    "start_time": "2022-02-22T14:46:57.919Z"
   },
   {
    "duration": 7,
    "start_time": "2022-02-22T14:46:57.932Z"
   },
   {
    "duration": 26,
    "start_time": "2022-02-22T14:46:57.941Z"
   },
   {
    "duration": 54,
    "start_time": "2022-02-22T14:46:57.969Z"
   },
   {
    "duration": 6,
    "start_time": "2022-02-22T14:46:58.025Z"
   },
   {
    "duration": 14,
    "start_time": "2022-02-22T14:46:58.033Z"
   },
   {
    "duration": 9,
    "start_time": "2022-02-22T14:46:58.049Z"
   },
   {
    "duration": 10,
    "start_time": "2022-02-22T14:46:58.060Z"
   },
   {
    "duration": 6,
    "start_time": "2022-02-22T14:46:58.072Z"
   },
   {
    "duration": 45,
    "start_time": "2022-02-22T14:46:58.080Z"
   },
   {
    "duration": 8,
    "start_time": "2022-02-22T14:46:58.127Z"
   },
   {
    "duration": 7,
    "start_time": "2022-02-22T14:46:58.137Z"
   },
   {
    "duration": 8,
    "start_time": "2022-02-22T14:46:58.145Z"
   },
   {
    "duration": 15,
    "start_time": "2022-02-22T14:46:58.154Z"
   },
   {
    "duration": 13,
    "start_time": "2022-02-22T14:46:58.170Z"
   },
   {
    "duration": 40,
    "start_time": "2022-02-22T14:46:58.184Z"
   },
   {
    "duration": 17,
    "start_time": "2022-02-22T14:46:58.228Z"
   },
   {
    "duration": 12,
    "start_time": "2022-02-22T14:46:58.247Z"
   },
   {
    "duration": 24,
    "start_time": "2022-02-22T14:46:58.260Z"
   },
   {
    "duration": 38,
    "start_time": "2022-02-22T14:46:58.286Z"
   },
   {
    "duration": 20,
    "start_time": "2022-02-22T14:46:58.326Z"
   },
   {
    "duration": 13,
    "start_time": "2022-02-22T14:46:58.348Z"
   },
   {
    "duration": 8,
    "start_time": "2022-02-22T14:46:58.363Z"
   },
   {
    "duration": 13,
    "start_time": "2022-02-22T14:46:58.373Z"
   },
   {
    "duration": 38,
    "start_time": "2022-02-22T14:46:58.388Z"
   },
   {
    "duration": 19,
    "start_time": "2022-02-22T14:46:58.428Z"
   },
   {
    "duration": 9,
    "start_time": "2022-02-22T14:46:58.449Z"
   },
   {
    "duration": 8,
    "start_time": "2022-02-22T14:46:58.460Z"
   },
   {
    "duration": 14,
    "start_time": "2022-02-22T14:46:58.470Z"
   },
   {
    "duration": 590,
    "start_time": "2022-02-22T14:46:58.485Z"
   },
   {
    "duration": 7,
    "start_time": "2022-02-22T14:46:59.078Z"
   },
   {
    "duration": 36,
    "start_time": "2022-02-22T14:46:59.086Z"
   },
   {
    "duration": 14,
    "start_time": "2022-02-22T14:46:59.124Z"
   },
   {
    "duration": 30,
    "start_time": "2022-02-22T14:46:59.140Z"
   },
   {
    "duration": 41,
    "start_time": "2022-02-22T14:46:59.171Z"
   },
   {
    "duration": 5,
    "start_time": "2022-02-22T14:46:59.214Z"
   },
   {
    "duration": 6,
    "start_time": "2022-02-22T14:46:59.220Z"
   },
   {
    "duration": 11,
    "start_time": "2022-02-22T14:46:59.227Z"
   },
   {
    "duration": 19,
    "start_time": "2022-02-22T14:46:59.240Z"
   },
   {
    "duration": 481,
    "start_time": "2022-02-22T14:46:59.260Z"
   },
   {
    "duration": 20,
    "start_time": "2022-02-22T14:46:59.743Z"
   },
   {
    "duration": 277,
    "start_time": "2022-02-22T14:47:04.530Z"
   },
   {
    "duration": 19,
    "start_time": "2022-02-22T14:47:15.933Z"
   },
   {
    "duration": 216,
    "start_time": "2022-02-22T14:47:18.176Z"
   },
   {
    "duration": 13,
    "start_time": "2022-02-22T14:47:38.803Z"
   },
   {
    "duration": 12,
    "start_time": "2022-02-22T14:47:48.720Z"
   },
   {
    "duration": 12,
    "start_time": "2022-02-22T14:47:53.987Z"
   },
   {
    "duration": 10,
    "start_time": "2022-02-22T14:50:22.917Z"
   },
   {
    "duration": -118,
    "start_time": "2022-02-22T14:50:43.892Z"
   },
   {
    "duration": 12,
    "start_time": "2022-02-22T14:50:49.731Z"
   },
   {
    "duration": 63,
    "start_time": "2022-02-22T15:00:01.883Z"
   },
   {
    "duration": 37,
    "start_time": "2022-02-22T15:00:01.948Z"
   },
   {
    "duration": 71,
    "start_time": "2022-02-22T15:00:01.987Z"
   },
   {
    "duration": 106,
    "start_time": "2022-02-22T15:00:02.060Z"
   },
   {
    "duration": 73,
    "start_time": "2022-02-22T15:00:02.168Z"
   },
   {
    "duration": 63,
    "start_time": "2022-02-22T15:00:02.243Z"
   },
   {
    "duration": 33,
    "start_time": "2022-02-22T15:00:02.308Z"
   },
   {
    "duration": 64,
    "start_time": "2022-02-22T15:00:02.344Z"
   },
   {
    "duration": 144,
    "start_time": "2022-02-22T15:00:02.411Z"
   },
   {
    "duration": 84,
    "start_time": "2022-02-22T15:00:02.557Z"
   },
   {
    "duration": 25,
    "start_time": "2022-02-22T15:00:02.644Z"
   },
   {
    "duration": 68,
    "start_time": "2022-02-22T15:00:02.671Z"
   },
   {
    "duration": 45,
    "start_time": "2022-02-22T15:00:02.741Z"
   },
   {
    "duration": 38,
    "start_time": "2022-02-22T15:00:02.788Z"
   },
   {
    "duration": 41,
    "start_time": "2022-02-22T15:00:02.828Z"
   },
   {
    "duration": 24,
    "start_time": "2022-02-22T15:00:02.871Z"
   },
   {
    "duration": 108,
    "start_time": "2022-02-22T15:00:02.896Z"
   },
   {
    "duration": 118,
    "start_time": "2022-02-22T15:00:03.006Z"
   },
   {
    "duration": 54,
    "start_time": "2022-02-22T15:00:03.126Z"
   },
   {
    "duration": 39,
    "start_time": "2022-02-22T15:00:03.182Z"
   },
   {
    "duration": 67,
    "start_time": "2022-02-22T15:00:03.222Z"
   },
   {
    "duration": 38,
    "start_time": "2022-02-22T15:00:03.291Z"
   },
   {
    "duration": 25,
    "start_time": "2022-02-22T15:00:03.331Z"
   },
   {
    "duration": 41,
    "start_time": "2022-02-22T15:00:03.358Z"
   },
   {
    "duration": 41,
    "start_time": "2022-02-22T15:00:03.401Z"
   },
   {
    "duration": 14,
    "start_time": "2022-02-22T15:00:03.444Z"
   },
   {
    "duration": 26,
    "start_time": "2022-02-22T15:00:03.462Z"
   },
   {
    "duration": 21,
    "start_time": "2022-02-22T15:00:03.491Z"
   },
   {
    "duration": 9,
    "start_time": "2022-02-22T15:00:03.515Z"
   },
   {
    "duration": 41,
    "start_time": "2022-02-22T15:00:03.526Z"
   },
   {
    "duration": 19,
    "start_time": "2022-02-22T15:00:03.569Z"
   },
   {
    "duration": 20,
    "start_time": "2022-02-22T15:00:03.590Z"
   },
   {
    "duration": 20,
    "start_time": "2022-02-22T15:00:03.612Z"
   },
   {
    "duration": 42,
    "start_time": "2022-02-22T15:00:03.634Z"
   },
   {
    "duration": 33,
    "start_time": "2022-02-22T15:00:03.678Z"
   },
   {
    "duration": 433,
    "start_time": "2022-02-22T15:00:03.713Z"
   },
   {
    "duration": 8,
    "start_time": "2022-02-22T15:00:04.148Z"
   },
   {
    "duration": 39,
    "start_time": "2022-02-22T15:00:04.158Z"
   },
   {
    "duration": 29,
    "start_time": "2022-02-22T15:00:04.198Z"
   },
   {
    "duration": 40,
    "start_time": "2022-02-22T15:00:04.229Z"
   },
   {
    "duration": 29,
    "start_time": "2022-02-22T15:00:04.271Z"
   },
   {
    "duration": 26,
    "start_time": "2022-02-22T15:00:04.302Z"
   },
   {
    "duration": 14,
    "start_time": "2022-02-22T15:00:04.330Z"
   },
   {
    "duration": 23,
    "start_time": "2022-02-22T15:00:04.346Z"
   },
   {
    "duration": 36,
    "start_time": "2022-02-22T15:00:04.371Z"
   },
   {
    "duration": 464,
    "start_time": "2022-02-22T15:00:04.409Z"
   },
   {
    "duration": 20,
    "start_time": "2022-02-22T15:00:04.875Z"
   },
   {
    "duration": 18,
    "start_time": "2022-02-22T15:00:06.131Z"
   },
   {
    "duration": 8,
    "start_time": "2022-02-22T15:00:44.557Z"
   },
   {
    "duration": 5984,
    "start_time": "2022-02-22T15:21:06.316Z"
   },
   {
    "duration": 6628,
    "start_time": "2022-02-22T15:21:13.078Z"
   },
   {
    "duration": 13,
    "start_time": "2022-02-22T15:21:25.509Z"
   },
   {
    "duration": 217,
    "start_time": "2022-02-22T15:23:36.716Z"
   },
   {
    "duration": 10,
    "start_time": "2022-02-22T15:23:46.853Z"
   },
   {
    "duration": 68,
    "start_time": "2022-02-22T15:24:43.122Z"
   },
   {
    "duration": 16,
    "start_time": "2022-02-22T15:24:52.496Z"
   },
   {
    "duration": 73,
    "start_time": "2022-02-22T15:25:07.977Z"
   },
   {
    "duration": 78,
    "start_time": "2022-02-22T15:25:17.322Z"
   },
   {
    "duration": 14,
    "start_time": "2022-02-22T15:25:30.511Z"
   },
   {
    "duration": 16,
    "start_time": "2022-02-22T15:25:39.471Z"
   },
   {
    "duration": 17,
    "start_time": "2022-02-22T15:35:44.860Z"
   },
   {
    "duration": 21,
    "start_time": "2022-02-22T15:36:00.144Z"
   },
   {
    "duration": 98,
    "start_time": "2022-02-22T15:36:07.740Z"
   },
   {
    "duration": 17,
    "start_time": "2022-02-22T15:36:18.631Z"
   },
   {
    "duration": 17,
    "start_time": "2022-02-22T15:36:26.652Z"
   },
   {
    "duration": 15,
    "start_time": "2022-02-22T15:39:07.341Z"
   },
   {
    "duration": 15,
    "start_time": "2022-02-22T15:41:56.578Z"
   },
   {
    "duration": 16,
    "start_time": "2022-02-22T15:42:35.474Z"
   },
   {
    "duration": 6480,
    "start_time": "2022-02-22T15:48:49.226Z"
   },
   {
    "duration": 16,
    "start_time": "2022-02-22T15:49:17.667Z"
   },
   {
    "duration": 6584,
    "start_time": "2022-02-22T15:50:10.584Z"
   },
   {
    "duration": 57,
    "start_time": "2022-02-22T15:51:21.222Z"
   },
   {
    "duration": 42,
    "start_time": "2022-02-22T15:51:21.282Z"
   },
   {
    "duration": 10,
    "start_time": "2022-02-22T15:51:21.326Z"
   },
   {
    "duration": 12,
    "start_time": "2022-02-22T15:51:21.338Z"
   },
   {
    "duration": 16,
    "start_time": "2022-02-22T15:51:21.351Z"
   },
   {
    "duration": 13,
    "start_time": "2022-02-22T15:51:21.369Z"
   },
   {
    "duration": 40,
    "start_time": "2022-02-22T15:51:21.384Z"
   },
   {
    "duration": 8,
    "start_time": "2022-02-22T15:51:21.427Z"
   },
   {
    "duration": 18,
    "start_time": "2022-02-22T15:51:21.437Z"
   },
   {
    "duration": 32,
    "start_time": "2022-02-22T15:51:21.457Z"
   },
   {
    "duration": 30,
    "start_time": "2022-02-22T15:51:21.491Z"
   },
   {
    "duration": 14,
    "start_time": "2022-02-22T15:51:21.523Z"
   },
   {
    "duration": 9,
    "start_time": "2022-02-22T15:51:21.539Z"
   },
   {
    "duration": 5,
    "start_time": "2022-02-22T15:51:21.550Z"
   },
   {
    "duration": 7,
    "start_time": "2022-02-22T15:51:21.557Z"
   },
   {
    "duration": 6,
    "start_time": "2022-02-22T15:51:21.565Z"
   },
   {
    "duration": 5,
    "start_time": "2022-02-22T15:51:21.573Z"
   },
   {
    "duration": 8,
    "start_time": "2022-02-22T15:51:21.619Z"
   },
   {
    "duration": 8,
    "start_time": "2022-02-22T15:51:21.629Z"
   },
   {
    "duration": 16,
    "start_time": "2022-02-22T15:51:21.638Z"
   },
   {
    "duration": 14,
    "start_time": "2022-02-22T15:51:21.656Z"
   },
   {
    "duration": 7,
    "start_time": "2022-02-22T15:51:21.672Z"
   },
   {
    "duration": 48,
    "start_time": "2022-02-22T15:51:21.683Z"
   },
   {
    "duration": 11,
    "start_time": "2022-02-22T15:51:21.733Z"
   },
   {
    "duration": 21,
    "start_time": "2022-02-22T15:51:21.746Z"
   },
   {
    "duration": 9,
    "start_time": "2022-02-22T15:51:21.769Z"
   },
   {
    "duration": 40,
    "start_time": "2022-02-22T15:51:21.779Z"
   },
   {
    "duration": 13,
    "start_time": "2022-02-22T15:51:21.821Z"
   },
   {
    "duration": 8,
    "start_time": "2022-02-22T15:51:21.836Z"
   },
   {
    "duration": 17,
    "start_time": "2022-02-22T15:51:21.846Z"
   },
   {
    "duration": 8,
    "start_time": "2022-02-22T15:51:21.865Z"
   },
   {
    "duration": 44,
    "start_time": "2022-02-22T15:51:21.875Z"
   },
   {
    "duration": 7,
    "start_time": "2022-02-22T15:51:21.921Z"
   },
   {
    "duration": 8,
    "start_time": "2022-02-22T15:51:21.930Z"
   },
   {
    "duration": 8,
    "start_time": "2022-02-22T15:51:21.939Z"
   },
   {
    "duration": 424,
    "start_time": "2022-02-22T15:51:21.949Z"
   },
   {
    "duration": 7,
    "start_time": "2022-02-22T15:51:22.374Z"
   },
   {
    "duration": 36,
    "start_time": "2022-02-22T15:51:22.383Z"
   },
   {
    "duration": 14,
    "start_time": "2022-02-22T15:51:22.421Z"
   },
   {
    "duration": 29,
    "start_time": "2022-02-22T15:51:22.437Z"
   },
   {
    "duration": 14,
    "start_time": "2022-02-22T15:51:22.468Z"
   },
   {
    "duration": 6,
    "start_time": "2022-02-22T15:51:22.483Z"
   },
   {
    "duration": 7,
    "start_time": "2022-02-22T15:51:22.519Z"
   },
   {
    "duration": 11,
    "start_time": "2022-02-22T15:51:22.528Z"
   },
   {
    "duration": 17,
    "start_time": "2022-02-22T15:51:22.541Z"
   },
   {
    "duration": 505,
    "start_time": "2022-02-22T15:51:22.560Z"
   },
   {
    "duration": 20,
    "start_time": "2022-02-22T15:51:23.067Z"
   },
   {
    "duration": 36,
    "start_time": "2022-02-22T15:51:23.088Z"
   },
   {
    "duration": 6964,
    "start_time": "2022-02-22T15:51:23.754Z"
   },
   {
    "duration": 14,
    "start_time": "2022-02-22T15:51:47.187Z"
   },
   {
    "duration": 12,
    "start_time": "2022-02-22T15:52:47.294Z"
   },
   {
    "duration": 17,
    "start_time": "2022-02-22T15:52:51.780Z"
   },
   {
    "duration": 17,
    "start_time": "2022-02-22T15:53:39.112Z"
   },
   {
    "duration": 19,
    "start_time": "2022-02-22T15:56:12.321Z"
   },
   {
    "duration": 19,
    "start_time": "2022-02-22T16:01:27.860Z"
   },
   {
    "duration": 5578,
    "start_time": "2022-02-22T16:04:08.792Z"
   },
   {
    "duration": 16,
    "start_time": "2022-02-22T16:04:55.155Z"
   },
   {
    "duration": 24,
    "start_time": "2022-02-22T16:05:05.387Z"
   },
   {
    "duration": 17,
    "start_time": "2022-02-22T16:05:25.487Z"
   },
   {
    "duration": 17,
    "start_time": "2022-02-22T16:14:36.417Z"
   },
   {
    "duration": 22,
    "start_time": "2022-02-22T16:18:10.643Z"
   },
   {
    "duration": 25,
    "start_time": "2022-02-22T16:19:49.044Z"
   },
   {
    "duration": 76,
    "start_time": "2022-02-22T16:21:17.247Z"
   },
   {
    "duration": 3,
    "start_time": "2022-02-22T16:22:41.078Z"
   },
   {
    "duration": 16,
    "start_time": "2022-02-22T16:33:19.271Z"
   },
   {
    "duration": 24,
    "start_time": "2022-02-22T16:34:41.390Z"
   },
   {
    "duration": 19,
    "start_time": "2022-02-22T16:35:14.643Z"
   },
   {
    "duration": 97,
    "start_time": "2022-02-22T16:45:45.259Z"
   },
   {
    "duration": 64,
    "start_time": "2022-02-22T16:48:54.168Z"
   },
   {
    "duration": 11,
    "start_time": "2022-02-22T16:49:31.790Z"
   },
   {
    "duration": 59,
    "start_time": "2022-02-22T17:29:12.298Z"
   },
   {
    "duration": 11,
    "start_time": "2022-02-22T17:29:12.359Z"
   },
   {
    "duration": 9,
    "start_time": "2022-02-22T17:29:12.372Z"
   },
   {
    "duration": 11,
    "start_time": "2022-02-22T17:29:12.383Z"
   },
   {
    "duration": 26,
    "start_time": "2022-02-22T17:29:12.396Z"
   },
   {
    "duration": 14,
    "start_time": "2022-02-22T17:29:12.424Z"
   },
   {
    "duration": 10,
    "start_time": "2022-02-22T17:29:12.440Z"
   },
   {
    "duration": 10,
    "start_time": "2022-02-22T17:29:12.452Z"
   },
   {
    "duration": 26,
    "start_time": "2022-02-22T17:29:12.464Z"
   },
   {
    "duration": 53,
    "start_time": "2022-02-22T17:29:12.491Z"
   },
   {
    "duration": 6,
    "start_time": "2022-02-22T17:29:12.546Z"
   },
   {
    "duration": 24,
    "start_time": "2022-02-22T17:29:12.553Z"
   },
   {
    "duration": 10,
    "start_time": "2022-02-22T17:29:12.578Z"
   },
   {
    "duration": 35,
    "start_time": "2022-02-22T17:29:12.590Z"
   },
   {
    "duration": 7,
    "start_time": "2022-02-22T17:29:14.652Z"
   },
   {
    "duration": 28,
    "start_time": "2022-02-22T17:29:28.849Z"
   },
   {
    "duration": 69,
    "start_time": "2022-02-22T17:31:36.819Z"
   },
   {
    "duration": 59,
    "start_time": "2022-02-22T17:31:40.956Z"
   },
   {
    "duration": 13,
    "start_time": "2022-02-22T17:31:41.018Z"
   },
   {
    "duration": 19,
    "start_time": "2022-02-22T17:31:41.033Z"
   },
   {
    "duration": 12,
    "start_time": "2022-02-22T17:31:41.055Z"
   },
   {
    "duration": 15,
    "start_time": "2022-02-22T17:31:41.069Z"
   },
   {
    "duration": 42,
    "start_time": "2022-02-22T17:31:41.086Z"
   },
   {
    "duration": 10,
    "start_time": "2022-02-22T17:31:41.130Z"
   },
   {
    "duration": 9,
    "start_time": "2022-02-22T17:31:41.144Z"
   },
   {
    "duration": 33,
    "start_time": "2022-02-22T17:31:41.155Z"
   },
   {
    "duration": 50,
    "start_time": "2022-02-22T17:31:41.190Z"
   },
   {
    "duration": 6,
    "start_time": "2022-02-22T17:31:41.242Z"
   },
   {
    "duration": 71,
    "start_time": "2022-02-22T17:31:41.250Z"
   },
   {
    "duration": 104,
    "start_time": "2022-02-22T17:31:42.808Z"
   },
   {
    "duration": 6,
    "start_time": "2022-02-22T17:31:43.713Z"
   },
   {
    "duration": 60,
    "start_time": "2022-02-22T17:31:49.217Z"
   },
   {
    "duration": 13,
    "start_time": "2022-02-22T17:31:49.279Z"
   },
   {
    "duration": 32,
    "start_time": "2022-02-22T17:31:49.295Z"
   },
   {
    "duration": 31,
    "start_time": "2022-02-22T17:31:49.329Z"
   },
   {
    "duration": 20,
    "start_time": "2022-02-22T17:31:49.362Z"
   },
   {
    "duration": 20,
    "start_time": "2022-02-22T17:31:49.384Z"
   },
   {
    "duration": 14,
    "start_time": "2022-02-22T17:31:49.406Z"
   },
   {
    "duration": 18,
    "start_time": "2022-02-22T17:31:49.422Z"
   },
   {
    "duration": 26,
    "start_time": "2022-02-22T17:31:49.443Z"
   },
   {
    "duration": 38,
    "start_time": "2022-02-22T17:31:49.472Z"
   },
   {
    "duration": 8,
    "start_time": "2022-02-22T17:31:49.519Z"
   },
   {
    "duration": 106,
    "start_time": "2022-02-22T17:31:49.529Z"
   },
   {
    "duration": 51,
    "start_time": "2022-02-22T17:31:49.586Z"
   },
   {
    "duration": 86,
    "start_time": "2022-02-22T17:31:56.698Z"
   },
   {
    "duration": 17,
    "start_time": "2022-02-22T17:31:56.787Z"
   },
   {
    "duration": 11,
    "start_time": "2022-02-22T17:31:56.818Z"
   },
   {
    "duration": 11,
    "start_time": "2022-02-22T17:31:56.831Z"
   },
   {
    "duration": 19,
    "start_time": "2022-02-22T17:31:56.843Z"
   },
   {
    "duration": 20,
    "start_time": "2022-02-22T17:31:56.865Z"
   },
   {
    "duration": 14,
    "start_time": "2022-02-22T17:31:56.919Z"
   },
   {
    "duration": 9,
    "start_time": "2022-02-22T17:31:56.936Z"
   },
   {
    "duration": 23,
    "start_time": "2022-02-22T17:31:56.949Z"
   },
   {
    "duration": 80,
    "start_time": "2022-02-22T17:31:56.974Z"
   },
   {
    "duration": 9,
    "start_time": "2022-02-22T17:31:57.057Z"
   },
   {
    "duration": 26,
    "start_time": "2022-02-22T17:31:59.517Z"
   },
   {
    "duration": 14,
    "start_time": "2022-02-22T17:32:17.713Z"
   },
   {
    "duration": 15,
    "start_time": "2022-02-22T17:33:48.437Z"
   },
   {
    "duration": 14,
    "start_time": "2022-02-22T17:33:56.744Z"
   },
   {
    "duration": 14,
    "start_time": "2022-02-22T17:34:14.774Z"
   },
   {
    "duration": 8,
    "start_time": "2022-02-22T17:36:08.579Z"
   },
   {
    "duration": 6,
    "start_time": "2022-02-22T17:36:22.917Z"
   },
   {
    "duration": 7,
    "start_time": "2022-02-22T17:36:57.480Z"
   },
   {
    "duration": 13,
    "start_time": "2022-02-22T17:36:58.274Z"
   },
   {
    "duration": 6,
    "start_time": "2022-02-22T17:37:08.655Z"
   },
   {
    "duration": 545,
    "start_time": "2022-02-22T17:38:43.864Z"
   },
   {
    "duration": 7,
    "start_time": "2022-02-22T17:39:02.303Z"
   },
   {
    "duration": 56,
    "start_time": "2022-02-22T17:39:09.016Z"
   },
   {
    "duration": 11,
    "start_time": "2022-02-22T17:39:09.075Z"
   },
   {
    "duration": 30,
    "start_time": "2022-02-22T17:39:09.088Z"
   },
   {
    "duration": 11,
    "start_time": "2022-02-22T17:39:09.121Z"
   },
   {
    "duration": 16,
    "start_time": "2022-02-22T17:39:09.134Z"
   },
   {
    "duration": 14,
    "start_time": "2022-02-22T17:39:09.152Z"
   },
   {
    "duration": 9,
    "start_time": "2022-02-22T17:39:09.168Z"
   },
   {
    "duration": 45,
    "start_time": "2022-02-22T17:39:09.180Z"
   },
   {
    "duration": 17,
    "start_time": "2022-02-22T17:39:09.227Z"
   },
   {
    "duration": 46,
    "start_time": "2022-02-22T17:39:09.247Z"
   },
   {
    "duration": 29,
    "start_time": "2022-02-22T17:39:09.295Z"
   },
   {
    "duration": 21,
    "start_time": "2022-02-22T17:39:09.326Z"
   },
   {
    "duration": 9,
    "start_time": "2022-02-22T17:39:09.348Z"
   },
   {
    "duration": 14,
    "start_time": "2022-02-22T17:39:09.359Z"
   },
   {
    "duration": 6,
    "start_time": "2022-02-22T17:39:09.374Z"
   },
   {
    "duration": 43,
    "start_time": "2022-02-22T17:39:09.382Z"
   },
   {
    "duration": 10,
    "start_time": "2022-02-22T17:39:10.628Z"
   },
   {
    "duration": 8,
    "start_time": "2022-02-22T17:39:11.092Z"
   },
   {
    "duration": 5,
    "start_time": "2022-02-22T17:46:30.629Z"
   },
   {
    "duration": 6,
    "start_time": "2022-02-22T17:46:31.240Z"
   },
   {
    "duration": 66,
    "start_time": "2022-02-22T17:55:18.895Z"
   },
   {
    "duration": 12,
    "start_time": "2022-02-22T17:55:18.964Z"
   },
   {
    "duration": 9,
    "start_time": "2022-02-22T17:55:18.978Z"
   },
   {
    "duration": 34,
    "start_time": "2022-02-22T17:55:18.989Z"
   },
   {
    "duration": 13,
    "start_time": "2022-02-22T17:55:19.025Z"
   },
   {
    "duration": 16,
    "start_time": "2022-02-22T17:55:19.040Z"
   },
   {
    "duration": 9,
    "start_time": "2022-02-22T17:55:19.058Z"
   },
   {
    "duration": 7,
    "start_time": "2022-02-22T17:55:19.069Z"
   },
   {
    "duration": 48,
    "start_time": "2022-02-22T17:55:19.079Z"
   },
   {
    "duration": 30,
    "start_time": "2022-02-22T17:55:19.129Z"
   },
   {
    "duration": 5,
    "start_time": "2022-02-22T17:55:19.161Z"
   },
   {
    "duration": 15,
    "start_time": "2022-02-22T17:55:19.168Z"
   },
   {
    "duration": 5,
    "start_time": "2022-02-22T17:55:19.184Z"
   },
   {
    "duration": 14,
    "start_time": "2022-02-22T17:55:19.218Z"
   },
   {
    "duration": 5,
    "start_time": "2022-02-22T17:55:19.234Z"
   },
   {
    "duration": 8,
    "start_time": "2022-02-22T17:55:19.240Z"
   },
   {
    "duration": 5,
    "start_time": "2022-02-22T17:55:19.250Z"
   },
   {
    "duration": 5,
    "start_time": "2022-02-22T17:55:19.257Z"
   },
   {
    "duration": 10,
    "start_time": "2022-02-22T17:55:19.263Z"
   },
   {
    "duration": 13,
    "start_time": "2022-02-22T17:55:19.274Z"
   },
   {
    "duration": 6,
    "start_time": "2022-02-22T17:55:19.319Z"
   },
   {
    "duration": 17,
    "start_time": "2022-02-22T17:55:19.327Z"
   },
   {
    "duration": 33,
    "start_time": "2022-02-22T17:55:19.346Z"
   },
   {
    "duration": 14,
    "start_time": "2022-02-22T17:55:19.380Z"
   },
   {
    "duration": 8,
    "start_time": "2022-02-22T17:55:21.389Z"
   },
   {
    "duration": 61,
    "start_time": "2022-02-22T18:10:53.450Z"
   },
   {
    "duration": 13,
    "start_time": "2022-02-22T18:10:53.514Z"
   },
   {
    "duration": 11,
    "start_time": "2022-02-22T18:10:53.530Z"
   },
   {
    "duration": 12,
    "start_time": "2022-02-22T18:10:53.543Z"
   },
   {
    "duration": 14,
    "start_time": "2022-02-22T18:10:53.556Z"
   },
   {
    "duration": 49,
    "start_time": "2022-02-22T18:10:53.572Z"
   },
   {
    "duration": 10,
    "start_time": "2022-02-22T18:10:53.623Z"
   },
   {
    "duration": 7,
    "start_time": "2022-02-22T18:10:53.636Z"
   },
   {
    "duration": 17,
    "start_time": "2022-02-22T18:10:53.645Z"
   },
   {
    "duration": 60,
    "start_time": "2022-02-22T18:10:53.664Z"
   },
   {
    "duration": 5,
    "start_time": "2022-02-22T18:10:53.726Z"
   },
   {
    "duration": 14,
    "start_time": "2022-02-22T18:10:53.733Z"
   },
   {
    "duration": 18,
    "start_time": "2022-02-22T18:10:53.749Z"
   },
   {
    "duration": 17,
    "start_time": "2022-02-22T18:10:53.769Z"
   },
   {
    "duration": 8,
    "start_time": "2022-02-22T18:10:53.788Z"
   },
   {
    "duration": 8,
    "start_time": "2022-02-22T18:10:53.819Z"
   },
   {
    "duration": 8,
    "start_time": "2022-02-22T18:10:53.829Z"
   },
   {
    "duration": 6,
    "start_time": "2022-02-22T18:10:53.839Z"
   },
   {
    "duration": 7,
    "start_time": "2022-02-22T18:10:53.846Z"
   },
   {
    "duration": 9,
    "start_time": "2022-02-22T18:10:53.855Z"
   },
   {
    "duration": 10,
    "start_time": "2022-02-22T18:10:53.866Z"
   },
   {
    "duration": 6,
    "start_time": "2022-02-22T18:10:53.878Z"
   },
   {
    "duration": 44,
    "start_time": "2022-02-22T18:10:53.887Z"
   },
   {
    "duration": 15,
    "start_time": "2022-02-22T18:10:53.934Z"
   },
   {
    "duration": 8,
    "start_time": "2022-02-22T18:10:53.951Z"
   },
   {
    "duration": 16,
    "start_time": "2022-02-22T18:10:55.822Z"
   },
   {
    "duration": 13,
    "start_time": "2022-02-22T18:10:58.440Z"
   },
   {
    "duration": 24,
    "start_time": "2022-02-22T18:10:59.137Z"
   },
   {
    "duration": 10,
    "start_time": "2022-02-22T18:10:59.767Z"
   },
   {
    "duration": 15,
    "start_time": "2022-02-22T18:11:00.107Z"
   },
   {
    "duration": 12,
    "start_time": "2022-02-22T18:11:00.758Z"
   },
   {
    "duration": 9,
    "start_time": "2022-02-22T18:11:01.207Z"
   },
   {
    "duration": 13,
    "start_time": "2022-02-22T18:11:01.431Z"
   },
   {
    "duration": 7,
    "start_time": "2022-02-22T18:11:02.155Z"
   },
   {
    "duration": 12,
    "start_time": "2022-02-22T18:11:02.527Z"
   },
   {
    "duration": 8,
    "start_time": "2022-02-22T18:11:04.058Z"
   },
   {
    "duration": 7,
    "start_time": "2022-02-22T18:11:04.643Z"
   },
   {
    "duration": 9,
    "start_time": "2022-02-22T18:11:05.227Z"
   },
   {
    "duration": 439,
    "start_time": "2022-02-22T18:11:05.424Z"
   },
   {
    "duration": 8,
    "start_time": "2022-02-22T18:11:07.064Z"
   },
   {
    "duration": 22,
    "start_time": "2022-02-22T18:11:08.113Z"
   },
   {
    "duration": 20,
    "start_time": "2022-02-22T18:11:10.068Z"
   },
   {
    "duration": 13,
    "start_time": "2022-02-22T18:13:18.957Z"
   },
   {
    "duration": 29,
    "start_time": "2022-02-22T18:13:19.558Z"
   },
   {
    "duration": 14,
    "start_time": "2022-02-22T18:13:19.862Z"
   },
   {
    "duration": 7,
    "start_time": "2022-02-22T18:15:02.323Z"
   },
   {
    "duration": 5,
    "start_time": "2022-02-22T18:15:50.647Z"
   },
   {
    "duration": 11,
    "start_time": "2022-02-22T18:17:07.592Z"
   },
   {
    "duration": 456,
    "start_time": "2022-02-22T18:22:06.582Z"
   },
   {
    "duration": 455,
    "start_time": "2022-02-22T18:22:38.650Z"
   },
   {
    "duration": 669,
    "start_time": "2022-02-22T18:22:54.666Z"
   },
   {
    "duration": 690,
    "start_time": "2022-02-22T18:23:02.642Z"
   },
   {
    "duration": 793,
    "start_time": "2022-02-22T18:23:44.295Z"
   },
   {
    "duration": 453,
    "start_time": "2022-02-22T18:23:49.101Z"
   },
   {
    "duration": 19,
    "start_time": "2022-02-22T18:26:25.375Z"
   },
   {
    "duration": 16,
    "start_time": "2022-02-22T18:29:43.347Z"
   },
   {
    "duration": 23,
    "start_time": "2022-02-22T18:32:30.071Z"
   },
   {
    "duration": 17,
    "start_time": "2022-02-22T18:37:24.795Z"
   },
   {
    "duration": 16,
    "start_time": "2022-02-22T18:37:57.695Z"
   },
   {
    "duration": 17,
    "start_time": "2022-02-22T18:38:42.825Z"
   },
   {
    "duration": 180,
    "start_time": "2022-02-22T18:48:49.094Z"
   },
   {
    "duration": 6264,
    "start_time": "2022-02-22T18:56:37.531Z"
   },
   {
    "duration": 5230,
    "start_time": "2022-02-22T18:57:04.466Z"
   },
   {
    "duration": 5240,
    "start_time": "2022-02-22T18:57:23.742Z"
   },
   {
    "duration": 5440,
    "start_time": "2022-02-22T18:57:54.577Z"
   },
   {
    "duration": 5191,
    "start_time": "2022-02-22T18:59:36.800Z"
   },
   {
    "duration": 64,
    "start_time": "2022-02-22T18:59:43.078Z"
   },
   {
    "duration": 12,
    "start_time": "2022-02-22T18:59:43.144Z"
   },
   {
    "duration": 9,
    "start_time": "2022-02-22T18:59:43.159Z"
   },
   {
    "duration": 11,
    "start_time": "2022-02-22T18:59:43.170Z"
   },
   {
    "duration": 14,
    "start_time": "2022-02-22T18:59:43.219Z"
   },
   {
    "duration": 15,
    "start_time": "2022-02-22T18:59:43.235Z"
   },
   {
    "duration": 9,
    "start_time": "2022-02-22T18:59:43.251Z"
   },
   {
    "duration": 8,
    "start_time": "2022-02-22T18:59:43.263Z"
   },
   {
    "duration": 48,
    "start_time": "2022-02-22T18:59:43.273Z"
   },
   {
    "duration": 55,
    "start_time": "2022-02-22T18:59:43.323Z"
   },
   {
    "duration": 5,
    "start_time": "2022-02-22T18:59:43.380Z"
   },
   {
    "duration": 14,
    "start_time": "2022-02-22T18:59:43.387Z"
   },
   {
    "duration": 26,
    "start_time": "2022-02-22T18:59:43.403Z"
   },
   {
    "duration": 15,
    "start_time": "2022-02-22T18:59:43.431Z"
   },
   {
    "duration": 23,
    "start_time": "2022-02-22T18:59:43.447Z"
   },
   {
    "duration": 16,
    "start_time": "2022-02-22T18:59:43.471Z"
   },
   {
    "duration": 12,
    "start_time": "2022-02-22T18:59:43.489Z"
   },
   {
    "duration": 13,
    "start_time": "2022-02-22T18:59:43.503Z"
   },
   {
    "duration": 10,
    "start_time": "2022-02-22T18:59:43.518Z"
   },
   {
    "duration": 7,
    "start_time": "2022-02-22T18:59:43.529Z"
   },
   {
    "duration": 10,
    "start_time": "2022-02-22T18:59:43.538Z"
   },
   {
    "duration": 9,
    "start_time": "2022-02-22T18:59:43.550Z"
   },
   {
    "duration": 15,
    "start_time": "2022-02-22T18:59:43.562Z"
   },
   {
    "duration": 14,
    "start_time": "2022-02-22T18:59:43.579Z"
   },
   {
    "duration": 8,
    "start_time": "2022-02-22T18:59:43.619Z"
   },
   {
    "duration": 16,
    "start_time": "2022-02-22T18:59:43.629Z"
   },
   {
    "duration": 11,
    "start_time": "2022-02-22T18:59:43.647Z"
   },
   {
    "duration": 20,
    "start_time": "2022-02-22T18:59:43.660Z"
   },
   {
    "duration": 38,
    "start_time": "2022-02-22T18:59:43.682Z"
   },
   {
    "duration": 19,
    "start_time": "2022-02-22T18:59:43.722Z"
   },
   {
    "duration": 11,
    "start_time": "2022-02-22T18:59:43.743Z"
   },
   {
    "duration": 7,
    "start_time": "2022-02-22T18:59:43.756Z"
   },
   {
    "duration": 20,
    "start_time": "2022-02-22T18:59:43.764Z"
   },
   {
    "duration": 7,
    "start_time": "2022-02-22T18:59:43.786Z"
   },
   {
    "duration": 11,
    "start_time": "2022-02-22T18:59:43.819Z"
   },
   {
    "duration": 8,
    "start_time": "2022-02-22T18:59:43.831Z"
   },
   {
    "duration": 9,
    "start_time": "2022-02-22T18:59:43.840Z"
   },
   {
    "duration": 9,
    "start_time": "2022-02-22T18:59:43.850Z"
   },
   {
    "duration": 432,
    "start_time": "2022-02-22T18:59:43.861Z"
   },
   {
    "duration": 7,
    "start_time": "2022-02-22T18:59:44.295Z"
   },
   {
    "duration": 29,
    "start_time": "2022-02-22T18:59:44.304Z"
   },
   {
    "duration": 22,
    "start_time": "2022-02-22T18:59:44.335Z"
   },
   {
    "duration": 27,
    "start_time": "2022-02-22T18:59:44.358Z"
   },
   {
    "duration": 34,
    "start_time": "2022-02-22T18:59:44.386Z"
   },
   {
    "duration": 5,
    "start_time": "2022-02-22T18:59:44.422Z"
   },
   {
    "duration": 7,
    "start_time": "2022-02-22T18:59:44.428Z"
   },
   {
    "duration": 7,
    "start_time": "2022-02-22T18:59:44.437Z"
   },
   {
    "duration": 15,
    "start_time": "2022-02-22T18:59:44.446Z"
   },
   {
    "duration": 19,
    "start_time": "2022-02-22T18:59:44.462Z"
   },
   {
    "duration": 489,
    "start_time": "2022-02-22T18:59:44.483Z"
   },
   {
    "duration": 14,
    "start_time": "2022-02-22T18:59:44.974Z"
   },
   {
    "duration": 38,
    "start_time": "2022-02-22T18:59:44.989Z"
   },
   {
    "duration": 18,
    "start_time": "2022-02-22T18:59:45.030Z"
   },
   {
    "duration": 17,
    "start_time": "2022-02-22T18:59:45.051Z"
   },
   {
    "duration": 16,
    "start_time": "2022-02-22T18:59:45.070Z"
   },
   {
    "duration": 17,
    "start_time": "2022-02-22T18:59:45.120Z"
   },
   {
    "duration": 17,
    "start_time": "2022-02-22T18:59:45.139Z"
   },
   {
    "duration": -142,
    "start_time": "2022-02-22T18:59:50.806Z"
   },
   {
    "duration": 6086,
    "start_time": "2022-02-22T19:01:07.699Z"
   },
   {
    "duration": 6938,
    "start_time": "2022-02-22T19:02:01.578Z"
   },
   {
    "duration": 6299,
    "start_time": "2022-02-22T19:02:45.061Z"
   },
   {
    "duration": 5515,
    "start_time": "2022-02-22T19:03:23.124Z"
   },
   {
    "duration": 212,
    "start_time": "2022-02-22T19:03:44.942Z"
   },
   {
    "duration": 333,
    "start_time": "2022-02-22T19:04:44.959Z"
   },
   {
    "duration": 19,
    "start_time": "2022-02-22T19:04:52.130Z"
   },
   {
    "duration": 259,
    "start_time": "2022-02-22T19:05:29.437Z"
   },
   {
    "duration": 279,
    "start_time": "2022-02-22T19:05:35.796Z"
   },
   {
    "duration": 208,
    "start_time": "2022-02-22T19:05:45.649Z"
   },
   {
    "duration": 329,
    "start_time": "2022-02-22T19:06:07.085Z"
   },
   {
    "duration": 222,
    "start_time": "2022-02-22T19:06:13.464Z"
   },
   {
    "duration": 214,
    "start_time": "2022-02-22T19:06:18.540Z"
   },
   {
    "duration": 21,
    "start_time": "2022-02-22T19:07:18.299Z"
   },
   {
    "duration": 381,
    "start_time": "2022-02-22T19:07:23.815Z"
   },
   {
    "duration": 802,
    "start_time": "2022-02-22T19:14:12.871Z"
   },
   {
    "duration": 7,
    "start_time": "2022-02-22T19:16:20.984Z"
   },
   {
    "duration": 6,
    "start_time": "2022-02-22T19:16:30.293Z"
   },
   {
    "duration": 20,
    "start_time": "2022-02-22T19:16:37.298Z"
   },
   {
    "duration": 21,
    "start_time": "2022-02-22T19:16:45.823Z"
   },
   {
    "duration": 252,
    "start_time": "2022-02-22T19:18:20.392Z"
   },
   {
    "duration": 187,
    "start_time": "2022-02-22T19:18:27.447Z"
   },
   {
    "duration": 155,
    "start_time": "2022-02-22T19:18:38.153Z"
   },
   {
    "duration": 212,
    "start_time": "2022-02-22T19:18:57.782Z"
   },
   {
    "duration": 14,
    "start_time": "2022-02-22T19:19:13.055Z"
   },
   {
    "duration": 23,
    "start_time": "2022-02-22T19:19:26.025Z"
   },
   {
    "duration": 23,
    "start_time": "2022-02-22T19:21:09.647Z"
   },
   {
    "duration": 350,
    "start_time": "2022-02-22T19:23:05.688Z"
   },
   {
    "duration": 289,
    "start_time": "2022-02-22T19:23:09.787Z"
   },
   {
    "duration": 263,
    "start_time": "2022-02-22T19:23:41.081Z"
   },
   {
    "duration": 10,
    "start_time": "2022-02-22T19:23:47.525Z"
   },
   {
    "duration": 12,
    "start_time": "2022-02-22T19:25:59.342Z"
   },
   {
    "duration": 13,
    "start_time": "2022-02-22T19:26:04.053Z"
   },
   {
    "duration": 13,
    "start_time": "2022-02-22T19:26:07.787Z"
   },
   {
    "duration": 13,
    "start_time": "2022-02-22T19:26:17.302Z"
   },
   {
    "duration": 175,
    "start_time": "2022-02-22T19:27:12.634Z"
   },
   {
    "duration": 91,
    "start_time": "2022-02-22T19:27:37.659Z"
   },
   {
    "duration": 96,
    "start_time": "2022-02-22T19:27:45.598Z"
   },
   {
    "duration": 4,
    "start_time": "2022-02-22T19:27:56.320Z"
   },
   {
    "duration": 6,
    "start_time": "2022-02-22T19:28:28.104Z"
   },
   {
    "duration": 11,
    "start_time": "2022-02-22T19:30:31.287Z"
   },
   {
    "duration": 6,
    "start_time": "2022-02-22T19:30:31.892Z"
   },
   {
    "duration": 73,
    "start_time": "2022-02-22T19:37:20.670Z"
   },
   {
    "duration": 13,
    "start_time": "2022-02-22T19:37:20.746Z"
   },
   {
    "duration": 10,
    "start_time": "2022-02-22T19:37:20.762Z"
   },
   {
    "duration": 49,
    "start_time": "2022-02-22T19:37:20.774Z"
   },
   {
    "duration": 14,
    "start_time": "2022-02-22T19:37:20.825Z"
   },
   {
    "duration": 15,
    "start_time": "2022-02-22T19:37:20.841Z"
   },
   {
    "duration": 11,
    "start_time": "2022-02-22T19:37:20.858Z"
   },
   {
    "duration": 8,
    "start_time": "2022-02-22T19:37:20.873Z"
   },
   {
    "duration": 18,
    "start_time": "2022-02-22T19:37:20.919Z"
   },
   {
    "duration": 32,
    "start_time": "2022-02-22T19:37:20.938Z"
   },
   {
    "duration": 7,
    "start_time": "2022-02-22T19:37:20.971Z"
   },
   {
    "duration": 44,
    "start_time": "2022-02-22T19:37:20.980Z"
   },
   {
    "duration": 6,
    "start_time": "2022-02-22T19:37:21.026Z"
   },
   {
    "duration": 16,
    "start_time": "2022-02-22T19:37:21.034Z"
   },
   {
    "duration": 11,
    "start_time": "2022-02-22T19:37:21.052Z"
   },
   {
    "duration": 8,
    "start_time": "2022-02-22T19:37:21.065Z"
   },
   {
    "duration": 11,
    "start_time": "2022-02-22T19:37:21.075Z"
   },
   {
    "duration": 35,
    "start_time": "2022-02-22T19:37:21.088Z"
   },
   {
    "duration": 8,
    "start_time": "2022-02-22T19:37:21.125Z"
   },
   {
    "duration": 10,
    "start_time": "2022-02-22T19:37:21.135Z"
   },
   {
    "duration": 8,
    "start_time": "2022-02-22T19:37:21.147Z"
   },
   {
    "duration": 8,
    "start_time": "2022-02-22T19:37:21.157Z"
   },
   {
    "duration": 18,
    "start_time": "2022-02-22T19:37:21.169Z"
   },
   {
    "duration": 17,
    "start_time": "2022-02-22T19:37:21.218Z"
   },
   {
    "duration": 9,
    "start_time": "2022-02-22T19:37:21.236Z"
   },
   {
    "duration": 17,
    "start_time": "2022-02-22T19:37:21.247Z"
   },
   {
    "duration": 12,
    "start_time": "2022-02-22T19:37:21.266Z"
   },
   {
    "duration": 51,
    "start_time": "2022-02-22T19:37:21.280Z"
   },
   {
    "duration": 9,
    "start_time": "2022-02-22T19:37:21.333Z"
   },
   {
    "duration": 18,
    "start_time": "2022-02-22T19:37:21.343Z"
   },
   {
    "duration": 16,
    "start_time": "2022-02-22T19:37:21.363Z"
   },
   {
    "duration": 9,
    "start_time": "2022-02-22T19:37:21.381Z"
   },
   {
    "duration": 13,
    "start_time": "2022-02-22T19:37:21.419Z"
   },
   {
    "duration": 9,
    "start_time": "2022-02-22T19:37:21.434Z"
   },
   {
    "duration": 16,
    "start_time": "2022-02-22T19:37:21.445Z"
   },
   {
    "duration": 7,
    "start_time": "2022-02-22T19:37:21.463Z"
   },
   {
    "duration": 15,
    "start_time": "2022-02-22T19:37:21.472Z"
   },
   {
    "duration": 41,
    "start_time": "2022-02-22T19:37:21.489Z"
   },
   {
    "duration": 434,
    "start_time": "2022-02-22T19:37:21.532Z"
   },
   {
    "duration": 7,
    "start_time": "2022-02-22T19:37:21.968Z"
   },
   {
    "duration": 22,
    "start_time": "2022-02-22T19:37:21.977Z"
   },
   {
    "duration": 27,
    "start_time": "2022-02-22T19:37:22.001Z"
   },
   {
    "duration": 30,
    "start_time": "2022-02-22T19:37:22.030Z"
   },
   {
    "duration": 16,
    "start_time": "2022-02-22T19:37:22.062Z"
   },
   {
    "duration": 5,
    "start_time": "2022-02-22T19:37:22.080Z"
   },
   {
    "duration": 6,
    "start_time": "2022-02-22T19:37:22.119Z"
   },
   {
    "duration": 6,
    "start_time": "2022-02-22T19:37:22.127Z"
   },
   {
    "duration": 12,
    "start_time": "2022-02-22T19:37:22.135Z"
   },
   {
    "duration": 18,
    "start_time": "2022-02-22T19:37:22.148Z"
   },
   {
    "duration": 507,
    "start_time": "2022-02-22T19:37:22.168Z"
   },
   {
    "duration": 15,
    "start_time": "2022-02-22T19:37:22.677Z"
   },
   {
    "duration": 37,
    "start_time": "2022-02-22T19:37:22.693Z"
   },
   {
    "duration": 18,
    "start_time": "2022-02-22T19:37:22.733Z"
   },
   {
    "duration": 16,
    "start_time": "2022-02-22T19:37:22.753Z"
   },
   {
    "duration": 16,
    "start_time": "2022-02-22T19:37:22.771Z"
   },
   {
    "duration": 43,
    "start_time": "2022-02-22T19:37:22.789Z"
   },
   {
    "duration": 17,
    "start_time": "2022-02-22T19:37:22.833Z"
   },
   {
    "duration": 10,
    "start_time": "2022-02-22T19:37:22.853Z"
   },
   {
    "duration": 5,
    "start_time": "2022-02-22T19:37:22.865Z"
   },
   {
    "duration": 10,
    "start_time": "2022-02-22T19:38:10.978Z"
   },
   {
    "duration": 60,
    "start_time": "2022-02-22T19:38:16.305Z"
   },
   {
    "duration": 11,
    "start_time": "2022-02-22T19:38:16.367Z"
   },
   {
    "duration": 21,
    "start_time": "2022-02-22T19:38:16.380Z"
   },
   {
    "duration": 20,
    "start_time": "2022-02-22T19:38:16.403Z"
   },
   {
    "duration": 59,
    "start_time": "2022-02-22T19:38:39.763Z"
   },
   {
    "duration": 10,
    "start_time": "2022-02-22T19:38:39.824Z"
   },
   {
    "duration": 10,
    "start_time": "2022-02-22T19:38:39.836Z"
   },
   {
    "duration": 11,
    "start_time": "2022-02-22T19:38:44.099Z"
   },
   {
    "duration": 13,
    "start_time": "2022-02-22T19:39:08.320Z"
   },
   {
    "duration": 14,
    "start_time": "2022-02-22T19:39:09.620Z"
   },
   {
    "duration": 10,
    "start_time": "2022-02-22T19:39:22.743Z"
   },
   {
    "duration": 9,
    "start_time": "2022-02-22T19:39:44.452Z"
   },
   {
    "duration": 17,
    "start_time": "2022-02-22T19:40:48.307Z"
   },
   {
    "duration": 37,
    "start_time": "2022-02-22T19:40:50.006Z"
   },
   {
    "duration": 7,
    "start_time": "2022-02-22T19:41:17.745Z"
   },
   {
    "duration": 14,
    "start_time": "2022-02-22T19:42:42.721Z"
   },
   {
    "duration": 7,
    "start_time": "2022-02-22T19:42:45.184Z"
   },
   {
    "duration": 13,
    "start_time": "2022-02-22T19:42:45.815Z"
   },
   {
    "duration": 6,
    "start_time": "2022-02-22T19:42:46.575Z"
   },
   {
    "duration": 8,
    "start_time": "2022-02-22T19:43:07.041Z"
   },
   {
    "duration": 7,
    "start_time": "2022-02-22T19:43:08.702Z"
   },
   {
    "duration": 5,
    "start_time": "2022-02-22T19:43:16.870Z"
   },
   {
    "duration": 6,
    "start_time": "2022-02-22T19:43:17.798Z"
   },
   {
    "duration": 5,
    "start_time": "2022-02-22T19:43:28.215Z"
   },
   {
    "duration": 7,
    "start_time": "2022-02-22T19:44:22.750Z"
   },
   {
    "duration": 15,
    "start_time": "2022-02-22T19:44:33.851Z"
   },
   {
    "duration": 17,
    "start_time": "2022-02-22T19:44:35.457Z"
   },
   {
    "duration": 10,
    "start_time": "2022-02-22T19:44:40.263Z"
   },
   {
    "duration": 18,
    "start_time": "2022-02-22T19:45:32.485Z"
   },
   {
    "duration": 13,
    "start_time": "2022-02-22T19:46:07.338Z"
   },
   {
    "duration": 23,
    "start_time": "2022-02-22T19:46:10.621Z"
   },
   {
    "duration": 8,
    "start_time": "2022-02-22T19:46:19.890Z"
   },
   {
    "duration": 13,
    "start_time": "2022-02-22T19:46:20.833Z"
   },
   {
    "duration": 13,
    "start_time": "2022-02-22T19:46:27.317Z"
   },
   {
    "duration": 8,
    "start_time": "2022-02-22T19:46:33.265Z"
   },
   {
    "duration": 13,
    "start_time": "2022-02-22T19:46:34.219Z"
   },
   {
    "duration": 8,
    "start_time": "2022-02-22T19:46:38.558Z"
   },
   {
    "duration": 12,
    "start_time": "2022-02-22T19:46:39.753Z"
   },
   {
    "duration": 8,
    "start_time": "2022-02-22T19:46:49.651Z"
   },
   {
    "duration": 8,
    "start_time": "2022-02-22T19:46:52.862Z"
   },
   {
    "duration": 9,
    "start_time": "2022-02-22T19:47:10.680Z"
   },
   {
    "duration": 421,
    "start_time": "2022-02-22T19:47:11.586Z"
   },
   {
    "duration": 420,
    "start_time": "2022-02-22T19:48:20.157Z"
   },
   {
    "duration": 8,
    "start_time": "2022-02-22T19:48:39.665Z"
   },
   {
    "duration": 18,
    "start_time": "2022-02-22T19:48:43.365Z"
   },
   {
    "duration": 5739,
    "start_time": "2022-02-22T19:49:00.035Z"
   },
   {
    "duration": 62,
    "start_time": "2022-02-22T19:49:19.120Z"
   },
   {
    "duration": 40,
    "start_time": "2022-02-22T19:49:19.183Z"
   },
   {
    "duration": 10,
    "start_time": "2022-02-22T19:49:19.225Z"
   },
   {
    "duration": 13,
    "start_time": "2022-02-22T19:49:19.237Z"
   },
   {
    "duration": 14,
    "start_time": "2022-02-22T19:49:19.252Z"
   },
   {
    "duration": 13,
    "start_time": "2022-02-22T19:49:19.268Z"
   },
   {
    "duration": 40,
    "start_time": "2022-02-22T19:49:19.282Z"
   },
   {
    "duration": 7,
    "start_time": "2022-02-22T19:49:19.325Z"
   },
   {
    "duration": 21,
    "start_time": "2022-02-22T19:49:19.335Z"
   },
   {
    "duration": 31,
    "start_time": "2022-02-22T19:49:19.358Z"
   },
   {
    "duration": 29,
    "start_time": "2022-02-22T19:49:19.390Z"
   },
   {
    "duration": 13,
    "start_time": "2022-02-22T19:49:19.421Z"
   },
   {
    "duration": 8,
    "start_time": "2022-02-22T19:49:19.436Z"
   },
   {
    "duration": 21,
    "start_time": "2022-02-22T19:49:19.446Z"
   },
   {
    "duration": 5,
    "start_time": "2022-02-22T19:49:19.469Z"
   },
   {
    "duration": 10,
    "start_time": "2022-02-22T19:49:19.476Z"
   },
   {
    "duration": 31,
    "start_time": "2022-02-22T19:49:19.488Z"
   },
   {
    "duration": 7,
    "start_time": "2022-02-22T19:49:19.521Z"
   },
   {
    "duration": 7,
    "start_time": "2022-02-22T19:49:19.529Z"
   },
   {
    "duration": 11,
    "start_time": "2022-02-22T19:49:19.537Z"
   },
   {
    "duration": 7,
    "start_time": "2022-02-22T19:49:19.549Z"
   },
   {
    "duration": 9,
    "start_time": "2022-02-22T19:49:19.558Z"
   },
   {
    "duration": 15,
    "start_time": "2022-02-22T19:49:19.568Z"
   },
   {
    "duration": 46,
    "start_time": "2022-02-22T19:49:19.584Z"
   },
   {
    "duration": 9,
    "start_time": "2022-02-22T19:49:19.632Z"
   },
   {
    "duration": 15,
    "start_time": "2022-02-22T19:49:19.643Z"
   },
   {
    "duration": 12,
    "start_time": "2022-02-22T19:49:19.662Z"
   },
   {
    "duration": 60,
    "start_time": "2022-02-22T19:49:19.677Z"
   },
   {
    "duration": 9,
    "start_time": "2022-02-22T19:49:19.739Z"
   },
   {
    "duration": 12,
    "start_time": "2022-02-22T19:49:19.750Z"
   },
   {
    "duration": 13,
    "start_time": "2022-02-22T19:49:19.764Z"
   },
   {
    "duration": 7,
    "start_time": "2022-02-22T19:49:19.779Z"
   },
   {
    "duration": 41,
    "start_time": "2022-02-22T19:49:19.787Z"
   },
   {
    "duration": 9,
    "start_time": "2022-02-22T19:49:19.830Z"
   },
   {
    "duration": 13,
    "start_time": "2022-02-22T19:49:19.841Z"
   },
   {
    "duration": 8,
    "start_time": "2022-02-22T19:49:19.856Z"
   },
   {
    "duration": 7,
    "start_time": "2022-02-22T19:49:19.866Z"
   },
   {
    "duration": 50,
    "start_time": "2022-02-22T19:49:19.875Z"
   },
   {
    "duration": 541,
    "start_time": "2022-02-22T19:49:19.927Z"
   },
   {
    "duration": 7,
    "start_time": "2022-02-22T19:49:20.470Z"
   },
   {
    "duration": 12,
    "start_time": "2022-02-22T19:49:21.807Z"
   },
   {
    "duration": 18,
    "start_time": "2022-02-22T19:49:34.633Z"
   },
   {
    "duration": 28,
    "start_time": "2022-02-22T19:49:36.173Z"
   },
   {
    "duration": 14,
    "start_time": "2022-02-22T19:49:38.040Z"
   },
   {
    "duration": 6,
    "start_time": "2022-02-22T19:50:28.304Z"
   },
   {
    "duration": 6,
    "start_time": "2022-02-22T19:50:28.930Z"
   },
   {
    "duration": 6,
    "start_time": "2022-02-22T19:50:30.069Z"
   },
   {
    "duration": 12,
    "start_time": "2022-02-22T19:50:46.809Z"
   },
   {
    "duration": 19,
    "start_time": "2022-02-22T19:50:56.768Z"
   },
   {
    "duration": 437,
    "start_time": "2022-02-22T19:50:58.862Z"
   },
   {
    "duration": 443,
    "start_time": "2022-02-22T19:51:30.927Z"
   },
   {
    "duration": 15,
    "start_time": "2022-02-22T19:51:41.811Z"
   },
   {
    "duration": 12,
    "start_time": "2022-02-22T19:52:02.295Z"
   },
   {
    "duration": 454,
    "start_time": "2022-02-22T19:52:51.264Z"
   },
   {
    "duration": 12,
    "start_time": "2022-02-22T19:52:53.888Z"
   },
   {
    "duration": 17,
    "start_time": "2022-02-22T19:53:27.973Z"
   },
   {
    "duration": 18,
    "start_time": "2022-02-22T19:53:35.222Z"
   },
   {
    "duration": 17,
    "start_time": "2022-02-22T19:55:16.913Z"
   },
   {
    "duration": 16,
    "start_time": "2022-02-22T19:55:39.219Z"
   },
   {
    "duration": 15,
    "start_time": "2022-02-22T19:56:13.384Z"
   },
   {
    "duration": 18,
    "start_time": "2022-02-22T19:56:38.168Z"
   },
   {
    "duration": 12,
    "start_time": "2022-02-22T19:57:07.260Z"
   },
   {
    "duration": 5,
    "start_time": "2022-02-22T19:57:26.425Z"
   },
   {
    "duration": 104,
    "start_time": "2022-03-05T05:36:34.961Z"
   },
   {
    "duration": 2296,
    "start_time": "2022-03-05T06:59:27.750Z"
   },
   {
    "duration": 1963,
    "start_time": "2022-03-05T07:09:45.860Z"
   },
   {
    "duration": 78,
    "start_time": "2022-03-05T07:42:13.202Z"
   },
   {
    "duration": 171,
    "start_time": "2022-03-05T07:43:49.158Z"
   },
   {
    "duration": 629,
    "start_time": "2022-03-05T16:38:29.565Z"
   },
   {
    "duration": 11,
    "start_time": "2022-03-05T16:38:30.196Z"
   },
   {
    "duration": 17,
    "start_time": "2022-03-05T16:38:30.210Z"
   },
   {
    "duration": 16,
    "start_time": "2022-03-05T16:38:30.229Z"
   },
   {
    "duration": 191,
    "start_time": "2022-03-05T16:38:42.355Z"
   },
   {
    "duration": 10,
    "start_time": "2022-03-05T16:44:02.844Z"
   },
   {
    "duration": 142,
    "start_time": "2022-03-05T16:46:24.289Z"
   },
   {
    "duration": 55,
    "start_time": "2022-03-05T16:55:31.618Z"
   },
   {
    "duration": 170,
    "start_time": "2022-03-05T16:55:38.093Z"
   },
   {
    "duration": 9,
    "start_time": "2022-03-05T16:55:48.452Z"
   },
   {
    "duration": 49,
    "start_time": "2022-03-05T16:56:49.332Z"
   },
   {
    "duration": 10,
    "start_time": "2022-03-05T16:57:08.097Z"
   },
   {
    "duration": 51,
    "start_time": "2022-03-05T16:57:13.751Z"
   },
   {
    "duration": 10,
    "start_time": "2022-03-05T16:57:19.198Z"
   },
   {
    "duration": 219,
    "start_time": "2022-03-05T16:57:36.656Z"
   },
   {
    "duration": 215,
    "start_time": "2022-03-05T16:57:39.896Z"
   },
   {
    "duration": 10,
    "start_time": "2022-03-05T16:58:04.018Z"
   },
   {
    "duration": 7,
    "start_time": "2022-03-05T17:09:22.127Z"
   },
   {
    "duration": 9,
    "start_time": "2022-03-05T17:09:29.338Z"
   },
   {
    "duration": 9,
    "start_time": "2022-03-05T17:09:37.582Z"
   },
   {
    "duration": 133,
    "start_time": "2022-03-05T17:09:47.920Z"
   },
   {
    "duration": 145,
    "start_time": "2022-03-05T17:09:58.887Z"
   },
   {
    "duration": 133,
    "start_time": "2022-03-05T17:10:06.565Z"
   },
   {
    "duration": 12,
    "start_time": "2022-03-05T17:10:15.025Z"
   },
   {
    "duration": 45,
    "start_time": "2022-03-05T17:11:01.921Z"
   },
   {
    "duration": 57,
    "start_time": "2022-03-05T17:11:08.354Z"
   },
   {
    "duration": 60,
    "start_time": "2022-03-05T17:11:11.724Z"
   },
   {
    "duration": 40,
    "start_time": "2022-03-05T17:11:23.449Z"
   },
   {
    "duration": 10,
    "start_time": "2022-03-05T17:11:27.171Z"
   },
   {
    "duration": 11,
    "start_time": "2022-03-05T17:11:37.373Z"
   },
   {
    "duration": 48,
    "start_time": "2022-03-05T17:38:14.388Z"
   },
   {
    "duration": 67,
    "start_time": "2022-03-05T17:39:01.463Z"
   },
   {
    "duration": 12,
    "start_time": "2022-03-05T17:39:01.532Z"
   },
   {
    "duration": 28,
    "start_time": "2022-03-05T17:39:01.547Z"
   },
   {
    "duration": 12,
    "start_time": "2022-03-05T17:39:01.577Z"
   },
   {
    "duration": 56,
    "start_time": "2022-03-05T17:39:26.030Z"
   },
   {
    "duration": 40,
    "start_time": "2022-03-05T17:39:56.753Z"
   },
   {
    "duration": 49,
    "start_time": "2022-03-05T17:40:01.449Z"
   },
   {
    "duration": 55,
    "start_time": "2022-03-05T17:40:17.734Z"
   },
   {
    "duration": 11,
    "start_time": "2022-03-05T17:40:17.790Z"
   },
   {
    "duration": 10,
    "start_time": "2022-03-05T17:40:17.803Z"
   },
   {
    "duration": 26,
    "start_time": "2022-03-05T17:40:17.815Z"
   },
   {
    "duration": 14,
    "start_time": "2022-03-05T17:40:17.842Z"
   },
   {
    "duration": 550,
    "start_time": "2022-03-05T17:40:17.857Z"
   },
   {
    "duration": 7,
    "start_time": "2022-03-05T17:40:18.409Z"
   },
   {
    "duration": 58,
    "start_time": "2022-03-05T17:41:58.051Z"
   },
   {
    "duration": 10,
    "start_time": "2022-03-05T17:41:58.111Z"
   },
   {
    "duration": 10,
    "start_time": "2022-03-05T17:41:58.123Z"
   },
   {
    "duration": 10,
    "start_time": "2022-03-05T17:41:58.138Z"
   },
   {
    "duration": 13,
    "start_time": "2022-03-05T17:41:58.149Z"
   },
   {
    "duration": 13,
    "start_time": "2022-03-05T17:41:58.163Z"
   },
   {
    "duration": 8,
    "start_time": "2022-03-05T17:41:58.178Z"
   },
   {
    "duration": 7,
    "start_time": "2022-03-05T17:41:58.188Z"
   },
   {
    "duration": 49,
    "start_time": "2022-03-05T17:41:58.197Z"
   },
   {
    "duration": 29,
    "start_time": "2022-03-05T17:41:58.249Z"
   },
   {
    "duration": 6,
    "start_time": "2022-03-05T17:41:58.280Z"
   },
   {
    "duration": 20,
    "start_time": "2022-03-05T17:41:58.287Z"
   },
   {
    "duration": 30,
    "start_time": "2022-03-05T17:41:58.309Z"
   },
   {
    "duration": 18,
    "start_time": "2022-03-05T17:41:58.341Z"
   },
   {
    "duration": 8,
    "start_time": "2022-03-05T17:41:58.360Z"
   },
   {
    "duration": 9,
    "start_time": "2022-03-05T17:41:58.369Z"
   },
   {
    "duration": 5,
    "start_time": "2022-03-05T17:41:58.380Z"
   },
   {
    "duration": 269,
    "start_time": "2022-03-05T17:42:04.673Z"
   },
   {
    "duration": 71,
    "start_time": "2022-03-05T17:43:41.041Z"
   },
   {
    "duration": 24,
    "start_time": "2022-03-05T17:43:41.114Z"
   },
   {
    "duration": 14,
    "start_time": "2022-03-05T17:43:41.141Z"
   },
   {
    "duration": 11,
    "start_time": "2022-03-05T17:43:41.158Z"
   },
   {
    "duration": 14,
    "start_time": "2022-03-05T17:43:41.171Z"
   },
   {
    "duration": 14,
    "start_time": "2022-03-05T17:43:41.187Z"
   },
   {
    "duration": 42,
    "start_time": "2022-03-05T17:43:41.203Z"
   },
   {
    "duration": 7,
    "start_time": "2022-03-05T17:43:41.248Z"
   },
   {
    "duration": 20,
    "start_time": "2022-03-05T17:43:41.258Z"
   },
   {
    "duration": 30,
    "start_time": "2022-03-05T17:43:41.280Z"
   },
   {
    "duration": 6,
    "start_time": "2022-03-05T17:43:41.338Z"
   },
   {
    "duration": 18,
    "start_time": "2022-03-05T17:43:41.345Z"
   },
   {
    "duration": 6,
    "start_time": "2022-03-05T17:43:41.365Z"
   },
   {
    "duration": 14,
    "start_time": "2022-03-05T17:43:41.373Z"
   },
   {
    "duration": 6,
    "start_time": "2022-03-05T17:43:41.389Z"
   },
   {
    "duration": 41,
    "start_time": "2022-03-05T17:43:41.397Z"
   },
   {
    "duration": 6,
    "start_time": "2022-03-05T17:43:41.440Z"
   },
   {
    "duration": 232,
    "start_time": "2022-03-05T17:43:41.449Z"
   },
   {
    "duration": 5,
    "start_time": "2022-03-05T17:43:44.664Z"
   },
   {
    "duration": 6,
    "start_time": "2022-03-05T17:43:46.397Z"
   },
   {
    "duration": 6,
    "start_time": "2022-03-05T17:43:49.222Z"
   },
   {
    "duration": 695,
    "start_time": "2022-03-05T17:44:13.312Z"
   },
   {
    "duration": 12,
    "start_time": "2022-03-05T17:44:14.009Z"
   },
   {
    "duration": 15,
    "start_time": "2022-03-05T17:44:14.023Z"
   },
   {
    "duration": 11,
    "start_time": "2022-03-05T17:44:14.040Z"
   },
   {
    "duration": 13,
    "start_time": "2022-03-05T17:44:14.052Z"
   },
   {
    "duration": 12,
    "start_time": "2022-03-05T17:44:14.067Z"
   },
   {
    "duration": 9,
    "start_time": "2022-03-05T17:44:14.080Z"
   },
   {
    "duration": 9,
    "start_time": "2022-03-05T17:44:14.091Z"
   },
   {
    "duration": 17,
    "start_time": "2022-03-05T17:44:14.139Z"
   },
   {
    "duration": 30,
    "start_time": "2022-03-05T17:44:14.158Z"
   },
   {
    "duration": 6,
    "start_time": "2022-03-05T17:44:14.190Z"
   },
   {
    "duration": 44,
    "start_time": "2022-03-05T17:44:14.198Z"
   },
   {
    "duration": 7,
    "start_time": "2022-03-05T17:44:14.244Z"
   },
   {
    "duration": 16,
    "start_time": "2022-03-05T17:44:14.252Z"
   },
   {
    "duration": 6,
    "start_time": "2022-03-05T17:44:14.270Z"
   },
   {
    "duration": 7,
    "start_time": "2022-03-05T17:44:14.278Z"
   },
   {
    "duration": 6,
    "start_time": "2022-03-05T17:44:14.287Z"
   },
   {
    "duration": 304,
    "start_time": "2022-03-05T17:44:14.295Z"
   },
   {
    "duration": 7,
    "start_time": "2022-03-05T17:44:14.601Z"
   },
   {
    "duration": 7,
    "start_time": "2022-03-05T17:44:14.610Z"
   },
   {
    "duration": 22,
    "start_time": "2022-03-05T17:44:14.619Z"
   },
   {
    "duration": 19,
    "start_time": "2022-03-05T17:44:14.643Z"
   },
   {
    "duration": 19,
    "start_time": "2022-03-05T17:44:14.666Z"
   },
   {
    "duration": 14,
    "start_time": "2022-03-05T17:44:14.687Z"
   },
   {
    "duration": 8,
    "start_time": "2022-03-05T17:44:14.702Z"
   },
   {
    "duration": 37,
    "start_time": "2022-03-05T17:44:14.711Z"
   },
   {
    "duration": 16,
    "start_time": "2022-03-05T17:44:14.749Z"
   },
   {
    "duration": 21,
    "start_time": "2022-03-05T17:44:14.766Z"
   },
   {
    "duration": 8,
    "start_time": "2022-03-05T17:44:14.789Z"
   },
   {
    "duration": 44,
    "start_time": "2022-03-05T17:44:14.798Z"
   },
   {
    "duration": 13,
    "start_time": "2022-03-05T17:44:14.843Z"
   },
   {
    "duration": 7,
    "start_time": "2022-03-05T17:44:14.857Z"
   },
   {
    "duration": 16,
    "start_time": "2022-03-05T17:44:14.866Z"
   },
   {
    "duration": 7,
    "start_time": "2022-03-05T17:44:14.883Z"
   },
   {
    "duration": 12,
    "start_time": "2022-03-05T17:44:14.892Z"
   },
   {
    "duration": 8,
    "start_time": "2022-03-05T17:44:14.938Z"
   },
   {
    "duration": 9,
    "start_time": "2022-03-05T17:44:14.948Z"
   },
   {
    "duration": 9,
    "start_time": "2022-03-05T17:44:14.959Z"
   },
   {
    "duration": 420,
    "start_time": "2022-03-05T17:44:14.970Z"
   },
   {
    "duration": 7,
    "start_time": "2022-03-05T17:44:15.392Z"
   },
   {
    "duration": 17,
    "start_time": "2022-03-05T17:44:15.400Z"
   },
   {
    "duration": 26,
    "start_time": "2022-03-05T17:44:15.418Z"
   },
   {
    "duration": 26,
    "start_time": "2022-03-05T17:44:15.446Z"
   },
   {
    "duration": 12,
    "start_time": "2022-03-05T17:44:15.474Z"
   },
   {
    "duration": 5,
    "start_time": "2022-03-05T17:44:15.488Z"
   },
   {
    "duration": 5,
    "start_time": "2022-03-05T17:44:15.495Z"
   },
   {
    "duration": 38,
    "start_time": "2022-03-05T17:44:15.502Z"
   },
   {
    "duration": 10,
    "start_time": "2022-03-05T17:44:15.542Z"
   },
   {
    "duration": 16,
    "start_time": "2022-03-05T17:44:15.554Z"
   },
   {
    "duration": 432,
    "start_time": "2022-03-05T17:44:15.572Z"
   },
   {
    "duration": 12,
    "start_time": "2022-03-05T17:44:16.006Z"
   },
   {
    "duration": 27,
    "start_time": "2022-03-05T17:44:16.020Z"
   },
   {
    "duration": 17,
    "start_time": "2022-03-05T17:44:16.049Z"
   },
   {
    "duration": 16,
    "start_time": "2022-03-05T17:44:16.067Z"
   },
   {
    "duration": 15,
    "start_time": "2022-03-05T17:44:16.085Z"
   },
   {
    "duration": 45,
    "start_time": "2022-03-05T17:44:16.101Z"
   },
   {
    "duration": 16,
    "start_time": "2022-03-05T17:44:16.148Z"
   },
   {
    "duration": 10,
    "start_time": "2022-03-05T17:44:16.166Z"
   },
   {
    "duration": 8,
    "start_time": "2022-03-05T17:44:16.178Z"
   },
   {
    "duration": 50,
    "start_time": "2022-03-05T17:46:14.079Z"
   },
   {
    "duration": 65,
    "start_time": "2022-03-05T17:46:18.600Z"
   },
   {
    "duration": 11,
    "start_time": "2022-03-05T17:46:18.668Z"
   },
   {
    "duration": 10,
    "start_time": "2022-03-05T17:46:18.682Z"
   },
   {
    "duration": 48,
    "start_time": "2022-03-05T17:46:18.695Z"
   },
   {
    "duration": 14,
    "start_time": "2022-03-05T17:46:18.745Z"
   },
   {
    "duration": 14,
    "start_time": "2022-03-05T17:46:18.761Z"
   },
   {
    "duration": 9,
    "start_time": "2022-03-05T17:46:18.777Z"
   },
   {
    "duration": 8,
    "start_time": "2022-03-05T17:46:18.790Z"
   },
   {
    "duration": 17,
    "start_time": "2022-03-05T17:46:18.839Z"
   },
   {
    "duration": 32,
    "start_time": "2022-03-05T17:46:18.858Z"
   },
   {
    "duration": 7,
    "start_time": "2022-03-05T17:46:18.892Z"
   },
   {
    "duration": 46,
    "start_time": "2022-03-05T17:46:18.901Z"
   },
   {
    "duration": 8,
    "start_time": "2022-03-05T17:46:18.950Z"
   },
   {
    "duration": 19,
    "start_time": "2022-03-05T17:46:18.960Z"
   },
   {
    "duration": 10,
    "start_time": "2022-03-05T17:46:18.981Z"
   },
   {
    "duration": 15,
    "start_time": "2022-03-05T17:46:18.993Z"
   },
   {
    "duration": 7,
    "start_time": "2022-03-05T17:46:19.010Z"
   },
   {
    "duration": 211,
    "start_time": "2022-03-05T17:46:19.038Z"
   },
   {
    "duration": 6,
    "start_time": "2022-03-05T17:46:19.250Z"
   },
   {
    "duration": 20,
    "start_time": "2022-03-05T17:46:19.257Z"
   },
   {
    "duration": 15,
    "start_time": "2022-03-05T17:46:19.279Z"
   },
   {
    "duration": 24,
    "start_time": "2022-03-05T17:46:19.296Z"
   },
   {
    "duration": 34,
    "start_time": "2022-03-05T17:46:19.323Z"
   },
   {
    "duration": 17,
    "start_time": "2022-03-05T17:46:19.359Z"
   },
   {
    "duration": 21,
    "start_time": "2022-03-05T17:46:19.377Z"
   },
   {
    "duration": 20,
    "start_time": "2022-03-05T17:46:19.400Z"
   },
   {
    "duration": 20,
    "start_time": "2022-03-05T17:46:19.422Z"
   },
   {
    "duration": 27,
    "start_time": "2022-03-05T17:46:19.443Z"
   },
   {
    "duration": 9,
    "start_time": "2022-03-05T17:46:19.471Z"
   },
   {
    "duration": 36,
    "start_time": "2022-03-05T17:46:19.481Z"
   },
   {
    "duration": 25,
    "start_time": "2022-03-05T17:46:19.518Z"
   },
   {
    "duration": 59,
    "start_time": "2022-03-05T17:46:19.544Z"
   },
   {
    "duration": 30,
    "start_time": "2022-03-05T17:46:19.605Z"
   },
   {
    "duration": 11,
    "start_time": "2022-03-05T17:46:19.637Z"
   },
   {
    "duration": 20,
    "start_time": "2022-03-05T17:46:19.650Z"
   },
   {
    "duration": 10,
    "start_time": "2022-03-05T17:46:19.671Z"
   },
   {
    "duration": 23,
    "start_time": "2022-03-05T17:46:19.683Z"
   },
   {
    "duration": 26,
    "start_time": "2022-03-05T17:46:19.708Z"
   },
   {
    "duration": 386,
    "start_time": "2022-03-05T17:46:19.736Z"
   },
   {
    "duration": 8,
    "start_time": "2022-03-05T17:46:20.123Z"
   },
   {
    "duration": 12,
    "start_time": "2022-03-05T17:46:20.138Z"
   },
   {
    "duration": 28,
    "start_time": "2022-03-05T17:46:20.151Z"
   },
   {
    "duration": 29,
    "start_time": "2022-03-05T17:46:20.181Z"
   },
   {
    "duration": 28,
    "start_time": "2022-03-05T17:46:20.211Z"
   },
   {
    "duration": 5,
    "start_time": "2022-03-05T17:46:20.240Z"
   },
   {
    "duration": 34,
    "start_time": "2022-03-05T17:46:20.247Z"
   },
   {
    "duration": 17,
    "start_time": "2022-03-05T17:46:20.283Z"
   },
   {
    "duration": 29,
    "start_time": "2022-03-05T17:46:20.301Z"
   },
   {
    "duration": 29,
    "start_time": "2022-03-05T17:46:20.332Z"
   },
   {
    "duration": 411,
    "start_time": "2022-03-05T17:46:20.362Z"
   },
   {
    "duration": 11,
    "start_time": "2022-03-05T17:46:20.775Z"
   },
   {
    "duration": 41,
    "start_time": "2022-03-05T17:46:23.207Z"
   },
   {
    "duration": 9,
    "start_time": "2022-03-05T17:46:31.577Z"
   },
   {
    "duration": 18,
    "start_time": "2022-03-05T17:53:14.110Z"
   },
   {
    "duration": 16,
    "start_time": "2022-03-05T17:53:15.401Z"
   },
   {
    "duration": 16,
    "start_time": "2022-03-05T17:53:16.116Z"
   },
   {
    "duration": 17,
    "start_time": "2022-03-05T17:53:16.699Z"
   },
   {
    "duration": 18,
    "start_time": "2022-03-05T17:53:17.408Z"
   },
   {
    "duration": 380,
    "start_time": "2022-03-05T17:55:00.628Z"
   },
   {
    "duration": 125,
    "start_time": "2022-03-05T17:55:10.084Z"
   },
   {
    "duration": 60,
    "start_time": "2022-03-05T17:55:17.764Z"
   },
   {
    "duration": 9,
    "start_time": "2022-03-05T17:55:17.826Z"
   },
   {
    "duration": 27,
    "start_time": "2022-03-05T17:55:17.837Z"
   },
   {
    "duration": 19,
    "start_time": "2022-03-05T17:55:17.865Z"
   },
   {
    "duration": 26,
    "start_time": "2022-03-05T17:55:17.885Z"
   },
   {
    "duration": 22,
    "start_time": "2022-03-05T17:55:17.912Z"
   },
   {
    "duration": 8,
    "start_time": "2022-03-05T17:55:17.936Z"
   },
   {
    "duration": 25,
    "start_time": "2022-03-05T17:55:17.946Z"
   },
   {
    "duration": 30,
    "start_time": "2022-03-05T17:55:17.973Z"
   },
   {
    "duration": 30,
    "start_time": "2022-03-05T17:55:18.004Z"
   },
   {
    "duration": 6,
    "start_time": "2022-03-05T17:55:18.035Z"
   },
   {
    "duration": 17,
    "start_time": "2022-03-05T17:55:18.043Z"
   },
   {
    "duration": 10,
    "start_time": "2022-03-05T17:55:18.061Z"
   },
   {
    "duration": 35,
    "start_time": "2022-03-05T17:55:18.073Z"
   },
   {
    "duration": 5,
    "start_time": "2022-03-05T17:55:18.110Z"
   },
   {
    "duration": 8,
    "start_time": "2022-03-05T17:55:18.116Z"
   },
   {
    "duration": 6,
    "start_time": "2022-03-05T17:55:18.125Z"
   },
   {
    "duration": 208,
    "start_time": "2022-03-05T17:55:18.133Z"
   },
   {
    "duration": 6,
    "start_time": "2022-03-05T17:55:18.343Z"
   },
   {
    "duration": 11,
    "start_time": "2022-03-05T17:55:18.350Z"
   },
   {
    "duration": 8,
    "start_time": "2022-03-05T17:55:18.363Z"
   },
   {
    "duration": 8,
    "start_time": "2022-03-05T17:55:18.372Z"
   },
   {
    "duration": 14,
    "start_time": "2022-03-05T17:55:18.384Z"
   },
   {
    "duration": 42,
    "start_time": "2022-03-05T17:55:18.400Z"
   },
   {
    "duration": 8,
    "start_time": "2022-03-05T17:55:18.444Z"
   },
   {
    "duration": 16,
    "start_time": "2022-03-05T17:55:18.454Z"
   },
   {
    "duration": 12,
    "start_time": "2022-03-05T17:55:18.471Z"
   },
   {
    "duration": 22,
    "start_time": "2022-03-05T17:55:18.484Z"
   },
   {
    "duration": 37,
    "start_time": "2022-03-05T17:55:18.507Z"
   },
   {
    "duration": 16,
    "start_time": "2022-03-05T17:55:18.546Z"
   },
   {
    "duration": 11,
    "start_time": "2022-03-05T17:55:18.564Z"
   },
   {
    "duration": 7,
    "start_time": "2022-03-05T17:55:18.577Z"
   },
   {
    "duration": 12,
    "start_time": "2022-03-05T17:55:18.586Z"
   },
   {
    "duration": 42,
    "start_time": "2022-03-05T17:55:18.600Z"
   },
   {
    "duration": 16,
    "start_time": "2022-03-05T17:55:18.644Z"
   },
   {
    "duration": 7,
    "start_time": "2022-03-05T17:55:18.661Z"
   },
   {
    "duration": 13,
    "start_time": "2022-03-05T17:55:18.669Z"
   },
   {
    "duration": 9,
    "start_time": "2022-03-05T17:55:18.683Z"
   },
   {
    "duration": 405,
    "start_time": "2022-03-05T17:55:18.694Z"
   },
   {
    "duration": 7,
    "start_time": "2022-03-05T17:55:19.101Z"
   },
   {
    "duration": 29,
    "start_time": "2022-03-05T17:55:19.110Z"
   },
   {
    "duration": 15,
    "start_time": "2022-03-05T17:55:19.141Z"
   },
   {
    "duration": 28,
    "start_time": "2022-03-05T17:55:19.158Z"
   },
   {
    "duration": 13,
    "start_time": "2022-03-05T17:55:19.188Z"
   },
   {
    "duration": 36,
    "start_time": "2022-03-05T17:55:19.203Z"
   },
   {
    "duration": 6,
    "start_time": "2022-03-05T17:55:19.241Z"
   },
   {
    "duration": 5,
    "start_time": "2022-03-05T17:55:19.249Z"
   },
   {
    "duration": 11,
    "start_time": "2022-03-05T17:55:19.256Z"
   },
   {
    "duration": 16,
    "start_time": "2022-03-05T17:55:19.268Z"
   },
   {
    "duration": 458,
    "start_time": "2022-03-05T17:55:19.286Z"
   },
   {
    "duration": 12,
    "start_time": "2022-03-05T17:55:19.746Z"
   },
   {
    "duration": 10,
    "start_time": "2022-03-05T17:55:19.759Z"
   },
   {
    "duration": 138,
    "start_time": "2022-03-05T17:55:22.175Z"
   },
   {
    "duration": 17,
    "start_time": "2022-03-05T17:55:41.289Z"
   },
   {
    "duration": 16,
    "start_time": "2022-03-05T17:55:43.202Z"
   },
   {
    "duration": 16,
    "start_time": "2022-03-05T17:55:43.827Z"
   },
   {
    "duration": 15,
    "start_time": "2022-03-05T17:55:44.526Z"
   },
   {
    "duration": 16,
    "start_time": "2022-03-05T17:55:45.276Z"
   },
   {
    "duration": 10,
    "start_time": "2022-03-05T17:55:46.293Z"
   },
   {
    "duration": 5,
    "start_time": "2022-03-05T17:55:46.991Z"
   },
   {
    "duration": 600,
    "start_time": "2022-03-05T17:56:05.603Z"
   },
   {
    "duration": 12,
    "start_time": "2022-03-05T17:56:06.204Z"
   },
   {
    "duration": 10,
    "start_time": "2022-03-05T17:56:06.218Z"
   },
   {
    "duration": 12,
    "start_time": "2022-03-05T17:56:06.238Z"
   },
   {
    "duration": 14,
    "start_time": "2022-03-05T17:56:06.252Z"
   },
   {
    "duration": 18,
    "start_time": "2022-03-05T17:56:06.267Z"
   },
   {
    "duration": 8,
    "start_time": "2022-03-05T17:56:06.287Z"
   },
   {
    "duration": 7,
    "start_time": "2022-03-05T17:56:06.297Z"
   },
   {
    "duration": 46,
    "start_time": "2022-03-05T17:56:06.306Z"
   },
   {
    "duration": 30,
    "start_time": "2022-03-05T17:56:06.354Z"
   },
   {
    "duration": 5,
    "start_time": "2022-03-05T17:56:06.386Z"
   },
   {
    "duration": 14,
    "start_time": "2022-03-05T17:56:06.393Z"
   },
   {
    "duration": 33,
    "start_time": "2022-03-05T17:56:06.409Z"
   },
   {
    "duration": 15,
    "start_time": "2022-03-05T17:56:06.444Z"
   },
   {
    "duration": 7,
    "start_time": "2022-03-05T17:56:06.461Z"
   },
   {
    "duration": 9,
    "start_time": "2022-03-05T17:56:06.470Z"
   },
   {
    "duration": 6,
    "start_time": "2022-03-05T17:56:06.481Z"
   },
   {
    "duration": 303,
    "start_time": "2022-03-05T17:56:06.488Z"
   },
   {
    "duration": 6,
    "start_time": "2022-03-05T17:56:06.793Z"
   },
   {
    "duration": 8,
    "start_time": "2022-03-05T17:56:06.801Z"
   },
   {
    "duration": 10,
    "start_time": "2022-03-05T17:56:06.810Z"
   },
   {
    "duration": 20,
    "start_time": "2022-03-05T17:56:06.822Z"
   },
   {
    "duration": 14,
    "start_time": "2022-03-05T17:56:06.846Z"
   },
   {
    "duration": 14,
    "start_time": "2022-03-05T17:56:06.862Z"
   },
   {
    "duration": 8,
    "start_time": "2022-03-05T17:56:06.877Z"
   },
   {
    "duration": 14,
    "start_time": "2022-03-05T17:56:06.886Z"
   },
   {
    "duration": 45,
    "start_time": "2022-03-05T17:56:06.902Z"
   },
   {
    "duration": 22,
    "start_time": "2022-03-05T17:56:06.948Z"
   },
   {
    "duration": 8,
    "start_time": "2022-03-05T17:56:06.972Z"
   },
   {
    "duration": 15,
    "start_time": "2022-03-05T17:56:06.982Z"
   },
   {
    "duration": 48,
    "start_time": "2022-03-05T17:56:06.998Z"
   },
   {
    "duration": 8,
    "start_time": "2022-03-05T17:56:07.048Z"
   },
   {
    "duration": 14,
    "start_time": "2022-03-05T17:56:07.058Z"
   },
   {
    "duration": 7,
    "start_time": "2022-03-05T17:56:07.073Z"
   },
   {
    "duration": 16,
    "start_time": "2022-03-05T17:56:07.081Z"
   },
   {
    "duration": 7,
    "start_time": "2022-03-05T17:56:07.098Z"
   },
   {
    "duration": 32,
    "start_time": "2022-03-05T17:56:07.107Z"
   },
   {
    "duration": 8,
    "start_time": "2022-03-05T17:56:07.140Z"
   },
   {
    "duration": 400,
    "start_time": "2022-03-05T17:56:07.150Z"
   },
   {
    "duration": 7,
    "start_time": "2022-03-05T17:56:07.552Z"
   },
   {
    "duration": 13,
    "start_time": "2022-03-05T17:56:07.561Z"
   },
   {
    "duration": 14,
    "start_time": "2022-03-05T17:56:07.575Z"
   },
   {
    "duration": 49,
    "start_time": "2022-03-05T17:56:07.590Z"
   },
   {
    "duration": 13,
    "start_time": "2022-03-05T17:56:07.640Z"
   },
   {
    "duration": 5,
    "start_time": "2022-03-05T17:56:07.654Z"
   },
   {
    "duration": 5,
    "start_time": "2022-03-05T17:56:07.660Z"
   },
   {
    "duration": 4,
    "start_time": "2022-03-05T17:56:07.667Z"
   },
   {
    "duration": 12,
    "start_time": "2022-03-05T17:56:07.673Z"
   },
   {
    "duration": 15,
    "start_time": "2022-03-05T17:56:07.687Z"
   },
   {
    "duration": 422,
    "start_time": "2022-03-05T17:56:07.738Z"
   },
   {
    "duration": 10,
    "start_time": "2022-03-05T17:56:08.162Z"
   },
   {
    "duration": 12,
    "start_time": "2022-03-05T17:56:08.174Z"
   },
   {
    "duration": 16,
    "start_time": "2022-03-05T17:56:08.187Z"
   },
   {
    "duration": 35,
    "start_time": "2022-03-05T17:56:08.204Z"
   },
   {
    "duration": 16,
    "start_time": "2022-03-05T17:56:08.241Z"
   },
   {
    "duration": 15,
    "start_time": "2022-03-05T17:56:08.258Z"
   },
   {
    "duration": 21,
    "start_time": "2022-03-05T17:56:08.274Z"
   },
   {
    "duration": 10,
    "start_time": "2022-03-05T17:56:08.296Z"
   },
   {
    "duration": 33,
    "start_time": "2022-03-05T17:56:08.308Z"
   },
   {
    "duration": 891,
    "start_time": "2022-03-06T14:51:16.196Z"
   },
   {
    "duration": 16,
    "start_time": "2022-03-06T14:51:17.090Z"
   },
   {
    "duration": 35,
    "start_time": "2022-03-06T14:51:17.109Z"
   },
   {
    "duration": 15,
    "start_time": "2022-03-06T14:51:17.147Z"
   },
   {
    "duration": 433,
    "start_time": "2022-03-06T14:51:42.600Z"
   },
   {
    "duration": 115,
    "start_time": "2022-03-06T14:53:17.165Z"
   },
   {
    "duration": 13,
    "start_time": "2022-03-06T14:53:19.720Z"
   },
   {
    "duration": 13,
    "start_time": "2022-03-06T14:53:24.585Z"
   },
   {
    "duration": 14,
    "start_time": "2022-03-06T14:53:27.672Z"
   },
   {
    "duration": 15,
    "start_time": "2022-03-06T14:53:48.579Z"
   },
   {
    "duration": 886,
    "start_time": "2022-03-06T15:00:40.137Z"
   },
   {
    "duration": 21,
    "start_time": "2022-03-06T15:00:41.027Z"
   },
   {
    "duration": 13,
    "start_time": "2022-03-06T15:00:41.051Z"
   },
   {
    "duration": 15,
    "start_time": "2022-03-06T15:00:41.067Z"
   },
   {
    "duration": 14,
    "start_time": "2022-03-06T15:00:41.084Z"
   },
   {
    "duration": 20,
    "start_time": "2022-03-06T15:00:41.134Z"
   },
   {
    "duration": 19,
    "start_time": "2022-03-06T15:00:41.157Z"
   },
   {
    "duration": 13,
    "start_time": "2022-03-06T15:00:41.179Z"
   },
   {
    "duration": 13,
    "start_time": "2022-03-06T15:00:41.234Z"
   },
   {
    "duration": 28,
    "start_time": "2022-03-06T15:00:41.250Z"
   },
   {
    "duration": 80,
    "start_time": "2022-03-06T15:00:41.280Z"
   },
   {
    "duration": 8,
    "start_time": "2022-03-06T15:00:41.362Z"
   },
   {
    "duration": 21,
    "start_time": "2022-03-06T15:00:41.372Z"
   },
   {
    "duration": 39,
    "start_time": "2022-03-06T15:00:41.396Z"
   },
   {
    "duration": 31,
    "start_time": "2022-03-06T15:00:41.438Z"
   },
   {
    "duration": 10,
    "start_time": "2022-03-06T15:00:41.471Z"
   },
   {
    "duration": 10,
    "start_time": "2022-03-06T15:00:41.484Z"
   },
   {
    "duration": 40,
    "start_time": "2022-03-06T15:00:41.496Z"
   },
   {
    "duration": 450,
    "start_time": "2022-03-06T15:00:41.538Z"
   },
   {
    "duration": 7,
    "start_time": "2022-03-06T15:00:41.991Z"
   },
   {
    "duration": 8,
    "start_time": "2022-03-06T15:00:42.000Z"
   },
   {
    "duration": 29,
    "start_time": "2022-03-06T15:00:42.011Z"
   },
   {
    "duration": 8,
    "start_time": "2022-03-06T15:00:42.043Z"
   },
   {
    "duration": 23,
    "start_time": "2022-03-06T15:00:42.054Z"
   },
   {
    "duration": 56,
    "start_time": "2022-03-06T15:00:42.080Z"
   },
   {
    "duration": 11,
    "start_time": "2022-03-06T15:00:42.138Z"
   },
   {
    "duration": 20,
    "start_time": "2022-03-06T15:00:42.155Z"
   },
   {
    "duration": 59,
    "start_time": "2022-03-06T15:00:42.179Z"
   },
   {
    "duration": 30,
    "start_time": "2022-03-06T15:00:42.240Z"
   },
   {
    "duration": 10,
    "start_time": "2022-03-06T15:00:42.272Z"
   },
   {
    "duration": 49,
    "start_time": "2022-03-06T15:00:42.285Z"
   },
   {
    "duration": 16,
    "start_time": "2022-03-06T15:00:42.337Z"
   },
   {
    "duration": 11,
    "start_time": "2022-03-06T15:00:42.356Z"
   },
   {
    "duration": 16,
    "start_time": "2022-03-06T15:00:42.369Z"
   },
   {
    "duration": 10,
    "start_time": "2022-03-06T15:00:42.433Z"
   },
   {
    "duration": 17,
    "start_time": "2022-03-06T15:00:42.446Z"
   },
   {
    "duration": 9,
    "start_time": "2022-03-06T15:00:42.466Z"
   },
   {
    "duration": 9,
    "start_time": "2022-03-06T15:00:42.477Z"
   },
   {
    "duration": 53,
    "start_time": "2022-03-06T15:00:42.488Z"
   },
   {
    "duration": 718,
    "start_time": "2022-03-06T15:00:42.552Z"
   },
   {
    "duration": 9,
    "start_time": "2022-03-06T15:00:43.272Z"
   },
   {
    "duration": 18,
    "start_time": "2022-03-06T15:00:43.285Z"
   },
   {
    "duration": 52,
    "start_time": "2022-03-06T15:00:43.304Z"
   },
   {
    "duration": 47,
    "start_time": "2022-03-06T15:00:43.359Z"
   },
   {
    "duration": 39,
    "start_time": "2022-03-06T15:00:43.409Z"
   },
   {
    "duration": 8,
    "start_time": "2022-03-06T15:00:43.451Z"
   },
   {
    "duration": 7,
    "start_time": "2022-03-06T15:00:43.462Z"
   },
   {
    "duration": 10,
    "start_time": "2022-03-06T15:00:43.471Z"
   },
   {
    "duration": 16,
    "start_time": "2022-03-06T15:00:43.532Z"
   },
   {
    "duration": 28,
    "start_time": "2022-03-06T15:00:43.550Z"
   },
   {
    "duration": 848,
    "start_time": "2022-03-06T15:00:43.580Z"
   },
   {
    "duration": 16,
    "start_time": "2022-03-06T15:00:44.432Z"
   },
   {
    "duration": 13,
    "start_time": "2022-03-06T15:00:44.450Z"
   },
   {
    "duration": 25,
    "start_time": "2022-03-06T15:00:44.466Z"
   },
   {
    "duration": 60,
    "start_time": "2022-03-06T15:00:44.494Z"
   },
   {
    "duration": 24,
    "start_time": "2022-03-06T15:00:44.557Z"
   },
   {
    "duration": 57,
    "start_time": "2022-03-06T15:00:44.584Z"
   },
   {
    "duration": 31,
    "start_time": "2022-03-06T15:00:44.644Z"
   },
   {
    "duration": 14,
    "start_time": "2022-03-06T15:00:44.677Z"
   },
   {
    "duration": 42,
    "start_time": "2022-03-06T15:00:44.693Z"
   }
  ],
  "kernelspec": {
   "display_name": "Python 3 (ipykernel)",
   "language": "python",
   "name": "python3"
  },
  "language_info": {
   "codemirror_mode": {
    "name": "ipython",
    "version": 3
   },
   "file_extension": ".py",
   "mimetype": "text/x-python",
   "name": "python",
   "nbconvert_exporter": "python",
   "pygments_lexer": "ipython3",
   "version": "3.9.7"
  },
  "toc": {
   "base_numbering": 1,
   "nav_menu": {},
   "number_sections": true,
   "sideBar": true,
   "skip_h1_title": true,
   "title_cell": "Table of Contents",
   "title_sidebar": "Contents",
   "toc_cell": false,
   "toc_position": {
    "height": "1231.7646484375px",
    "left": "1453px",
    "top": "110.4779052734375px",
    "width": "270.4044189453125px"
   },
   "toc_section_display": true,
   "toc_window_display": true
  }
 },
 "nbformat": 4,
 "nbformat_minor": 5
}
